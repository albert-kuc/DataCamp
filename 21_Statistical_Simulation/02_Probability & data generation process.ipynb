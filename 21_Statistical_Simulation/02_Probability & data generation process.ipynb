{
 "cells": [
  {
   "cell_type": "markdown",
   "metadata": {
    "collapsed": true
   },
   "source": [
    "# Probability & data generation process\n",
    "This chapter provides a basic introduction to probability concepts and a hands-on understanding of the data generating process. We'll look at a number of examples of modeling the data generating process and will conclude with modeling an eCommerce advertising simulation."
   ]
  },
  {
   "cell_type": "markdown",
   "metadata": {},
   "source": [
    "# 1. Probability basics\n",
    "## 1.1 Queen and spade\n",
    "In this example, you'll use the generalized probability formula $P(A∪B)=P(A)+P(B)−P(A∩B)$ to calculate the probability of two events. Consider a deck of cards (13 cards x 4 suites = 52 cards in total). One card is drawn at random. What is the probability of getting a queen or a spade? Here event A is the card being a queen and event B is the card being a spade. Think carefully about whether the two events have anything in common.\n",
    "\n",
    "### Possible Answers\n",
    "1. 17/52\n",
    "2. 16/52\n",
    "3. 15/52\n",
    "4. 18/52\n",
    "\n",
    "<div align=right>Answer: (2)</div>\n",
    "Next, let's try to get this answer using simulation."
   ]
  },
  {
   "cell_type": "markdown",
   "metadata": {},
   "source": [
    "## 1.2 Two of a kind\n",
    "Now let's use simulation to estimate probabilities. Suppose you've been invited to a game of poker at your friend's home. In this variation of the game, you are dealt five cards and the player with the better hand wins. You will use a simulation to estimate the probabilities of getting certain hands. Let's work on estimating the probability of getting at least two of a kind. Two of a kind is when you get two cards of different suites but having the same numeric value (e.g., 2 of hearts, 2 of spades, and 3 other cards).\n",
    "\n",
    "By the end of this exercise, you will know how to use simulation to calculate probabilities for card games.\n",
    "\n",
    "### Instructions:\n",
    "* In the for loop, shuffle `deck_of_cards`.\n",
    "* Utilize the `get()` method of a dictionary to count the number of occurrences of each card in the hand.\n",
    "* Increment the counter, `two_kind`, when there are at least two cards having the same numeric value in the hand."
   ]
  },
  {
   "cell_type": "code",
   "execution_count": 1,
   "metadata": {},
   "outputs": [
    {
     "name": "stdout",
     "output_type": "stream",
     "text": [
      "Probability of seeing at least two of a kind = 0.4952 \n"
     ]
    }
   ],
   "source": [
    "import numpy as np\n",
    "import itertools\n",
    "deck_of_cards = list(itertools.product(['Heart', 'Club', 'Spade', 'Diamond'],range(13)))\n",
    "np.random.seed(123)\n",
    "\n",
    "# Shuffle deck & count card occurrences in the hand\n",
    "n_sims, two_kind = 10000, 0\n",
    "for i in range(n_sims):\n",
    "    np.random.shuffle(deck_of_cards)\n",
    "    hand, cards_in_hand = deck_of_cards[0:5], {}\n",
    "    for card in hand:\n",
    "        # Use .get() method on cards_in_hand\n",
    "        cards_in_hand[card[1]] = cards_in_hand.get(card[1], 0) + 1\n",
    "    \n",
    "    # Condition for getting at least 2 of a kind\n",
    "    highest_card = max(cards_in_hand.values())\n",
    "    if highest_card>=2: \n",
    "        two_kind += 1\n",
    "\n",
    "print(\"Probability of seeing at least two of a kind = {} \".format(two_kind/n_sims))"
   ]
  },
  {
   "cell_type": "markdown",
   "metadata": {},
   "source": [
    "## 1.3 Game of thirteen\n",
    "A famous French mathematician Pierre Raymond De Montmart, who was known for his work in combinatorics, proposed a simple game called as Game of Thirteen. You have a deck of 13 cards, each numbered from 1 through 13. Shuffle this deck and draw cards one by one. A coincidence is when the number on the card matches the order in which the card is drawn. For instance, if the 5th card you draw happens to be a 5, it's a coincidence. You win the game if you get through all the cards without any coincidences. Let's calculate the probability of winning at this game using simulation.\n",
    "\n",
    "By completing this exercise, you will further strengthen your ability to cast abstract problems into the simulation framework for estimating probabilities.\n",
    "\n",
    "### Instructions:\n",
    "* For each drawing, draw __all__ the cards in `deck` __without__ replacement and assign to `draw`.\n",
    "* Check if there are any coincidences in the draw and, if there are, increment the `coincidences` counter by 1.\n",
    "* Calculate winning probability as the fraction of games without any coincidences and use `prob_of_winning` to print your results."
   ]
  },
  {
   "cell_type": "code",
   "execution_count": 2,
   "metadata": {},
   "outputs": [
    {
     "name": "stdout",
     "output_type": "stream",
     "text": [
      "Probability of winning = 0.36950000000000005\n"
     ]
    }
   ],
   "source": [
    "np.random.seed(111)\n",
    "\n",
    "# Pre-set constant variables\n",
    "deck, sims, coincidences = np.arange(1, 14), 10000, 0\n",
    "\n",
    "for _ in range(sims):\n",
    "    # Draw all the cards without replacement to simulate one game\n",
    "    draw = np.random.choice(deck, size=13, replace=False)\n",
    "    # Check if there are any coincidences\n",
    "    coincidence = (draw == list(np.arange(1, 14))).any()\n",
    "    if coincidence == True: \n",
    "        coincidences += 1\n",
    "\n",
    "# Calculate probability of winning\n",
    "prob_of_winning = 1 - coincidences/sims\n",
    "print(\"Probability of winning = {}\".format(prob_of_winning))"
   ]
  },
  {
   "cell_type": "markdown",
   "metadata": {},
   "source": [
    "# 2. More probability concepts\n",
    "## 2.1 The conditional urn\n",
    "As we've learned, conditional probability is defined as the probability of an event given another event. To illustrate this concept, let's turn to an urn problem.\n",
    "\n",
    "We have an urn that contains 7 white and 6 black balls. Four balls are drawn at random. We'd like to know the probability that the first and third balls are white, while the second and the fourth balls are black.\n",
    "\n",
    "Upon completion, you will learn to manipulate simulations to calculate simple conditional probabilities.\n",
    "\n",
    "### Instructions:\n",
    "* Initialize the counter `success` to 0 and `sims` to 5000.\n",
    "* Define a list, `urn`, with 7 white balls (`'w'`) and 6 black balls (`'b'`).\n",
    "* Draw 4 balls without replacement and check to see if the first and third are white and second and fourth are black.\n",
    "* Increment `success` if the above criterion is met."
   ]
  },
  {
   "cell_type": "code",
   "execution_count": 3,
   "metadata": {},
   "outputs": [
    {
     "name": "stdout",
     "output_type": "stream",
     "text": [
      "Probability of success = 0.0722\n"
     ]
    }
   ],
   "source": [
    "import numpy as np\n",
    "np.random.seed(123)\n",
    "\n",
    "# Initialize success, sims and urn\n",
    "success, sims = 0, 5000\n",
    "urn = ['w', 'w', 'w', 'w', 'w', 'w', 'w', 'b', 'b', 'b', 'b', 'b', 'b']\n",
    "\n",
    "for _ in range(sims):\n",
    "    # Draw 4 balls without replacement\n",
    "    draw = np.random.choice(urn, replace=False, size=4)\n",
    "    # Count the number of successes\n",
    "    if (draw[0]=='w')&(draw[1]=='b')&(draw[2]=='w')&(draw[3]=='b'): \n",
    "        success +=1\n",
    "\n",
    "print(\"Probability of success = {}\".format(success/sims))"
   ]
  },
  {
   "cell_type": "markdown",
   "metadata": {},
   "source": [
    "## 2.2 Birthday problem\n",
    "Now we'll use simulation to solve a famous probability puzzle - the birthday problem. It sounds quite straightforward - _How many people do you need in a room to ensure at least a 50% chance that two of them share the same birthday?_\n",
    "\n",
    "With 366 people in a 365-day year, we are 100% sure that at least two have the same birthday, but we only need to be 50% sure. Simulation gives us an elegant way of solving this problem.\n",
    "\n",
    "Upon completion of this exercise, you will begin to understand how to cast problems in a simulation framework.\n",
    "\n",
    "### Instructions 1/2:\n",
    "* Initialize the sample space `days` which is an array from 1 - 365.\n",
    "* Define a function `birthday_sim()` that takes as input the number of `people` and returns the probability that at least two share the same birthday."
   ]
  },
  {
   "cell_type": "code",
   "execution_count": 4,
   "metadata": {},
   "outputs": [],
   "source": [
    "# Draw a sample of birthdays & check if each birthday is unique\n",
    "days = np.arange(1, 366)\n",
    "people = 2\n",
    "\n",
    "def birthday_sim(people):\n",
    "    sims, unique_birthdays = 2000, 0 \n",
    "    for _ in range(sims):\n",
    "        draw = np.random.choice(days, size=people, replace=True)\n",
    "        if len(draw) == len(set(draw)): \n",
    "            unique_birthdays += 1\n",
    "    out = 1 - unique_birthdays / sims\n",
    "    return out"
   ]
  },
  {
   "cell_type": "markdown",
   "metadata": {},
   "source": [
    "### Instructions 2/2:\n",
    "* Call `birthday_sim()` in a while loop and break when the probability is greater than 50%."
   ]
  },
  {
   "cell_type": "code",
   "execution_count": 5,
   "metadata": {},
   "outputs": [
    {
     "name": "stdout",
     "output_type": "stream",
     "text": [
      "With 23 people, there's a 50% chance that two share a birthday.\n"
     ]
    }
   ],
   "source": [
    "# Break out of the loop if probability greater than 0.5\n",
    "while (people > 0):\n",
    "    prop_bds = birthday_sim(people)\n",
    "    if prop_bds > 0.5: \n",
    "        break\n",
    "    people += 1\n",
    "\n",
    "print(\"With {} people, there's a 50% chance that two share a birthday.\".format(people))"
   ]
  },
  {
   "cell_type": "markdown",
   "metadata": {},
   "source": [
    "Yes, 23 seems surprisingly low, but it's enough to have a 50% chance!\n",
    "\n",
    "## 2.3 Full house\n",
    "Let's return to our poker game. Last time, we calculated the probability of getting at least two of a kind. This time we are interested in a full house. A full house is when you get two cards of different suits that share the same numeric value and three other cards that have the same numeric value (e.g., 2 of hearts & spades, jacks of clubs, diamonds, & spades).\n",
    "\n",
    "Thus, a full house is the probability of getting exactly three of a kind conditional on getting exactly two of a kind of another value. Using the same code as before, modify the success condition to get the desired output. This exercise will teach you to estimate conditional probabilities in card games and build your foundation in framing abstract problems for simulation.\n",
    "\n",
    "### Instructions:\n",
    "* Shuffle `deck_of_cards`.\n",
    "* Utilize a dictionary with `.get()` to count the number of occurrences of each card in the hand.\n",
    "* Increment the counter `full_house` when there is a full house in the hand (2 of one kind, 3 of the other)."
   ]
  },
  {
   "cell_type": "code",
   "execution_count": 6,
   "metadata": {},
   "outputs": [
    {
     "name": "stdout",
     "output_type": "stream",
     "text": [
      "Probability of seeing a full house = 0.0014\n"
     ]
    }
   ],
   "source": [
    "import numpy as np\n",
    "import itertools\n",
    "np.random.seed(123) \n",
    "deck = list(itertools.product(['Heart', 'Club', 'Spade', 'Diamond'],range(13)))\n",
    "\n",
    "#Shuffle deck & count card occurrences in the hand\n",
    "n_sims, full_house, deck_of_cards = 50000, 0, deck.copy() \n",
    "for i in range(n_sims):\n",
    "    np.random.shuffle(deck_of_cards)\n",
    "    hand, cards_in_hand = deck_of_cards[0:5], {}\n",
    "    for card in hand:\n",
    "        # Use .get() method to count occurrences of each card\n",
    "        cards_in_hand[card[1]] = cards_in_hand.get(card[1], 0) + 1\n",
    "               \n",
    "    # Condition for getting full house\n",
    "    condition = (max(cards_in_hand.values()) ==3) & (min(cards_in_hand.values())==2)\n",
    "    if  condition == True: \n",
    "        full_house += 1\n",
    "print(\"Probability of seeing a full house = {}\".format(full_house/n_sims))"
   ]
  },
  {
   "cell_type": "markdown",
   "metadata": {},
   "source": [
    "Look at how small this probability is compared to that of at least two of a kind."
   ]
  }
 ],
 "metadata": {
  "kernelspec": {
   "display_name": "Python 3",
   "language": "python",
   "name": "python3"
  },
  "language_info": {
   "codemirror_mode": {
    "name": "ipython",
    "version": 3
   },
   "file_extension": ".py",
   "mimetype": "text/x-python",
   "name": "python",
   "nbconvert_exporter": "python",
   "pygments_lexer": "ipython3",
   "version": "3.7.0"
  }
 },
 "nbformat": 4,
 "nbformat_minor": 1
}
