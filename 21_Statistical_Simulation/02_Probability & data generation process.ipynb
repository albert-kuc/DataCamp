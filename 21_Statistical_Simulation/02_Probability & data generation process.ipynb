{
 "cells": [
  {
   "cell_type": "markdown",
   "metadata": {
    "collapsed": true
   },
   "source": [
    "# Probability & data generation process\n",
    "This chapter provides a basic introduction to probability concepts and a hands-on understanding of the data generating process. We'll look at a number of examples of modeling the data generating process and will conclude with modeling an eCommerce advertising simulation."
   ]
  },
  {
   "cell_type": "markdown",
   "metadata": {},
   "source": [
    "# 1. Probability basics\n",
    "## 1.1 Queen and spade\n",
    "In this example, you'll use the generalized probability formula $P(A∪B)=P(A)+P(B)−P(A∩B)$ to calculate the probability of two events. Consider a deck of cards (13 cards x 4 suites = 52 cards in total). One card is drawn at random. What is the probability of getting a queen or a spade? Here event A is the card being a queen and event B is the card being a spade. Think carefully about whether the two events have anything in common.\n",
    "\n",
    "### Possible Answers\n",
    "1. 17/52\n",
    "2. 16/52\n",
    "3. 15/52\n",
    "4. 18/52\n",
    "\n",
    "<div align=right>Answer: (2)</div>\n",
    "Next, let's try to get this answer using simulation."
   ]
  },
  {
   "cell_type": "markdown",
   "metadata": {},
   "source": [
    "## 1.2 Two of a kind\n",
    "Now let's use simulation to estimate probabilities. Suppose you've been invited to a game of poker at your friend's home. In this variation of the game, you are dealt five cards and the player with the better hand wins. You will use a simulation to estimate the probabilities of getting certain hands. Let's work on estimating the probability of getting at least two of a kind. Two of a kind is when you get two cards of different suites but having the same numeric value (e.g., 2 of hearts, 2 of spades, and 3 other cards).\n",
    "\n",
    "By the end of this exercise, you will know how to use simulation to calculate probabilities for card games.\n",
    "\n",
    "### Instructions:\n",
    "* In the for loop, shuffle `deck_of_cards`.\n",
    "* Utilize the `get()` method of a dictionary to count the number of occurrences of each card in the hand.\n",
    "* Increment the counter, `two_kind`, when there are at least two cards having the same numeric value in the hand."
   ]
  },
  {
   "cell_type": "code",
   "execution_count": 1,
   "metadata": {},
   "outputs": [
    {
     "name": "stdout",
     "output_type": "stream",
     "text": [
      "Probability of seeing at least two of a kind = 0.4952 \n"
     ]
    }
   ],
   "source": [
    "import numpy as np\n",
    "import itertools\n",
    "deck_of_cards = list(itertools.product(['Heart', 'Club', 'Spade', 'Diamond'],range(13)))\n",
    "np.random.seed(123)\n",
    "\n",
    "# Shuffle deck & count card occurrences in the hand\n",
    "n_sims, two_kind = 10000, 0\n",
    "for i in range(n_sims):\n",
    "    np.random.shuffle(deck_of_cards)\n",
    "    hand, cards_in_hand = deck_of_cards[0:5], {}\n",
    "    for card in hand:\n",
    "        # Use .get() method on cards_in_hand\n",
    "        cards_in_hand[card[1]] = cards_in_hand.get(card[1], 0) + 1\n",
    "    \n",
    "    # Condition for getting at least 2 of a kind\n",
    "    highest_card = max(cards_in_hand.values())\n",
    "    if highest_card>=2: \n",
    "        two_kind += 1\n",
    "\n",
    "print(\"Probability of seeing at least two of a kind = {} \".format(two_kind/n_sims))"
   ]
  },
  {
   "cell_type": "markdown",
   "metadata": {},
   "source": [
    "## 1.3 Game of thirteen\n",
    "A famous French mathematician Pierre Raymond De Montmart, who was known for his work in combinatorics, proposed a simple game called as Game of Thirteen. You have a deck of 13 cards, each numbered from 1 through 13. Shuffle this deck and draw cards one by one. A coincidence is when the number on the card matches the order in which the card is drawn. For instance, if the 5th card you draw happens to be a 5, it's a coincidence. You win the game if you get through all the cards without any coincidences. Let's calculate the probability of winning at this game using simulation.\n",
    "\n",
    "By completing this exercise, you will further strengthen your ability to cast abstract problems into the simulation framework for estimating probabilities.\n",
    "\n",
    "### Instructions:\n",
    "* For each drawing, draw __all__ the cards in `deck` __without__ replacement and assign to `draw`.\n",
    "* Check if there are any coincidences in the draw and, if there are, increment the `coincidences` counter by 1.\n",
    "* Calculate winning probability as the fraction of games without any coincidences and use `prob_of_winning` to print your results."
   ]
  },
  {
   "cell_type": "code",
   "execution_count": 2,
   "metadata": {},
   "outputs": [
    {
     "name": "stdout",
     "output_type": "stream",
     "text": [
      "Probability of winning = 0.36950000000000005\n"
     ]
    }
   ],
   "source": [
    "np.random.seed(111)\n",
    "\n",
    "# Pre-set constant variables\n",
    "deck, sims, coincidences = np.arange(1, 14), 10000, 0\n",
    "\n",
    "for _ in range(sims):\n",
    "    # Draw all the cards without replacement to simulate one game\n",
    "    draw = np.random.choice(deck, size=13, replace=False)\n",
    "    # Check if there are any coincidences\n",
    "    coincidence = (draw == list(np.arange(1, 14))).any()\n",
    "    if coincidence == True: \n",
    "        coincidences += 1\n",
    "\n",
    "# Calculate probability of winning\n",
    "prob_of_winning = 1 - coincidences/sims\n",
    "print(\"Probability of winning = {}\".format(prob_of_winning))"
   ]
  },
  {
   "cell_type": "markdown",
   "metadata": {},
   "source": [
    "# 2. More probability concepts\n",
    "## 2.1 The conditional urn\n",
    "As we've learned, conditional probability is defined as the probability of an event given another event. To illustrate this concept, let's turn to an urn problem.\n",
    "\n",
    "We have an urn that contains 7 white and 6 black balls. Four balls are drawn at random. We'd like to know the probability that the first and third balls are white, while the second and the fourth balls are black.\n",
    "\n",
    "Upon completion, you will learn to manipulate simulations to calculate simple conditional probabilities.\n",
    "\n",
    "### Instructions:\n",
    "* Initialize the counter `success` to 0 and `sims` to 5000.\n",
    "* Define a list, `urn`, with 7 white balls (`'w'`) and 6 black balls (`'b'`).\n",
    "* Draw 4 balls without replacement and check to see if the first and third are white and second and fourth are black.\n",
    "* Increment `success` if the above criterion is met."
   ]
  },
  {
   "cell_type": "code",
   "execution_count": 3,
   "metadata": {},
   "outputs": [
    {
     "name": "stdout",
     "output_type": "stream",
     "text": [
      "Probability of success = 0.0722\n"
     ]
    }
   ],
   "source": [
    "import numpy as np\n",
    "np.random.seed(123)\n",
    "\n",
    "# Initialize success, sims and urn\n",
    "success, sims = 0, 5000\n",
    "urn = ['w', 'w', 'w', 'w', 'w', 'w', 'w', 'b', 'b', 'b', 'b', 'b', 'b']\n",
    "\n",
    "for _ in range(sims):\n",
    "    # Draw 4 balls without replacement\n",
    "    draw = np.random.choice(urn, replace=False, size=4)\n",
    "    # Count the number of successes\n",
    "    if (draw[0]=='w')&(draw[1]=='b')&(draw[2]=='w')&(draw[3]=='b'): \n",
    "        success +=1\n",
    "\n",
    "print(\"Probability of success = {}\".format(success/sims))"
   ]
  },
  {
   "cell_type": "markdown",
   "metadata": {},
   "source": [
    "## 2.2 Birthday problem\n",
    "Now we'll use simulation to solve a famous probability puzzle - the birthday problem. It sounds quite straightforward - _How many people do you need in a room to ensure at least a 50% chance that two of them share the same birthday?_\n",
    "\n",
    "With 366 people in a 365-day year, we are 100% sure that at least two have the same birthday, but we only need to be 50% sure. Simulation gives us an elegant way of solving this problem.\n",
    "\n",
    "Upon completion of this exercise, you will begin to understand how to cast problems in a simulation framework.\n",
    "\n",
    "### Instructions 1/2:\n",
    "* Initialize the sample space `days` which is an array from 1 - 365.\n",
    "* Define a function `birthday_sim()` that takes as input the number of `people` and returns the probability that at least two share the same birthday."
   ]
  },
  {
   "cell_type": "code",
   "execution_count": 4,
   "metadata": {},
   "outputs": [],
   "source": [
    "# Draw a sample of birthdays & check if each birthday is unique\n",
    "days = np.arange(1, 366)\n",
    "people = 2\n",
    "\n",
    "def birthday_sim(people):\n",
    "    sims, unique_birthdays = 2000, 0 \n",
    "    for _ in range(sims):\n",
    "        draw = np.random.choice(days, size=people, replace=True)\n",
    "        if len(draw) == len(set(draw)): \n",
    "            unique_birthdays += 1\n",
    "    out = 1 - unique_birthdays / sims\n",
    "    return out"
   ]
  },
  {
   "cell_type": "markdown",
   "metadata": {},
   "source": [
    "### Instructions 2/2:\n",
    "* Call `birthday_sim()` in a while loop and break when the probability is greater than 50%."
   ]
  },
  {
   "cell_type": "code",
   "execution_count": 5,
   "metadata": {},
   "outputs": [
    {
     "name": "stdout",
     "output_type": "stream",
     "text": [
      "With 23 people, there's a 50% chance that two share a birthday.\n"
     ]
    }
   ],
   "source": [
    "# Break out of the loop if probability greater than 0.5\n",
    "while (people > 0):\n",
    "    prop_bds = birthday_sim(people)\n",
    "    if prop_bds > 0.5: \n",
    "        break\n",
    "    people += 1\n",
    "\n",
    "print(\"With {} people, there's a 50% chance that two share a birthday.\".format(people))"
   ]
  },
  {
   "cell_type": "markdown",
   "metadata": {},
   "source": [
    "Yes, 23 seems surprisingly low, but it's enough to have a 50% chance!\n",
    "\n",
    "## 2.3 Full house\n",
    "Let's return to our poker game. Last time, we calculated the probability of getting at least two of a kind. This time we are interested in a full house. A full house is when you get two cards of different suits that share the same numeric value and three other cards that have the same numeric value (e.g., 2 of hearts & spades, jacks of clubs, diamonds, & spades).\n",
    "\n",
    "Thus, a full house is the probability of getting exactly three of a kind conditional on getting exactly two of a kind of another value. Using the same code as before, modify the success condition to get the desired output. This exercise will teach you to estimate conditional probabilities in card games and build your foundation in framing abstract problems for simulation.\n",
    "\n",
    "### Instructions:\n",
    "* Shuffle `deck_of_cards`.\n",
    "* Utilize a dictionary with `.get()` to count the number of occurrences of each card in the hand.\n",
    "* Increment the counter `full_house` when there is a full house in the hand (2 of one kind, 3 of the other)."
   ]
  },
  {
   "cell_type": "code",
   "execution_count": 6,
   "metadata": {},
   "outputs": [
    {
     "name": "stdout",
     "output_type": "stream",
     "text": [
      "Probability of seeing a full house = 0.0014\n"
     ]
    }
   ],
   "source": [
    "import numpy as np\n",
    "import itertools\n",
    "np.random.seed(123) \n",
    "deck = list(itertools.product(['Heart', 'Club', 'Spade', 'Diamond'],range(13)))\n",
    "\n",
    "#Shuffle deck & count card occurrences in the hand\n",
    "n_sims, full_house, deck_of_cards = 50000, 0, deck.copy() \n",
    "for i in range(n_sims):\n",
    "    np.random.shuffle(deck_of_cards)\n",
    "    hand, cards_in_hand = deck_of_cards[0:5], {}\n",
    "    for card in hand:\n",
    "        # Use .get() method to count occurrences of each card\n",
    "        cards_in_hand[card[1]] = cards_in_hand.get(card[1], 0) + 1\n",
    "               \n",
    "    # Condition for getting full house\n",
    "    condition = (max(cards_in_hand.values()) ==3) & (min(cards_in_hand.values())==2)\n",
    "    if  condition == True: \n",
    "        full_house += 1\n",
    "print(\"Probability of seeing a full house = {}\".format(full_house/n_sims))"
   ]
  },
  {
   "cell_type": "markdown",
   "metadata": {},
   "source": [
    "Look at how small this probability is compared to that of at least two of a kind.\n",
    "\n",
    "# 3. Data generating process\n",
    "## 3.1 Driving test\n",
    "Through the next exercises, we will learn how to build a data generating process (DGP) through progressively complex examples.\n",
    "\n",
    "In this exercise, you will simulate a very simple DGP. Suppose that you are about to take a driving test tomorrow. Based on your own practice and based on data you have gathered, you know that the probability of you passing the test is 90% when it's sunny and only 30% when it's raining. Your local weather station forecasts that there's a 40% chance of rain tomorrow. Based on this information, you want to know what is the probability of you passing the driving test tomorrow.\n",
    "\n",
    "This is a simple problem and can be solved analytically. Here, you will learn how to model a simple DGP and see how it can be used for simulation.\n",
    "\n",
    "### Instructions 1/2:\n",
    "* Write a function `test_outcome()` to simulate the `weather`.\n",
    "    * Set `weather` as `'rain'` or `'sun'` depending on the input argument `p_rain` (the probability of rain).\n",
    "    * Based on the `weather`, return `'pass'` or `'fail'`."
   ]
  },
  {
   "cell_type": "code",
   "execution_count": 10,
   "metadata": {},
   "outputs": [],
   "source": [
    "np.random.seed(222)\n",
    "\n",
    "sims, outcomes, p_rain, p_pass = 1000, [], 0.40, {'sun':0.9, 'rain':0.3}\n",
    "\n",
    "def test_outcome(p_rain):  \n",
    "    # Simulate whether it will rain or not\n",
    "    weather = np.random.choice(['rain', 'sun'], p=[p_rain, 1-p_rain])\n",
    "    # Simulate and return whether you will pass or fail\n",
    "    return np.random.choice(['pass', 'fail'], p=[p_pass[weather], 1-p_pass[weather]])"
   ]
  },
  {
   "cell_type": "markdown",
   "metadata": {},
   "source": [
    "### Instructions 2/2:\n",
    "* Compute the probability of passing the test. You'll have to count the number of times you pass the test, as collected in `outcomes`. Save it as `pass_outcomes_frac` and use that to print the output."
   ]
  },
  {
   "cell_type": "code",
   "execution_count": 11,
   "metadata": {},
   "outputs": [
    {
     "name": "stdout",
     "output_type": "stream",
     "text": [
      "Probability of Passing the driving test = 0.654\n"
     ]
    }
   ],
   "source": [
    "for _ in range(sims):\n",
    "    outcomes.append(test_outcome(p_rain))\n",
    "\n",
    "# Calculate fraction of outcomes where you pass\n",
    "pass_outcomes_frac = outcomes.count('pass')/sims\n",
    "print(\"Probability of Passing the driving test = {}\".format(pass_outcomes_frac))"
   ]
  },
  {
   "cell_type": "markdown",
   "metadata": {},
   "source": [
    "## 3.2 National elections\n",
    "This exercise will give you a taste of how you can model a DGP at different levels of complexity.\n",
    "\n",
    "Consider national elections in a country with two political parties - Red and Blue. This country has 50 states and the party that wins the most states wins the elections. You have the probability $p$ of Red winning in each individual state and want to know the probability of Red winning nationally.\n",
    "\n",
    "Let's model the DGP to understand the distribution. Suppose the election outcome in each state follows a binomial distribution with probability $p$ such that $0$ indicates a loss for Red and $1$ indicates a win. We then simulate a number of election outcomes. Finally, we can ask rich questions like __what is the probability of Red winning less than 45% of the states?__\n",
    "\n",
    "### Instructions:\n",
    "* Simulate one election using `np.random.binomial()` with `p = probs` and `n=1`. Assign it to `election`.\n",
    "* Append the average of Red's wins in `election` to `outcomes`.\n",
    "* Calculate the fraction of `outcomes` where Red won less than 45% of the states. Save it as `prob_red_wins` and use it to print your results."
   ]
  },
  {
   "cell_type": "code",
   "execution_count": 13,
   "metadata": {},
   "outputs": [],
   "source": [
    "np.random.seed(222)\n",
    "p = np.random.uniform(low=0, high=0.99, size=50)\n",
    "np.random.seed(224)"
   ]
  },
  {
   "cell_type": "code",
   "execution_count": 14,
   "metadata": {},
   "outputs": [
    {
     "name": "stdout",
     "output_type": "stream",
     "text": [
      "Probability of Red winning in less than 45% of the states = 0.196\n"
     ]
    }
   ],
   "source": [
    "outcomes, sims, probs = [], 1000, p\n",
    "\n",
    "for _ in range(sims):\n",
    "    # Simulate elections in the 50 states\n",
    "    election = np.random.binomial(p=probs, n=1)\n",
    "    # Get average of Red wins and add to `outcomes`\n",
    "    outcomes.append(election.mean())\n",
    "\n",
    "# Calculate probability of Red winning in less than 45% of the states\n",
    "prob_red_wins = sum(x<0.45 for x in outcomes)/sims\n",
    "print(\"Probability of Red winning in less than 45% of the states = {}\".format(prob_red_wins))"
   ]
  },
  {
   "cell_type": "markdown",
   "metadata": {},
   "source": [
    "Now think about what you would do if you were given the probabilities of winning in each county within a state."
   ]
  },
  {
   "cell_type": "markdown",
   "metadata": {},
   "source": [
    "## 3.4 Fitness goals\n",
    "Let's model how activity levels impact weight loss using modern fitness trackers. On days when you go to the gym, you average around 15k steps, and around 5k steps otherwise. You go to the gym 40% of the time. Let's model the step counts in a day as a Poisson random variable with a mean $\\lambda$ dependent on whether or not you go to the gym.\n",
    "\n",
    "For simplicity, let’s say you have an 80% chance of losing 1lb and a 20% chance of gaining 1b when you get more than 10k steps. The probabilities are reversed when you get less than 8k steps. Otherwise, there's an even chance of gaining or losing 1lb. Given all this, find the probability of losing weight in a month.\n",
    "\n",
    "Examine the `prob` variable in the shell, which is the default probability of gaining or losing 1lb.\n",
    "\n",
    "### Instructions:\n",
    "* Simulate `steps` as a Poisson random variable for a given day based on the value of `lam`.\n",
    "* Set `prob` to `[0.2, 0.8]` if `steps > 10000` or to `[0.8, 0.2]` if `steps < 8000`. Sum up all the weight lost or gained in a month stored in `w`.\n",
    "* Calculate and print the fraction of simulations where total weight for a month in `outcomes` is less than 0. Save as `weight_loss_outcomes_frac` and use that to print your results."
   ]
  },
  {
   "cell_type": "code",
   "execution_count": 15,
   "metadata": {},
   "outputs": [],
   "source": [
    "np.random.seed(222)\n",
    "outcomes, sims, days = [], 1000, 30"
   ]
  },
  {
   "cell_type": "code",
   "execution_count": 16,
   "metadata": {},
   "outputs": [
    {
     "name": "stdout",
     "output_type": "stream",
     "text": [
      "Probability of Weight Loss = 0.215\n"
     ]
    }
   ],
   "source": [
    "# Simulate steps & choose prob \n",
    "for _ in range(sims):\n",
    "    w = []\n",
    "    for i in range(days):\n",
    "        lam = np.random.choice([5000, 15000], p=[0.6, 0.4], size=1)\n",
    "        steps = np.random.poisson(lam)\n",
    "        if steps > 10000: \n",
    "            prob = [0.2, 0.8]\n",
    "        elif steps < 8000: \n",
    "            prob = [0.8, 0.2]\n",
    "        else:\n",
    "            prob = [0.5, 0.5]\n",
    "        w.append(np.random.choice([1, -1], p=prob))\n",
    "    outcomes.append(sum(w))\n",
    "\n",
    "# Calculate fraction of outcomes where there was a weight loss\n",
    "weight_loss_outcomes_frac = sum(x<0 for x in outcomes)/sims\n",
    "print(\"Probability of Weight Loss = {}\".format(weight_loss_outcomes_frac))"
   ]
  },
  {
   "cell_type": "markdown",
   "metadata": {},
   "source": [
    "# 4. eCommerce Ad Simulation\n",
    "## 4.1 Sign up Flow\n",
    "We will now model the DGP of an eCommerce ad flow starting with sign-ups.\n",
    "\n",
    "On any day, we get many ad impressions, which can be modeled as Poisson random variables (RV). You are told that $\\lambda$ is normally distributed with a mean of 100k visitors and standard deviation 2000.\n",
    "\n",
    "During the signup journey, the customer sees an ad, decides whether or not to click, and then whether or not to signup. Thus both clicks and signups are binary, modeled using binomial RVs. What about probability p of success? Our current low-cost option gives us a click-through rate of 1% and a sign-up rate of 20%. A higher cost option could increase the clickthrough and signup rate by up to 20%, but we are unsure of the level of improvement, so we model it as a uniform RV.\n",
    "\n",
    "### Instructions:\n",
    "* Initialize `ct_rate` and `su_rate` dictionaries such that the `high` values are uniformly distributed between the `low` value and $1.2×$ the `low` value.\n",
    "* Model `impressions` as a Poisson random variable with a mean value `lam`.\n",
    "* Model `clicks` and `signups` as binomial random variables with `n` as `impressions` and `clicks` and `p` as `ct_rate[cost]` and `su_rate[cost]`, respectively."
   ]
  },
  {
   "cell_type": "code",
   "execution_count": 17,
   "metadata": {},
   "outputs": [
    {
     "name": "stdout",
     "output_type": "stream",
     "text": [
      "Simulated Signups = [236]\n"
     ]
    }
   ],
   "source": [
    "# Initialize click-through rate and signup rate dictionaries\n",
    "ct_rate = {'low':0.01, 'high':np.random.uniform(low=0.01, high=1.2*0.01)}\n",
    "su_rate = {'low':0.2, 'high':np.random.uniform(low=0.2, high=1.2*0.2)}\n",
    "\n",
    "def get_signups(cost, ct_rate, su_rate, sims):\n",
    "    lam = np.random.normal(loc=100000, scale=2000, size=sims)\n",
    "    # Simulate impressions(poisson), clicks(binomial) and signups(binomial)\n",
    "    impressions = np.random.poisson(lam)\n",
    "    clicks = np.random.binomial(n=impressions, p=ct_rate[cost])\n",
    "    signups = np.random.binomial(n=clicks, p=su_rate[cost])\n",
    "    return signups\n",
    "\n",
    "print(\"Simulated Signups = {}\".format(get_signups('high', ct_rate, su_rate, 1)))"
   ]
  },
  {
   "cell_type": "markdown",
   "metadata": {},
   "source": [
    "Now that we have signups, let's see how to model the purchases from these signups.\n",
    "\n",
    "## 4.2 Purchase Flow\n",
    "After signups, let's model the revenue generation process. Once the customer has signed up, they decide whether or not to purchase - a natural candidate for a binomial RV. Let's assume that 10% of signups result in a purchase.\n",
    "\n",
    "Although customers can make many purchases, let's assume one purchase. The purchase value could be modeled by any continuous RV, but one nice candidate is the exponential RV. Suppose we know that purchase value per customer has averaged around \\\\$1000. We use this information to create the `purchase_values` RV. The revenue, then, is simply the sum of all purchase values.\n",
    "\n",
    "The variables `ct_rate`, `su_rate` and the function `get_signups()` from the last exercise are pre-loaded for you.\n",
    "\n",
    "### Instructions:\n",
    "* Model `purchases` as a binomial RV with `p=0.1`.\n",
    "* Model `purchase_values` as an exponential RV `scale=1000` and the appropriate `size`.\n",
    "* Append `rev` with the sum of `purchase_values`."
   ]
  },
  {
   "cell_type": "code",
   "execution_count": 19,
   "metadata": {},
   "outputs": [
    {
     "name": "stdout",
     "output_type": "stream",
     "text": [
      "Simulated Revenue = $22404.217742298042\n"
     ]
    }
   ],
   "source": [
    "np.random.seed(123)\n",
    "\n",
    "def get_revenue(signups):\n",
    "    rev = []\n",
    "    np.random.seed(123)\n",
    "    for s in signups:\n",
    "        # Model purchases as binomial, purchase_values as exponential\n",
    "        purchases = np.random.binomial(s, p=0.1)\n",
    "        purchase_values = np.random.exponential(scale=1000, size=purchases)\n",
    "        \n",
    "        # Append to revenue the sum of all purchase values.\n",
    "        rev.append(sum(purchase_values))\n",
    "    return rev\n",
    "\n",
    "print(\"Simulated Revenue = ${}\".format(get_revenue(get_signups('low', ct_rate, su_rate, 1))[0]))"
   ]
  },
  {
   "cell_type": "markdown",
   "metadata": {},
   "source": [
    "What are some other distributions you could have used in place of exponential?\n",
    "\n",
    "## 4.3 Probability of losing money\n",
    "In this exercise, we will use the DGP model to estimate probability.\n",
    "\n",
    "As seen earlier, this company has the option of spending extra money, let's say \\\\$3000, to redesign the ad. This could potentially get them higher clickthrough and signup rates, but this is not guaranteed. We would like to know whether or not to spend this extra \\\\$3000 by calculating the probability of losing money. In other words, the probability that the revenue from the high-cost option minus the revenue from the low-cost option is lesser than the cost.\n",
    "\n",
    "Once we have simulated revenue outcomes, we can ask a rich set of questions that might not have been accessible using traditional analytical methods.\n",
    "\n",
    "This simple yet powerful framework forms the basis of Bayesian methods for getting probabilities.\n",
    "\n",
    "### Instructions:\n",
    "* Initialize `cost_diff`, the difference between the 'high' and 'low' cost options, to `3000`.\n",
    "* Get the revenue for the high-cost option and assign it to `rev_high`.\n",
    "* Calculate the fraction of times when `rev_high - rev_low` is less than `cost_diff`. Call it `frac` and use it to print your results."
   ]
  },
  {
   "cell_type": "code",
   "execution_count": 21,
   "metadata": {},
   "outputs": [
    {
     "name": "stdout",
     "output_type": "stream",
     "text": [
      "Probability of losing money = 0.4642\n"
     ]
    }
   ],
   "source": [
    "np.random.seed(123)\n",
    "\n",
    "# Initialize cost_diff\n",
    "sims, cost_diff = 10000, 3000\n",
    "\n",
    "# Get revenue when the cost is 'low' and when the cost is 'high'\n",
    "rev_low = get_revenue(get_signups('low', ct_rate, su_rate, sims))\n",
    "rev_high = get_revenue(get_signups('high', ct_rate, su_rate, sims))\n",
    "\n",
    "# calculate fraction of times rev_high - rev_low is less than cost_diff\n",
    "frac = sum([rev_high[i] - rev_low[i] < cost_diff for i in range(len(rev_low))])/sims\n",
    "print(\"Probability of losing money = {}\".format(frac))"
   ]
  },
  {
   "cell_type": "code",
   "execution_count": null,
   "metadata": {},
   "outputs": [],
   "source": []
  }
 ],
 "metadata": {
  "kernelspec": {
   "display_name": "Python 3",
   "language": "python",
   "name": "python3"
  },
  "language_info": {
   "codemirror_mode": {
    "name": "ipython",
    "version": 3
   },
   "file_extension": ".py",
   "mimetype": "text/x-python",
   "name": "python",
   "nbconvert_exporter": "python",
   "pygments_lexer": "ipython3",
   "version": "3.7.0"
  }
 },
 "nbformat": 4,
 "nbformat_minor": 1
}
