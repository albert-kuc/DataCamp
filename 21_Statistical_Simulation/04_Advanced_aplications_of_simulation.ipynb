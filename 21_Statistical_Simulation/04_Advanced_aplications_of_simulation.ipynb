{
 "cells": [
  {
   "cell_type": "markdown",
   "metadata": {
    "collapsed": true
   },
   "source": [
    "# Advanced Applications of Simulation\n",
    "In this chapter, students will be introduced to some basic and advanced applications of simulation to solve real-world problems. We'll work through a business planning problem, learn about Monte Carlo Integration, Power Analysis with simulation and conclude with a financial portfolio simulation. After completing this chapter, students will be ready to apply simulation to solve everyday problems.\n",
    "\n",
    "# 1. Simulation for Business Planning\n",
    "## 1.1 Modeling Corn Production\n",
    "Suppose that you manage a small corn farm and are interested in optimizing your costs. In this exercise, we will model the production of corn.\n",
    "\n",
    "For simplicity, let's assume that corn production depends on only two factors: rain, which you don't control, and cost, which you control. Rain is normally distributed with mean 50 and standard deviation 15. For now, let's fix cost at 5,000. Corn produced in any season is a Poisson random variable while the average corn production is governed by the equation:\n",
    "\n",
    "$100\\times(cost)^{0.1}\\times(rain)^{0.2}$\n",
    "Let's model this production function and simulate one outcome.\n",
    "\n",
    "### Instructions:\n",
    "* Initialize `rain` as a normal random variable with mean 50 and standard deviation 15.\n",
    "* In the `corn_produced()` function, model `mean_corn` as $100\\times{cost}^{0.1}\\times{rain}^{0.2}$.\n",
    "* Model `corn` as a Poisson random variable with mean `mean_corn`.\n",
    "* Simulate one outcome by storing the result of calling `corn_produced()` in `corn_result` and print your results."
   ]
  },
  {
   "cell_type": "code",
   "execution_count": 1,
   "metadata": {},
   "outputs": [
    {
     "name": "stdout",
     "output_type": "stream",
     "text": [
      "Simulated Corn Production = 560\n"
     ]
    }
   ],
   "source": [
    "import numpy as np\n",
    "np.random.seed(223)\n",
    "\n",
    "# Initialize variables\n",
    "cost = 5000\n",
    "rain = np.random.normal(50, 15)\n",
    "\n",
    "# Corn Production Model\n",
    "def corn_produced(rain, cost):\n",
    "  mean_corn = 100*cost**0.1*rain**0.2\n",
    "  corn = np.random.poisson(mean_corn)\n",
    "  return corn\n",
    "\n",
    "# Simulate and print corn production\n",
    "corn_result = corn_produced(rain, cost)\n",
    "print(\"Simulated Corn Production = {}\".format(corn_result))"
   ]
  },
  {
   "cell_type": "markdown",
   "metadata": {},
   "source": [
    "## 1.2 Modeling Profits\n",
    "In the previous exercise, you built a model of corn production. For a small farm, you typically have no control over the price or demand for corn. Suppose that price is normally distributed with mean 40 and standard deviation 10. You are given a function `corn_demanded()`, which takes the price and determines the demand for corn. This is reasonable because demand is usually determined by the market and is not in your control.\n",
    "\n",
    "In this exercise, you will work on a function to calculate the profit by pulling together all the other simulated variables. The only input to this function will be the cost. Upon completion, you will have a function that will give you one simulated profit outcome for a given cost. This function can then be used for planning your costs.\n",
    "\n",
    "### Instructions:\n",
    "* Model the `price` as a normal random variable with mean 40 and standard deviation 10.\n",
    "* Get the corn `supply` by calling the function `corn_produced(rain, cost)`, which you designed in the previous exercise.\n",
    "* You are given a `corn_demanded()` function which takes `price` as an input. Call this function to get `demand`.\n",
    "* Calculate the profit depending on the relationship between `supply` and `demand` of corn."
   ]
  },
  {
   "cell_type": "code",
   "execution_count": 2,
   "metadata": {},
   "outputs": [],
   "source": [
    "import numpy as np\n",
    "\n",
    "# Corn production model\n",
    "def corn_produced(rain, cost):\n",
    "  mean_corn = 100*(cost**0.1)*(rain**0.2)\n",
    "  corn = np.random.poisson(mean_corn)\n",
    "  return corn\n",
    "\n",
    "def corn_demanded(price):\n",
    "    mean_corn = 1000 - 8*price\n",
    "    corn = np.random.poisson(abs(mean_corn))\n",
    "    return corn\n",
    "\n",
    "np.random.seed(223)\n",
    "\n",
    "cost = 5000"
   ]
  },
  {
   "cell_type": "code",
   "execution_count": 3,
   "metadata": {},
   "outputs": [
    {
     "name": "stdout",
     "output_type": "stream",
     "text": [
      "Simulated profit = 20675.3291075312\n"
     ]
    }
   ],
   "source": [
    "# Function to calculate profits\n",
    "def profits(cost):\n",
    "    rain = np.random.normal(50, 15)\n",
    "    price = np.random.normal(40, 10)\n",
    "    supply = corn_produced(rain, cost)\n",
    "    demand = corn_demanded(price)\n",
    "    equil_short = supply <= demand\n",
    "    if equil_short ==True:\n",
    "        tmp = supply * price - cost\n",
    "        return tmp\n",
    "    else: \n",
    "        tmp2 = demand * price - cost\n",
    "        return tmp2\n",
    "result = profits(cost)\n",
    "print(\"Simulated profit = {}\".format(result))"
   ]
  },
  {
   "cell_type": "markdown",
   "metadata": {},
   "source": [
    "Now let's use these functions to optimize costs of production.\n",
    "\n",
    "## 1.3 Optimizing Costs\n",
    "Now we will use the functions you've built to optimize our cost of production. We are interested in maximizing average profits. However, our profits depend on a number of factors, but we only control cost. Thus, we can simulate the uncertainty in the other factors and vary cost to see how our profits are impacted.\n",
    "\n",
    "Since you manage the small corn farm, you have the ability to choose your cost - from \\\\$100 to \\\\$5,000. You want to choose the cost that gives you the maximum average profit. In this exercise, we will simulate multiple outcomes for each cost level and calculate an average. We will then choose the cost that gives us the maximum mean profit. Upon completion, you will have a framework for selecting optimal inputs for business decisions.\n",
    "\n",
    "### Instructions:\n",
    "* Initialize the empty dictionary `results`.\n",
    "* For each cost level, simulate profits using the pre-loaded `profits()` function and append them to `tmp_profits`.\n",
    "* Store the average of `tmp_profits` for each cost level in the `results` dictionary.\n",
    "* Find the cost level `cost_max` that has the maximum average profit by running `results` through the list comprehension."
   ]
  },
  {
   "cell_type": "code",
   "execution_count": 4,
   "metadata": {},
   "outputs": [],
   "source": [
    "import numpy as np\n",
    "np.random.seed(223)\n",
    "\n",
    "# Corn production model\n",
    "def corn_produced(rain, cost):\n",
    "  mean_corn = 100*(cost**0.1)*(rain**0.2)\n",
    "  corn = np.random.poisson(mean_corn)\n",
    "  return corn\n",
    "\n",
    "# Corn demand\n",
    "def corn_demanded(price):\n",
    "    mean_corn = max(min(1000 - 10*price, 1000), 100)\n",
    "    corn = np.random.poisson(abs(mean_corn))\n",
    "    return corn\n",
    "\n",
    "# Profits\n",
    "def profits(cost):\n",
    "    \n",
    "    # Price is a normal random variable\n",
    "    rain = max(np.random.normal(50, 15), 10)\n",
    "    price = max(np.random.normal(40, 10), 10)\n",
    "    \n",
    "    # Call the appropriate functions for supply & demand\n",
    "    supply, demand = corn_produced(rain, cost), corn_demanded(price)\n",
    "    \n",
    "    # Return the correct profits for each case\n",
    "    if supply <= demand:\n",
    "        return supply*price - cost\n",
    "    else:\n",
    "        return demand*price - cost\n",
    "\n",
    "np.random.seed(573)"
   ]
  },
  {
   "cell_type": "code",
   "execution_count": 5,
   "metadata": {},
   "outputs": [
    {
     "name": "stdout",
     "output_type": "stream",
     "text": [
      "Average profit is maximized when cost = 1400\n"
     ]
    }
   ],
   "source": [
    "# Initialize results and cost_levels variables\n",
    "sims, results = 1000, {}\n",
    "cost_levels = np.arange(100, 5100, 100)\n",
    "\n",
    "# For each cost level, simulate profits and store mean profit\n",
    "for cost in cost_levels:\n",
    "    tmp_profits = []\n",
    "    for i in range(sims):\n",
    "        tmp_profits.append(profits(cost))\n",
    "    results[cost] = np.mean(tmp_profits)\n",
    "    \n",
    "# Get the cost that maximizes average profit\n",
    "cost_max = [x for x in results.keys() if results[x] == max(results.values())][0]\n",
    "print(\"Average profit is maximized when cost = {}\".format(cost_max))"
   ]
  },
  {
   "cell_type": "markdown",
   "metadata": {},
   "source": [
    "Businesses use a similar framework with more details to help in a number of decisions.\n",
    "\n",
    "# 2. Monte Carlo Integration\n",
    "## 2.1 Integrating a Simple Function\n",
    "This is a simple exercise introducing the concept of Monte Carlo Integration.\n",
    "\n",
    "Here we will evaluate a simple integral $\\int_{0}^1xe^xdx$. We know that the exact answer is $1$, but simulation will give us an approximate solution, so we can expect an answer close to $1$. As we saw in the video, it's a simple process. For a function of a single variable $f(x)$:\n",
    "\n",
    "1. Get the limits of the x-axis $(x_{min},x_{max})$ and y-axis $(max(f(x)),min(min(f(x)),0))$.\n",
    "2. Generate a number of uniformly distributed point in this box.\n",
    "3. Multiply the area of the box $((max(f(x) {−min(f(x))}\\times(xmax {−xmin}))$ by the fraction of points that lie below $f(x)$.\n",
    "\n",
    "Upon completion, you will have a framework for handling definite integrals using Monte Carlo Integration.\n",
    "\n",
    "### Instructions:\n",
    "* In the `sim_integrate()` function, generate uniform random numbers between `xmin` and `xmax` and assign to `x`.\n",
    "* Generate uniform random numbers between $min(min(f(x)),0)$ and $max(f(x))$ and assign to `y`.\n",
    "* Return the fraction of points less than $f(x)$ multiplied by area $((max(f(x) {−min(f(x))}\\times(x_{max} {−x_{min}}))$.\n",
    "* Finally, use lambda function to define `func` as $xe^x$."
   ]
  },
  {
   "cell_type": "code",
   "execution_count": 6,
   "metadata": {},
   "outputs": [
    {
     "name": "stdout",
     "output_type": "stream",
     "text": [
      "Simulated answer = 0.7240166789450252, Actual Answer = 1\n"
     ]
    }
   ],
   "source": [
    "np.random.seed(123)\n",
    "\n",
    "# Define the sim_integrate function\n",
    "def sim_integrate(func, xmin, xmax, sims):\n",
    "    x = np.random.uniform(xmin, xmax, sims)\n",
    "    y = np.random.uniform(min(min(func(x)), 0), max(func(x)), sims)\n",
    "    area = (max(y) - min(y))*(xmax-xmin)\n",
    "    result = area * sum(abs(y) < abs(func(x)))/sims\n",
    "    return result\n",
    "    \n",
    "# Call the sim_integrate function and print results\n",
    "result = sim_integrate(func = lambda x: x*np.exp(x), xmin = 0, xmax = 1, sims = 50)\n",
    "print(\"Simulated answer = {}, Actual Answer = 1\".format(result))"
   ]
  },
  {
   "cell_type": "markdown",
   "metadata": {},
   "source": [
    "Try seeing what happens to the answer when you increase or decrease `sims`."
   ]
  },
  {
   "cell_type": "code",
   "execution_count": 7,
   "metadata": {},
   "outputs": [
    {
     "name": "stdout",
     "output_type": "stream",
     "text": [
      "Simulated answer = 0.8869683341751766, Actual Answer = 1\n"
     ]
    }
   ],
   "source": [
    "np.random.seed(123)\n",
    "\n",
    "# Call the sim_integrate function and print results\n",
    "result = sim_integrate(func = lambda x: x*np.exp(x), xmin = 0, xmax = 1, sims = 10)\n",
    "print(\"Simulated answer = {}, Actual Answer = 1\".format(result))"
   ]
  },
  {
   "cell_type": "code",
   "execution_count": 8,
   "metadata": {},
   "outputs": [
    {
     "name": "stdout",
     "output_type": "stream",
     "text": [
      "Simulated answer = 0.6342464168655881, Actual Answer = 1\n"
     ]
    }
   ],
   "source": [
    "np.random.seed(123)\n",
    "\n",
    "# Call the sim_integrate function and print results\n",
    "result = sim_integrate(func = lambda x: x*np.exp(x), xmin = 0, xmax = 1, sims = 53)\n",
    "print(\"Simulated answer = {}, Actual Answer = 1\".format(result))"
   ]
  },
  {
   "cell_type": "code",
   "execution_count": 9,
   "metadata": {},
   "outputs": [
    {
     "name": "stdout",
     "output_type": "stream",
     "text": [
      "Simulated answer = 0.9448019848870521, Actual Answer = 1\n"
     ]
    }
   ],
   "source": [
    "np.random.seed(123)\n",
    "\n",
    "# Call the sim_integrate function and print results\n",
    "result = sim_integrate(func = lambda x: x*np.exp(x), xmin = 0, xmax = 1, sims = 52)\n",
    "print(\"Simulated answer = {}, Actual Answer = 1\".format(result))"
   ]
  },
  {
   "cell_type": "markdown",
   "metadata": {},
   "source": [
    "## 2.2 Calculating the value of pi\n",
    "Now we work through a classic example - estimating the value of π.\n",
    "\n",
    "Imagine a square of side $2$ with the origin $(0,0)$ as its center and the four corners having coordinates $(1,1),(1, {-1}),({−1},1),({−1},{−1})$. The area of this square is $2\\times2=4$. Now imagine a circle of radius 1 with its center at the origin fitting perfectly inside this square. The area of the circle will be $\\pi \\times radius^2=\\pi$.\n",
    "\n",
    "To estimate π, we randomly sample multiple points in this square & get the fraction of points inside the circle $(x^2+y^2<=1)$. The area of the circle then is $4$ times this fraction, which gives us our estimate of $\\pi$.\n",
    "\n",
    "After this exercise, you'll have a grasp of how to use simulation for computation.\n",
    "\n",
    "### Instructions:\n",
    "* Examine the true value of $\\pi$ using `np.pi` in the console. Initialize `sims` to 10000 and circle_points to 0.\n",
    "* Within the `for` loop, generate a point (x & y coordinates) using `np.random.uniform()` between -1 and 1, having `size=2`.\n",
    "* Check if the point lies within the unit circle with the equation $x^2+y^2<=1$, assign to `within_circle`, and increment `circle_points` accordingly.\n",
    "* Print the estimate of $\\pi$ `pi_sim` as 4 times the fraction of points that lie within the circle."
   ]
  },
  {
   "cell_type": "code",
   "execution_count": 10,
   "metadata": {},
   "outputs": [
    {
     "name": "stdout",
     "output_type": "stream",
     "text": [
      "Simulated value of pi = 3.1468\n"
     ]
    }
   ],
   "source": [
    "np.random.seed(123)\n",
    "\n",
    "# Initialize sims and circle_points\n",
    "sims, circle_points = 10000, 0 \n",
    "\n",
    "for i in range(sims):\n",
    "    # Generate the two coordinates of a point\n",
    "    point = np.random.uniform(-1, 1, 2)\n",
    "    # if the point lies within the unit circle, increment counter\n",
    "    within_circle = point[0]**2 + point[1]**2 <= 1\n",
    "    if within_circle == True:\n",
    "        circle_points +=1\n",
    "        \n",
    "# Estimate pi as 4 times the avg number of points in the circle.\n",
    "pi_sim = 4*np.mean(circle_points/sims)\n",
    "print(\"Simulated value of pi = {}\".format(pi_sim))"
   ]
  },
  {
   "cell_type": "markdown",
   "metadata": {},
   "source": [
    "Similar to this example, simulations have a number of useful applications in computation."
   ]
  },
  {
   "cell_type": "markdown",
   "metadata": {},
   "source": [
    "# 3. Simulation for Power Analysis\n",
    "## 3.1 Factors influencing Statistical Power\n",
    "In this exercise, you will refresh some basic concepts to test your understanding of statistical power. It is very important to understand statistical power, especially if you are designing an [A/B test](https://en.wikipedia.org/wiki/A/B_testing).\n",
    "\n",
    "Consider the following four options and select the factor that __does not__ influence the statistical power of an experiment:\n",
    "\n",
    "###### Possible Answers:\n",
    "1. Magnitude of the effect / Effect size\n",
    "2. Sample Size\n",
    "3. Statistical Significance Level (α)\n",
    "4. Number of Simulations\n",
    "\n",
    "<div align=right><b>Answer:</b> The number of simulations doesn't really impact</div>\n",
    "<div align=right>the statistical power of an experiment. (4)</div>"
   ]
  },
  {
   "cell_type": "markdown",
   "metadata": {},
   "source": [
    "## 3.2 Power Analysis - Part I\n",
    "Now we turn to power analysis. You typically want to ensure that any experiment or A/B test you run has at least 80% power. One way to ensure this is to calculate the sample size required to achieve 80% power.\n",
    "\n",
    "Suppose that you are in charge of a news media website and you are interested in increasing the amount of time users spend on your website. Currently, the time users spend on your website is normally distributed with a mean of 1 minute and a variance of 0.5 minutes. Suppose that you are introducing a feature that loads pages faster and want to know the sample size required to measure a 10% increase in time spent on the website.\n",
    "\n",
    "In this exercise, we will set up the framework to run one simulation, run a t-test, & calculate the p-value.\n",
    "\n",
    "### Instructions:\n",
    "* Initialize `effect_size` to 5%, `control_mean` to 1 and `control_sd` to 0.5.\n",
    "* Using `np.random.normal()`, simulate one drawing of `control_time_spent` and `treatment_time_spent` using the values you initialized.\n",
    "* Run a t-test on `treatment_time_spent` and `control_time_spent` using `st.ttest_ind()` where `st` is `scipy.stats`, which is already imported.\n",
    "* Statistical significance `stat_sig` should be `True` if `p_value` is less than 0.05, otherwise it should be `False`."
   ]
  },
  {
   "cell_type": "code",
   "execution_count": 11,
   "metadata": {},
   "outputs": [],
   "source": [
    "import numpy as np\n",
    "import scipy.stats as st\n",
    "np.random.seed(123)"
   ]
  },
  {
   "cell_type": "code",
   "execution_count": 12,
   "metadata": {},
   "outputs": [
    {
     "name": "stdout",
     "output_type": "stream",
     "text": [
      "P-value: 0.5766409395002308, Statistically Significant? False\n"
     ]
    }
   ],
   "source": [
    "# Initialize effect_size, control_mean, control_sd\n",
    "effect_size, sample_size, control_mean, control_sd = 0.05, 50, 1, 0.5\n",
    "\n",
    "# Simulate control_time_spent and treatment_time_spent, assuming equal variance\n",
    "control_time_spent = np.random.normal(loc=control_mean, scale=control_sd, size=sample_size)\n",
    "treatment_time_spent = np.random.normal(loc=control_mean*(1+effect_size), scale=control_sd, size=sample_size)\n",
    "\n",
    "# Run the t-test and get the p_value\n",
    "t_stat, p_value = st.ttest_ind(treatment_time_spent, control_time_spent)\n",
    "stat_sig = p_value < effect_size\n",
    "print(\"P-value: {}, Statistically Significant? {}\".format(p_value, stat_sig))"
   ]
  },
  {
   "cell_type": "markdown",
   "metadata": {},
   "source": [
    "## 3.3 Power Analysis - Part II\n",
    "Previously, we simulated one instance of the experiment & generated a p-value. We will now use this framework to calculate statistical power. Power of an experiment is the experiment's ability to detect a difference between treatment & control if the difference really exists. It's good statistical hygiene to strive for 80% power.\n",
    "\n",
    "For our website, we want to know how many people need to visit each variant, such that we can detect a 10% increase in time spent with 80% power. For this, we start with a small sample (50), simulate multiple instances of this experiment & check power. If 80% power is reached, we stop. If not, we increase the sample size & try again.\n",
    "\n",
    "### Instructions:\n",
    "* For the time spent random variables, set the `size` such that it has shape `sample_size` × `sims`.\n",
    "* Calculate `power` as a fraction of p-values less than 0.05 (statistically significant).\n",
    "* If `power` is greater than or equal to 80%, `break` out of the while loop. Else, keep incrementing `sample_size` by 10."
   ]
  },
  {
   "cell_type": "code",
   "execution_count": 13,
   "metadata": {},
   "outputs": [],
   "source": [
    "effect_size, sample_size, control_mean, control_sd, sims = 0.1, 50, 1, 0.5, 1000\n",
    "np.random.seed(123)"
   ]
  },
  {
   "cell_type": "code",
   "execution_count": 14,
   "metadata": {},
   "outputs": [
    {
     "name": "stdout",
     "output_type": "stream",
     "text": [
      "For 80% power, sample size required = 360\n"
     ]
    }
   ],
   "source": [
    "sample_size = 50\n",
    "\n",
    "# Keep incrementing sample size by 10 till we reach required power\n",
    "while 1:\n",
    "    control_time_spent = np.random.normal(loc=control_mean, scale=control_sd, size=(sample_size, sims))\n",
    "    treatment_time_spent = np.random.normal(loc=control_mean*(1+effect_size), scale=control_sd, size=(sample_size, sims))\n",
    "    t, p = st.ttest_ind(treatment_time_spent, control_time_spent)\n",
    "    \n",
    "    # Power is the fraction of times in the simulation when the p-value was less than 0.05\n",
    "    power = (p < 0.05).sum()/sims\n",
    "    if power >= 0.8: \n",
    "        break\n",
    "    else: \n",
    "        sample_size += 10\n",
    "print(\"For 80% power, sample size required = {}\".format(sample_size))"
   ]
  },
  {
   "cell_type": "markdown",
   "metadata": {},
   "source": [
    "# 4. Applications in Finance\n",
    "## 4.1 Portfolio Simulation - Part I\n",
    "In the next few exercises, you will calculate the expected returns of a stock portfolio & characterize its uncertainty.\n",
    "\n",
    "Suppose you have invested \\\\$10,000 in your portfolio comprising of multiple stocks. You want to evaluate the portfolio's performance over 10 years. You can tweak your overall expected rate of return and volatility (standard deviation of the rate of return). Assume the rate of return follows a normal distribution.\n",
    "\n",
    "First, let's write a function that takes the principal (initial investment), number of years, expected rate of return and volatility as inputs and returns the portfolio's total value after 10 years.\n",
    "\n",
    "Upon completion of this exercise, you will have a function you can call to determine portfolio performance.\n",
    "\n",
    "### Instructions:\n",
    "* In the function definition, accept four arguments: number of years `yrs`, the expected rate of return `avg_return`, volatility as inputs `volatility`, and principal (initial investment) `principal`.\n",
    "* Simulate `rates` of return for each year as a normal random variable.\n",
    "* Initialize `end_return` to the `principal` input.\n",
    "* Use `portfolio_return()` to calculate and print `result`."
   ]
  },
  {
   "cell_type": "code",
   "execution_count": 15,
   "metadata": {},
   "outputs": [
    {
     "name": "stdout",
     "output_type": "stream",
     "text": [
      "Portfolio return after 5 years = 1021.4013412039292\n"
     ]
    }
   ],
   "source": [
    "np.random.seed(123)\n",
    "\n",
    "# rates is a Normal random variable and has size equal to number of years\n",
    "def portfolio_return(yrs, avg_return, volatility, principal):\n",
    "    rates = np.random.normal(loc=avg_return, scale=volatility, size=yrs)\n",
    "    # Calculate the return at the end of the period\n",
    "    end_return = principal\n",
    "    for x in rates:\n",
    "        end_return = end_return*(1+x)\n",
    "    return end_return\n",
    "\n",
    "result = portfolio_return(yrs = 5, avg_return = 0.07, volatility = 0.15, principal = 1000)\n",
    "print(\"Portfolio return after 5 years = {}\".format(result))"
   ]
  },
  {
   "cell_type": "markdown",
   "metadata": {},
   "source": [
    "Now let's use this function to understand the distribution of returns.\n",
    "\n",
    "## 4.2 Portfolio Simulation - Part II\n",
    "Now we will use the simulation function you built to evaluate 10-year returns.\n",
    "\n",
    "Your stock-heavy portfolio has an initial investment of \\\\$10,000, an expected return of 7% and a volatility of 30%. You want to get a 95% confidence interval of what your investment will be worth in 10 years. We will simulate multiple samples of 10-year returns and calculate the confidence intervals on the distribution of returns.\n",
    "\n",
    "By the end of this exercise, you will have run a complete portfolio simulation.\n",
    "\n",
    "### Instructions:\n",
    "* Initialize `sims` to 1,000.\n",
    "* Enter the appropriate values for the `portfolio_return()` function parameters.\n",
    "* Calculate the 95% confidence interval lower (`lower_ci`) and upper limits (`upper_ci`)."
   ]
  },
  {
   "cell_type": "code",
   "execution_count": 16,
   "metadata": {},
   "outputs": [
    {
     "name": "stdout",
     "output_type": "stream",
     "text": [
      "95% CI of Returns: Lower = 1236.4468015417674, Upper = 79510.31743325583\n"
     ]
    }
   ],
   "source": [
    "np.random.seed(123)\n",
    "\n",
    "# Run 1,000 iterations and store the results\n",
    "sims, rets = 1000, []\n",
    "\n",
    "for i in range(sims):\n",
    "    rets.append(portfolio_return(yrs = 10, avg_return = 0.07, \n",
    "                                 volatility = 0.3, principal = 10000))\n",
    "\n",
    "# Calculate the 95% CI\n",
    "lower_ci = np.percentile(rets, 2.5)\n",
    "upper_ci = np.percentile(rets, 97.5)\n",
    "print(\"95% CI of Returns: Lower = {}, Upper = {}\".format(lower_ci, upper_ci))"
   ]
  },
  {
   "cell_type": "markdown",
   "metadata": {},
   "source": [
    "## 4.3 Portfolio Simulation - Part III\n",
    "Previously, we ran a complete simulation to get a distribution for 10-year returns. Now we will use simulation for decision making.\n",
    "\n",
    "Let's go back to your stock-heavy portfolio with an expected return of 7% and a volatility of 30%. You have the choice of rebalancing your portfolio with some bonds such that the expected return is 4% & volatility is 10%. You have a principal of $10,000. You want to select a strategy based on how much your portfolio will be worth in 10 years. Let's simulate returns for both the portfolios and choose based on the least amount you can expect with 75% probability (25th percentile).\n",
    "\n",
    "Upon completion, you will know how to use a portfolio simulation for investment decisions.\n",
    "\n",
    "The `portfolio_return()` function is again pre-loaded in the environment.\n",
    "\n",
    "### Instructions:\n",
    "* Set `avg_return` and `volatility` parameters to 0.07 and 0.3, respectively, for the stock portfolio.\n",
    "* Set `avg_return` and `volatility` parameters to 0.04 and 0.1, respectively, for the bond portfolio.\n",
    "* Calculate the 25th percentile of the distribution of returns for the stock and bond portfolios.\n",
    "* Calculate and print how much additional returns `additional_returns` you would lose or gain by sticking with stocks instead of going to bonds."
   ]
  },
  {
   "cell_type": "code",
   "execution_count": 17,
   "metadata": {},
   "outputs": [
    {
     "name": "stdout",
     "output_type": "stream",
     "text": [
      "Sticking to stocks gets you an additional return of -5518.530403193416\n"
     ]
    }
   ],
   "source": [
    "sims = 1000\n",
    "rets_stock, rets_bond = [], []\n",
    "np.random.seed(123)\n",
    "\n",
    "for i in range(sims):\n",
    "    rets_stock.append(portfolio_return(yrs = 10, avg_return = 0.07, volatility = 0.3, principal = 10000))\n",
    "    rets_bond.append(portfolio_return(yrs = 10, avg_return = 0.04, volatility = 0.1, principal = 10000))\n",
    "\n",
    "# Calculate the 25th percentile of the distributions and the amount you'd lose or gain\n",
    "rets_stock_perc = np.percentile(rets_stock, 25)\n",
    "rets_bond_perc = np.percentile(rets_bond, 25)\n",
    "additional_returns = rets_stock_perc - rets_bond_perc\n",
    "print(\"Sticking to stocks gets you an additional return of {}\".format(additional_returns))"
   ]
  },
  {
   "cell_type": "code",
   "execution_count": null,
   "metadata": {},
   "outputs": [],
   "source": []
  }
 ],
 "metadata": {
  "kernelspec": {
   "display_name": "Python 3",
   "language": "python",
   "name": "python3"
  },
  "language_info": {
   "codemirror_mode": {
    "name": "ipython",
    "version": 3
   },
   "file_extension": ".py",
   "mimetype": "text/x-python",
   "name": "python",
   "nbconvert_exporter": "python",
   "pygments_lexer": "ipython3",
   "version": "3.7.4"
  }
 },
 "nbformat": 4,
 "nbformat_minor": 1
}
