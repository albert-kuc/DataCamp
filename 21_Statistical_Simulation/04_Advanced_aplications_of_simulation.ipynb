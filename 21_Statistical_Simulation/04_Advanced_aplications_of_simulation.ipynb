{
 "cells": [
  {
   "cell_type": "markdown",
   "metadata": {
    "collapsed": true
   },
   "source": [
    "# Advanced Applications of Simulation\n",
    "In this chapter, students will be introduced to some basic and advanced applications of simulation to solve real-world problems. We'll work through a business planning problem, learn about Monte Carlo Integration, Power Analysis with simulation and conclude with a financial portfolio simulation. After completing this chapter, students will be ready to apply simulation to solve everyday problems.\n",
    "\n",
    "# 1. Simulation for Business Planning\n",
    "## 1.1 Modeling Corn Production\n",
    "Suppose that you manage a small corn farm and are interested in optimizing your costs. In this exercise, we will model the production of corn.\n",
    "\n",
    "For simplicity, let's assume that corn production depends on only two factors: rain, which you don't control, and cost, which you control. Rain is normally distributed with mean 50 and standard deviation 15. For now, let's fix cost at 5,000. Corn produced in any season is a Poisson random variable while the average corn production is governed by the equation:\n",
    "\n",
    "$100×(cost)^{0.1}×(rain)^{0.2}$\n",
    "Let's model this production function and simulate one outcome.\n",
    "\n",
    "### Instructions:\n",
    "* Initialize `rain` as a normal random variable with mean 50 and standard deviation 15.\n",
    "* In the `corn_produced()` function, model `mean_corn` as $100×cost^{0.1}×rain^{0.2}$.\n",
    "* Model `corn` as a Poisson random variable with mean `mean_corn`.\n",
    "* Simulate one outcome by storing the result of calling `corn_produced()` in `corn_result` and print your results."
   ]
  },
  {
   "cell_type": "code",
   "execution_count": 1,
   "metadata": {},
   "outputs": [
    {
     "name": "stdout",
     "output_type": "stream",
     "text": [
      "Simulated Corn Production = 560\n"
     ]
    }
   ],
   "source": [
    "import numpy as np\n",
    "np.random.seed(223)\n",
    "\n",
    "# Initialize variables\n",
    "cost = 5000\n",
    "rain = np.random.normal(50, 15)\n",
    "\n",
    "# Corn Production Model\n",
    "def corn_produced(rain, cost):\n",
    "  mean_corn = 100*cost**0.1*rain**0.2\n",
    "  corn = np.random.poisson(mean_corn)\n",
    "  return corn\n",
    "\n",
    "# Simulate and print corn production\n",
    "corn_result = corn_produced(rain, cost)\n",
    "print(\"Simulated Corn Production = {}\".format(corn_result))"
   ]
  },
  {
   "cell_type": "markdown",
   "metadata": {},
   "source": [
    "## 1.2 Modeling Profits\n",
    "In the previous exercise, you built a model of corn production. For a small farm, you typically have no control over the price or demand for corn. Suppose that price is normally distributed with mean 40 and standard deviation 10. You are given a function `corn_demanded()`, which takes the price and determines the demand for corn. This is reasonable because demand is usually determined by the market and is not in your control.\n",
    "\n",
    "In this exercise, you will work on a function to calculate the profit by pulling together all the other simulated variables. The only input to this function will be the cost. Upon completion, you will have a function that will give you one simulated profit outcome for a given cost. This function can then be used for planning your costs.\n",
    "\n",
    "### Instructions:\n",
    "* Model the `price` as a normal random variable with mean 40 and standard deviation 10.\n",
    "* Get the corn `supply` by calling the function `corn_produced(rain, cost)`, which you designed in the previous exercise.\n",
    "* You are given a `corn_demanded()` function which takes `price` as an input. Call this function to get `demand`.\n",
    "* Calculate the profit depending on the relationship between `supply` and `demand` of corn."
   ]
  },
  {
   "cell_type": "code",
   "execution_count": 2,
   "metadata": {},
   "outputs": [],
   "source": [
    "import numpy as np\n",
    "\n",
    "# Corn production model\n",
    "def corn_produced(rain, cost):\n",
    "  mean_corn = 100*(cost**0.1)*(rain**0.2)\n",
    "  corn = np.random.poisson(mean_corn)\n",
    "  return corn\n",
    "\n",
    "def corn_demanded(price):\n",
    "    mean_corn = 1000 - 8*price\n",
    "    corn = np.random.poisson(abs(mean_corn))\n",
    "    return corn\n",
    "\n",
    "np.random.seed(223)\n",
    "\n",
    "cost = 5000"
   ]
  },
  {
   "cell_type": "code",
   "execution_count": 3,
   "metadata": {},
   "outputs": [
    {
     "name": "stdout",
     "output_type": "stream",
     "text": [
      "Simulated profit = 20675.3291075312\n"
     ]
    }
   ],
   "source": [
    "# Function to calculate profits\n",
    "def profits(cost):\n",
    "    rain = np.random.normal(50, 15)\n",
    "    price = np.random.normal(40, 10)\n",
    "    supply = corn_produced(rain, cost)\n",
    "    demand = corn_demanded(price)\n",
    "    equil_short = supply <= demand\n",
    "    if equil_short ==True:\n",
    "        tmp = supply * price - cost\n",
    "        return tmp\n",
    "    else: \n",
    "        tmp2 = demand * price - cost\n",
    "        return tmp2\n",
    "result = profits(cost)\n",
    "print(\"Simulated profit = {}\".format(result))"
   ]
  },
  {
   "cell_type": "markdown",
   "metadata": {},
   "source": [
    "Now let's use these functions to optimize costs of production.\n",
    "\n",
    "## 1.3 Optimizing Costs\n",
    "Now we will use the functions you've built to optimize our cost of production. We are interested in maximizing average profits. However, our profits depend on a number of factors, but we only control cost. Thus, we can simulate the uncertainty in the other factors and vary cost to see how our profits are impacted.\n",
    "\n",
    "Since you manage the small corn farm, you have the ability to choose your cost - from $100 to $5,000. You want to choose the cost that gives you the maximum average profit. In this exercise, we will simulate multiple outcomes for each cost level and calculate an average. We will then choose the cost that gives us the maximum mean profit. Upon completion, you will have a framework for selecting optimal inputs for business decisions.\n",
    "\n",
    "### Instructions:\n",
    "* Initialize the empty dictionary `results`.\n",
    "* For each cost level, simulate profits using the pre-loaded `profits()` function and append them to `tmp_profits`.\n",
    "* Store the average of `tmp_profits` for each cost level in the `results` dictionary.\n",
    "* Find the cost level `cost_max` that has the maximum average profit by running `results` through the list comprehension."
   ]
  },
  {
   "cell_type": "code",
   "execution_count": 4,
   "metadata": {},
   "outputs": [],
   "source": [
    "import numpy as np\n",
    "np.random.seed(223)\n",
    "\n",
    "# Corn production model\n",
    "def corn_produced(rain, cost):\n",
    "  mean_corn = 100*(cost**0.1)*(rain**0.2)\n",
    "  corn = np.random.poisson(mean_corn)\n",
    "  return corn\n",
    "\n",
    "# Corn demand\n",
    "def corn_demanded(price):\n",
    "    mean_corn = max(min(1000 - 10*price, 1000), 100)\n",
    "    corn = np.random.poisson(abs(mean_corn))\n",
    "    return corn\n",
    "\n",
    "# Profits\n",
    "def profits(cost):\n",
    "    \n",
    "    # Price is a normal random variable\n",
    "    rain = max(np.random.normal(50, 15), 10)\n",
    "    price = max(np.random.normal(40, 10), 10)\n",
    "    \n",
    "    # Call the appropriate functions for supply & demand\n",
    "    supply, demand = corn_produced(rain, cost), corn_demanded(price)\n",
    "    \n",
    "    # Return the correct profits for each case\n",
    "    if supply <= demand:\n",
    "        return supply*price - cost\n",
    "    else:\n",
    "        return demand*price - cost\n",
    "\n",
    "np.random.seed(573)"
   ]
  },
  {
   "cell_type": "code",
   "execution_count": 5,
   "metadata": {},
   "outputs": [
    {
     "name": "stdout",
     "output_type": "stream",
     "text": [
      "Average profit is maximized when cost = 1400\n"
     ]
    }
   ],
   "source": [
    "# Initialize results and cost_levels variables\n",
    "sims, results = 1000, {}\n",
    "cost_levels = np.arange(100, 5100, 100)\n",
    "\n",
    "# For each cost level, simulate profits and store mean profit\n",
    "for cost in cost_levels:\n",
    "    tmp_profits = []\n",
    "    for i in range(sims):\n",
    "        tmp_profits.append(profits(cost))\n",
    "    results[cost] = np.mean(tmp_profits)\n",
    "    \n",
    "# Get the cost that maximizes average profit\n",
    "cost_max = [x for x in results.keys() if results[x] == max(results.values())][0]\n",
    "print(\"Average profit is maximized when cost = {}\".format(cost_max))"
   ]
  },
  {
   "cell_type": "markdown",
   "metadata": {},
   "source": [
    "Businesses use a similar framework with more details to help in a number of decisions.\n",
    "\n",
    "# 2. Monte Carlo Integration\n",
    "## 2.1 Integrating a Simple Function\n",
    "This is a simple exercise introducing the concept of Monte Carlo Integration.\n",
    "\n",
    "Here we will evaluate a simple integral $\\int_{0}^1xe^xdx$. We know that the exact answer is $1$, but simulation will give us an approximate solution, so we can expect an answer close to $1$. As we saw in the video, it's a simple process. For a function of a single variable $f(x)$:\n",
    "\n",
    "1. Get the limits of the x-axis $(x_{min},x_{max})$ and y-axis $(max(f(x)),min(min(f(x)),0))$.\n",
    "2. Generate a number of uniformly distributed point in this box.\n",
    "3. Multiply the area of the box $((max(f(x)−min(f(x))×(xmax−xmin))$ by the fraction of points that lie below $f(x)$.\n",
    "\n",
    "Upon completion, you will have a framework for handling definite integrals using Monte Carlo Integration.\n",
    "\n",
    "### Instructions:\n",
    "* In the `sim_integrate()` function, generate uniform random numbers between `xmin` and `xmax` and assign to `x`.\n",
    "* Generate uniform random numbers between $min(min(f(x)),0)$ and $max(f(x))$ and assign to `y`.\n",
    "* Return the fraction of points less than $f(x)$ multiplied by area $((max(f(x)−min(f(x))×(x_{max}−x_{min}))$.\n",
    "* Finally, use lambda function to define `func` as $xe^x$."
   ]
  },
  {
   "cell_type": "code",
   "execution_count": 17,
   "metadata": {},
   "outputs": [
    {
     "name": "stdout",
     "output_type": "stream",
     "text": [
      "Simulated answer = 0.7240166789450252, Actual Answer = 1\n"
     ]
    }
   ],
   "source": [
    "np.random.seed(123)\n",
    "\n",
    "# Define the sim_integrate function\n",
    "def sim_integrate(func, xmin, xmax, sims):\n",
    "    x = np.random.uniform(xmin, xmax, sims)\n",
    "    y = np.random.uniform(min(min(func(x)), 0), max(func(x)), sims)\n",
    "    area = (max(y) - min(y))*(xmax-xmin)\n",
    "    result = area * sum(abs(y) < abs(func(x)))/sims\n",
    "    return result\n",
    "    \n",
    "# Call the sim_integrate function and print results\n",
    "result = sim_integrate(func = lambda x: x*np.exp(x), xmin = 0, xmax = 1, sims = 50)\n",
    "print(\"Simulated answer = {}, Actual Answer = 1\".format(result))"
   ]
  },
  {
   "cell_type": "markdown",
   "metadata": {},
   "source": [
    "Try seeing what happens to the answer when you increase or decrease `sims`."
   ]
  },
  {
   "cell_type": "code",
   "execution_count": 16,
   "metadata": {},
   "outputs": [
    {
     "name": "stdout",
     "output_type": "stream",
     "text": [
      "Simulated answer = 0.8869683341751766, Actual Answer = 1\n"
     ]
    }
   ],
   "source": [
    "np.random.seed(123)\n",
    "\n",
    "# Call the sim_integrate function and print results\n",
    "result = sim_integrate(func = lambda x: x*np.exp(x), xmin = 0, xmax = 1, sims = 10)\n",
    "print(\"Simulated answer = {}, Actual Answer = 1\".format(result))"
   ]
  },
  {
   "cell_type": "code",
   "execution_count": 23,
   "metadata": {},
   "outputs": [
    {
     "name": "stdout",
     "output_type": "stream",
     "text": [
      "Simulated answer = 0.6342464168655881, Actual Answer = 1\n"
     ]
    }
   ],
   "source": [
    "np.random.seed(123)\n",
    "\n",
    "# Call the sim_integrate function and print results\n",
    "result = sim_integrate(func = lambda x: x*np.exp(x), xmin = 0, xmax = 1, sims = 53)\n",
    "print(\"Simulated answer = {}, Actual Answer = 1\".format(result))"
   ]
  },
  {
   "cell_type": "code",
   "execution_count": 27,
   "metadata": {},
   "outputs": [
    {
     "name": "stdout",
     "output_type": "stream",
     "text": [
      "Simulated answer = 0.9448019848870521, Actual Answer = 1\n"
     ]
    }
   ],
   "source": [
    "np.random.seed(123)\n",
    "\n",
    "# Call the sim_integrate function and print results\n",
    "result = sim_integrate(func = lambda x: x*np.exp(x), xmin = 0, xmax = 1, sims = 52)\n",
    "print(\"Simulated answer = {}, Actual Answer = 1\".format(result))"
   ]
  },
  {
   "cell_type": "markdown",
   "metadata": {},
   "source": [
    "## 2.2 Calculating the value of pi\n",
    "Now we work through a classic example - estimating the value of π.\n",
    "\n",
    "Imagine a square of side $2$ with the origin $(0,0)$ as its center and the four corners having coordinates $(1,1),(1,−1),(−1,1),(−1,−1)$. The area of this square is $2×2=4$. Now imagine a circle of radius 1 with its center at the origin fitting perfectly inside this square. The area of the circle will be $\\pi×radius^2=\\pi$.\n",
    "\n",
    "To estimate π, we randomly sample multiple points in this square & get the fraction of points inside the circle $(x^2+y^2<=1)$. The area of the circle then is $4$ times this fraction, which gives us our estimate of $\\pi$.\n",
    "\n",
    "After this exercise, you'll have a grasp of how to use simulation for computation.\n",
    "\n",
    "### Instructions:\n",
    "* Examine the true value of $\\pi$ using `np.pi` in the console. Initialize `sims` to 10000 and circle_points to 0.\n",
    "* Within the `for` loop, generate a point (x & y coordinates) using `np.random.uniform()` between -1 and 1, having `size=2`.\n",
    "* Check if the point lies within the unit circle with the equation $x^2+y^2<=1$, assign to `within_circle`, and increment `circle_points` accordingly.\n",
    "* Print the estimate of $\\pi$ `pi_sim` as 4 times the fraction of points that lie within the circle."
   ]
  },
  {
   "cell_type": "code",
   "execution_count": 28,
   "metadata": {},
   "outputs": [
    {
     "name": "stdout",
     "output_type": "stream",
     "text": [
      "Simulated value of pi = 3.1468\n"
     ]
    }
   ],
   "source": [
    "np.random.seed(123)\n",
    "\n",
    "# Initialize sims and circle_points\n",
    "sims, circle_points = 10000, 0 \n",
    "\n",
    "for i in range(sims):\n",
    "    # Generate the two coordinates of a point\n",
    "    point = np.random.uniform(-1, 1, 2)\n",
    "    # if the point lies within the unit circle, increment counter\n",
    "    within_circle = point[0]**2 + point[1]**2 <= 1\n",
    "    if within_circle == True:\n",
    "        circle_points +=1\n",
    "        \n",
    "# Estimate pi as 4 times the avg number of points in the circle.\n",
    "pi_sim = 4*np.mean(circle_points/sims)\n",
    "print(\"Simulated value of pi = {}\".format(pi_sim))"
   ]
  },
  {
   "cell_type": "markdown",
   "metadata": {},
   "source": [
    "Similar to this example, simulations have a number of useful applications in computation."
   ]
  },
  {
   "cell_type": "code",
   "execution_count": null,
   "metadata": {},
   "outputs": [],
   "source": []
  }
 ],
 "metadata": {
  "kernelspec": {
   "display_name": "Python 3",
   "language": "python",
   "name": "python3"
  },
  "language_info": {
   "codemirror_mode": {
    "name": "ipython",
    "version": 3
   },
   "file_extension": ".py",
   "mimetype": "text/x-python",
   "name": "python",
   "nbconvert_exporter": "python",
   "pygments_lexer": "ipython3",
   "version": "3.7.0"
  }
 },
 "nbformat": 4,
 "nbformat_minor": 1
}
