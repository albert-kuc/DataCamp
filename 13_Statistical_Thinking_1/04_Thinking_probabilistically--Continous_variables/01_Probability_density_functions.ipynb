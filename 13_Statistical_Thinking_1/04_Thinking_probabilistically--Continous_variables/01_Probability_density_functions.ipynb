{
 "cells": [
  {
   "cell_type": "markdown",
   "metadata": {
    "collapsed": true
   },
   "source": [
    "# Probability density functions:\n",
    "## 1. Interpreting PDFs:\n",
    "Consider the PDF shown to the right (it may take a second to load!). Which of the following is true?\n",
    "\n",
    "### Possible Answers:\n",
    "* $x$ is more likely than not less than 10.\n",
    "* $x$ is more likely than not greater than 10.\n",
    "* We cannot tell from the PDF if $x$ is more likely to be greater than or less than 10.\n",
    "* This is not a valid PDF because it has two peaks.\n",
    "\n",
    "<img src=\"../_datasets/PDF.jpg\" width=\"600\">"
   ]
  },
  {
   "cell_type": "markdown",
   "metadata": {},
   "source": [
    "### Answer:\n",
    "$x$ is more likely than not less than 10.\n",
    "\n",
    "The probability is given by the area under the PDF, and there is more area to the left of 10 than to the right."
   ]
  },
  {
   "cell_type": "markdown",
   "metadata": {},
   "source": [
    "## 2. Interpreting CDFs\n",
    "At right is the CDF corresponding to the PDF you considered in the last exercise. Using the CDF, what is the probability that $x$ is greater than 10?\n",
    "\n",
    "Possible Answers:\n",
    "* 0.25\n",
    "* 0.75\n",
    "* 3.75\n",
    "* 15\n",
    "\n",
    "<img src=\"../_datasets/CDF.jpg\" width=\"600\">"
   ]
  },
  {
   "cell_type": "markdown",
   "metadata": {},
   "source": [
    "### Answer:\n",
    "* 0.25\n",
    "\n",
    "The value of the CDF at x = 10 is 0.75, so the probability that x < 10 is 0.75. Thus, the probability that x > 10 is 0.25."
   ]
  },
  {
   "cell_type": "code",
   "execution_count": null,
   "metadata": {},
   "outputs": [],
   "source": []
  }
 ],
 "metadata": {
  "kernelspec": {
   "display_name": "Python 3",
   "language": "python",
   "name": "python3"
  },
  "language_info": {
   "codemirror_mode": {
    "name": "ipython",
    "version": 3
   },
   "file_extension": ".py",
   "mimetype": "text/x-python",
   "name": "python",
   "nbconvert_exporter": "python",
   "pygments_lexer": "ipython3",
   "version": "3.7.0"
  }
 },
 "nbformat": 4,
 "nbformat_minor": 1
}
