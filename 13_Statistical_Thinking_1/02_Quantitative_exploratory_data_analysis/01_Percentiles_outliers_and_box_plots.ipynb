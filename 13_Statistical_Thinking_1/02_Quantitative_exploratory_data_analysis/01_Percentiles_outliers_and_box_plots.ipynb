{
 "cells": [
  {
   "cell_type": "markdown",
   "metadata": {
    "collapsed": true
   },
   "source": [
    "# Percentiles, outliers and box plots"
   ]
  },
  {
   "cell_type": "markdown",
   "metadata": {},
   "source": [
    "## 1. Mean and median:\n",
    "\"An outlier can significantly affect the value of the mean, but not the median.\"\n",
    "\n",
    "### Computing means:\n",
    "The mean of all measurements gives an indication of the typical magnitude of a measurement. It is computed using `np.mean()`.\n",
    "\n",
    "### Instructions:\n",
    "* Compute the mean petal length of _Iris versicolor_ from Anderson's classic data set. The variable `versicolor_petal_length` is provided in your namespace. Assign the mean to `mean_length_vers`.\n",
    "* Hit submit to print the result."
   ]
  },
  {
   "cell_type": "code",
   "execution_count": 1,
   "metadata": {},
   "outputs": [],
   "source": [
    "# Import pandas\n",
    "import pandas as pd\n",
    "# Import plotting modules\n",
    "import matplotlib.pyplot as plt\n",
    "% matplotlib inline\n",
    "import seaborn as sns\n",
    "# Set default Seaborn style\n",
    "sns.set()\n",
    "# Import numpy\n",
    "import numpy as np"
   ]
  },
  {
   "cell_type": "code",
   "execution_count": 3,
   "metadata": {},
   "outputs": [],
   "source": [
    "# Load iris file\n",
    "# file_path = '13_Statistical_Thinking_1/_datasets/'  # path for Intellij\n",
    "file_path = '../_datasets/'                            # path for Jupyter\n",
    "iris = pd.read_csv(file_path+'iris.csv')\n",
    "\n",
    "# Filter all rows with versicolor in species column\n",
    "versicolor = iris.loc[iris['species']=='versicolor']\n",
    "# Select petal length column\n",
    "versicolor_petal_length = versicolor.iloc[:,2]"
   ]
  },
  {
   "cell_type": "code",
   "execution_count": 4,
   "metadata": {},
   "outputs": [
    {
     "name": "stdout",
     "output_type": "stream",
     "text": [
      "I. versicolor: 4.26 cm\n"
     ]
    }
   ],
   "source": [
    "# Compute the mean: mean_length_vers\n",
    "mean_length_vers = np.mean(versicolor_petal_length)\n",
    "\n",
    "# Print the result with some nice formatting\n",
    "print('I. versicolor:', mean_length_vers, 'cm')"
   ]
  },
  {
   "cell_type": "markdown",
   "metadata": {},
   "source": [
    "## 2. Computing percentiles:\n",
    "In this exercise, you will compute the percentiles of petal length of Iris versicolor.\n",
    "\n",
    "### Instructions:\n",
    "* Create `percentiles`, a NumPy array of percentiles you want to compute. These are the $2.5th$, $25th$, $50th$, $75th$, and $97.5th$. You can do so by creating a list containing these ints/floats and convert the list to a NumPy array using `np.array()`. For example, `np.array([30, 50])` would create an array consisting of the $30th$ and $50th$ percentiles.\n",
    "* Use `np.percentile()` to compute the percentiles of the petal lengths from the _Iris versicolor samples_. The variable `versicolor_petal_length` is in your namespace.\n",
    "* Print the percentiles."
   ]
  },
  {
   "cell_type": "code",
   "execution_count": 7,
   "metadata": {},
   "outputs": [
    {
     "name": "stdout",
     "output_type": "stream",
     "text": [
      "[3.3    4.     4.35   4.6    4.9775]\n"
     ]
    }
   ],
   "source": [
    "# Specify array of percentiles: percentiles\n",
    "percentiles = np.array([2.5, 25, 50, 75 ,97.5])\n",
    "\n",
    "# Compute percentiles: ptiles_vers\n",
    "ptiles_vers = np.percentile(versicolor_petal_length, percentiles)\n",
    "\n",
    "# Print the result\n",
    "print(ptiles_vers)"
   ]
  },
  {
   "cell_type": "markdown",
   "metadata": {},
   "source": [
    "## 3. Comparing percentiles to ECDF:\n",
    "To see how the percentiles relate to the ECDF, you will plot the percentiles of _Iris versicolor_ petal lengths you calculated in the last exercise on the ECDF plot you generated in chapter 1. The percentile variables from the previous exercise are available in the workspace as `ptiles_vers` and `percentiles`.\n",
    "\n",
    "Note that to ensure the Y-axis of the ECDF plot remains between 0 and 1, you will need to rescale the `percentiles` array accordingly - in this case, dividing it by 100."
   ]
  },
  {
   "cell_type": "markdown",
   "metadata": {},
   "source": [
    "Instructions:\n",
    "* Plot the percentiles as red diamonds on the ECDF. Pass the x and y co-ordinates - `ptiles_vers` and `percentiles/100` - as positional arguments and specify the `marker='D'`, `color='red'` and `linestyle='none'` keyword arguments. The argument for the y-axis - `percentiles/100` has been specified for you.\n",
    "* Display the plot."
   ]
  },
  {
   "cell_type": "code",
   "execution_count": 10,
   "metadata": {},
   "outputs": [],
   "source": [
    "def ecdf(data):\n",
    "    \"\"\"Compute ECDF for a one-dimensional array of measurements.\"\"\"\n",
    "    # Number of data points: n\n",
    "    n = len(data)\n",
    "\n",
    "    # x-data for the ECDF: x\n",
    "    x = np.sort(data)\n",
    "\n",
    "    # y-data for the ECDF: y\n",
    "    y = np.arange(1, n+1) / n\n",
    "\n",
    "    return x, y"
   ]
  },
  {
   "cell_type": "code",
   "execution_count": 11,
   "metadata": {},
   "outputs": [
    {
     "data": {
      "image/png": "[encoded data removed]",
      "text/plain": [
       "<Figure size 432x288 with 1 Axes>"
      ]
     },
     "metadata": {},
     "output_type": "display_data"
    }
   ],
   "source": [
    "# Compute ECDF for versicolor data: x_vers, y_vers\n",
    "x_vers, y_vers = ecdf(versicolor_petal_length)\n",
    "\n",
    "# Plot the ECDF\n",
    "_ = plt.plot(x_vers, y_vers, '.')\n",
    "_ = plt.xlabel('petal length (cm)')\n",
    "_ = plt.ylabel('ECDF')\n",
    "\n",
    "# Overlay percentiles as red diamonds.\n",
    "_ = plt.plot(ptiles_vers, percentiles/100, marker='D', color='red',\n",
    "             linestyle='none')\n",
    "\n",
    "# Show the plot\n",
    "plt.show()"
   ]
  },
  {
   "cell_type": "markdown",
   "metadata": {},
   "source": [
    "## 4. Box-and-whisker plot:\n",
    "Making a box plot for the petal lengths is unnecessary because the iris data set is not too large and the bee swarm plot works fine. However, it is always good to get some practice. Make a box plot of the iris petal lengths. You have a pandas DataFrame, `df`, which contains the petal length data, in your namespace. Inspect the data frame df in the IPython shell using `df.head()` to make sure you know what the pertinent columns are.\n",
    "\n",
    "For your reference, the code used to produce the box plot in the video is provided below:\n",
    "\n",
    "`_ = sns.boxplot(x='east_west', y='dem_share', data=df_all_states)`\n",
    "\n",
    "`_ = plt.xlabel('region')`\n",
    "\n",
    "`_ = plt.ylabel('percent of vote for Obama')`\n",
    "\n",
    "In the IPython Shell, you can use `sns.boxplot`? or `help(sns.boxplot)` for more details on how to make box plots using seaborn."
   ]
  },
  {
   "cell_type": "markdown",
   "metadata": {},
   "source": [
    "### Instructions:\n",
    "* The set-up is exactly the same as for the bee swarm plot; you just call `sns.boxplot()` with the same keyword arguments as you would `sns.swarmplot()`. The x-axis is `'species'` and y-axis is `'petal length (cm)'`.\n",
    "* Don't forget to label your axes!\n",
    "* Display the figure using the normal call."
   ]
  },
  {
   "cell_type": "code",
   "execution_count": 15,
   "metadata": {},
   "outputs": [
    {
     "data": {
      "image/png": "[encoded data removed]",
      "text/plain": [
       "<Figure size 432x288 with 1 Axes>"
      ]
     },
     "metadata": {},
     "output_type": "display_data"
    }
   ],
   "source": [
    "# Create box plot with Seaborn's default settings\n",
    "_ = sns.boxplot(x='species', y='petal length (cm)', data=iris)\n",
    "\n",
    "# Label the axes\n",
    "_ = plt.xlabel('species')\n",
    "_ = plt.ylabel('petal length (cm)')\n",
    "\n",
    "# Show the plot\n",
    "plt.show()"
   ]
  },
  {
   "cell_type": "code",
   "execution_count": null,
   "metadata": {},
   "outputs": [],
   "source": []
  }
 ],
 "metadata": {
  "kernelspec": {
   "display_name": "Python 3",
   "language": "python",
   "name": "python3"
  },
  "language_info": {
   "codemirror_mode": {
    "name": "ipython",
    "version": 3
   },
   "file_extension": ".py",
   "mimetype": "text/x-python",
   "name": "python",
   "nbconvert_exporter": "python",
   "pygments_lexer": "ipython3",
   "version": "3.7.0"
  }
 },
 "nbformat": 4,
 "nbformat_minor": 1
}
