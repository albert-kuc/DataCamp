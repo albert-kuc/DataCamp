{
 "cells": [
  {
   "cell_type": "markdown",
   "metadata": {},
   "source": [
    "# Quantitative exploratory data analysis\n",
    "In the last chapter, you learned how to graphically explore data. In this chapter, you will compute useful summary statistics, which serve to concisely describe salient features of a data set with a few numbers."
   ]
  },
  {
   "cell_type": "code",
   "execution_count": 1,
   "metadata": {},
   "outputs": [],
   "source": [
    "# Import plotting modules\n",
    "import numpy as np\n",
    "import pandas as pd\n",
    "import matplotlib.pyplot as plt\n",
    "% matplotlib inline\n",
    "import seaborn as sns\n",
    "# Set default Seaborn style\n",
    "sns.set()"
   ]
  },
  {
   "cell_type": "code",
   "execution_count": 2,
   "metadata": {},
   "outputs": [],
   "source": [
    "def ecdf(data):\n",
    "    \"\"\"Compute ECDF for a one-dimensional array of measurements.\"\"\"\n",
    "    return np.sort(data), np.arange(1, len(data)+1) / len(data)"
   ]
  },
  {
   "cell_type": "code",
   "execution_count": 3,
   "metadata": {},
   "outputs": [],
   "source": [
    "# Load iris file\n",
    "iris = pd.read_csv('_datasets/iris.csv')\n",
    "\n",
    "# Filter all rows with versicolor in species column\n",
    "versicolor = iris.loc[iris['species']=='versicolor']\n",
    "# Select petal length column\n",
    "versicolor_petal_length = versicolor.iloc[:,2]\n",
    "# Select petal width column\n",
    "versicolor_petal_width = versicolor.iloc[:,3]"
   ]
  },
  {
   "cell_type": "markdown",
   "metadata": {},
   "source": [
    "# 1. Introduction to summary statistics: The sample mean and median\n",
    "## 1.1 Mean and median:\n",
    "\"An outlier can significantly affect the value of the mean, but not the median.\"\n",
    "\n",
    "## 1.2 Computing means:\n",
    "The mean of all measurements gives an indication of the typical magnitude of a measurement. It is computed using `np.mean()`.\n",
    "\n",
    "### Instructions:\n",
    "* Compute the mean petal length of _Iris versicolor_ from Anderson's classic data set. The variable `versicolor_petal_length` is provided in your namespace. Assign the mean to `mean_length_vers`.\n",
    "* Hit submit to print the result."
   ]
  },
  {
   "cell_type": "code",
   "execution_count": 4,
   "metadata": {},
   "outputs": [
    {
     "name": "stdout",
     "output_type": "stream",
     "text": [
      "I. versicolor: 4.26 cm\n"
     ]
    }
   ],
   "source": [
    "# Compute the mean: mean_length_vers\n",
    "mean_length_vers = np.mean(versicolor_petal_length)\n",
    "\n",
    "# Print the result with some nice formatting\n",
    "print('I. versicolor:', mean_length_vers, 'cm')"
   ]
  },
  {
   "cell_type": "markdown",
   "metadata": {},
   "source": [
    "# 2. Percentiles, outliers, and box plots\n",
    "## 2.1 Computing percentiles:\n",
    "In this exercise, you will compute the percentiles of petal length of Iris versicolor.\n",
    "\n",
    "### Instructions:\n",
    "* Create `percentiles`, a NumPy array of percentiles you want to compute. These are the $2.5th$, $25th$, $50th$, $75th$, and $97.5th$. You can do so by creating a list containing these ints/floats and convert the list to a NumPy array using `np.array()`. For example, `np.array([30, 50])` would create an array consisting of the $30th$ and $50th$ percentiles.\n",
    "* Use `np.percentile()` to compute the percentiles of the petal lengths from the _Iris versicolor samples_. The variable `versicolor_petal_length` is in your namespace.\n",
    "* Print the percentiles."
   ]
  },
  {
   "cell_type": "code",
   "execution_count": 5,
   "metadata": {},
   "outputs": [
    {
     "name": "stdout",
     "output_type": "stream",
     "text": [
      "[3.3    4.     4.35   4.6    4.9775]\n"
     ]
    }
   ],
   "source": [
    "# Specify array of percentiles: percentiles\n",
    "percentiles = np.array([2.5, 25, 50, 75 ,97.5])\n",
    "\n",
    "# Compute percentiles: ptiles_vers\n",
    "ptiles_vers = np.percentile(versicolor_petal_length, percentiles)\n",
    "\n",
    "# Print the result\n",
    "print(ptiles_vers)"
   ]
  },
  {
   "cell_type": "markdown",
   "metadata": {},
   "source": [
    "## 2.2 Comparing percentiles to ECDF:\n",
    "To see how the percentiles relate to the ECDF, you will plot the percentiles of _Iris versicolor_ petal lengths you calculated in the last exercise on the ECDF plot you generated in chapter 1. The percentile variables from the previous exercise are available in the workspace as `ptiles_vers` and `percentiles`.\n",
    "\n",
    "Note that to ensure the Y-axis of the ECDF plot remains between 0 and 1, you will need to rescale the `percentiles` array accordingly - in this case, dividing it by 100.\n",
    "\n",
    "### Instructions:\n",
    "* Plot the percentiles as red diamonds on the ECDF. Pass the x and y co-ordinates - `ptiles_vers` and `percentiles/100` - as positional arguments and specify the `marker='D'`, `color='red'` and `linestyle='none'` keyword arguments. The argument for the y-axis - `percentiles/100` has been specified for you.\n",
    "* Display the plot."
   ]
  },
  {
   "cell_type": "code",
   "execution_count": 6,
   "metadata": {},
   "outputs": [
    {
     "data": {
      "image/png": "[encoded data removed]",
      "text/plain": [
       "<Figure size 432x288 with 1 Axes>"
      ]
     },
     "metadata": {},
     "output_type": "display_data"
    }
   ],
   "source": [
    "# Compute ECDF for versicolor data: x_vers, y_vers\n",
    "x_vers, y_vers = ecdf(versicolor_petal_length)\n",
    "\n",
    "# Plot the ECDF\n",
    "_ = plt.plot(x_vers, y_vers, '.')\n",
    "_ = plt.xlabel('petal length (cm)')\n",
    "_ = plt.ylabel('ECDF')\n",
    "\n",
    "# Overlay percentiles as red diamonds.\n",
    "_ = plt.plot(ptiles_vers, percentiles/100, marker='D', color='red', linestyle='none')\n",
    "\n",
    "# Show the plot\n",
    "plt.show()"
   ]
  },
  {
   "cell_type": "markdown",
   "metadata": {},
   "source": [
    "## 2.3 Box-and-whisker plot:\n",
    "Making a box plot for the petal lengths is unnecessary because the iris data set is not too large and the bee swarm plot works fine. However, it is always good to get some practice. Make a box plot of the iris petal lengths. You have a pandas DataFrame, `df`, which contains the petal length data, in your namespace. Inspect the data frame df in the IPython shell using `df.head()` to make sure you know what the pertinent columns are.\n",
    "\n",
    "For your reference, the code used to produce the box plot in the video is provided below:\n",
    "\n",
    "`_ = sns.boxplot(x='east_west', y='dem_share', data=df_all_states)`\n",
    "\n",
    "`_ = plt.xlabel('region')`\n",
    "\n",
    "`_ = plt.ylabel('percent of vote for Obama')`\n",
    "\n",
    "### Instructions:\n",
    "* The set-up is exactly the same as for the bee swarm plot; you just call `sns.boxplot()` with the same keyword arguments as you would `sns.swarmplot()`. The x-axis is `'species'` and y-axis is `'petal length (cm)'`.\n",
    "* Don't forget to label your axes!\n",
    "* Display the figure using the normal call."
   ]
  },
  {
   "cell_type": "code",
   "execution_count": 7,
   "metadata": {},
   "outputs": [
    {
     "data": {
      "image/png": "[encoded data removed]",
      "text/plain": [
       "<Figure size 432x288 with 1 Axes>"
      ]
     },
     "metadata": {},
     "output_type": "display_data"
    }
   ],
   "source": [
    "# Create box plot with Seaborn's default settings\n",
    "_ = sns.boxplot(x='species', y='petal length (cm)', data=iris)\n",
    "\n",
    "# Label the axes\n",
    "_ = plt.xlabel('species')\n",
    "_ = plt.ylabel('petal length (cm)')\n",
    "\n",
    "# Show the plot\n",
    "plt.show()"
   ]
  },
  {
   "cell_type": "markdown",
   "metadata": {},
   "source": [
    "# 3. Variance and standard deviation\n",
    "## 3.1 Computing the variance:\n",
    "It is important to have some understanding of what commonly-used functions are doing under the hood. Though you may already know how to compute variances, this is a beginner course that does not assume so. In this exercise, we will explicitly compute the variance of the petal length of _Iris veriscolor_ using the equations discussed in the videos. We will then use `np.var()` to compute it.\n",
    "\n",
    "### Instructions:\n",
    "* Create an array called `differences` that is the difference between the petal lengths (`versicolor_petal_length`) and the mean petal length. The variable `versicolor_petal_length` is already in your namespace as a NumPy array so you can take advantage of NumPy's vectorized operations.\n",
    "* Square each element in this array. For example, `x**2` squares each element in the array `x`. Store the result as `diff_sq`.\n",
    "* Compute the mean of the elements in `diff_sq` using `np.mean()`. Store the result as `variance_explicit`.\n",
    "* Compute the variance of `versicolor_petal_length` using `np.var()`. Store the result as `variance_np`.\n",
    "* Print both `variance_explicit` and `variance_np` in one `print` call to make sure they are consistent."
   ]
  },
  {
   "cell_type": "code",
   "execution_count": 8,
   "metadata": {},
   "outputs": [
    {
     "name": "stdout",
     "output_type": "stream",
     "text": [
      "0.21640000000000004 0.21640000000000004\n"
     ]
    }
   ],
   "source": [
    "# Array of differences to mean: differences\n",
    "differences = versicolor_petal_length - np.mean(versicolor_petal_length)\n",
    "# Square the differences: diff_sq\n",
    "diff_sq = differences**2\n",
    "# Compute the mean square difference: variance_explicit\n",
    "variance_explicit = np.mean(diff_sq)\n",
    "\n",
    "# Compute the variance using NumPy: variance_np\n",
    "variance_np = np.var(versicolor_petal_length)\n",
    "\n",
    "# Print the results\n",
    "print(variance_explicit, variance_np)"
   ]
  },
  {
   "cell_type": "markdown",
   "metadata": {},
   "source": [
    "## 3.2 The standard deviation and the variance:\n",
    "As mentioned in the video, the standard deviation is the square root of the variance. You will see this for yourself by computing the standard deviation using `np.std()` and comparing it to what you get by computing the variance with `np.var()` and then computing the square root.\n",
    "\n",
    "### Instructions:\n",
    "* Compute the variance of the data in the `versicolor_petal_length` array using `np.var()` and store it in a variable called `variance`.\n",
    "* Print the square root of this value.\n",
    "* Print the standard deviation of the data in the `versicolor_petal_length` array using `np.std()`."
   ]
  },
  {
   "cell_type": "code",
   "execution_count": 9,
   "metadata": {},
   "outputs": [
    {
     "name": "stdout",
     "output_type": "stream",
     "text": [
      "0.4651881339845203\n",
      "0.4651881339845203\n"
     ]
    }
   ],
   "source": [
    "# Print the square root of the variance\n",
    "print(variance_explicit**(1/2))\n",
    "\n",
    "# Print the standard deviation\n",
    "print(np.std(versicolor_petal_length))"
   ]
  },
  {
   "cell_type": "markdown",
   "metadata": {},
   "source": [
    "# 4. Covariance and Pearson correlation coefficient\n",
    "## 4.1 Scatter plots:\n",
    "When you made bee swarm plots, box plots, and ECDF plots in previous exercises, you compared the petal lengths of different species of iris. But what if you want to compare two properties of a single species? This is exactly what we will do in this exercise. We will make a __scatter plot__ of the petal length and width measurements of Anderson's _Iris versicolor_ flowers. If the flower scales (that is, it preserves its proportion as it grows), we would expect the length and width to be correlated.\n",
    "\n",
    "For your reference, the code used to produce the scatter plot in the video is provided below:\n",
    "\n",
    "`_ = plt.plot(total_votes/1000, dem_share, marker='.', linestyle='none')`\n",
    "\n",
    "`_ = plt.xlabel('total votes (thousands)')`\n",
    "\n",
    "`_ = plt.ylabel('percent of vote for Obama')`\n",
    "\n",
    "### Instructions:\n",
    "* Use `plt.plot()` with the appropriate keyword arguments to make a scatter plot of _versicolor_ petal length (x-axis) versus petal width (y-axis). The variables `versicolor_petal_length` and `versicolor_petal_width` are already in your namespace. Do not forget to use the `marker='.'` and `linestyle='none'` keyword arguments.\n",
    "* Label the axes.\n",
    "* Display the plot."
   ]
  },
  {
   "cell_type": "code",
   "execution_count": 10,
   "metadata": {},
   "outputs": [
    {
     "data": {
      "image/png": "[encoded data removed]",
      "text/plain": [
       "<Figure size 432x288 with 1 Axes>"
      ]
     },
     "metadata": {},
     "output_type": "display_data"
    }
   ],
   "source": [
    "# Make a scatter plot\n",
    "_ = plt.plot(versicolor_petal_length, versicolor_petal_width, marker='.', linestyle='none')\n",
    "\n",
    "# Label the axes\n",
    "_ = plt.xlabel('versicolor_petal_length')\n",
    "_ = plt.ylabel('versicolor_petal_width')\n",
    "\n",
    "# Show the result\n",
    "plt.show()"
   ]
  },
  {
   "cell_type": "markdown",
   "metadata": {},
   "source": [
    "Indeed, we see some correlation. Longer petals also tend to be wider."
   ]
  },
  {
   "cell_type": "markdown",
   "metadata": {},
   "source": [
    "## 4.2 Variance and covariance by looking"
   ]
  },
  {
   "cell_type": "code",
   "execution_count": 12,
   "metadata": {},
   "outputs": [
    {
     "data": {
      "image/png": "[encoded data removed]",
      "text/plain": [
       "<Figure size 360x360 with 4 Axes>"
      ]
     },
     "metadata": {},
     "output_type": "display_data"
    }
   ],
   "source": [
    "fig, ax = plt.subplots(2, 2, figsize=(5, 5), sharex=True, sharey=True)\n",
    "mu = np.array([5, 5])\n",
    "np.random.seed(40)\n",
    "\n",
    "cov = np.array([[0.7, 0.05],[0.05, 0.7]])\n",
    "x, y = np.transpose(np.random.multivariate_normal(mu, cov, 50))\n",
    "ax[0,0].plot(x, y, '.')\n",
    "ax[0,0].text(0.25, 8.5, '(a)', size=16)\n",
    "ax[0,0].set_ylabel('y', size=14)\n",
    "\n",
    "cov = np.array([[0.7, -0.45],[-0.45, 0.7]])\n",
    "x, y = np.transpose(np.random.multivariate_normal(mu, cov, 50))\n",
    "ax[0,1].plot(x, y, '.')\n",
    "ax[0,1].text(0.25, 8.5, '(b)', size=16)\n",
    "\n",
    "cov = np.array([[0.7, 0.65],[0.65, 0.7]])\n",
    "x, y = np.transpose(np.random.multivariate_normal(mu, cov, 50))\n",
    "ax[1,0].plot(x, y, '.')\n",
    "ax[1,0].text(0.25, 8.5, '(c)', size=16)\n",
    "ax[1,0].set_xlabel('x', size=14)\n",
    "ax[1,0].set_ylabel('y', size=14)\n",
    "\n",
    "cov = np.array([[3, 0.4],[0.4, 0.7]])\n",
    "x, y = np.transpose(np.random.multivariate_normal(mu, cov, 50))\n",
    "ax[1,1].plot(x, y, '.')\n",
    "ax[1,1].text(0.25, 8.5, '(d)', size=16)\n",
    "ax[1,1].set_xlabel('x', size=14)\n",
    "\n",
    "for i in [0,1]:\n",
    "    for j in [0,1]:\n",
    "        ax[i,j].set_xlim(0, 10)\n",
    "        ax[i,j].set_ylim(0, 10)\n",
    "        ax[i,j].set_aspect('equal')\n",
    "\n",
    "plt.show()"
   ]
  },
  {
   "cell_type": "markdown",
   "metadata": {},
   "source": [
    "Consider four scatter plots of x-y data, appearing above. Which has, respectively:\n",
    "* the highest variance in the variable x,\n",
    "* the highest covariance,\n",
    "* negative covariance?"
   ]
  },
  {
   "cell_type": "markdown",
   "metadata": {},
   "source": [
    "Answer at the end of this section"
   ]
  },
  {
   "cell_type": "markdown",
   "metadata": {},
   "source": [
    "## 4.3 Computing the covariance:\n",
    "The covariance may be computed using the Numpy function `np.cov()`. For example, we have two sets of data `x` and `y`, `np.cov(x, y)` returns a 2D array where entries `[0,1]` and `[1,0]` are the covariances. Entry `[0,0]` is the variance of the data in `x`, and entry `[1,1]` is the variance of the data in `y`. This 2D output array is called the __covariance matrix__, since it organizes the self- and covariance.\n",
    "\n",
    "To remind you how the _I. versicolor_ petal length and width are related, we include the scatter plot you generated in a previous exercise.\n",
    "\n",
    "### Instructions:\n",
    "* Use `np.cov()` to compute the covariance matrix for the petal length (`versicolor_petal_length`) and width (`versicolor_petal_width`) of _I. versicolor_.\n",
    "* Print the covariance matrix.\n",
    "* Extract the covariance from entry `[0,1]` of the covariance matrix. Note that by symmetry, entry `[1,0]` is the same as entry `[0,1]`.\n",
    "* Print the covariance."
   ]
  },
  {
   "cell_type": "code",
   "execution_count": 13,
   "metadata": {},
   "outputs": [
    {
     "name": "stdout",
     "output_type": "stream",
     "text": [
      "Covariance matrix:\n",
      "[[0.22081633 0.07310204]\n",
      " [0.07310204 0.03910612]]\n",
      "\n",
      "Covariance of length/width: 0.07310204081632653\n"
     ]
    }
   ],
   "source": [
    "# Compute the covariance matrix: covariance_matrix\n",
    "covariance_matrix = np.cov(versicolor_petal_length, versicolor_petal_width)\n",
    "\n",
    "# Print covariance matrix\n",
    "print('Covariance matrix:')\n",
    "print(covariance_matrix)\n",
    "\n",
    "# Extract covariance of length and width of petals: petal_cov\n",
    "petal_cov = covariance_matrix[0,1]\n",
    "\n",
    "# Print the length/width covariance\n",
    "print('\\nCovariance of length/width:', petal_cov)"
   ]
  },
  {
   "cell_type": "markdown",
   "metadata": {},
   "source": [
    "## 4.4 Computing the Pearson correlation coefficient:\n",
    "As mentioned in the video, the Pearson correlation coefficient, also called the Pearson r, is often easier to interpret than the covariance. It is computed using the `np.corrcoef()` function. Like `np.cov()`, it takes two arrays as arguments and returns a 2D array. Entries `[0,0]` and `[1,1]` are necessarily equal to `1` (can you think about why?), and the value we are after is entry `[0,1]`.\n",
    "\n",
    "In this exercise, you will write a function, `pearson_r(x, y)` that takes in two arrays and returns the Pearson correlation coefficient. You will then use this function to compute it for the petal lengths and widths of _I. versicolor_.\n",
    "\n",
    "Again, we include the scatter plot you generated in a previous exercise to remind you how the petal width and length are related.\n",
    "\n",
    "### Instructions:\n",
    "* Define a function with signature `pearson_r(x, y)`.\n",
    "    * Use `np.corrcoef()` to compute the correlation matrix of `x` and `y` (pass them to `np.corrcoef()` in that order).\n",
    "    * The function returns entry `[0,1]` of the correlation matrix.\n",
    "* Compute the Pearson correlation between the data in the arrays `versicolor_petal_length` and `versicolor_petal_width`. Assign the result to `r`.\n",
    "* Print the result."
   ]
  },
  {
   "cell_type": "code",
   "execution_count": 14,
   "metadata": {},
   "outputs": [
    {
     "name": "stdout",
     "output_type": "stream",
     "text": [
      "0.7866680885228167\n"
     ]
    }
   ],
   "source": [
    "def pearson_r(x, y):\n",
    "    \"\"\"Compute Pearson correlation coefficient between two arrays.\"\"\"\n",
    "    # Compute correlation matrix: corr_mat\n",
    "    corr_mat = np.corrcoef(x, y)\n",
    "\n",
    "    # Return entry [0,1]\n",
    "    return corr_mat[0,1]\n",
    "\n",
    "# Compute Pearson correlation coefficient for I. versicolor: r\n",
    "r = pearson_r(versicolor_petal_length, versicolor_petal_width)\n",
    "\n",
    "# Print the result\n",
    "print(r)"
   ]
  },
  {
   "cell_type": "markdown",
   "metadata": {},
   "source": [
    "Answer to 4.2:\n",
    "d, c, b"
   ]
  }
 ],
 "metadata": {
  "kernelspec": {
   "display_name": "Python 3",
   "language": "python",
   "name": "python3"
  },
  "language_info": {
   "codemirror_mode": {
    "name": "ipython",
    "version": 3
   },
   "file_extension": ".py",
   "mimetype": "text/x-python",
   "name": "python",
   "nbconvert_exporter": "python",
   "pygments_lexer": "ipython3",
   "version": "3.7.0"
  }
 },
 "nbformat": 4,
 "nbformat_minor": 2
}
