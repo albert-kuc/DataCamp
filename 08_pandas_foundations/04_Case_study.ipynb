{
 "cells": [
  {
   "cell_type": "markdown",
   "metadata": {},
   "source": [
    "# Case Study - Sunlight in Austin\n",
    "Working with real-world weather and climate data, in this chapter you will bring together and apply all of the skills you have acquired in this course. You will use Pandas to manipulate the data into a form usable for analysis, and then systematically explore it using the techniques you learned in the prior chapters. Enjoy!"
   ]
  },
  {
   "cell_type": "markdown",
   "metadata": {},
   "source": [
    "# 1. Reading and cleaning the data\n",
    "## 1.1 Reading in a data file\n",
    "Now that you have identified the method to use to read the data, let's try to read one file. The problem with real data such as this is that the files are almost never formatted in a convenient way. In this exercise, there are several problems to overcome in reading the file. First, there is no header, and thus the columns don't have labels. There is also no obvious index column, since none of the data columns contain a full date or time.\n",
    "\n",
    "Your job is to read the file into a DataFrame using the default arguments. After inspecting it, you will re-read the file specifying that there are no headers supplied.\n",
    "\n",
    "The CSV file has been provided for you as the variable `data_file`.\n",
    "\n",
    "### Instructions:\n",
    "* Import `pandas` as `pd`.\n",
    "* Read the file `data_file` into a DataFrame called `df`.\n",
    "* Print the output of `df.head()`. This has been done for you. Notice the formatting problems in `df`.\n",
    "* Re-read the data using specifying the keyword argument `header=None` and assign it to `df_headers`.\n",
    "* Print the output of `df_headers.head()`. This has already been done for you. Hit 'Submit Answer' and see how this resolves the formatting issues."
   ]
  },
  {
   "cell_type": "code",
   "execution_count": 1,
   "metadata": {},
   "outputs": [
    {
     "name": "stdout",
     "output_type": "stream",
     "text": [
      "   13904  20110101  0053  12  OVC045     10.00  .1  .2  .3 ...   .18  .19  \\\n",
      "0  13904  20110101   153  12  OVC049     10.00             ...              \n",
      "1  13904  20110101   253  12  OVC060     10.00             ...   030        \n",
      "2  13904  20110101   353  12  OVC065     10.00             ...              \n",
      "3  13904  20110101   453  12  BKN070     10.00             ...              \n",
      "4  13904  20110101   553  12  BKN065     10.00             ...   015        \n",
      "\n",
      "   29.95  .20  AA  .21  .22  .23 29.95.1  .24  \n",
      "0  30.01       AA                  30.02       \n",
      "1  30.01       AA                  30.02       \n",
      "2  30.03       AA                  30.04       \n",
      "3  30.04       AA                  30.04       \n",
      "4  30.06       AA                  30.06       \n",
      "\n",
      "[5 rows x 44 columns]\n"
     ]
    }
   ],
   "source": [
    "# Import pandas\n",
    "import pandas as pd\n",
    "# Read in the data file: df\n",
    "data_file = '_datasets/NOAA_QCLCD_2011_hourly_13904.txt'\n",
    "df = pd.read_csv(data_file)\n",
    "\n",
    "# Print the output of df.head()\n",
    "print(df.head())"
   ]
  },
  {
   "cell_type": "code",
   "execution_count": 2,
   "metadata": {},
   "outputs": [
    {
     "name": "stdout",
     "output_type": "stream",
     "text": [
      "      0         1    2   3       4  5      6  7  8  9  ...   34 35     36 37  \\\n",
      "0  13904  20110101   53  12  OVC045     10.00          ...          29.95      \n",
      "1  13904  20110101  153  12  OVC049     10.00          ...          30.01      \n",
      "2  13904  20110101  253  12  OVC060     10.00          ...  030     30.01      \n",
      "3  13904  20110101  353  12  OVC065     10.00          ...          30.03      \n",
      "4  13904  20110101  453  12  BKN070     10.00          ...          30.04      \n",
      "\n",
      "   38 39 40 41     42 43  \n",
      "0  AA           29.95     \n",
      "1  AA           30.02     \n",
      "2  AA           30.02     \n",
      "3  AA           30.04     \n",
      "4  AA           30.04     \n",
      "\n",
      "[5 rows x 44 columns]\n"
     ]
    }
   ],
   "source": [
    "# Read in the data file with header=None: df_headers\n",
    "df_headers = pd.read_csv(data_file, header=None)\n",
    "\n",
    "# Print the output of df_headers.head()\n",
    "print(df_headers.head())"
   ]
  },
  {
   "cell_type": "markdown",
   "metadata": {},
   "source": [
    "Note how the column names are not informative. You'll fix this in the next exercise!"
   ]
  },
  {
   "cell_type": "markdown",
   "metadata": {},
   "source": [
    "## 1.2 Re-assigning column names\n",
    "After the initial step of reading in the data, the next step is to clean and tidy it so that it is easier to work with.\n",
    "\n",
    "In this exercise, you will begin this cleaning process by re-assigning column names and dropping unnecessary columns.\n",
    "\n",
    "pandas has been imported in the workspace as `pd`, and the file `NOAA_QCLCD_2011_hourly_13904.txt` has been parsed and loaded into a DataFrame `df`. The comma separated string of column names, `column_labels`, and list of columns to drop, `list_to_drop`, have also been loaded for you.\n",
    "\n",
    "### Instructions:\n",
    "* Convert the comma separated string `column_labels` to a list of strings using `.split(',')`. Assign the result to `column_labels_list`.\n",
    "* Reassign `df.columns` using the list of strings `column_labels_list`.\n",
    "* Call `df.drop()` with `list_to_drop` and `axis='columns'`. Assign the result to `df_dropped`.\n",
    "* Print `df_dropped.head()` to examine the result. This has already been done for you."
   ]
  },
  {
   "cell_type": "code",
   "execution_count": 3,
   "metadata": {},
   "outputs": [],
   "source": [
    "# Read in the data file: df\n",
    "df = pd.read_csv('_datasets/NOAA_QCLCD_2011_hourly_13904.txt', header=None)\n",
    "\n",
    "column_labels = 'Wban,date,Time,StationType,sky_condition,sky_conditionFlag,visibility,visibilityFlag,wx_and_obst_to_vision,wx_and_obst_to_visionFlag,dry_bulb_faren,dry_bulb_farenFlag,dry_bulb_cel,dry_bulb_celFlag,wet_bulb_faren,wet_bulb_farenFlag,wet_bulb_cel,wet_bulb_celFlag,dew_point_faren,dew_point_farenFlag,dew_point_cel,dew_point_celFlag,relative_humidity,relative_humidityFlag,wind_speed,wind_speedFlag,wind_direction,wind_directionFlag,value_for_wind_character,value_for_wind_characterFlag,station_pressure,station_pressureFlag,pressure_tendency,pressure_tendencyFlag,presschange,presschangeFlag,sea_level_pressure,sea_level_pressureFlag,record_type,hourly_precip,hourly_precipFlag,altimeter,altimeterFlag,junk'\n",
    "list_to_drop = ['sky_conditionFlag', 'visibilityFlag', 'wx_and_obst_to_vision', 'wx_and_obst_to_visionFlag',\n",
    "                'dry_bulb_farenFlag', 'dry_bulb_celFlag', 'wet_bulb_farenFlag', 'wet_bulb_celFlag',\n",
    "                'dew_point_farenFlag', 'dew_point_celFlag', 'relative_humidityFlag', 'wind_speedFlag',\n",
    "                'wind_directionFlag', 'value_for_wind_character', 'value_for_wind_characterFlag',\n",
    "                'station_pressureFlag', 'pressure_tendencyFlag', 'pressure_tendency', 'presschange', 'presschangeFlag',\n",
    "                'sea_level_pressureFlag', 'hourly_precip', 'hourly_precipFlag', 'altimeter', 'record_type',\n",
    "                'altimeterFlag', 'junk']"
   ]
  },
  {
   "cell_type": "code",
   "execution_count": 4,
   "metadata": {},
   "outputs": [
    {
     "name": "stdout",
     "output_type": "stream",
     "text": [
      "    Wban      date  Time  StationType sky_condition visibility dry_bulb_faren  \\\n",
      "0  13904  20110101    53           12        OVC045      10.00             51   \n",
      "1  13904  20110101   153           12        OVC049      10.00             51   \n",
      "2  13904  20110101   253           12        OVC060      10.00             51   \n",
      "3  13904  20110101   353           12        OVC065      10.00             50   \n",
      "4  13904  20110101   453           12        BKN070      10.00             50   \n",
      "\n",
      "  dry_bulb_cel wet_bulb_faren wet_bulb_cel dew_point_faren dew_point_cel  \\\n",
      "0         10.6             38          3.1              15          -9.4   \n",
      "1         10.6             37          3.0              14         -10.0   \n",
      "2         10.6             37          2.9              13         -10.6   \n",
      "3         10.0             38          3.1              17          -8.3   \n",
      "4         10.0             37          2.8              15          -9.4   \n",
      "\n",
      "  relative_humidity wind_speed wind_direction station_pressure  \\\n",
      "0                24         15            360            29.42   \n",
      "1                23         10            340            29.49   \n",
      "2                22         15            010            29.49   \n",
      "3                27          7            350            29.51   \n",
      "4                25         11            020            29.51   \n",
      "\n",
      "  sea_level_pressure  \n",
      "0              29.95  \n",
      "1              30.01  \n",
      "2              30.01  \n",
      "3              30.03  \n",
      "4              30.04  \n"
     ]
    }
   ],
   "source": [
    "# Split on the comma to create a list: column_labels_list\n",
    "column_labels_list = column_labels.split(',')\n",
    "\n",
    "# Assign the new column labels to the DataFrame: df.columns\n",
    "df.columns = column_labels_list\n",
    "\n",
    "# Remove the appropriate columns: df_dropped\n",
    "df_dropped = df.drop(list_to_drop, axis='columns')\n",
    "\n",
    "# Print the output of df_dropped.head()\n",
    "print(df_dropped.head())"
   ]
  },
  {
   "cell_type": "markdown",
   "metadata": {},
   "source": [
    "Now that you have informative column names, it is a lot easier to interpret the data! But there is still some tidying work to be done: You'll clean the datetime data in the next exercise."
   ]
  },
  {
   "cell_type": "markdown",
   "metadata": {},
   "source": [
    "## 1.3 Cleaning and tidying datetime data\n",
    "In order to use the full power of pandas time series, you must construct a `DatetimeIndex`. To do so, it is necessary to clean and transform the date and time columns.\n",
    "\n",
    "The DataFrame `df_dropped` you created in the last exercise is provided for you and pandas has been imported as `pd`.\n",
    "\n",
    "Your job is to clean up the `date` and `Time` columns and combine them into a datetime collection to be used as the Index.\n",
    "\n",
    "### Instructions:\n",
    "* Convert the `'date'` column to a string with `.astype(str)` and assign to `df_dropped['date']`.\n",
    "* Add leading zeros to the `'Time'` column. This has been done for you.\n",
    "* Concatenate the new `'date'` and `'Time'` columns together. Assign to `date_string`.\n",
    "* Convert the `date_string` Series to datetime values with `pd.to_datetime()`. Specify the `format` parameter.\n",
    "* Set the index of the `df_dropped` DataFrame to be `date_times`. Assign the result to `df_clean`."
   ]
  },
  {
   "cell_type": "code",
   "execution_count": 5,
   "metadata": {},
   "outputs": [
    {
     "name": "stdout",
     "output_type": "stream",
     "text": [
      "    Wban      date  Time  StationType sky_condition visibility dry_bulb_faren  \\\n",
      "0  13904  20110101    53           12        OVC045      10.00             51   \n",
      "1  13904  20110101   153           12        OVC049      10.00             51   \n",
      "2  13904  20110101   253           12        OVC060      10.00             51   \n",
      "3  13904  20110101   353           12        OVC065      10.00             50   \n",
      "4  13904  20110101   453           12        BKN070      10.00             50   \n",
      "\n",
      "  dry_bulb_cel wet_bulb_faren wet_bulb_cel dew_point_faren dew_point_cel  \\\n",
      "0         10.6             38          3.1              15          -9.4   \n",
      "1         10.6             37          3.0              14         -10.0   \n",
      "2         10.6             37          2.9              13         -10.6   \n",
      "3         10.0             38          3.1              17          -8.3   \n",
      "4         10.0             37          2.8              15          -9.4   \n",
      "\n",
      "  relative_humidity wind_speed wind_direction station_pressure  \\\n",
      "0                24         15            360            29.42   \n",
      "1                23         10            340            29.49   \n",
      "2                22         15            010            29.49   \n",
      "3                27          7            350            29.51   \n",
      "4                25         11            020            29.51   \n",
      "\n",
      "  sea_level_pressure  \n",
      "0              29.95  \n",
      "1              30.01  \n",
      "2              30.01  \n",
      "3              30.03  \n",
      "4              30.04  \n"
     ]
    }
   ],
   "source": [
    "print(df_dropped.head())"
   ]
  },
  {
   "cell_type": "code",
   "execution_count": 6,
   "metadata": {},
   "outputs": [
    {
     "name": "stdout",
     "output_type": "stream",
     "text": [
      "                      Wban      date  Time  StationType sky_condition  \\\n",
      "2011-01-01 00:53:00  13904  20110101  0053           12        OVC045   \n",
      "2011-01-01 01:53:00  13904  20110101  0153           12        OVC049   \n",
      "2011-01-01 02:53:00  13904  20110101  0253           12        OVC060   \n",
      "2011-01-01 03:53:00  13904  20110101  0353           12        OVC065   \n",
      "2011-01-01 04:53:00  13904  20110101  0453           12        BKN070   \n",
      "\n",
      "                    visibility dry_bulb_faren dry_bulb_cel wet_bulb_faren  \\\n",
      "2011-01-01 00:53:00      10.00             51         10.6             38   \n",
      "2011-01-01 01:53:00      10.00             51         10.6             37   \n",
      "2011-01-01 02:53:00      10.00             51         10.6             37   \n",
      "2011-01-01 03:53:00      10.00             50         10.0             38   \n",
      "2011-01-01 04:53:00      10.00             50         10.0             37   \n",
      "\n",
      "                    wet_bulb_cel dew_point_faren dew_point_cel  \\\n",
      "2011-01-01 00:53:00          3.1              15          -9.4   \n",
      "2011-01-01 01:53:00          3.0              14         -10.0   \n",
      "2011-01-01 02:53:00          2.9              13         -10.6   \n",
      "2011-01-01 03:53:00          3.1              17          -8.3   \n",
      "2011-01-01 04:53:00          2.8              15          -9.4   \n",
      "\n",
      "                    relative_humidity wind_speed wind_direction  \\\n",
      "2011-01-01 00:53:00                24         15            360   \n",
      "2011-01-01 01:53:00                23         10            340   \n",
      "2011-01-01 02:53:00                22         15            010   \n",
      "2011-01-01 03:53:00                27          7            350   \n",
      "2011-01-01 04:53:00                25         11            020   \n",
      "\n",
      "                    station_pressure sea_level_pressure  \n",
      "2011-01-01 00:53:00            29.42              29.95  \n",
      "2011-01-01 01:53:00            29.49              30.01  \n",
      "2011-01-01 02:53:00            29.49              30.01  \n",
      "2011-01-01 03:53:00            29.51              30.03  \n",
      "2011-01-01 04:53:00            29.51              30.04  \n"
     ]
    }
   ],
   "source": [
    "# Convert the date column to string: df_dropped['date']\n",
    "df_dropped['date'] = df_dropped['date'].astype(str)\n",
    "\n",
    "# Pad leading zeros to the Time column: df_dropped['Time']\n",
    "df_dropped['Time'] = df_dropped['Time'].apply(lambda x:'{:0>4}'.format(x))\n",
    "\n",
    "# Concatenate the new date and Time columns: date_string\n",
    "date_string = df_dropped['date']+df_dropped['Time']\n",
    "\n",
    "# Convert the date_string Series to datetime: date_times\n",
    "date_times = pd.to_datetime(date_string, format='%Y%m%d%H%M')\n",
    "\n",
    "# Set the index to be the new date_times container: df_clean\n",
    "df_clean = df_dropped.set_index(date_times)\n",
    "\n",
    "# Print the output of df_clean.head()\n",
    "print(df_clean.head())"
   ]
  },
  {
   "cell_type": "markdown",
   "metadata": {},
   "source": [
    "All that's left now is to clean the numeric columns."
   ]
  },
  {
   "cell_type": "markdown",
   "metadata": {},
   "source": [
    "## 1.4 Cleaning the numeric columns\n",
    "The numeric columns contain missing values labeled as `'M'`. In this exercise, your job is to transform these columns such that they contain only numeric values and interpret missing data as `NaN`.\n",
    "\n",
    "The pandas function `pd.to_numeric()` is ideal for this purpose: It converts a Series of values to floating-point values. Furthermore, by specifying the keyword argument `errors='coerce'`, you can force strings like `'M'` to be interpreted as `NaN`.\n",
    "\n",
    "A DataFrame `df_clean` is provided for you at the start of the exercise, and as usual, pandas has been imported as `pd`.\n",
    "\n",
    "### Instructions:\n",
    "* Print the `'dry_bulb_faren'` temperature between 8 AM and 9 AM on June 20, 2011.\n",
    "* Convert the `'dry_bulb_faren'` column to numeric values with `pd.to_numeric()`. Specify `errors='coerce'`.\n",
    "* Print the transformed `dry_bulb_faren` temperature between 8 AM and 9 AM on June 20, 2011.\n",
    "* Convert the `'wind_speed'` and `'dew_point_faren'` columns to numeric values with `pd.to_numeric()`. Again, specify `errors='coerce'`."
   ]
  },
  {
   "cell_type": "code",
   "execution_count": 7,
   "metadata": {},
   "outputs": [
    {
     "name": "stdout",
     "output_type": "stream",
     "text": [
      "2011-06-20 08:27:00     M\n",
      "2011-06-20 08:28:00     M\n",
      "2011-06-20 08:29:00     M\n",
      "2011-06-20 08:30:00     M\n",
      "2011-06-20 08:31:00     M\n",
      "2011-06-20 08:32:00     M\n",
      "2011-06-20 08:33:00     M\n",
      "2011-06-20 08:34:00     M\n",
      "2011-06-20 08:35:00     M\n",
      "2011-06-20 08:53:00    83\n",
      "Name: dry_bulb_faren, dtype: object\n"
     ]
    }
   ],
   "source": [
    "# Print the dry_bulb_faren temperature between 8 AM and 9 AM on June 20, 2011\n",
    "print(df_clean.loc['2011-06-20 08:00':'2011-06-20 09:00', 'dry_bulb_faren'])\n",
    "\n",
    "# Convert the dry_bulb_faren column to numeric values: df_clean['dry_bulb_faren']\n",
    "df_clean['dry_bulb_faren'] = pd.to_numeric(df_clean['dry_bulb_faren'], errors='coerce')"
   ]
  },
  {
   "cell_type": "code",
   "execution_count": 8,
   "metadata": {},
   "outputs": [
    {
     "name": "stdout",
     "output_type": "stream",
     "text": [
      "2011-06-20 08:27:00     NaN\n",
      "2011-06-20 08:28:00     NaN\n",
      "2011-06-20 08:29:00     NaN\n",
      "2011-06-20 08:30:00     NaN\n",
      "2011-06-20 08:31:00     NaN\n",
      "2011-06-20 08:32:00     NaN\n",
      "2011-06-20 08:33:00     NaN\n",
      "2011-06-20 08:34:00     NaN\n",
      "2011-06-20 08:35:00     NaN\n",
      "2011-06-20 08:53:00    83.0\n",
      "Name: dry_bulb_faren, dtype: float64\n"
     ]
    }
   ],
   "source": [
    "# Print the transformed dry_bulb_faren temperature between 8 AM and 9 AM on June 20, 2011\n",
    "print(df_clean.loc['2011-06-20 08:00':'2011-06-20 09:00', 'dry_bulb_faren'])\n",
    "\n",
    "# Convert the wind_speed and dew_point_faren columns to numeric values\n",
    "df_clean['wind_speed'] = pd.to_numeric(df_clean['wind_speed'], errors='coerce')\n",
    "df_clean['dew_point_faren'] = pd.to_numeric(df_clean['dew_point_faren'], errors='coerce')"
   ]
  },
  {
   "cell_type": "markdown",
   "metadata": {},
   "source": [
    "# 2. Statistical exploratory data analysis\n",
    "## 2.1 Signal min, max, median\n",
    "Now that you have the data read and cleaned, you can begin with statistical EDA. First, you will analyze the 2011 Austin weather data.\n",
    "\n",
    "Your job in this exercise is to analyze the `'dry_bulb_faren'` column and print the median temperatures for specific time ranges. You can do this using partial datetime string selection.\n",
    "\n",
    "The cleaned dataframe is provided in the workspace as `df_clean`.\n",
    "\n",
    "### Instructions:\n",
    "* Select the `'dry_bulb_faren'` column and print the output of `.median()`.\n",
    "* Use `.loc[]` to select the range `'2011-Apr':'2011-Jun'` from `'dry_bulb_faren'` and print the output of `.median()`.\n",
    "* Use `.loc[]` to select the month `'2011-Jan'` from `'dry_bulb_faren'` and print the output of `.median()`."
   ]
  },
  {
   "cell_type": "code",
   "execution_count": 9,
   "metadata": {},
   "outputs": [
    {
     "name": "stdout",
     "output_type": "stream",
     "text": [
      "72.0\n",
      "78.0\n",
      "48.0\n"
     ]
    }
   ],
   "source": [
    "# Print the median of the dry_bulb_faren column\n",
    "print(df_clean['dry_bulb_faren'].median())\n",
    "\n",
    "# Print the median of the dry_bulb_faren column for the time range '2011-Apr':'2011-Jun'\n",
    "print(df_clean.loc['2011-Apr':'2011-Jun', 'dry_bulb_faren'].median())\n",
    "\n",
    "# Print the median of the dry_bulb_faren column for the month of January\n",
    "print(df_clean.loc['2011-Jan', 'dry_bulb_faren'].median())"
   ]
  },
  {
   "cell_type": "markdown",
   "metadata": {},
   "source": [
    "## 2.2 Signal variance\n",
    "You're now ready to compare the 2011 weather data with the 30-year normals reported in 2010. You can ask questions such as, on average, how much hotter was every day in 2011 than expected from the 30-year average?\n",
    "\n",
    "The DataFrames df_clean and df_climate from previous exercises are available in the workspace.\n",
    "\n",
    "Your job is to first resample `df_clean` and `df_climate` by day and aggregate the mean temperatures. You will then extract the temperature related columns from each - `'dry_bulb_faren'` in `df_clean`, and `'Temperature'` in `df_climate` - as NumPy arrays and compute the difference.\n",
    "\n",
    "Notice that the indexes of `df_clean` and `df_climate` are not aligned - `df_clean` has dates in 2011, while `df_climate` has dates in 2010. This is why you extract the temperature columns as NumPy arrays. An alternative approach is to use the pandas `.reset_index()` method to make sure the Series align properly. You will practice this approach as well.\n",
    "\n",
    "### Instructions:\n",
    "* Downsample `df_clean` with _daily_ frequency and aggregate by the mean. Store the result as `daily_mean_2011`.\n",
    "* Extract the `'dry_bulb_faren'` column from `daily_mean_2011` as a NumPy array using `.values`. Store the result as `daily_temp_2011`. Note: `.values` is an attribute, not a method, so you don't have to use `()`.\n",
    "* Downsample `df_climate` with _daily_ frequency and aggregate by the mean. Store the result as `daily_climate`.\n",
    "* Extract the `'Temperature'` column from `daily_climate` using the `.reset_index()` method. To do this, first reset the index of `daily_climate`, and then use bracket slicing to access `'Temperature'`. Store the result as `daily_temp_climate`."
   ]
  },
  {
   "cell_type": "code",
   "execution_count": 10,
   "metadata": {},
   "outputs": [],
   "source": [
    "# Load second dataframe\n",
    "df_climate = pd.read_csv('_datasets/weather_data_austin_2010.csv', index_col='Date',\n",
    "                         usecols=['Date', 'Temperature', 'DewPoint', 'Pressure'], \n",
    "                        parse_dates=True)"
   ]
  },
  {
   "cell_type": "code",
   "execution_count": 11,
   "metadata": {},
   "outputs": [
    {
     "name": "stdout",
     "output_type": "stream",
     "text": [
      "1.3301831870056477\n"
     ]
    }
   ],
   "source": [
    "# Downsample df_clean by day and aggregate by mean: daily_mean_2011\n",
    "daily_mean_2011 = df_clean['dry_bulb_faren'].resample('D').mean()\n",
    "\n",
    "# Extract the dry_bulb_faren column from daily_mean_2011 using .values: daily_temp_2011\n",
    "daily_temp_2011 = daily_mean_2011.values\n",
    "\n",
    "# Downsample df_climate by day and aggregate by mean: daily_climate\n",
    "daily_climate = df_climate['Temperature'].resample('D').mean()\n",
    "\n",
    "# Extract the Temperature column from daily_climate using .reset_index(): daily_temp_climate\n",
    "daily_temp_climate = daily_climate.reset_index()['Temperature']\n",
    "\n",
    "# Compute the difference between the two arrays and print the mean difference\n",
    "difference = daily_temp_2011 - daily_temp_climate\n",
    "print(difference.mean())"
   ]
  },
  {
   "cell_type": "markdown",
   "metadata": {},
   "source": [
    "## 2.3 Sunny or cloudy\n",
    "On average, how much hotter is it when the sun is shining? In this exercise, you will compare temperatures on sunny days against temperatures on overcast days.\n",
    "\n",
    "Your job is to use Boolean selection to filter out sunny and overcast days, and then compute the difference of the mean daily maximum temperatures between each type of day.\n",
    "\n",
    "The DataFrame `df_clean` from previous exercises has been provided for you. The column `'sky_condition'` provides information about whether the day was sunny (`'CLR'`) or overcast (`'OVC'`).\n",
    "\n",
    "### Instructions 1/3:\n",
    "* Get the cases in `df_clean` where the sky is clear. That is, when `'sky_condition'` equals `'CLR'`, assigning to `is_sky_clear`.\n",
    "* Use `.loc[]` to filter `df_clean` by `is_sky_clear`, assigning to `sunny`.\n",
    "* Resample `sunny` by day (`'D'`), and take the max to find the maximum daily temperature."
   ]
  },
  {
   "cell_type": "code",
   "execution_count": 12,
   "metadata": {},
   "outputs": [
    {
     "data": {
      "text/html": [
       "<div>\n",
       "<style scoped>\n",
       "    .dataframe tbody tr th:only-of-type {\n",
       "        vertical-align: middle;\n",
       "    }\n",
       "\n",
       "    .dataframe tbody tr th {\n",
       "        vertical-align: top;\n",
       "    }\n",
       "\n",
       "    .dataframe thead th {\n",
       "        text-align: right;\n",
       "    }\n",
       "</style>\n",
       "<table border=\"1\" class=\"dataframe\">\n",
       "  <thead>\n",
       "    <tr style=\"text-align: right;\">\n",
       "      <th></th>\n",
       "      <th>Wban</th>\n",
       "      <th>date</th>\n",
       "      <th>Time</th>\n",
       "      <th>StationType</th>\n",
       "      <th>sky_condition</th>\n",
       "      <th>dry_bulb_faren</th>\n",
       "      <th>dry_bulb_cel</th>\n",
       "      <th>wet_bulb_faren</th>\n",
       "      <th>wet_bulb_cel</th>\n",
       "      <th>dew_point_faren</th>\n",
       "      <th>dew_point_cel</th>\n",
       "      <th>relative_humidity</th>\n",
       "      <th>wind_speed</th>\n",
       "      <th>wind_direction</th>\n",
       "      <th>station_pressure</th>\n",
       "      <th>sea_level_pressure</th>\n",
       "    </tr>\n",
       "  </thead>\n",
       "  <tbody>\n",
       "    <tr>\n",
       "      <th>2011-01-01</th>\n",
       "      <td>13904.0</td>\n",
       "      <td>20110101</td>\n",
       "      <td>2353</td>\n",
       "      <td>12.0</td>\n",
       "      <td>CLR</td>\n",
       "      <td>59.0</td>\n",
       "      <td>8.3</td>\n",
       "      <td>45</td>\n",
       "      <td>7.2</td>\n",
       "      <td>28.0</td>\n",
       "      <td>-6.1</td>\n",
       "      <td>53</td>\n",
       "      <td>16.0</td>\n",
       "      <td>360</td>\n",
       "      <td>29.78</td>\n",
       "      <td>30.33</td>\n",
       "    </tr>\n",
       "    <tr>\n",
       "      <th>2011-01-02</th>\n",
       "      <td>13904.0</td>\n",
       "      <td>20110102</td>\n",
       "      <td>2253</td>\n",
       "      <td>12.0</td>\n",
       "      <td>CLR</td>\n",
       "      <td>35.0</td>\n",
       "      <td>1.7</td>\n",
       "      <td>32</td>\n",
       "      <td>0.1</td>\n",
       "      <td>28.0</td>\n",
       "      <td>-7.2</td>\n",
       "      <td>76</td>\n",
       "      <td>8.0</td>\n",
       "      <td>360</td>\n",
       "      <td>29.82</td>\n",
       "      <td>30.38</td>\n",
       "    </tr>\n",
       "    <tr>\n",
       "      <th>2011-01-03</th>\n",
       "      <td>13904.0</td>\n",
       "      <td>20110103</td>\n",
       "      <td>0453</td>\n",
       "      <td>12.0</td>\n",
       "      <td>CLR</td>\n",
       "      <td>32.0</td>\n",
       "      <td>0.0</td>\n",
       "      <td>29</td>\n",
       "      <td>-1.9</td>\n",
       "      <td>26.0</td>\n",
       "      <td>-4.4</td>\n",
       "      <td>85</td>\n",
       "      <td>0.0</td>\n",
       "      <td>000</td>\n",
       "      <td>29.71</td>\n",
       "      <td>30.27</td>\n",
       "    </tr>\n",
       "    <tr>\n",
       "      <th>2011-01-04</th>\n",
       "      <td>NaN</td>\n",
       "      <td>NaN</td>\n",
       "      <td>NaN</td>\n",
       "      <td>NaN</td>\n",
       "      <td>NaN</td>\n",
       "      <td>NaN</td>\n",
       "      <td>NaN</td>\n",
       "      <td>NaN</td>\n",
       "      <td>NaN</td>\n",
       "      <td>NaN</td>\n",
       "      <td>NaN</td>\n",
       "      <td>NaN</td>\n",
       "      <td>NaN</td>\n",
       "      <td>NaN</td>\n",
       "      <td>NaN</td>\n",
       "      <td>NaN</td>\n",
       "    </tr>\n",
       "    <tr>\n",
       "      <th>2011-01-05</th>\n",
       "      <td>13904.0</td>\n",
       "      <td>20110105</td>\n",
       "      <td>2353</td>\n",
       "      <td>12.0</td>\n",
       "      <td>CLR</td>\n",
       "      <td>35.0</td>\n",
       "      <td>1.7</td>\n",
       "      <td>33</td>\n",
       "      <td>0.3</td>\n",
       "      <td>29.0</td>\n",
       "      <td>-1.7</td>\n",
       "      <td>79</td>\n",
       "      <td>0.0</td>\n",
       "      <td>000</td>\n",
       "      <td>29.54</td>\n",
       "      <td>30.08</td>\n",
       "    </tr>\n",
       "  </tbody>\n",
       "</table>\n",
       "</div>"
      ],
      "text/plain": [
       "               Wban      date  Time  StationType sky_condition  \\\n",
       "2011-01-01  13904.0  20110101  2353         12.0           CLR   \n",
       "2011-01-02  13904.0  20110102  2253         12.0           CLR   \n",
       "2011-01-03  13904.0  20110103  0453         12.0           CLR   \n",
       "2011-01-04      NaN       NaN   NaN          NaN           NaN   \n",
       "2011-01-05  13904.0  20110105  2353         12.0           CLR   \n",
       "\n",
       "            dry_bulb_faren dry_bulb_cel wet_bulb_faren wet_bulb_cel  \\\n",
       "2011-01-01            59.0          8.3             45          7.2   \n",
       "2011-01-02            35.0          1.7             32          0.1   \n",
       "2011-01-03            32.0          0.0             29         -1.9   \n",
       "2011-01-04             NaN          NaN            NaN          NaN   \n",
       "2011-01-05            35.0          1.7             33          0.3   \n",
       "\n",
       "            dew_point_faren dew_point_cel relative_humidity  wind_speed  \\\n",
       "2011-01-01             28.0          -6.1                53        16.0   \n",
       "2011-01-02             28.0          -7.2                76         8.0   \n",
       "2011-01-03             26.0          -4.4                85         0.0   \n",
       "2011-01-04              NaN           NaN               NaN         NaN   \n",
       "2011-01-05             29.0          -1.7                79         0.0   \n",
       "\n",
       "           wind_direction station_pressure sea_level_pressure  \n",
       "2011-01-01            360            29.78              30.33  \n",
       "2011-01-02            360            29.82              30.38  \n",
       "2011-01-03            000            29.71              30.27  \n",
       "2011-01-04            NaN              NaN                NaN  \n",
       "2011-01-05            000            29.54              30.08  "
      ]
     },
     "execution_count": 12,
     "metadata": {},
     "output_type": "execute_result"
    }
   ],
   "source": [
    "# Using df_clean, when is sky_condition 'CLR'?\n",
    "is_sky_clear = df_clean['sky_condition']=='CLR'\n",
    "\n",
    "# Filter df_clean using is_sky_clear\n",
    "sunny = df_clean.loc[is_sky_clear]\n",
    "\n",
    "# Resample sunny by day then calculate the max\n",
    "sunny_daily_max = sunny.resample('D').max()\n",
    "\n",
    "# See the result\n",
    "sunny_daily_max.head()"
   ]
  },
  {
   "cell_type": "markdown",
   "metadata": {},
   "source": [
    "### Instructions 2/3:\n",
    "* Get the cases in `df_clean` where the sky is overcast. Using `.str.contains()`, find when `'sky_condition'` contains `'OVC'`, assigning to `is_sky_overcast`.\n",
    "* Use `.loc[]` to filter `df_clean` by `is_sky_overcast`, assigning to `overcast`.\n",
    "* Resample `overcast` by day (`'D'`), and take the max to find the maximum daily temperature."
   ]
  },
  {
   "cell_type": "code",
   "execution_count": 13,
   "metadata": {},
   "outputs": [
    {
     "data": {
      "text/html": [
       "<div>\n",
       "<style scoped>\n",
       "    .dataframe tbody tr th:only-of-type {\n",
       "        vertical-align: middle;\n",
       "    }\n",
       "\n",
       "    .dataframe tbody tr th {\n",
       "        vertical-align: top;\n",
       "    }\n",
       "\n",
       "    .dataframe thead th {\n",
       "        text-align: right;\n",
       "    }\n",
       "</style>\n",
       "<table border=\"1\" class=\"dataframe\">\n",
       "  <thead>\n",
       "    <tr style=\"text-align: right;\">\n",
       "      <th></th>\n",
       "      <th>Wban</th>\n",
       "      <th>date</th>\n",
       "      <th>Time</th>\n",
       "      <th>StationType</th>\n",
       "      <th>sky_condition</th>\n",
       "      <th>dry_bulb_faren</th>\n",
       "      <th>dry_bulb_cel</th>\n",
       "      <th>wet_bulb_faren</th>\n",
       "      <th>wet_bulb_cel</th>\n",
       "      <th>dew_point_faren</th>\n",
       "      <th>dew_point_cel</th>\n",
       "      <th>relative_humidity</th>\n",
       "      <th>wind_speed</th>\n",
       "      <th>wind_direction</th>\n",
       "      <th>station_pressure</th>\n",
       "      <th>sea_level_pressure</th>\n",
       "    </tr>\n",
       "  </thead>\n",
       "  <tbody>\n",
       "    <tr>\n",
       "      <th>2011-01-01</th>\n",
       "      <td>13904.0</td>\n",
       "      <td>20110101</td>\n",
       "      <td>0353</td>\n",
       "      <td>12.0</td>\n",
       "      <td>OVC065</td>\n",
       "      <td>51.0</td>\n",
       "      <td>10.6</td>\n",
       "      <td>38</td>\n",
       "      <td>3.1</td>\n",
       "      <td>17.0</td>\n",
       "      <td>-9.4</td>\n",
       "      <td>27</td>\n",
       "      <td>15.0</td>\n",
       "      <td>360</td>\n",
       "      <td>29.51</td>\n",
       "      <td>30.03</td>\n",
       "    </tr>\n",
       "    <tr>\n",
       "      <th>2011-01-02</th>\n",
       "      <td>NaN</td>\n",
       "      <td>NaN</td>\n",
       "      <td>NaN</td>\n",
       "      <td>NaN</td>\n",
       "      <td>NaN</td>\n",
       "      <td>NaN</td>\n",
       "      <td>NaN</td>\n",
       "      <td>NaN</td>\n",
       "      <td>NaN</td>\n",
       "      <td>NaN</td>\n",
       "      <td>NaN</td>\n",
       "      <td>NaN</td>\n",
       "      <td>NaN</td>\n",
       "      <td>NaN</td>\n",
       "      <td>NaN</td>\n",
       "      <td>NaN</td>\n",
       "    </tr>\n",
       "    <tr>\n",
       "      <th>2011-01-03</th>\n",
       "      <td>13904.0</td>\n",
       "      <td>20110103</td>\n",
       "      <td>2353</td>\n",
       "      <td>12.0</td>\n",
       "      <td>SCT042 OVC055</td>\n",
       "      <td>58.0</td>\n",
       "      <td>9.4</td>\n",
       "      <td>49</td>\n",
       "      <td>9.7</td>\n",
       "      <td>45.0</td>\n",
       "      <td>7.0</td>\n",
       "      <td>79</td>\n",
       "      <td>10.0</td>\n",
       "      <td>200</td>\n",
       "      <td>29.70</td>\n",
       "      <td>M</td>\n",
       "    </tr>\n",
       "    <tr>\n",
       "      <th>2011-01-04</th>\n",
       "      <td>13904.0</td>\n",
       "      <td>20110104</td>\n",
       "      <td>2353</td>\n",
       "      <td>12.0</td>\n",
       "      <td>SCT010 OVC016</td>\n",
       "      <td>57.0</td>\n",
       "      <td>8.9</td>\n",
       "      <td>56</td>\n",
       "      <td>9.4</td>\n",
       "      <td>56.0</td>\n",
       "      <td>8.9</td>\n",
       "      <td>100</td>\n",
       "      <td>8.0</td>\n",
       "      <td>VR</td>\n",
       "      <td>29.59</td>\n",
       "      <td>M</td>\n",
       "    </tr>\n",
       "    <tr>\n",
       "      <th>2011-01-05</th>\n",
       "      <td>13904.0</td>\n",
       "      <td>20110105</td>\n",
       "      <td>0653</td>\n",
       "      <td>12.0</td>\n",
       "      <td>SCT006 OVC011</td>\n",
       "      <td>57.0</td>\n",
       "      <td>14.0</td>\n",
       "      <td>56</td>\n",
       "      <td>13.5</td>\n",
       "      <td>56.0</td>\n",
       "      <td>13.3</td>\n",
       "      <td>96</td>\n",
       "      <td>3.0</td>\n",
       "      <td>250</td>\n",
       "      <td>29.48</td>\n",
       "      <td>M</td>\n",
       "    </tr>\n",
       "  </tbody>\n",
       "</table>\n",
       "</div>"
      ],
      "text/plain": [
       "               Wban      date  Time  StationType  sky_condition  \\\n",
       "2011-01-01  13904.0  20110101  0353         12.0         OVC065   \n",
       "2011-01-02      NaN       NaN   NaN          NaN            NaN   \n",
       "2011-01-03  13904.0  20110103  2353         12.0  SCT042 OVC055   \n",
       "2011-01-04  13904.0  20110104  2353         12.0  SCT010 OVC016   \n",
       "2011-01-05  13904.0  20110105  0653         12.0  SCT006 OVC011   \n",
       "\n",
       "            dry_bulb_faren dry_bulb_cel wet_bulb_faren wet_bulb_cel  \\\n",
       "2011-01-01            51.0         10.6             38          3.1   \n",
       "2011-01-02             NaN          NaN            NaN          NaN   \n",
       "2011-01-03            58.0          9.4             49          9.7   \n",
       "2011-01-04            57.0          8.9             56          9.4   \n",
       "2011-01-05            57.0         14.0             56         13.5   \n",
       "\n",
       "            dew_point_faren dew_point_cel relative_humidity  wind_speed  \\\n",
       "2011-01-01             17.0          -9.4                27        15.0   \n",
       "2011-01-02              NaN           NaN               NaN         NaN   \n",
       "2011-01-03             45.0           7.0                79        10.0   \n",
       "2011-01-04             56.0           8.9               100         8.0   \n",
       "2011-01-05             56.0          13.3                96         3.0   \n",
       "\n",
       "           wind_direction station_pressure sea_level_pressure  \n",
       "2011-01-01            360            29.51              30.03  \n",
       "2011-01-02            NaN              NaN                NaN  \n",
       "2011-01-03            200            29.70                  M  \n",
       "2011-01-04            VR             29.59                  M  \n",
       "2011-01-05            250            29.48                  M  "
      ]
     },
     "execution_count": 13,
     "metadata": {},
     "output_type": "execute_result"
    }
   ],
   "source": [
    "# Using df_clean, when does sky_condition contain 'OVC'?\n",
    "is_sky_overcast = df_clean['sky_condition'].str.contains('OVC')\n",
    "\n",
    "# Filter df_clean using is_sky_overcast\n",
    "overcast = df_clean.loc[is_sky_overcast]\n",
    "\n",
    "# Resample overcast by day then calculate the max\n",
    "overcast_daily_max = overcast.resample('D').max()\n",
    "\n",
    "# See the result\n",
    "overcast_daily_max.head()"
   ]
  },
  {
   "cell_type": "markdown",
   "metadata": {},
   "source": [
    "### Instructions 3/3:\n",
    "* Calculate the mean of `sunny_daily_max`, assigning to `sunny_daily_max_mean`.\n",
    "* Calculate the mean of `overcast_daily_max`, assigning to `overcast_daily_max_mean`.\n",
    "* Print `sunny_daily_max_mean` minus `overcast_daily_max_mean`. _How much hotter are sunny days?_"
   ]
  },
  {
   "cell_type": "code",
   "execution_count": 14,
   "metadata": {},
   "outputs": [
    {
     "name": "stdout",
     "output_type": "stream",
     "text": [
      "Wban               0.000000\n",
      "StationType        0.000000\n",
      "dry_bulb_faren     6.504304\n",
      "dew_point_faren   -4.339286\n",
      "wind_speed        -3.246062\n",
      "dtype: float64\n"
     ]
    }
   ],
   "source": [
    "# Calculate the mean of sunny_daily_max\n",
    "sunny_daily_max_mean = sunny_daily_max.mean()\n",
    "\n",
    "# Calculate the mean of overcast_daily_max\n",
    "overcast_daily_max_mean = overcast_daily_max.mean()\n",
    "\n",
    "# Print the difference (sunny minus overcast)\n",
    "print(sunny_daily_max_mean - overcast_daily_max_mean)"
   ]
  },
  {
   "cell_type": "markdown",
   "metadata": {},
   "source": [
    "The average daily maximum dry bulb temperature was 6.5 degrees Fahrenheit higher on sunny days compared to overcast days."
   ]
  },
  {
   "cell_type": "code",
   "execution_count": 15,
   "metadata": {},
   "outputs": [],
   "source": [
    "df_clean.visibility = pd.to_numeric(df_clean['visibility'], errors='coerce')"
   ]
  },
  {
   "cell_type": "markdown",
   "metadata": {},
   "source": [
    "# 3. Visual exploratory data analysis\n",
    "## 3.1 Weekly average temperature and visibility\n",
    "Is there a correlation between temperature and visibility? Let's find out.\n",
    "\n",
    "In this exercise, your job is to plot the weekly average temperature and visibility as subplots. To do this, you need to first select the appropriate columns and then resample by week, aggregating the mean.\n",
    "\n",
    "In addition to creating the subplots, you will compute the Pearson correlation coefficient using `.corr()`. The Pearson correlation coefficient, known also as Pearson's r, ranges from -1 (indicating total negative linear correlation) to 1 (indicating total positive linear correlation). A value close to 1 here would indicate that there is a strong correlation between temperature and visibility.\n",
    "\n",
    "### Instructions:\n",
    "* Import `matplotlib.pyplot` as `plt`.\n",
    "* Select the `'visibility'` and `'dry_bulb_faren'` columns and resample them by week, aggregating the mean. Assign the result to `weekly_mean`.\n",
    "* Print the output of `weekly_mean.corr()`.\n",
    "* Plot the `weekly_mean` dataframe with `.plot()`, specifying `subplots=True`."
   ]
  },
  {
   "cell_type": "code",
   "execution_count": 16,
   "metadata": {},
   "outputs": [
    {
     "name": "stdout",
     "output_type": "stream",
     "text": [
      "                visibility  dry_bulb_faren\n",
      "visibility        1.000000        0.490328\n",
      "dry_bulb_faren    0.490328        1.000000\n"
     ]
    },
    {
     "data": {
      "image/png": "[encoded data removed]",
      "text/plain": [
       "<Figure size 792x360 with 2 Axes>"
      ]
     },
     "metadata": {},
     "output_type": "display_data"
    }
   ],
   "source": [
    "# Import matplotlib.pyplot as plt\n",
    "import matplotlib.pyplot as plt\n",
    "import seaborn as sns\n",
    "sns.set()\n",
    "%matplotlib inline\n",
    "\n",
    "# Specify plot size\n",
    "plt.rcParams['figure.figsize'] = [11, 5]\n",
    "\n",
    "df_clean['dry_bulb_faren'] = pd.to_numeric(df_clean['dry_bulb_faren'], errors='coerce')\n",
    "\n",
    "# Select the visibility and dry_bulb_faren columns and resample them: weekly_mean\n",
    "weekly_mean = df_clean[['visibility', 'dry_bulb_faren']].resample('W').mean()\n",
    "\n",
    "# Print the output of weekly_mean.corr()\n",
    "print(weekly_mean.corr())\n",
    "\n",
    "# Plot weekly_mean with subplots=True\n",
    "weekly_mean.plot(subplots=True)\n",
    "plt.show()"
   ]
  },
  {
   "cell_type": "markdown",
   "metadata": {},
   "source": [
    "## 3.2 Daily hours of clear sky\n",
    "In a previous exercise, you analyzed the `'sky_condition'` column to explore the difference in temperature on sunny days compared to overcast days. Recall that a `'sky_condition'` of `'CLR'` represents a sunny day. In this exercise, you will explore sunny days in greater detail. Specifically, you will use a box plot to visualize the fraction of days that are sunny.\n",
    "\n",
    "The `'sky_condition'` column is recorded hourly. Your job is to resample this column appropriately such that you can extract the number of sunny hours in a day and the number of total hours. Then, you can divide the number of sunny hours by the number of total hours, and generate a box plot of the resulting fraction.\n",
    "\n",
    "As before, `df_clean` is available for you in the workspace.\n",
    "\n",
    "### Instructions 1/3:\n",
    "* Get the cases in `df_clean` where the sky is clear. That is, when `'sky_condition'` equals `'CLR'`, assigning to `is_sky_clear`.\n",
    "* Resample `is_sky_clear` by day, assigning to `resampled`."
   ]
  },
  {
   "cell_type": "code",
   "execution_count": 17,
   "metadata": {},
   "outputs": [
    {
     "data": {
      "text/plain": [
       "DatetimeIndexResampler [freq=<Day>, axis=0, closed=left, label=left, convention=start, base=0]"
      ]
     },
     "execution_count": 17,
     "metadata": {},
     "output_type": "execute_result"
    }
   ],
   "source": [
    "# Using df_clean, when is sky_condition 'CLR'?\n",
    "is_sky_clear = df_clean['sky_condition']=='CLR'\n",
    "\n",
    "# Resample is_sky_clear by day\n",
    "resampled = is_sky_clear.resample('D')\n",
    "\n",
    "# See the result\n",
    "resampled"
   ]
  },
  {
   "cell_type": "markdown",
   "metadata": {},
   "source": [
    "### Instructions 2/3:\n",
    "* Calculate the number of measured sunny hours per day as the sum of `resampled`, assigning to `sunny_hours`.\n",
    "* Calculate the total number of measured hours per day as the count of `resampled`, assigning to `total_hours`.\n",
    "* Calculate the fraction of hours per day that were sunny as the ratio of sunny hours to total hours."
   ]
  },
  {
   "cell_type": "code",
   "execution_count": 18,
   "metadata": {},
   "outputs": [],
   "source": [
    "# From previous step\n",
    "is_sky_clear = df_clean['sky_condition'] == 'CLR'\n",
    "resampled = is_sky_clear.resample('D')\n",
    "\n",
    "# Calculate the number of sunny hours per day\n",
    "sunny_hours = resampled.sum()\n",
    "\n",
    "# Calculate the number of measured hours per day\n",
    "total_hours = df_clean['sky_condition'].resample('D').count()\n",
    "\n",
    "# Calculate the fraction of hours per day that were sunny\n",
    "sunny_fraction = sunny_hours/total_hours"
   ]
  },
  {
   "cell_type": "markdown",
   "metadata": {},
   "source": [
    "### Instructions 3/3:\n",
    "* Draw a box plot of sunny_fraction using .plot() with kind set to `'box'``."
   ]
  },
  {
   "cell_type": "code",
   "execution_count": 19,
   "metadata": {},
   "outputs": [
    {
     "data": {
      "image/png": "[encoded data removed]",
      "text/plain": [
       "<Figure size 432x360 with 1 Axes>"
      ]
     },
     "metadata": {},
     "output_type": "display_data"
    }
   ],
   "source": [
    "# Specify plot size\n",
    "plt.rcParams['figure.figsize'] = [6, 5]\n",
    "\n",
    "# Make a box plot of sunny_fraction\n",
    "sunny_fraction.plot(kind='box')\n",
    "plt.show()"
   ]
  },
  {
   "cell_type": "markdown",
   "metadata": {},
   "source": [
    "The outlook for your Pandas skills is sunny! By contrast, the weather in the dataset is typically sunny less than 40% of the time."
   ]
  },
  {
   "cell_type": "markdown",
   "metadata": {},
   "source": [
    "## 3.3 Heat or humidity\n",
    "Dew point is a measure of relative humidity based on pressure and temperature. A dew point above 65 is considered uncomfortable while a temperature above 90 is also considered uncomfortable.\n",
    "\n",
    "In this exercise, you will explore the maximum temperature and dew point of each month. The columns of interest are `'dew_point_faren'` and `'dry_bulb_faren'`. After resampling them appropriately to get the maximum temperature and dew point in each month, generate a histogram of these values as subplots. Uncomfortably, you will notice that the maximum dew point is above 65 every month!\n",
    "\n",
    "### Instructions:\n",
    "* Select the `'dew_point_faren'` and `'dry_bulb_faren'` columns (in that order). Resample by month and aggregate the maximum monthly temperatures. Assign the result to `monthly_max`.\n",
    "* Plot a histogram of the resampled data with `bins=8`, `alpha=0.5`, and `subplots=True`."
   ]
  },
  {
   "cell_type": "code",
   "execution_count": 20,
   "metadata": {},
   "outputs": [
    {
     "data": {
      "image/png": "[encoded data removed]",
      "text/plain": [
       "<Figure size 432x360 with 2 Axes>"
      ]
     },
     "metadata": {},
     "output_type": "display_data"
    }
   ],
   "source": [
    "# Resample dew_point_faren and dry_bulb_faren by Month, aggregating the maximum values: monthly_max\n",
    "monthly_max = df_clean[['dew_point_faren', 'dry_bulb_faren']].resample('M').max()\n",
    "\n",
    "# Generate a histogram with bins=8, alpha=0.5, subplots=True\n",
    "monthly_max.plot(kind='hist', bins=8, alpha=0.5, subplots=True)\n",
    "\n",
    "# Show the plot\n",
    "plt.show()"
   ]
  },
  {
   "cell_type": "markdown",
   "metadata": {},
   "source": [
    "## 3.4 Probability of high temperatures\n",
    "We already know that 2011 was hotter than the climate normals for the previous thirty years. In this final exercise, you will compare the maximum temperature in August 2011 against that of the August 2010 climate normals. More specifically, you will use a CDF plot to determine the probability of the 2011 daily maximum temperature in August being above the 2010 climate normal value. To do this, you will leverage the data manipulation, filtering, resampling, and visualization skills you have acquired throughout this course.\n",
    "\n",
    "The two DataFrames `df_clean` and `df_climate` are available in the workspace. Your job is to select the maximum temperature in August in `df_climate`, and then maximum daily temperatures in August 2011. You will then filter out the days in August 2011 that were above the August 2010 maximum, and use this to construct a CDF plot.\n",
    "\n",
    "Once you've generated the CDF, notice how it shows that there was a 50% probability of the 2011 daily maximum temperature in August being 5 degrees above the 2010 climate normal value!\n",
    "\n",
    "### Instructions:\n",
    "* From `df_climate`, extract the maximum temperature observed in August 2010. The relevant column here is `'Temperature'`. You can select the rows corresponding to August 2010 in multiple ways. For example, `df_climate.loc['2011-Feb']` selects all rows corresponding to February 2011, while `df_climate.loc['2009-09', 'Pressure']` selects the rows corresponding to September 2009 from the `'Pressure'` column.\n",
    "* From `df_clean`, select the August 2011 temperature data from the `'dry_bulb_faren'`. Resample this data by day and aggregate the maximum value. Store the result in `august_2011`.\n",
    "* Filter rows of `august_2011` to keep days where the value exceeded `august_max`. Store the result in `august_2011_high`.\n",
    "* Construct a CDF of `august_2011_high` using 25 bins. Remember to specify the `kind`, `normed`, and `cumulative` parameters in addition to `bins`."
   ]
  },
  {
   "cell_type": "code",
   "execution_count": 21,
   "metadata": {},
   "outputs": [
    {
     "name": "stdout",
     "output_type": "stream",
     "text": [
      "95.3\n",
      "2011-08-01    103.0\n",
      "2011-08-02    103.0\n",
      "2011-08-03    103.0\n",
      "2011-08-04    104.0\n",
      "2011-08-05    103.0\n",
      "Freq: D, Name: dry_bulb_faren, dtype: float64\n"
     ]
    },
    {
     "data": {
      "image/png": "[encoded data removed]",
      "text/plain": [
       "<Figure size 792x360 with 1 Axes>"
      ]
     },
     "metadata": {},
     "output_type": "display_data"
    }
   ],
   "source": [
    "# Specify plot size\n",
    "plt.rcParams['figure.figsize'] = [11, 5]\n",
    "\n",
    "# Extract the maximum temperature in August 2010 from df_climate: august_max\n",
    "august_max = df_climate.loc['2010-Aug', 'Temperature'].max()\n",
    "print(august_max)\n",
    "\n",
    "# Resample August 2011 temps in df_clean by day & aggregate the max value: august_2011\n",
    "august_2011 = df_clean.loc['2011-Aug', 'dry_bulb_faren'].resample('D').max()\n",
    "print(august_2011.head())\n",
    "\n",
    "# Filter for days in august_2011 where the value exceeds august_max: august_2011_high\n",
    "\n",
    "august_2011_high = august_2011.loc[august_2011 > august_max]\n",
    "\n",
    "# Construct a CDF of august_2011_high\n",
    "august_2011_high.plot(kind='hist', density=True, cumulative=True, bins=25)\n",
    "\n",
    "# Display the plot\n",
    "plt.show()"
   ]
  }
 ],
 "metadata": {
  "kernelspec": {
   "display_name": "Python 3",
   "language": "python",
   "name": "python3"
  },
  "language_info": {
   "codemirror_mode": {
    "name": "ipython",
    "version": 3
   },
   "file_extension": ".py",
   "mimetype": "text/x-python",
   "name": "python",
   "nbconvert_exporter": "python",
   "pygments_lexer": "ipython3",
   "version": "3.7.0"
  }
 },
 "nbformat": 4,
 "nbformat_minor": 2
}
