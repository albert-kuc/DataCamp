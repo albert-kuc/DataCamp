{
 "cells": [
  {
   "cell_type": "markdown",
   "metadata": {},
   "source": [
    "# Merging data\n",
    "Here, you'll learn all about merging pandas DataFrames. You'll explore different techniques for merging, and learn about left joins, right joins, inner joins, and outer joins, as well as when to use which. You'll also learn about ordered merging, which is useful when you want to merge DataFrames whose columns have natural orderings, like date-time columns."
   ]
  },
  {
   "cell_type": "markdown",
   "metadata": {},
   "source": [
    "# 1. Merging DataFrames\n",
    "### 1.1 Merging company DataFrames\n",
    "Suppose your company has operations in several different cities under several different managers. The DataFrames `revenue` and `managers` contain partial information related to the company. That is, the rows of the `city` columns don't quite match in `revenue` and `managers` (the Mendocino branch has no revenue yet since it just opened and the manager of Springfield branch recently left the company).\n",
    "\n",
    "The DataFrames have been printed in the IPython Shell. If you were to run the command `combined = pd.merge(revenue, managers, on='city')`, how many rows would `combined` have?"
   ]
  },
  {
   "cell_type": "code",
   "execution_count": 1,
   "metadata": {},
   "outputs": [
    {
     "name": "stdout",
     "output_type": "stream",
     "text": [
      "          city  revenue\n",
      "0       Austin      100\n",
      "1       Denver       83\n",
      "2  Springfield        4\n",
      "\n",
      "        city   manager\n",
      "0     Austin  Charlers\n",
      "1     Denver      Joel\n",
      "2  Mendocino     Brett\n"
     ]
    }
   ],
   "source": [
    "import pandas as pd\n",
    "\n",
    "revenue = pd.DataFrame({\"city\": [\"Austin\", \"Denver\", \"Springfield\"], \"revenue\": [100, 83, 4]})\n",
    "managers = pd.DataFrame({\"city\": [\"Austin\", \"Denver\", \"Mendocino\"], \"manager\": [\"Charlers\", \"Joel\", \"Brett\"]})\n",
    "\n",
    "print(revenue)\n",
    "print(\"\")\n",
    "print(managers)"
   ]
  },
  {
   "cell_type": "markdown",
   "metadata": {},
   "source": [
    "#### Possible Answers\n",
    "1. 0 rows.\n",
    "2. 2 rows.\n",
    "3. 3 rows.\n",
    "4. 4 rows.\n",
    "\n",
    "#### Answer:\n",
    "Since the default strategy for `pd.merge()` is an _inner join_, `combined` will have 2 rows."
   ]
  },
  {
   "cell_type": "markdown",
   "metadata": {},
   "source": [
    "### 1.2 Merging on a specific column\n",
    "This exercise follows on the last one with the DataFrames `revenue` and `managers` for your company. You expect your company to grow and, eventually, to operate in cities with the same name on different states. As such, you decide that every branch should have a numerical branch identifier. Thus, you add a `branch_id` column to both DataFrames. Moreover, new cities have been added to both the `revenue` and `managers` DataFrames as well. \n",
    "\n",
    "At present, there should be a 1-to-1 relationship between the `city` and `branch_id` fields. In that case, the result of a merge on the `city` columns ought to give you the same output as a merge on the `branch_id` columns. Do they? Can you spot an ambiguity in one of the DataFrames?\n",
    "\n",
    "### Instructions:\n",
    "* Using `pd.merge()`, merge the DataFrames `revenue` and `managers` on the `'city'` column of each. Store the result as `merge_by_city`.\n",
    "* Print the DataFrame `merge_by_city`. \n",
    "* Merge the DataFrames `revenue` and `managers` on the `'branch_id'` column of each. Store the result as `merge_by_id`.\n",
    "* Print the DataFrame `merge_by_id`."
   ]
  },
  {
   "cell_type": "code",
   "execution_count": 4,
   "metadata": {},
   "outputs": [],
   "source": [
    "revenue = pd.DataFrame({\"city\": [\"Austin\", \"Denver\", \"Springfield\", \"Mendocino\"],\n",
    "                        \"branch_id\": [10, 20, 30, 47],\n",
    "                        \"revenue\": [100, 83, 4, 200]})\n",
    "managers = pd.DataFrame({\"city\": [\"Austin\", \"Denver\", \"Mendocino\", \"Springfield\"],\n",
    "                        \"branch_id\": [10, 20, 47, 31],\n",
    "                        \"manager\": [\"Charles\", \"Joel\", \"Brett\", \"Sally\"]})"
   ]
  },
  {
   "cell_type": "code",
   "execution_count": 5,
   "metadata": {},
   "outputs": [
    {
     "name": "stdout",
     "output_type": "stream",
     "text": [
      "          city  branch_id_x  revenue  branch_id_y  manager\n",
      "0       Austin           10      100           10  Charles\n",
      "1       Denver           20       83           20     Joel\n",
      "2  Springfield           30        4           31    Sally\n",
      "3    Mendocino           47      200           47    Brett\n"
     ]
    }
   ],
   "source": [
    "# Merge revenue with managers on 'city': merge_by_city\n",
    "merge_by_city = pd.merge(revenue, managers, on='city')\n",
    "\n",
    "# Print merge_by_city\n",
    "print(merge_by_city)"
   ]
  },
  {
   "cell_type": "code",
   "execution_count": 6,
   "metadata": {},
   "outputs": [
    {
     "name": "stdout",
     "output_type": "stream",
     "text": [
      "      city_x  branch_id  revenue     city_y  manager\n",
      "0     Austin         10      100     Austin  Charles\n",
      "1     Denver         20       83     Denver     Joel\n",
      "2  Mendocino         47      200  Mendocino    Brett\n"
     ]
    }
   ],
   "source": [
    "# Merge revenue with managers on 'branch_id': merge_by_id\n",
    "merge_by_id = pd.merge(revenue, managers, on='branch_id')\n",
    "\n",
    "# Print merge_by_id\n",
    "print(merge_by_id)"
   ]
  },
  {
   "cell_type": "markdown",
   "metadata": {},
   "source": [
    "Notice that when you merge on `'city'`, the resulting DataFrame has a peculiar result: In row 2, the city Springfield has two different branch IDs. This is because there are actually two different cities named Springfield - one in the State of Illinois, and the other in Missouri. The `revenue` DataFrame has the one from Illinois, and the `managers` DataFrame has the one from Missouri. Consequently, when you merge on `'branch_id'`, both of these get dropped from the merged DataFrame."
   ]
  },
  {
   "cell_type": "markdown",
   "metadata": {},
   "source": [
    "### 1.3 Merging on columns with non-matching labels\n",
    "You continue working with the `revenue` & `managers` DataFrames from before. This time, someone has changed the field name `'city'` to `'branch'` in the `managers` table. Now, when you attempt to merge DataFrames, an exception is thrown:\n",
    "```\n",
    ">>> pd.merge(revenue, managers, on='city')\n",
    "Traceback (most recent call last):\n",
    "    ... <text deleted> ...\n",
    "    pd.merge(revenue, managers, on='city')\n",
    "    ... <text deleted> ...\n",
    "KeyError: 'city'\n",
    "```\n",
    "Given this, it will take a bit more work for you to join or merge on the city/branch name. You have to specify the `left_on` and `right_on` parameters in the call to `pd.merge()`.\n",
    "\n",
    "Are you able to merge better than in the last exercise? How should the rows with `Springfield` be handled?\n",
    "\n",
    "### Instructions:\n",
    "* Merge the DataFrames `revenue` and `managers` into a single DataFrame called `combined` using the `'city'` and `'branch'` columns from the appropriate DataFrames.\n",
    "    * In your call to `pd.merge()`, you will have to specify the parameters `left_on` and `right_on` appropriately.\n",
    "* Print the new DataFrame `combined`."
   ]
  },
  {
   "cell_type": "code",
   "execution_count": 10,
   "metadata": {},
   "outputs": [
    {
     "data": {
      "text/html": [
       "<div>\n",
       "<style scoped>\n",
       "    .dataframe tbody tr th:only-of-type {\n",
       "        vertical-align: middle;\n",
       "    }\n",
       "\n",
       "    .dataframe tbody tr th {\n",
       "        vertical-align: top;\n",
       "    }\n",
       "\n",
       "    .dataframe thead th {\n",
       "        text-align: right;\n",
       "    }\n",
       "</style>\n",
       "<table border=\"1\" class=\"dataframe\">\n",
       "  <thead>\n",
       "    <tr style=\"text-align: right;\">\n",
       "      <th></th>\n",
       "      <th>city</th>\n",
       "      <th>branch_id</th>\n",
       "      <th>state</th>\n",
       "      <th>revenue</th>\n",
       "    </tr>\n",
       "  </thead>\n",
       "  <tbody>\n",
       "    <tr>\n",
       "      <th>0</th>\n",
       "      <td>Austin</td>\n",
       "      <td>10</td>\n",
       "      <td>TX</td>\n",
       "      <td>100</td>\n",
       "    </tr>\n",
       "    <tr>\n",
       "      <th>1</th>\n",
       "      <td>Denver</td>\n",
       "      <td>20</td>\n",
       "      <td>CO</td>\n",
       "      <td>83</td>\n",
       "    </tr>\n",
       "    <tr>\n",
       "      <th>2</th>\n",
       "      <td>Springfield</td>\n",
       "      <td>30</td>\n",
       "      <td>IL</td>\n",
       "      <td>4</td>\n",
       "    </tr>\n",
       "    <tr>\n",
       "      <th>3</th>\n",
       "      <td>Mendocino</td>\n",
       "      <td>47</td>\n",
       "      <td>CA</td>\n",
       "      <td>200</td>\n",
       "    </tr>\n",
       "  </tbody>\n",
       "</table>\n",
       "</div>"
      ],
      "text/plain": [
       "          city  branch_id state  revenue\n",
       "0       Austin         10    TX      100\n",
       "1       Denver         20    CO       83\n",
       "2  Springfield         30    IL        4\n",
       "3    Mendocino         47    CA      200"
      ]
     },
     "execution_count": 10,
     "metadata": {},
     "output_type": "execute_result"
    }
   ],
   "source": [
    "revenue = pd.DataFrame({\"city\": [\"Austin\", \"Denver\", \"Springfield\", \"Mendocino\"],\n",
    "                        \"branch_id\": [10, 20, 30, 47],\n",
    "                        \"state\":[\"TX\",\"CO\",\"IL\",\"CA\"],\n",
    "                        \"revenue\": [100, 83, 4, 200]})\n",
    "\n",
    "revenue"
   ]
  },
  {
   "cell_type": "code",
   "execution_count": 11,
   "metadata": {},
   "outputs": [
    {
     "data": {
      "text/html": [
       "<div>\n",
       "<style scoped>\n",
       "    .dataframe tbody tr th:only-of-type {\n",
       "        vertical-align: middle;\n",
       "    }\n",
       "\n",
       "    .dataframe tbody tr th {\n",
       "        vertical-align: top;\n",
       "    }\n",
       "\n",
       "    .dataframe thead th {\n",
       "        text-align: right;\n",
       "    }\n",
       "</style>\n",
       "<table border=\"1\" class=\"dataframe\">\n",
       "  <thead>\n",
       "    <tr style=\"text-align: right;\">\n",
       "      <th></th>\n",
       "      <th>branch</th>\n",
       "      <th>branch_id</th>\n",
       "      <th>state</th>\n",
       "      <th>manager</th>\n",
       "    </tr>\n",
       "  </thead>\n",
       "  <tbody>\n",
       "    <tr>\n",
       "      <th>0</th>\n",
       "      <td>Austin</td>\n",
       "      <td>10</td>\n",
       "      <td>TX</td>\n",
       "      <td>Charlers</td>\n",
       "    </tr>\n",
       "    <tr>\n",
       "      <th>1</th>\n",
       "      <td>Denver</td>\n",
       "      <td>20</td>\n",
       "      <td>CO</td>\n",
       "      <td>Joel</td>\n",
       "    </tr>\n",
       "    <tr>\n",
       "      <th>2</th>\n",
       "      <td>Mendocino</td>\n",
       "      <td>47</td>\n",
       "      <td>CA</td>\n",
       "      <td>Brett</td>\n",
       "    </tr>\n",
       "    <tr>\n",
       "      <th>3</th>\n",
       "      <td>Springfield</td>\n",
       "      <td>31</td>\n",
       "      <td>MO</td>\n",
       "      <td>Sally</td>\n",
       "    </tr>\n",
       "  </tbody>\n",
       "</table>\n",
       "</div>"
      ],
      "text/plain": [
       "        branch  branch_id state   manager\n",
       "0       Austin         10    TX  Charlers\n",
       "1       Denver         20    CO      Joel\n",
       "2    Mendocino         47    CA     Brett\n",
       "3  Springfield         31    MO     Sally"
      ]
     },
     "execution_count": 11,
     "metadata": {},
     "output_type": "execute_result"
    }
   ],
   "source": [
    "managers = pd.DataFrame({\"branch\": [\"Austin\", \"Denver\", \"Mendocino\", \"Springfield\"],\n",
    "                        \"branch_id\": [10, 20, 47, 31],\n",
    "                        \"state\":[\"TX\",\"CO\",\"CA\",\"MO\"],\n",
    "                        \"manager\": [\"Charlers\", \"Joel\", \"Brett\", \"Sally\"]})\n",
    "                        \n",
    "managers"
   ]
  },
  {
   "cell_type": "code",
   "execution_count": 9,
   "metadata": {},
   "outputs": [
    {
     "data": {
      "text/html": [
       "<div>\n",
       "<style scoped>\n",
       "    .dataframe tbody tr th:only-of-type {\n",
       "        vertical-align: middle;\n",
       "    }\n",
       "\n",
       "    .dataframe tbody tr th {\n",
       "        vertical-align: top;\n",
       "    }\n",
       "\n",
       "    .dataframe thead th {\n",
       "        text-align: right;\n",
       "    }\n",
       "</style>\n",
       "<table border=\"1\" class=\"dataframe\">\n",
       "  <thead>\n",
       "    <tr style=\"text-align: right;\">\n",
       "      <th></th>\n",
       "      <th>city</th>\n",
       "      <th>branch_id_x</th>\n",
       "      <th>state_x</th>\n",
       "      <th>revenue</th>\n",
       "      <th>branch</th>\n",
       "      <th>branch_id_y</th>\n",
       "      <th>state_y</th>\n",
       "      <th>manager</th>\n",
       "    </tr>\n",
       "  </thead>\n",
       "  <tbody>\n",
       "    <tr>\n",
       "      <th>0</th>\n",
       "      <td>Austin</td>\n",
       "      <td>10</td>\n",
       "      <td>TX</td>\n",
       "      <td>100</td>\n",
       "      <td>Austin</td>\n",
       "      <td>10</td>\n",
       "      <td>TX</td>\n",
       "      <td>Charlers</td>\n",
       "    </tr>\n",
       "    <tr>\n",
       "      <th>1</th>\n",
       "      <td>Denver</td>\n",
       "      <td>20</td>\n",
       "      <td>CO</td>\n",
       "      <td>83</td>\n",
       "      <td>Denver</td>\n",
       "      <td>20</td>\n",
       "      <td>CO</td>\n",
       "      <td>Joel</td>\n",
       "    </tr>\n",
       "    <tr>\n",
       "      <th>2</th>\n",
       "      <td>Springfield</td>\n",
       "      <td>30</td>\n",
       "      <td>IL</td>\n",
       "      <td>4</td>\n",
       "      <td>Springfield</td>\n",
       "      <td>31</td>\n",
       "      <td>MO</td>\n",
       "      <td>Sally</td>\n",
       "    </tr>\n",
       "    <tr>\n",
       "      <th>3</th>\n",
       "      <td>Mendocino</td>\n",
       "      <td>47</td>\n",
       "      <td>CA</td>\n",
       "      <td>200</td>\n",
       "      <td>Mendocino</td>\n",
       "      <td>47</td>\n",
       "      <td>CA</td>\n",
       "      <td>Brett</td>\n",
       "    </tr>\n",
       "  </tbody>\n",
       "</table>\n",
       "</div>"
      ],
      "text/plain": [
       "          city  branch_id_x state_x  revenue       branch  branch_id_y  \\\n",
       "0       Austin           10      TX      100       Austin           10   \n",
       "1       Denver           20      CO       83       Denver           20   \n",
       "2  Springfield           30      IL        4  Springfield           31   \n",
       "3    Mendocino           47      CA      200    Mendocino           47   \n",
       "\n",
       "  state_y   manager  \n",
       "0      TX  Charlers  \n",
       "1      CO      Joel  \n",
       "2      MO     Sally  \n",
       "3      CA     Brett  "
      ]
     },
     "execution_count": 9,
     "metadata": {},
     "output_type": "execute_result"
    }
   ],
   "source": [
    "# Merge revenue & managers on 'city' & 'branch': combined\n",
    "combined = pd.merge(revenue, managers, left_on='city', right_on='branch')\n",
    "\n",
    "# Print combined\n",
    "combined"
   ]
  },
  {
   "cell_type": "markdown",
   "metadata": {},
   "source": [
    "It is important to pay attention to how columns are named in different DataFrames."
   ]
  },
  {
   "cell_type": "markdown",
   "metadata": {},
   "source": [
    "### 1.4 Merging on multiple columns\n",
    "Another strategy to disambiguate cities with identical names is to add information on the _states_ in which the cities are located. To this end, you add a column called `state` to both DataFrames from the preceding exercises.\n",
    "\n",
    "Your goal in this exercise is to use `pd.merge()` to merge DataFrames using multiple columns (using `'branch_id'`, `'city'`, and `'state'` in this case).\n",
    "\n",
    "Are you able to match all your company's branches correctly?\n",
    "\n",
    "### Instructions:\n",
    "* Create a column called `'state'` in the DataFrame `revenue`, consisting of the list `['TX','CO','IL','CA']`.\n",
    "* Create a column called `'state'` in the DataFrame `managers`, consisting of the list `['TX','CO','CA','MO']`.\n",
    "* Merge the DataFrames `revenue` and `managers` using _three_ columns :`'branch_id'`, `'city'`, and `'state'`. Pass them in as a list to the `on` paramater of `pd.merge()`."
   ]
  },
  {
   "cell_type": "code",
   "execution_count": 17,
   "metadata": {},
   "outputs": [],
   "source": [
    "revenue = pd.DataFrame({\"city\": [\"Austin\", \"Denver\", \"Springfield\", \"Mendocino\"],\n",
    "                        \"branch_id\": [10, 20, 30, 47],\n",
    "                        \"revenue\": [100, 83, 4, 200]})\n",
    "managers = pd.DataFrame({\"city\": [\"Austin\", \"Denver\", \"Mendocino\", \"Springfield\"],\n",
    "                        \"branch_id\": [10, 20, 47, 31],\n",
    "                        \"manager\": [\"Charlers\", \"Joel\", \"Brett\", \"Sally\"]})"
   ]
  },
  {
   "cell_type": "code",
   "execution_count": 18,
   "metadata": {},
   "outputs": [
    {
     "data": {
      "text/html": [
       "<div>\n",
       "<style scoped>\n",
       "    .dataframe tbody tr th:only-of-type {\n",
       "        vertical-align: middle;\n",
       "    }\n",
       "\n",
       "    .dataframe tbody tr th {\n",
       "        vertical-align: top;\n",
       "    }\n",
       "\n",
       "    .dataframe thead th {\n",
       "        text-align: right;\n",
       "    }\n",
       "</style>\n",
       "<table border=\"1\" class=\"dataframe\">\n",
       "  <thead>\n",
       "    <tr style=\"text-align: right;\">\n",
       "      <th></th>\n",
       "      <th>city</th>\n",
       "      <th>branch_id</th>\n",
       "      <th>revenue</th>\n",
       "      <th>state</th>\n",
       "    </tr>\n",
       "  </thead>\n",
       "  <tbody>\n",
       "    <tr>\n",
       "      <th>0</th>\n",
       "      <td>Austin</td>\n",
       "      <td>10</td>\n",
       "      <td>100</td>\n",
       "      <td>TX</td>\n",
       "    </tr>\n",
       "    <tr>\n",
       "      <th>1</th>\n",
       "      <td>Denver</td>\n",
       "      <td>20</td>\n",
       "      <td>83</td>\n",
       "      <td>CO</td>\n",
       "    </tr>\n",
       "    <tr>\n",
       "      <th>2</th>\n",
       "      <td>Springfield</td>\n",
       "      <td>30</td>\n",
       "      <td>4</td>\n",
       "      <td>IL</td>\n",
       "    </tr>\n",
       "    <tr>\n",
       "      <th>3</th>\n",
       "      <td>Mendocino</td>\n",
       "      <td>47</td>\n",
       "      <td>200</td>\n",
       "      <td>CA</td>\n",
       "    </tr>\n",
       "  </tbody>\n",
       "</table>\n",
       "</div>"
      ],
      "text/plain": [
       "          city  branch_id  revenue state\n",
       "0       Austin         10      100    TX\n",
       "1       Denver         20       83    CO\n",
       "2  Springfield         30        4    IL\n",
       "3    Mendocino         47      200    CA"
      ]
     },
     "execution_count": 18,
     "metadata": {},
     "output_type": "execute_result"
    }
   ],
   "source": [
    "# Add 'state' column to revenue: revenue['state']\n",
    "revenue['state'] = ['TX','CO','IL','CA']\n",
    "revenue"
   ]
  },
  {
   "cell_type": "code",
   "execution_count": 20,
   "metadata": {},
   "outputs": [
    {
     "data": {
      "text/html": [
       "<div>\n",
       "<style scoped>\n",
       "    .dataframe tbody tr th:only-of-type {\n",
       "        vertical-align: middle;\n",
       "    }\n",
       "\n",
       "    .dataframe tbody tr th {\n",
       "        vertical-align: top;\n",
       "    }\n",
       "\n",
       "    .dataframe thead th {\n",
       "        text-align: right;\n",
       "    }\n",
       "</style>\n",
       "<table border=\"1\" class=\"dataframe\">\n",
       "  <thead>\n",
       "    <tr style=\"text-align: right;\">\n",
       "      <th></th>\n",
       "      <th>city</th>\n",
       "      <th>branch_id</th>\n",
       "      <th>manager</th>\n",
       "      <th>state</th>\n",
       "    </tr>\n",
       "  </thead>\n",
       "  <tbody>\n",
       "    <tr>\n",
       "      <th>0</th>\n",
       "      <td>Austin</td>\n",
       "      <td>10</td>\n",
       "      <td>Charlers</td>\n",
       "      <td>TX</td>\n",
       "    </tr>\n",
       "    <tr>\n",
       "      <th>1</th>\n",
       "      <td>Denver</td>\n",
       "      <td>20</td>\n",
       "      <td>Joel</td>\n",
       "      <td>CO</td>\n",
       "    </tr>\n",
       "    <tr>\n",
       "      <th>2</th>\n",
       "      <td>Mendocino</td>\n",
       "      <td>47</td>\n",
       "      <td>Brett</td>\n",
       "      <td>CA</td>\n",
       "    </tr>\n",
       "    <tr>\n",
       "      <th>3</th>\n",
       "      <td>Springfield</td>\n",
       "      <td>31</td>\n",
       "      <td>Sally</td>\n",
       "      <td>MO</td>\n",
       "    </tr>\n",
       "  </tbody>\n",
       "</table>\n",
       "</div>"
      ],
      "text/plain": [
       "          city  branch_id   manager state\n",
       "0       Austin         10  Charlers    TX\n",
       "1       Denver         20      Joel    CO\n",
       "2    Mendocino         47     Brett    CA\n",
       "3  Springfield         31     Sally    MO"
      ]
     },
     "execution_count": 20,
     "metadata": {},
     "output_type": "execute_result"
    }
   ],
   "source": [
    "# Add 'state' column to managers: managers['state']\n",
    "managers['state'] = ['TX','CO','CA','MO']\n",
    "managers"
   ]
  },
  {
   "cell_type": "code",
   "execution_count": 21,
   "metadata": {},
   "outputs": [
    {
     "data": {
      "text/html": [
       "<div>\n",
       "<style scoped>\n",
       "    .dataframe tbody tr th:only-of-type {\n",
       "        vertical-align: middle;\n",
       "    }\n",
       "\n",
       "    .dataframe tbody tr th {\n",
       "        vertical-align: top;\n",
       "    }\n",
       "\n",
       "    .dataframe thead th {\n",
       "        text-align: right;\n",
       "    }\n",
       "</style>\n",
       "<table border=\"1\" class=\"dataframe\">\n",
       "  <thead>\n",
       "    <tr style=\"text-align: right;\">\n",
       "      <th></th>\n",
       "      <th>city</th>\n",
       "      <th>branch_id</th>\n",
       "      <th>revenue</th>\n",
       "      <th>state</th>\n",
       "      <th>manager</th>\n",
       "    </tr>\n",
       "  </thead>\n",
       "  <tbody>\n",
       "    <tr>\n",
       "      <th>0</th>\n",
       "      <td>Austin</td>\n",
       "      <td>10</td>\n",
       "      <td>100</td>\n",
       "      <td>TX</td>\n",
       "      <td>Charlers</td>\n",
       "    </tr>\n",
       "    <tr>\n",
       "      <th>1</th>\n",
       "      <td>Denver</td>\n",
       "      <td>20</td>\n",
       "      <td>83</td>\n",
       "      <td>CO</td>\n",
       "      <td>Joel</td>\n",
       "    </tr>\n",
       "    <tr>\n",
       "      <th>2</th>\n",
       "      <td>Mendocino</td>\n",
       "      <td>47</td>\n",
       "      <td>200</td>\n",
       "      <td>CA</td>\n",
       "      <td>Brett</td>\n",
       "    </tr>\n",
       "  </tbody>\n",
       "</table>\n",
       "</div>"
      ],
      "text/plain": [
       "        city  branch_id  revenue state   manager\n",
       "0     Austin         10      100    TX  Charlers\n",
       "1     Denver         20       83    CO      Joel\n",
       "2  Mendocino         47      200    CA     Brett"
      ]
     },
     "execution_count": 21,
     "metadata": {},
     "output_type": "execute_result"
    }
   ],
   "source": [
    "# Merge revenue & managers on 'branch_id', 'city', & 'state': combined\n",
    "combined = pd.merge(revenue, managers, on=['branch_id', 'city', 'state'])\n",
    "\n",
    "# Print combined\n",
    "combined"
   ]
  },
  {
   "cell_type": "code",
   "execution_count": null,
   "metadata": {},
   "outputs": [],
   "source": []
  }
 ],
 "metadata": {
  "kernelspec": {
   "display_name": "Python 3",
   "language": "python",
   "name": "python3"
  },
  "language_info": {
   "codemirror_mode": {
    "name": "ipython",
    "version": 3
   },
   "file_extension": ".py",
   "mimetype": "text/x-python",
   "name": "python",
   "nbconvert_exporter": "python",
   "pygments_lexer": "ipython3",
   "version": "3.7.0"
  }
 },
 "nbformat": 4,
 "nbformat_minor": 2
}
