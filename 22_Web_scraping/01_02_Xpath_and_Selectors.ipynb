{
 "cells": [
  {
   "cell_type": "markdown",
   "metadata": {},
   "source": [
    "# XPaths and Selectors\n",
    "Leverage XPath syntax to explore scrapy selectors. Both of these concepts will move you towards being able to scrape an HTML document.\n",
    "\n",
    "# 1. XPath\n",
    "## 1.1 Where am I?\n",
    "In this exercise, you will navigate to a specific element using your new knowledge of XPath notation.\n",
    "\n",
    "Consider the HTML code:"
   ]
  },
  {
   "cell_type": "code",
   "execution_count": 1,
   "metadata": {},
   "outputs": [],
   "source": [
    "html = \"\"\"\n",
    "<html>\n",
    "  <body>\n",
    "    <div>\n",
    "      <p>Good Luck!</p>\n",
    "      <p>Not here...</p>\n",
    "    </div>\n",
    "    <div>\n",
    "      <p>Where am I?</p>\n",
    "    </div>\n",
    "  </body>\n",
    "</html>\n",
    "\"\"\""
   ]
  },
  {
   "cell_type": "markdown",
   "metadata": {},
   "source": [
    "Your job will be to create an XPath string __using only single forward-slashes__ which navigates to the paragraph `p` element which contains the text \"Where am I?\".\n",
    "\n",
    "### Instructions:\n",
    "* __Using only single forward-slashes to move between generations__, assign a string to the variable `xpath` that directs to the paragraph element containing \"Where am I?\". Do not include any blank spaces in the string you assign to `xpath`."
   ]
  },
  {
   "cell_type": "code",
   "execution_count": 2,
   "metadata": {},
   "outputs": [],
   "source": [
    "import re\n",
    "from scrapy.http import TextResponse\n",
    "\n",
    "def space_remover( expr ):\n",
    "    return re.sub( pattern = \"[ ]+\", repl = \"\", string = expr)\n",
    "\n",
    "response = TextResponse( url = 'http://datacamp.com', body = html, encoding = 'utf-8' )\n",
    "\n",
    "def check_xpath( xpath ):\n",
    "    print( response.xpath( xpath ).extract() )\n",
    "    \n",
    "def check_xpath_1( xpath ):\n",
    "    print( response.xpath( xpath ).extract_first() )"
   ]
  },
  {
   "cell_type": "code",
   "execution_count": 3,
   "metadata": {},
   "outputs": [
    {
     "name": "stdout",
     "output_type": "stream",
     "text": [
      "<p>Where am I?</p>\n"
     ]
    }
   ],
   "source": [
    "# Fill in the blank\n",
    "xpath = '/html/body/div[2]/p[1]'\n",
    "\n",
    "check_xpath_1(xpath)"
   ]
  },
  {
   "cell_type": "markdown",
   "metadata": {},
   "source": [
    "## 1.2 It's Time to P\n",
    "In the lecture, we learned how to use double forward-slashes to navigate to all future generations. In this exercise, you will select all paragraph `p` elements within the HTML. Because we want you to navigate to __all__ paragraph elements, it is not important that you know what the HTML code is, since the task can be accomplished with a simple XPath string using the __double forward-slash__ notation you have learned.\n",
    "\n",
    "### Instructions:\n",
    "* Using double forward-slash notation, assign to the variable `xpath` a simple XPath string navigating to __all__ paragraph `p` elements within any HTML code."
   ]
  },
  {
   "cell_type": "code",
   "execution_count": 4,
   "metadata": {},
   "outputs": [
    {
     "name": "stdout",
     "output_type": "stream",
     "text": [
      "['<p>Good Luck!</p>', '<p>Not here...</p>', '<p>Where am I?</p>']\n"
     ]
    }
   ],
   "source": [
    "# Fill in the blank\n",
    "xpath = '//p'\n",
    "\n",
    "check_xpath(xpath)"
   ]
  },
  {
   "cell_type": "markdown",
   "metadata": {},
   "source": [
    "## 1.3 Body Appendages\n",
    "We have loaded the HTML from a secret website and have used it to create a function `how_many_elements()`. The way this function works is that you pass it an XPath string and it will print out the number of elements the XPath you wrote has selected. For example, by running the code `how_many_elements('//*')` in the console will print out the total number of elements the HTML document has (try it!).\n",
    "\n",
    "Your job in this exercise is to create an XPath string which can be used to direct to all child elements the `body` (regardless of tag type). To note, you can first test your solution with `how_many_elements()` to find the total number of children in the body element if you wish.\n",
    "\n",
    "Note that the exercises in this chapter may take some time to load.\n",
    "\n",
    "### Instructions:\n",
    "* Assign to the variable `xpath` an XPath string which directs to all child elements of the body element. There is only one body element in this HTML document and it is a child of the root `html` element."
   ]
  },
  {
   "cell_type": "code",
   "execution_count": 5,
   "metadata": {},
   "outputs": [],
   "source": [
    "# WE WANT TO USE THE SAME DATACAMP COURSE DIRECTORY PRE-SAVED HTML CODE HERE INSTEAD OF REQUESTS\n",
    "from scrapy import Selector\n",
    "import requests\n",
    "\n",
    "html = requests.get( 'https://www.datacamp.com/courses/q:introduction' ).content\n",
    "\n",
    "sel = Selector( text = html )\n",
    "\n",
    "def how_many_elements( xpath ):\n",
    "    print( len(sel.xpath( xpath )) )"
   ]
  },
  {
   "cell_type": "code",
   "execution_count": 6,
   "metadata": {},
   "outputs": [
    {
     "name": "stdout",
     "output_type": "stream",
     "text": [
      "25\n"
     ]
    }
   ],
   "source": [
    "# Create an XPath string to direct to children of body element\n",
    "xpath = '/html/body/*'\n",
    "\n",
    "# Print out the number of elements selected\n",
    "how_many_elements( xpath )"
   ]
  },
  {
   "cell_type": "markdown",
   "metadata": {},
   "source": [
    "You were able to direct to all children of the body element! \n",
    "\n",
    "## 1.4 Choose DataCamp!\n",
    "In this exercise, we want to give you the opportunity to create your own XPath string to achieve a certain task; the task is to select the paragraph element containing the text \"Choose DataCamp!\".\n",
    "\n",
    "Consider the following HTML:"
   ]
  },
  {
   "cell_type": "code",
   "execution_count": 7,
   "metadata": {},
   "outputs": [],
   "source": [
    "html = '''\n",
    "<html>\n",
    "  <body>\n",
    "    <div>\n",
    "      <p>Hello World!</p>\n",
    "      <div>\n",
    "        <p>Choose DataCamp!</p>\n",
    "      </div>\n",
    "    </div>\n",
    "    <div>\n",
    "      <p>Thanks for Watching!</p>\n",
    "    </div>\n",
    "  </body>\n",
    "</html>\n",
    "'''"
   ]
  },
  {
   "cell_type": "markdown",
   "metadata": {},
   "source": [
    "We have created the function print_element_text() for you, which will print the text contained in your element (if it contains any). Feel free to use this function to check if your solution is correct!\n",
    "\n",
    "### Instructions:\n",
    "* Assign to the variable `xpath` an XPath string to direct to the paragraph element containing the phrase: \"Choose DataCamp!\"."
   ]
  },
  {
   "cell_type": "code",
   "execution_count": 8,
   "metadata": {},
   "outputs": [],
   "source": [
    "sel = Selector( text = html )\n",
    "\n",
    "def print_element_text( xpath ):\n",
    "    text = ' '.join( sel.xpath( xpath ).xpath( './text()' ).extract() )\n",
    "    print( text )"
   ]
  },
  {
   "cell_type": "code",
   "execution_count": 9,
   "metadata": {},
   "outputs": [
    {
     "name": "stdout",
     "output_type": "stream",
     "text": [
      "Choose DataCamp!\n"
     ]
    }
   ],
   "source": [
    "# Create an XPath string to the desired paragraph element\n",
    "xpath = '/html/body/div/div/p'\n",
    "# xpath = '/html/body/div[1]/div/p' # alternative code\n",
    "\n",
    "# Print out the element text\n",
    "print_element_text( xpath )"
   ]
  },
  {
   "cell_type": "markdown",
   "metadata": {},
   "source": [
    "# 2. Off the Beaten XPath\n",
    "## 2.1 Where it's @\n",
    "In this exercise, you'll begin to write an XPath string using attributes to achieve a certain task; that task is to select the paragraph element containing the text \"Thanks for Watching!\". We've already created most of the XPath string for you.\n",
    "\n",
    "### Instructions:\n",
    "* Fill in the blanks in the XPath string to select the paragraph element containing the phrase: \"Thanks for Watching!\".\n",
    "\n",
    "Consider the following HTML:"
   ]
  },
  {
   "cell_type": "code",
   "execution_count": 10,
   "metadata": {},
   "outputs": [],
   "source": [
    "html = '''\n",
    "<html>\n",
    "  <body>\n",
    "    <div id=\"div1\" class=\"class-1\">\n",
    "      <p class=\"class-1 class-2\">Hello World!</p>\n",
    "      <div id=\"div2\">\n",
    "        <p id=\"p2\" class=\"class-2\">Choose DataCamp!</p>\n",
    "      </div>\n",
    "    </div>\n",
    "    <div id=\"div3\" class=\"class-2\">\n",
    "      <p class=\"class-2\">Thanks for Watching!</p>\n",
    "    </div>\n",
    "  </body>\n",
    "</html>\n",
    "'''\n",
    "sel = Selector( text = html )"
   ]
  },
  {
   "cell_type": "code",
   "execution_count": 11,
   "metadata": {},
   "outputs": [
    {
     "name": "stdout",
     "output_type": "stream",
     "text": [
      "Thanks for Watching!\n"
     ]
    }
   ],
   "source": [
    "# Create an Xpath string to select desired p element\n",
    "xpath = '//*[@id=\"div3\"]/p'\n",
    "\n",
    "# Print out selection text\n",
    "print_element_text( xpath )"
   ]
  },
  {
   "cell_type": "markdown",
   "metadata": {},
   "source": [
    "## 2.2 Check your Class\n",
    "This exercise is to emphasize that when you use an XPath to select an element by its class attribute without using the `contains()` function, you match the class exactly. Your job is to fill in the blank below and finish the variable xpath directing to the specified element.\n",
    "\n",
    "### Instructions\n",
    "* Fill in the blanks in the xpath below to select the paragraph element containing the phrase: \"Hello World!\"."
   ]
  },
  {
   "cell_type": "code",
   "execution_count": 12,
   "metadata": {},
   "outputs": [
    {
     "name": "stdout",
     "output_type": "stream",
     "text": [
      "Hello World!\n"
     ]
    }
   ],
   "source": [
    "# Create an XPath string to select p element by class\n",
    "xpath = '//p[@class=\"class-1 class-2\"]'\n",
    "\n",
    "# Print out select text\n",
    "print_element_text( xpath )"
   ]
  },
  {
   "cell_type": "markdown",
   "metadata": {},
   "source": [
    "## 2.3 Hyper(link) Active\n",
    "One of the most important attributes to extract for \"web-crawling\" is the hyperlink url (`href` attribute) within an `a` tag. Here, you will extract such a hyperlink! We have created the function `print_attribute` to print out the data extracted from your XPath, so you can test your XPath strings in the console, if you like.\n",
    "\n",
    "### Instructions:\n",
    "* Fill in the blanks to complete the variable `xpath` below to select the `href` attribute value from the DataCamp hyperlink."
   ]
  },
  {
   "cell_type": "code",
   "execution_count": 13,
   "metadata": {},
   "outputs": [],
   "source": [
    "html = '''\n",
    "<html>\n",
    "  <body>\n",
    "    <div id=\"div1\" class=\"class-1\">\n",
    "      <p class=\"class-1 class-2\">Hello World!</p>\n",
    "      <div id=\"div2\">\n",
    "        <p id=\"p2\" class=\"class-2\">Choose \n",
    "            <a href=\"http://datacamp.com\">DataCamp!</a>!\n",
    "        </p>\n",
    "      </div>\n",
    "    </div>\n",
    "    <div id=\"div3\" class=\"class-2\">\n",
    "      <p class=\"class-2\">Thanks for Watching!</p>\n",
    "    </div>\n",
    "  </body>\n",
    "</html>\n",
    "'''\n",
    "\n",
    "sel = Selector( text = html )\n",
    "def print_attribute( xpath ):\n",
    "    print( \"You have selected:\" )\n",
    "    for i,el in enumerate(sel.xpath( xpath ).extract()):\n",
    "        print( \"%d) %s\" % (i+1, el) )"
   ]
  },
  {
   "cell_type": "code",
   "execution_count": 14,
   "metadata": {},
   "outputs": [
    {
     "name": "stdout",
     "output_type": "stream",
     "text": [
      "You have selected:\n",
      "1) http://datacamp.com\n"
     ]
    }
   ],
   "source": [
    "# Create an xpath to the href attribute\n",
    "xpath = '//p[@id=\"p2\"]/a/@href'\n",
    "\n",
    "# Print out the selection(s); there should be only one\n",
    "print_attribute( xpath )"
   ]
  },
  {
   "cell_type": "markdown",
   "metadata": {},
   "source": [
    "## 2.4 Secret Links\n",
    "We have loaded the HTML from a secret website and have used it to create the functions `how_many_elements()` and `preview()`. The function `how_many_elements()` allows you to pass in an XPath string and it will print out the number of elements the XPath you wrote has selected. The function `preview()` allows you to pass in an XPath string and it will print out the first few elements you've selected.\n",
    "\n",
    "Your job in this exercise is to create an XPath which directs to all `href` attribute values of the hyperlink `a` elements whose class attributes contain the string `\"course-block\"`. If you do it correctly, you should find that you have selected 40 elements with your XPath string and that it previews links (with some repetition).\n",
    "\n",
    "Instructions:\n",
    "* Fill in the blanks below to assign an XPath string to the variable `xpath` which directs to all `href` attribute values of the hyperlink `a` elements whose class attributes contain the string `\"course-block\"`. Remember that we use the `contains` call within the XPath string to check if an attribute value contains a particular string."
   ]
  },
  {
   "cell_type": "code",
   "execution_count": 15,
   "metadata": {},
   "outputs": [],
   "source": [
    "# WE WANT TO USE THE SAME DATACAMP COURSE DIRECTORY PRE-SAVED HTML CODE HERE INSTEAD OF REQUESTS\n",
    "html = requests.get( 'https://www.datacamp.com/courses/q:introduction' ).content\n",
    "\n",
    "sel = Selector( text = html )\n",
    "  \n",
    "def preview( xpath ):\n",
    "    els = sel.xpath( xpath ).extract()\n",
    "    n = len(els)\n",
    "    for i,el in enumerate( els[:min(8,n)]):\n",
    "        print( \"Element %d: %s\" % (i+1,el) )"
   ]
  },
  {
   "cell_type": "code",
   "execution_count": 16,
   "metadata": {},
   "outputs": [
    {
     "name": "stdout",
     "output_type": "stream",
     "text": [
      "40\n",
      "Element 1: /courses/intro-to-python-for-data-science\n",
      "Element 2: /courses/intro-to-python-for-data-science\n",
      "Element 3: /courses/free-introduction-to-r\n",
      "Element 4: /courses/free-introduction-to-r\n",
      "Element 5: /courses/intro-to-sql-for-data-science\n",
      "Element 6: /courses/intro-to-sql-for-data-science\n",
      "Element 7: /courses/introduction-to-data-visualization-with-python\n",
      "Element 8: /courses/introduction-to-data-visualization-with-python\n"
     ]
    }
   ],
   "source": [
    "# Create an xpath to the href attributes\n",
    "xpath = '//a[contains(@class, \"course-block\")]/@href'\n",
    "\n",
    "# Print out how many elements are selected\n",
    "how_many_elements( xpath )\n",
    "# Preview the selected elements\n",
    "preview( xpath )"
   ]
  },
  {
   "cell_type": "markdown",
   "metadata": {},
   "source": [
    "# 3. Selector Objects\n",
    "## 3.1 XPath Chaining\n",
    "`Selector` and `SelectorList` objects allow for _chaining_ when using the `xpath` method. What this means is that you can apply the `xpath` method over once you've already applied it. For example, if `sel` is the name of our `Selector`, then\n",
    "\n",
    "> sel.xpath('/html/body/div[2]')\n",
    "\n",
    "is the same as\n",
    "\n",
    ">sel.xpath('/html').xpath('./body/div[2]')\n",
    "\n",
    "or is the same as\n",
    "\n",
    ">sel.xpath('/html').xpath('./body').xpath('./div[2]')\n",
    "\n",
    "The only catch is that you need to \"glue together\" the XPath pieces by using a period at the start of each subsequent XPath string (notice the periods we added to the XPath strings in our examples).\n",
    "\n",
    "### Instructions:\n",
    "* Fill in the blank below to chain together two `xpath` calls which result in the same selection as\n",
    "\n",
    "> sel.xpath('//div/span/p[3]')"
   ]
  },
  {
   "cell_type": "code",
   "execution_count": 17,
   "metadata": {},
   "outputs": [],
   "source": [
    "html = '''\n",
    "<html>\n",
    "  <body>\n",
    "    <div>HELLO</div>\n",
    "    <div><p>GOODBYE</p></div>\n",
    "    <div>\n",
    "      <span>\n",
    "        <p>NOPE</p>\n",
    "        <p>ALMOST</p>\n",
    "        <p>YOU GOT IT!</p>\n",
    "      </span>\n",
    "    </div>\n",
    "  </body>\n",
    "</html>\n",
    "'''\n",
    "sel = Selector( text = html )"
   ]
  },
  {
   "cell_type": "code",
   "execution_count": 18,
   "metadata": {},
   "outputs": [
    {
     "data": {
      "text/plain": [
       "[<Selector xpath='./span/p[3]' data='<p>YOU GOT IT!</p>'>]"
      ]
     },
     "execution_count": 18,
     "metadata": {},
     "output_type": "execute_result"
    }
   ],
   "source": [
    "# Chain together xpath methods to select desired p element\n",
    "sel.xpath( '//div' ).xpath( './span/p[3]' )"
   ]
  },
  {
   "cell_type": "markdown",
   "metadata": {},
   "source": [
    "# 3.2 Divvy Up This Exercise\n",
    "We have pre-loaded an HTML into the string variable `html`. In this two part problem you will use this `html` variable as the HTML document to set up a `Selector` object with, and create a `SelectorList` which selects all `div` elements; then, you will check your understanding of what happens within the `SelectorList`.\n",
    "\n",
    "### Instructions 1/2:\n",
    "* Set up the `Selector` object `sel` with the `html` variable passed as the text argument.\n",
    "* Assign to the variable `divs` a `SelectorList` of all `div` elements within the HTML document."
   ]
  },
  {
   "cell_type": "code",
   "execution_count": 19,
   "metadata": {},
   "outputs": [],
   "source": [
    "html = '''\n",
    "<html>\n",
    "    <body>\n",
    "        <div>Div 1: <p>paragraph 1</p></div>\n",
    "        <div>Div 2: <p>paragraph 2</p> <p>paragraph 3</p> </div>\n",
    "        <div>Div 3: <p>paragraph 4</p> <p>paragraph 5</p> <p>paragraph 6</p></div>\n",
    "        <div>Div 4: <p>paragraph 7</p></div>\n",
    "        <div>Div 5: <p>paragraph 8</p></div>\n",
    "    </body>\n",
    "</html>\n",
    "'''\n",
    "\n",
    "divs = Selector( text = html ).xpath( '//div' )"
   ]
  },
  {
   "cell_type": "code",
   "execution_count": 20,
   "metadata": {},
   "outputs": [],
   "source": [
    "from scrapy import Selector\n",
    "\n",
    "# Create a Selector selecting html as the HTML document\n",
    "sel = Selector( text = html )\n",
    "\n",
    "# Create a SelectorList of all div elements in the HTML document\n",
    "divs = sel.xpath( '//div' )"
   ]
  },
  {
   "cell_type": "markdown",
   "metadata": {},
   "source": [
    "### Instructions 2/2:\n",
    "###### Question:\n",
    "Referring to the `divs` variable you created in the previous exercise, choose the incorrect response.\n",
    "\n",
    "###### Possible Answers:\n",
    "1. `divs[2]` is a `Selector` object, which is the third `div` element in the HTML code.\n",
    "2. By chaining, the code `divs[2].xpath('./*')` will select all the children of the third `div` element.\n",
    "3. The code `len( divs[2].xpath('./*') )` gives the total number of children of the third `div` element in the HTML code.\n",
    "4. `divs[2]` is another `SelectorList` of length 2"
   ]
  },
  {
   "cell_type": "code",
   "execution_count": 21,
   "metadata": {},
   "outputs": [
    {
     "name": "stdout",
     "output_type": "stream",
     "text": [
      "<Selector xpath='//div' data='<div>Div 3: <p>paragraph 4</p> <p>paragr'>\n"
     ]
    }
   ],
   "source": [
    "print(divs[2])"
   ]
  },
  {
   "cell_type": "code",
   "execution_count": 22,
   "metadata": {},
   "outputs": [
    {
     "name": "stdout",
     "output_type": "stream",
     "text": [
      "['<p>paragraph 4</p>', '<p>paragraph 5</p>', '<p>paragraph 6</p>']\n"
     ]
    }
   ],
   "source": [
    "print(divs[2].xpath('./*').extract())"
   ]
  },
  {
   "cell_type": "code",
   "execution_count": 23,
   "metadata": {},
   "outputs": [
    {
     "name": "stdout",
     "output_type": "stream",
     "text": [
      "3\n"
     ]
    }
   ],
   "source": [
    "print(len( divs[2].xpath('./*') ))"
   ]
  },
  {
   "cell_type": "markdown",
   "metadata": {},
   "source": [
    "__Answer:__ The code `divs[2]` is one element from a SelectorList, and therefore is a Selector (not another SelectorList). (4)"
   ]
  },
  {
   "cell_type": "markdown",
   "metadata": {},
   "source": [
    "# 4.The Source of the Source\n",
    "## 4.1 Requesting a Selector\n",
    "We have pre-loaded the URL for a particular website in the string variable `url` and use the requests library to put the content from the website into the string variable `html`. Your task is to create a `Selector` object `sel` using the HTML source code stored in `html`.\n",
    "\n",
    "### Instructions:\n",
    "* Fill in the two blanks below to assign to create the `Selector` object `sel` which uses the string `html` as the text it inputs."
   ]
  },
  {
   "cell_type": "code",
   "execution_count": 24,
   "metadata": {},
   "outputs": [],
   "source": [
    "url = 'https://assets.datacamp.com/production/repositories/2560/datasets/19a0a26daa8d9db1d920b5d5607c19d6d8094b3b/all_short'\n",
    "# url = 'https://www.datacamp.com/courses'"
   ]
  },
  {
   "cell_type": "code",
   "execution_count": 25,
   "metadata": {},
   "outputs": [
    {
     "name": "stdout",
     "output_type": "stream",
     "text": [
      "There are 1020 elements in the HTML document.\n",
      "You have found:  1020\n"
     ]
    }
   ],
   "source": [
    "# Import a scrapy Selector\n",
    "from scrapy import Selector\n",
    "\n",
    "# Import requests\n",
    "import requests\n",
    "\n",
    "# Create the string html containing the HTML source\n",
    "html = requests.get( url ).content\n",
    "\n",
    "# Create the Selector object sel from html\n",
    "sel = Selector( text = html )\n",
    "\n",
    "# Print out the number of elements in the HTML document\n",
    "print( \"There are 1020 elements in the HTML document.\")\n",
    "print( \"You have found: \", len( sel.xpath('//*') ) )"
   ]
  },
  {
   "cell_type": "code",
   "execution_count": null,
   "metadata": {},
   "outputs": [],
   "source": []
  }
 ],
 "metadata": {
  "kernelspec": {
   "display_name": "Python 3",
   "language": "python",
   "name": "python3"
  },
  "language_info": {
   "codemirror_mode": {
    "name": "ipython",
    "version": 3
   },
   "file_extension": ".py",
   "mimetype": "text/x-python",
   "name": "python",
   "nbconvert_exporter": "python",
   "pygments_lexer": "ipython3",
   "version": "3.7.3"
  }
 },
 "nbformat": 4,
 "nbformat_minor": 2
}
