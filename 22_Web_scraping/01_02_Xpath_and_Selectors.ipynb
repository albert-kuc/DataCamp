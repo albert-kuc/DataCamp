{
 "cells": [
  {
   "cell_type": "markdown",
   "metadata": {},
   "source": [
    "# XPaths and Selectors\n",
    "Leverage XPath syntax to explore scrapy selectors. Both of these concepts will move you towards being able to scrape an HTML document.\n",
    "\n",
    "# 1. XPath\n",
    "## 1.1 Where am I?\n",
    "In this exercise, you will navigate to a specific element using your new knowledge of XPath notation.\n",
    "\n",
    "Consider the HTML code:"
   ]
  },
  {
   "cell_type": "code",
   "execution_count": 1,
   "metadata": {},
   "outputs": [],
   "source": [
    "html = \"\"\"\n",
    "<html>\n",
    "  <body>\n",
    "    <div>\n",
    "      <p>Good Luck!</p>\n",
    "      <p>Not here...</p>\n",
    "    </div>\n",
    "    <div>\n",
    "      <p>Where am I?</p>\n",
    "    </div>\n",
    "  </body>\n",
    "</html>\n",
    "\"\"\""
   ]
  },
  {
   "cell_type": "markdown",
   "metadata": {},
   "source": [
    "Your job will be to create an XPath string __using only single forward-slashes__ which navigates to the paragraph `p` element which contains the text \"Where am I?\".\n",
    "\n",
    "### Instructions:\n",
    "* __Using only single forward-slashes to move between generations__, assign a string to the variable `xpath` that directs to the paragraph element containing \"Where am I?\". Do not include any blank spaces in the string you assign to `xpath`."
   ]
  },
  {
   "cell_type": "code",
   "execution_count": 2,
   "metadata": {},
   "outputs": [],
   "source": [
    "import re\n",
    "from scrapy.http import TextResponse\n",
    "\n",
    "def space_remover( expr ):\n",
    "    return re.sub( pattern = \"[ ]+\", repl = \"\", string = expr)\n",
    "\n",
    "response = TextResponse( url = 'http://datacamp.com', body = html, encoding = 'utf-8' )\n",
    "\n",
    "def check_xpath( xpath ):\n",
    "    print( response.xpath( xpath ).extract() )\n",
    "    \n",
    "def check_xpath_1( xpath ):\n",
    "    print( response.xpath( xpath ).extract_first() )"
   ]
  },
  {
   "cell_type": "code",
   "execution_count": 3,
   "metadata": {},
   "outputs": [
    {
     "name": "stdout",
     "output_type": "stream",
     "text": [
      "<p>Where am I?</p>\n"
     ]
    }
   ],
   "source": [
    "# Fill in the blank\n",
    "xpath = '/html/body/div[2]/p[1]'\n",
    "\n",
    "check_xpath_1(xpath)"
   ]
  },
  {
   "cell_type": "markdown",
   "metadata": {},
   "source": [
    "## 1.2 It's Time to P\n",
    "In the lecture, we learned how to use double forward-slashes to navigate to all future generations. In this exercise, you will select all paragraph `p` elements within the HTML. Because we want you to navigate to __all__ paragraph elements, it is not important that you know what the HTML code is, since the task can be accomplished with a simple XPath string using the __double forward-slash__ notation you have learned.\n",
    "\n",
    "### Instructions:\n",
    "* Using double forward-slash notation, assign to the variable `xpath` a simple XPath string navigating to __all__ paragraph `p` elements within any HTML code."
   ]
  },
  {
   "cell_type": "code",
   "execution_count": 4,
   "metadata": {},
   "outputs": [
    {
     "name": "stdout",
     "output_type": "stream",
     "text": [
      "['<p>Good Luck!</p>', '<p>Not here...</p>', '<p>Where am I?</p>']\n"
     ]
    }
   ],
   "source": [
    "# Fill in the blank\n",
    "xpath = '//p'\n",
    "\n",
    "check_xpath(xpath)"
   ]
  },
  {
   "cell_type": "markdown",
   "metadata": {},
   "source": [
    "## 1.3 Body Appendages\n",
    "We have loaded the HTML from a secret website and have used it to create a function `how_many_elements()`. The way this function works is that you pass it an XPath string and it will print out the number of elements the XPath you wrote has selected. For example, by running the code `how_many_elements('//*')` in the console will print out the total number of elements the HTML document has (try it!).\n",
    "\n",
    "Your job in this exercise is to create an XPath string which can be used to direct to all child elements the `body` (regardless of tag type). To note, you can first test your solution with `how_many_elements()` to find the total number of children in the body element if you wish.\n",
    "\n",
    "Note that the exercises in this chapter may take some time to load.\n",
    "\n",
    "### Instructions:\n",
    "* Assign to the variable `xpath` an XPath string which directs to all child elements of the body element. There is only one body element in this HTML document and it is a child of the root `html` element."
   ]
  },
  {
   "cell_type": "code",
   "execution_count": 5,
   "metadata": {},
   "outputs": [],
   "source": [
    "# WE WANT TO USE THE SAME DATACAMP COURSE DIRECTORY PRE-SAVED HTML CODE HERE INSTEAD OF REQUESTS\n",
    "from scrapy import Selector\n",
    "import requests\n",
    "html = requests.get( 'https://www.datacamp.com/courses/q:introduction' ).content\n",
    "\n",
    "sel = Selector( text = html )\n",
    "\n",
    "def how_many_elements( xpath ):\n",
    "    print( len(sel.xpath( xpath )) )"
   ]
  },
  {
   "cell_type": "code",
   "execution_count": 6,
   "metadata": {},
   "outputs": [
    {
     "name": "stdout",
     "output_type": "stream",
     "text": [
      "25\n"
     ]
    }
   ],
   "source": [
    "# Create an XPath string to direct to children of body element\n",
    "xpath = '/html/body/*'\n",
    "\n",
    "# Print out the number of elements selected\n",
    "how_many_elements( xpath )"
   ]
  },
  {
   "cell_type": "markdown",
   "metadata": {},
   "source": [
    "You were able to direct to all children of the body element! \n",
    "\n",
    "## 1.4 Choose DataCamp!\n",
    "In this exercise, we want to give you the opportunity to create your own XPath string to achieve a certain task; the task is to select the paragraph element containing the text \"Choose DataCamp!\".\n",
    "\n",
    "Consider the following HTML:\n",
    "\n",
    "<html>\n",
    "  <body>\n",
    "    <div>\n",
    "      <p>Hello World!</p>\n",
    "      <div>\n",
    "        <p>Choose DataCamp!</p>\n",
    "      </div>\n",
    "    </div>\n",
    "    <div>\n",
    "      <p>Thanks for Watching!</p>\n",
    "    </div>\n",
    "  </body>\n",
    "</html>\n",
    "We have created the function print_element_text() for you, which will print the text contained in your element (if it contains any). Feel free to use this function to check if your solution is correct!\n",
    "\n",
    "### Instructions:\n",
    "* Assign to the variable `xpath` an XPath string to direct to the paragraph element containing the phrase: \"Choose DataCamp!\"."
   ]
  },
  {
   "cell_type": "code",
   "execution_count": 7,
   "metadata": {},
   "outputs": [],
   "source": [
    "from scrapy import Selector\n",
    "html = '''\n",
    "<html>\n",
    "  <body>\n",
    "    <div>\n",
    "      <p>Hello World!</p>\n",
    "      <div>\n",
    "        <p>Choose DataCamp!</p>\n",
    "      </div>\n",
    "    </div>\n",
    "    <div>\n",
    "      <p>Thanks for Watching!</p>\n",
    "    </div>\n",
    "  </body>\n",
    "</html>\n",
    "'''\n",
    "\n",
    "sel = Selector( text = html )\n",
    "\n",
    "def print_element_text( xpath ):\n",
    "    text = ' '.join( sel.xpath( xpath ).xpath( './text()' ).extract() )\n",
    "    print( text )"
   ]
  },
  {
   "cell_type": "code",
   "execution_count": 8,
   "metadata": {},
   "outputs": [
    {
     "name": "stdout",
     "output_type": "stream",
     "text": [
      "Choose DataCamp!\n"
     ]
    }
   ],
   "source": [
    "# Create an XPath string to the desired paragraph element\n",
    "xpath = '/html/body/div/div/p'\n",
    "# xpath = '/html/body/div[1]/div/p' # alternative code\n",
    "\n",
    "# Print out the element text\n",
    "print_element_text( xpath )"
   ]
  },
  {
   "cell_type": "code",
   "execution_count": null,
   "metadata": {},
   "outputs": [],
   "source": []
  }
 ],
 "metadata": {
  "kernelspec": {
   "display_name": "Python 3",
   "language": "python",
   "name": "python3"
  },
  "language_info": {
   "codemirror_mode": {
    "name": "ipython",
    "version": 3
   },
   "file_extension": ".py",
   "mimetype": "text/x-python",
   "name": "python",
   "nbconvert_exporter": "python",
   "pygments_lexer": "ipython3",
   "version": "3.7.3"
  }
 },
 "nbformat": 4,
 "nbformat_minor": 2
}
