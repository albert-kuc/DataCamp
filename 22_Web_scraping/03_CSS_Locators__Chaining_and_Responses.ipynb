{
 "cells": [
  {
   "cell_type": "markdown",
   "metadata": {},
   "source": [
    "# CSS Locators, Chaining, and Responses\n",
    "Learn CSS Locator syntax and begin playing with the idea of chaining together CSS Locators with XPath. We also introduce Response objects, which behave like Selectors but give us extra tools to mobilize our scraping efforts across multiple websites.\n",
    "# 1. From XPath to CSS\n",
    "## 1.1 The (X)Path to CSS Locators\n",
    "Many people prefer using CSS Locator notation to XPath notation. As we will see later, it often makes attribute selection very easy. To help get you more comfortable going back and forth between XPath and CSS Locator strings, we give you a chance in this exercise to do some direct \"translation\" between the two.\n",
    "\n",
    "_Note that the exercises in this chapter may take some time to load._\n",
    "\n",
    "### Instructions 1/2:\n",
    "* Assign to the variable `css_locator` a CSS Locator string which is equivalent to the XPath string given."
   ]
  },
  {
   "cell_type": "code",
   "execution_count": 1,
   "metadata": {},
   "outputs": [],
   "source": [
    "# Create the XPath string equivalent to the CSS Locator \n",
    "xpath = '/html/body/span[1]//a'\n",
    "# Create the CSS Locator string equivalent to the XPath\n",
    "css_locator = 'html > body > span:nth-of-type(1) a'"
   ]
  },
  {
   "cell_type": "markdown",
   "metadata": {},
   "source": [
    "### Instructions 2/2:\n",
    "* Assign to the variable xpath a XPath string which is equivalent to the CSS Locator string given."
   ]
  },
  {
   "cell_type": "code",
   "execution_count": 2,
   "metadata": {},
   "outputs": [],
   "source": [
    "# Create the XPath string equivalent to the CSS Locator \n",
    "xpath = '//div[@id=\"uid\"]/span//h4'\n",
    "# Create the CSS Locator string equivalent to the XPath\n",
    "css_locator = 'div#uid > span h4'"
   ]
  },
  {
   "cell_type": "markdown",
   "metadata": {},
   "source": [
    "## 1.2 Get an \"a\" in this Course\n",
    "We have loaded the HTML from a secret website which you will use to set up a `Selector` object and the function `how_many_elements()`. When passing this function a CSS Locator string, it will print out the number of elements that the CSS Locator you wrote has selected.\n",
    "\n",
    "In the second part of this problem, we want you to create a CSS Locator string which will select a certain collection of elements as described here: Select the hyperlink (`a` element) children of all `div` elements belonging to the class `\"course-block\"` (that is, any div element with `a` class attribute such that `\"course-block\"` is one of the classes assigned). The number of such elements is 11, so you can check your solution with `how_many_elements` if you choose.\n",
    "\n",
    "### Instructions:\n",
    "* Fill in the blank below to create the `Selector` object `sel` using the string `html` as the text input.\n",
    "* Assign the variable css_locator a CSS Locator string which directs to the hyperlink (a element) children of all div elements belonging to the class \"course-block\"."
   ]
  },
  {
   "cell_type": "code",
   "execution_count": 3,
   "metadata": {},
   "outputs": [],
   "source": [
    "from scrapy import Selector\n",
    "import requests\n",
    "# html = requests.get( 'https://assets.datacamp.com/production/repositories/2560/datasets/0f78aa6961422247398f079e099e179f6bf4aec9/all_long' ).content\n",
    "html = requests.get('https://assets.datacamp.com/production/repositories/2560/datasets/19a0a26daa8d9db1d920b5d5607c19d6d8094b3b/all_short').content\n",
    "\n",
    "def how_many_elements( css ):\n",
    "    sel = Selector( text = html )\n",
    "    print( len(sel.css( css )) )"
   ]
  },
  {
   "cell_type": "code",
   "execution_count": 4,
   "metadata": {},
   "outputs": [
    {
     "name": "stdout",
     "output_type": "stream",
     "text": [
      "11\n"
     ]
    }
   ],
   "source": [
    "# Create a selector from the html (of a secret website)\n",
    "sel = Selector( text = html )\n",
    "\n",
    "# Fill in the blank\n",
    "css_locator = \"div.course-block > a\"\n",
    "\n",
    "# Print the number of selected elements.\n",
    "how_many_elements( css_locator )"
   ]
  },
  {
   "cell_type": "markdown",
   "metadata": {},
   "source": [
    "## 1.3 The CSS Wildcard\n",
    "You can use the wildcard `*` in CSS Locators too! In fact, we can use it in a similar way, when we want to ignore the tag type. For example:\n",
    "\n",
    "* The CSS Locator string `'*'` selects all elements in the HTML document.\n",
    "* The CSS Locator string `'*.class-1'` selects all elements which belong to `class-1`, but this is unnecessary since the string `'.class-1'` will also do the same job.\n",
    "* The CSS Locator string `'*#uid'` selects the element with `id` attribute equal to `uid`, but this is unnecessary since the string `'#uid'` will also do the same job.\n",
    "\n",
    "In this exercise, we want you to work by analogy with the wildcard character you know from XPath notation to discover how to select all the children of a certain element in CSS Locator notation.\n",
    "\n",
    "### Instructions:\n",
    "* Assign to the variable `css_locator` a CSS Locator string which will select all children (regardless of tag-type) of the unique element in the HTML document that has its `id` attribute equal to `uid`."
   ]
  },
  {
   "cell_type": "code",
   "execution_count": 5,
   "metadata": {},
   "outputs": [],
   "source": [
    "# Create the CSS Locator to all children of the element whose id is uid\n",
    "css_locator = \"#uid > *\""
   ]
  },
  {
   "cell_type": "markdown",
   "metadata": {},
   "source": [
    "# 2. CSS Attributes and Text Selection\n",
    "## 2.1 You've been \\`href\\`ed\n",
    "In a previous exercise, you created a CSS Locator string to select the hyperlink (`a` element) children of all `div` elements belonging to the class `\"course-block\"`. Here we have created a `SelectorList` called `course_as` having selected those hyperlink children.\n",
    "\n",
    "Now, we want you to fill in the blank below to extract the `href` attribute values from these elements. This is another example of chaining, as we've seen in a previous exercise.\n",
    "\n",
    "The point here is that we can chain together calls to the methods `css` and `xpath`, and combine them! We help nudge you in the correct direction by giving you the solution if we chain with another call to the `css` method.\n",
    "\n",
    "### Instructions:\n",
    "* Set up the `Selector` object `sel` using the string `html` as the text input.\n",
    "* Assign to the variable `hrefs_from_xpath` the `href` attribute values from the elements in `course_as`. Your solution should match `hrefs_from_css`!"
   ]
  },
  {
   "cell_type": "code",
   "execution_count": 6,
   "metadata": {},
   "outputs": [],
   "source": [
    "# Create a selector object from a secret website\n",
    "sel = Selector( text = html )\n",
    "\n",
    "# Select all hyperlinks of div elements belonging to class \"course-block\"\n",
    "course_as = sel.css( 'div.course-block > a' )\n",
    "\n",
    "# Selecting all href attributes chaining with css\n",
    "hrefs_from_css = course_as.css( '::attr(href)' )\n",
    "\n",
    "# Selecting all href attributes chaining with xpath\n",
    "hrefs_from_xpath = course_as.xpath( './@href' )"
   ]
  },
  {
   "cell_type": "markdown",
   "metadata": {},
   "source": [
    "## 2.2 Top Level Text\n",
    "This exercise will have you write an XPath and CSS Locator string to direct to the text of a specific paragraph `p` element. The `p` element in the HTML is uniquely defined by its `id` attribute, which is `\"p3\"`. With this small piece of information, you should be able to create the desired strings; however, we have preloaded the variable `html` with a string containing the HTML in which this link belongs, if you want to peruse it.\n",
    "\n",
    "In this exercise, you will only be selecting the text within the element, which \"does not include\" the text in future generations of the element. We have created a function `print_results` for you to compare which elements your strings direct to.\n",
    "\n",
    "### Instructions:\n",
    "* Assign to the variable `xpath` an XPath string directing to the text within the paragraph `p` element with `id` equal to `p3`, which __does not include__ the text of future generations of this `p` element.\n",
    "* Assign to the variable `css_locator` a CSS Locator string directing to this same text."
   ]
  },
  {
   "cell_type": "code",
   "execution_count": 7,
   "metadata": {},
   "outputs": [],
   "source": [
    "html = '''\n",
    "<html>\n",
    "<body>\n",
    "<div id=\"this-div\">\n",
    "<p id=\"p1\" class=\"class-1\">This is not the element you are looking for</p>\n",
    "<p id=\"p2\" class=\"class-12\">\n",
    "<a href=\"https://www.google.com\">Google</a> is linked to here, but this isn't the link you are looking for. \n",
    "</p>\n",
    "<p id=\"p3\" class=\"class-1 class-12\">\n",
    "Here is the <a href=\"https://www.datacamp.com\" id=\"a-exercise\">DataCamp</a> link you want!\n",
    "</p>\n",
    "</div>\n",
    "</body>\n",
    "</html>\n",
    "'''\n",
    "\n",
    "from scrapy.http import TextResponse\n",
    "res = TextResponse( url = \"https://www.DataCamp.com\", body = html, encoding = 'utf-8' )\n",
    "\n",
    "def our_xpath( xpath ):\n",
    "    xextr = res.xpath( xpath ).extract()\n",
    "    return xextr\n",
    "  \n",
    "def our_css( css ):\n",
    "    cextr = res.css( css ).extract()\n",
    "    return cextr\n",
    "\n",
    "\n",
    "def print_results( xpath, css_locator ):\n",
    "    print( \"Your XPath extracts to following:\")\n",
    "    print( our_xpath(xpath) )\n",
    "    print(\"_________________\\n\")\n",
    "    print( \"Your CSS Locator extracts the following:\")\n",
    "    print( our_css(css_locator) )\n",
    "    return None"
   ]
  },
  {
   "cell_type": "code",
   "execution_count": 8,
   "metadata": {},
   "outputs": [
    {
     "name": "stdout",
     "output_type": "stream",
     "text": [
      "Your XPath extracts to following:\n",
      "['\\nHere is the ', ' link you want!\\n']\n",
      "_________________\n",
      "\n",
      "Your CSS Locator extracts the following:\n",
      "['\\nHere is the ', ' link you want!\\n']\n"
     ]
    }
   ],
   "source": [
    "# Create an XPath string to the desired text.\n",
    "xpath = '//p[@id=\"p3\"]/text()'\n",
    "\n",
    "# Create a CSS Locator string to the desired text.\n",
    "css_locator = 'p#p3::text'\n",
    "\n",
    "# Print the text from our selections\n",
    "print_results( xpath, css_locator )"
   ]
  },
  {
   "cell_type": "markdown",
   "metadata": {},
   "source": [
    "## 2.3 All Level Text\n",
    "This exercise is similar to the previous, but differs in that you will be selecting text from multiple generations of a given element.\n",
    "\n",
    "You will write an XPath and CSS Locator strings to direct to the text of a specific paragraph `p` element. The `p` element in the HTML is uniquely defined by its `id` attribute, which is `\"p3\"`. With this small piece of information, you should be able to create the desired strings; however, we have preloaded the variable `html` with a string containing the HTML in which this link belongs, if you want to peruse it.\n",
    "\n",
    "In this exercise, you will only be selecting the text within the element which includes all text within the future generations. We have created a function print_results for you to compare which elements your strings direct to.\n",
    "\n",
    "### Instructions:\n",
    "* Assign to the variable `xpath` an XPath string directing to the text within the paragraph `p` element with `id` equal to `p3`, which includes the text of future generations of this `p` element.\n",
    "* Assign to the variable `css_locator` a CSS Locator string directing to this same text."
   ]
  },
  {
   "cell_type": "code",
   "execution_count": 9,
   "metadata": {},
   "outputs": [
    {
     "name": "stdout",
     "output_type": "stream",
     "text": [
      "Your XPath extracts to following:\n",
      "['\\nHere is the ', 'DataCamp', ' link you want!\\n']\n",
      "_________________\n",
      "\n",
      "Your CSS Locator extracts the following:\n",
      "['\\nHere is the ', 'DataCamp', ' link you want!\\n']\n"
     ]
    }
   ],
   "source": [
    "# Create an XPath string to the desired text.\n",
    "xpath = '//p[@id=\"p3\"]//text()'\n",
    "\n",
    "# Create a CSS Locator string to the desired text.\n",
    "css_locator = 'p#p3 ::text'\n",
    "\n",
    "# Print the text from our selections\n",
    "print_results( xpath, css_locator )"
   ]
  },
  {
   "cell_type": "markdown",
   "metadata": {},
   "source": [
    "# 3. Respond Please!\n",
    "## 3.1 Reveal By Response\n",
    "We have pre-loaded a `Response` object, named `response` with the content from a secret website. Your job is to figure out the URL and the title of the website using the response variable. You learned how to find the URL in the last lesson. To find the website title, what you need to know is:\n",
    "\n",
    "* The title is the __text__ from the `title` element\n",
    "* The `title` element is a child of the `head` element, which is a child of the `html` root element.\n",
    "\n",
    "To note: the `html` root element only has one child `head` element, and the `head` element only has one child `title` element.\n",
    "\n",
    "### Instructions:\n",
    "* Assign to the variable `this_url` the URL used to load the `response` variable.\n",
    "* Assign to the variable `this_title` the title of the website used to load the `response` variable. Since we only want the text from the single element we will select, we use the `extract_first()` method to extract the text."
   ]
  },
  {
   "cell_type": "code",
   "execution_count": 10,
   "metadata": {},
   "outputs": [],
   "source": [
    "import requests\n",
    "from scrapy.http import TextResponse\n",
    "\n",
    "html = requests.get('https://assets.datacamp.com/production/repositories/2560/datasets/19a0a26daa8d9db1d920b5d5607c19d6d8094b3b/all_short').content\n",
    "\n",
    "response = TextResponse( url = 'https://www.datacamp.com/courses/all', \n",
    "                         body = html, \n",
    "                         encoding = 'utf-8' )\n",
    "\n",
    "def print_url_title( url, title ):\n",
    "    print( \"Here is what you found:\" )\n",
    "    print( \"\\t-URL: %s\" % url )\n",
    "    print( \"\\t-Title: %s\" % title )"
   ]
  },
  {
   "cell_type": "code",
   "execution_count": 11,
   "metadata": {},
   "outputs": [
    {
     "name": "stdout",
     "output_type": "stream",
     "text": [
      "Here is what you found:\n",
      "\t-URL: https://www.datacamp.com/courses/all\n",
      "\t-Title: Data Science Courses: R & Python Analysis Tutorials | DataCamp\n"
     ]
    }
   ],
   "source": [
    "# Get the URL to the website loaded in response\n",
    "this_url = response.url\n",
    "\n",
    "# Get the title of the website loaded in response\n",
    "this_title = response.xpath('//title/text()').extract_first()\n",
    "\n",
    "# Print out our findings\n",
    "print_url_title( this_url, this_title )"
   ]
  },
  {
   "cell_type": "markdown",
   "metadata": {},
   "source": [
    "## 3.2 Responding with Selectors\n",
    "Something that we should emphasize at this point about the relationship between a `Selector` and `Response` objects is that __both__ objects return a `SelectorList` when using the `xpath` or `css` methods to direct to elements. In this exercise, we'll prove it to you, by having you find all hyperlink elements belonging to the class `course-block__link` (notice the double underscore!) and looking at the object that is produced when doing so.\n",
    "\n",
    "We have pre-loaded both a `Response` object named `response` and a `Selector` object named `sel` with the content from the same \"secret\" website. Once you complete the task of creating a CSS Locator, you will compare both the output from `response.css` and `selector.css` to see that they are effectively the same!\n",
    "\n",
    "### Instructions:\n",
    "* Assign to the variable `css_locator` a CSS Locator string which directs to all hyperlink `a` elements belonging to the class `course-block__link`.\n",
    "* Assign to the variable `response_as` the output of passing the `css_locator` variable to the `css` method in `response`.\n",
    "* Assign to the variable `sel_as` the output of passing the `css_locator` variable to the `css` method in `sel`."
   ]
  },
  {
   "cell_type": "code",
   "execution_count": 12,
   "metadata": {},
   "outputs": [
    {
     "name": "stdout",
     "output_type": "stream",
     "text": [
      "Element 1 from response: \n",
      "<Selector xpath=\"descendant-or-self::a[@class and contains(concat(' ', normalize-space(@class), ' '), ' course-block__link ')]\" data='<a class=\"course-block__link ds-snowplow'>\n",
      "Element 1 from sel: \n",
      "<Selector xpath=\"descendant-or-self::a[@class and contains(concat(' ', normalize-space(@class), ' '), ' course-block__link ')]\" data='<a class=\"course-block__link ds-snowplow'>\n",
      "\n",
      "Element 2 from response: \n",
      "<Selector xpath=\"descendant-or-self::a[@class and contains(concat(' ', normalize-space(@class), ' '), ' course-block__link ')]\" data='<a class=\"course-block__link ds-snowplow'>\n",
      "Element 2 from sel: \n",
      "<Selector xpath=\"descendant-or-self::a[@class and contains(concat(' ', normalize-space(@class), ' '), ' course-block__link ')]\" data='<a class=\"course-block__link ds-snowplow'>\n",
      "\n"
     ]
    }
   ],
   "source": [
    "# Create a CSS Locator string to the desired hyperlink elements\n",
    "css_locator = 'a.course-block__link'\n",
    "\n",
    "# Select the hyperlink elements from response and sel\n",
    "response_as = response.css(css_locator)\n",
    "sel_as = sel.css(css_locator)\n",
    "\n",
    "# Examine similarity\n",
    "nr = len( response_as )\n",
    "ns = len( sel_as )\n",
    "for i in range( min(nr, ns, 2) ):\n",
    "    print( \"Element %d from response: \\n%s\" % (i+1, response_as[i]) )\n",
    "    print( \"Element %d from sel: \\n%s\" % (i+1, sel_as[i]) )\n",
    "    print( \"\" )"
   ]
  },
  {
   "cell_type": "markdown",
   "metadata": {},
   "source": [
    "## 3.3 Selecting from a Selection\n",
    "In this exercise, you will find the text from an `h4` element within a particular `div` element. It will occur in steps where the first step is selecting a family of `div` elements, and the second step is narrowing in on the first one, from which we will grab the `h4` element text. This process of progressively narrowing in on elements (e.g., first to the `div` elements, then to the `h4` element) is another example of \"chaining\", even if it doesn't look exactly the same as we've seen it before.\n",
    "\n",
    "Along the way in this exercise, there is a variable `first_div` set up for you to use. Think carefully about what type of object `first_div` is!\n",
    "\n",
    "### Instructions:\n",
    "* Assign to the variable `divs` a SelectorList which selects all `div` elements belonging to the class `course-block`.\n",
    "* Assign to the variable `h4_text` the text from the __only__ `h4` element within the content selected in `first_div`. Since we only want the text from the single element we will select, we use the `extract_first()` method to extract the text."
   ]
  },
  {
   "cell_type": "code",
   "execution_count": 13,
   "metadata": {},
   "outputs": [
    {
     "name": "stdout",
     "output_type": "stream",
     "text": [
      "The text from the h4 element is: Introduction to R\n"
     ]
    }
   ],
   "source": [
    "# Select all desired div elements\n",
    "divs = response.css('div.course-block')\n",
    "\n",
    "# Take the first div element\n",
    "first_div = divs[0]\n",
    "\n",
    "# Extract the text from the (only) h4 element in first_div\n",
    "h4_text = first_div.css('h4::text').extract_first()\n",
    "\n",
    "# Print out the text\n",
    "print( \"The text from the h4 element is:\", h4_text )"
   ]
  },
  {
   "cell_type": "markdown",
   "metadata": {},
   "source": [
    "# 4. Survey\n",
    "## 4.1 Titular\n",
    "Similar to the work given in the previous lesson, we will have you use a pre-loaded `Response` object, named `response` to scrape the course titles from the (shortened version of the) DataCamp course directory https://www.datacamp.com/courses/all. To successfully do so, you only need to know the following\n",
    "\n",
    "* The course titles __are the text__ from all the `h4` elements within the HTML document.\n",
    "\n",
    "Extract these course titles here.\n",
    "\n",
    "### Instructions:\n",
    "* Using `response`, assign to the variable `crs_title_els` a `SelectorList` of the selected course titles.\n",
    "* Assign to the variable `crs_titles` a list created by extracting the course titles from `crs_title_els`."
   ]
  },
  {
   "cell_type": "code",
   "execution_count": 14,
   "metadata": {},
   "outputs": [
    {
     "name": "stdout",
     "output_type": "stream",
     "text": [
      ">> Introduction to R\n",
      ">> Data Analysis in R, the data.table Way\n",
      ">> Data Manipulation in R with dplyr\n",
      ">> Data Visualization in R with ggvis\n",
      ">> Reporting with R Markdown\n",
      ">> Intermediate R\n",
      ">> Introduction to Machine Learning\n",
      ">> Cleaning Data in R\n",
      ">> Intro to Python for Data Science\n",
      ">> Intermediate R - Practice\n",
      ">> Predicting Customer Churn in Python\n"
     ]
    }
   ],
   "source": [
    "# Create a SelectorList of the course titles\n",
    "crs_title_els = response.css('h4::text')\n",
    "\n",
    "# Extract the course titles \n",
    "crs_titles = crs_title_els.extract()\n",
    "\n",
    "# Print out the course titles \n",
    "for el in crs_titles:\n",
    "    print( \">>\", el )"
   ]
  },
  {
   "cell_type": "markdown",
   "metadata": {},
   "source": [
    "## 4.2 Scraping with Children\n",
    "We did a cute trick in the lesson to calculate how many children there were of one of the `div` elements belonging to the class `course-block`. Here we ask you to find the number of children of a mystery element (already stored within a `Selector` object, so you can use the `xpath` or `css` method).\n",
    "\n",
    "To be explicit, we have created the `Selector` object `mystery` in the following way:\n",
    "\n",
    "* We first loaded a `Response` variable using a secret website as the input.\n",
    "* Then we used a call to the `xpath` method to create a `SelectorList` of elements (but we won't say which ones)\n",
    "* Finally, we let `mystery` be the first `Selector` object of this `SelectorList`.\n",
    "\n",
    "### Instructions:\n",
    "* Fill in the blank below to chain on a call to `xpath` so that we can calculate the number of children of the mystery element; we assign this number to the variable `how_many_kids`."
   ]
  },
  {
   "cell_type": "code",
   "execution_count": 15,
   "metadata": {},
   "outputs": [],
   "source": [
    "from scrapy.http import TextResponse\n",
    "import requests\n",
    "\n",
    "_url = 'https://assets.datacamp.com/production/repositories/2560/datasets/19a0a26daa8d9db1d920b5d5607c19d6d8094b3b/all_short'\n",
    "_html = requests.get( _url ).content\n",
    "_response = TextResponse( url = _url, body = _html, encoding = 'utf-8' )\n",
    "_as = _response.xpath('//body')\n",
    "\n",
    "mystery = _as[0]"
   ]
  },
  {
   "cell_type": "code",
   "execution_count": 16,
   "metadata": {},
   "outputs": [
    {
     "name": "stdout",
     "output_type": "stream",
     "text": [
      "The number of elements you selected was: 23\n"
     ]
    }
   ],
   "source": [
    "# Calculate the number of children of the mystery element\n",
    "how_many_kids = len( mystery.xpath( './*' ) )\n",
    "\n",
    "# Print out the number\n",
    "print( \"The number of elements you selected was:\", how_many_kids )"
   ]
  },
  {
   "cell_type": "code",
   "execution_count": null,
   "metadata": {},
   "outputs": [],
   "source": []
  }
 ],
 "metadata": {
  "kernelspec": {
   "display_name": "Python 3",
   "language": "python",
   "name": "python3"
  },
  "language_info": {
   "codemirror_mode": {
    "name": "ipython",
    "version": 3
   },
   "file_extension": ".py",
   "mimetype": "text/x-python",
   "name": "python",
   "nbconvert_exporter": "python",
   "pygments_lexer": "ipython3",
   "version": "3.7.3"
  }
 },
 "nbformat": 4,
 "nbformat_minor": 2
}
