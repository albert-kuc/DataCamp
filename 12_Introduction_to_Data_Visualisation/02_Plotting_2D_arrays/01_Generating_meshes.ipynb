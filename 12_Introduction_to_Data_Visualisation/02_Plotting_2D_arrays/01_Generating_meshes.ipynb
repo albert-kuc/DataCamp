{
 "cells": [
  {
   "cell_type": "markdown",
   "metadata": {
    "collapsed": true
   },
   "source": [
    "# Generating meshes:\n",
    "In order to visualize two-dimensional arrays of data, it is necessary to understand how to generate and manipulate 2-D arrays. Many Matplotlib plots support arrays as input and in particular, they support NumPy arrays. The NumPy library is the most widely-supported means for supporting numeric arrays in Python.\n",
    "\n",
    "In this exercise, you will use the meshgrid function in NumPy to generate 2-D arrays which you will then visualize using `plt.imshow()`. The simplest way to generate a meshgrid is as follows:\n",
    "\n",
    "> import numpy as np\n",
    "> Y,X = np.meshgrid(range(10),range(20))\n",
    "\n",
    "This will create two arrays with a shape of `(20,10)`, which corresponds to 20 rows along the Y-axis and 10 columns along the X-axis. In this exercise, you will use `np.meshgrid()` to generate a regular 2-D sampling of a mathematical function."
   ]
  },
  {
   "cell_type": "markdown",
   "metadata": {},
   "source": [
    "Instructions:\n",
    "* Import the `numpy` and `matplotlib.pyplot` modules using the respective aliases `np` and `plt`.\n",
    "* Generate two one-dimensional arrays `u` and `v` using np.linspace(). The array `u` should contain 41 values uniformly spaced beween -2 and +2. The array `v` should contain 21 values uniformly spaced between -1 and +1.\n",
    "* Construct two two-dimensional arrays `X` and `Y` from `u` and `v` using `np.meshgrid()`. The resulting arrays should have shape `(41,21)`.\n",
    "* After the array `Z` is computed using `X` and `Y`, visualize the array `Z` using `plt.pcolor()` and `plt.show()`.\n",
    "* Save the resulting figure as `'sine_mesh.png'`."
   ]
  },
  {
   "cell_type": "code",
   "execution_count": 1,
   "metadata": {},
   "outputs": [
    {
     "data": {
      "image/png": "[encoded data removed]",
      "text/plain": [
       "<Figure size 432x288 with 1 Axes>"
      ]
     },
     "metadata": {},
     "output_type": "display_data"
    },
    {
     "data": {
      "text/plain": [
       "<Figure size 432x288 with 0 Axes>"
      ]
     },
     "execution_count": 0,
     "metadata": {},
     "output_type": "execute_result"
    }
   ],
   "source": [
    "# Import numpy and matplotlib.pyplot\n",
    "import numpy as np\n",
    "import matplotlib.pyplot as plt\n",
    "% matplotlib inline\n",
    "\n",
    "# Generate two 1-D arrays: u, v\n",
    "u = np.linspace(-2, 2, 41)\n",
    "v = np.linspace(-1, 1, 21)\n",
    "\n",
    "# Generate 2-D arrays from u and v: X, Y\n",
    "X,Y = np.meshgrid(u, v)\n",
    "\n",
    "# Compute Z based on X and Y\n",
    "Z = np.sin(3*np.sqrt(X**2 + Y**2))\n",
    "\n",
    "# Display the resulting image with pcolor()\n",
    "plt.pcolor(Z)\n",
    "plt.show()\n",
    "\n",
    "# Save the figure to 'sine_mesh.png'\n",
    "plt.savefig('sine_mesh.png')\n"
   ]
  }
 ],
 "metadata": {
  "kernelspec": {
   "display_name": "Python 2",
   "language": "python",
   "name": "python2"
  },
  "language_info": {
   "codemirror_mode": {
    "name": "ipython",
    "version": 2
   },
   "file_extension": ".py",
   "mimetype": "text/x-python",
   "name": "python",
   "nbconvert_exporter": "python",
   "pygments_lexer": "ipython2",
   "version": "2.7.6"
  }
 },
 "nbformat": 4,
 "nbformat_minor": 0
}
