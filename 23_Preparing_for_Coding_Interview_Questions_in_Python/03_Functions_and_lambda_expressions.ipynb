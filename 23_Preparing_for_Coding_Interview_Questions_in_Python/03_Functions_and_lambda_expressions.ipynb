{
 "cells": [
  {
   "cell_type": "markdown",
   "metadata": {},
   "source": [
    "# Functions and lambda expressions\n",
    "This chapter will focus on the functional aspects of Python. We'll start by defining functions with a variable amount of positional as well as keyword arguments. Next, we'll cover lambda functions and in which cases they can be helpful. Especially, we'll see how to use them with such functions as map(), filter(), and reduce(). Finally, we'll recall what is recursion and how to correctly implement one.\n",
    "\n",
    "# 1. How to pass a variable number of arguments to a function?\n",
    "## 1.1 Positional arguments of variable size\n",
    "Let's practice positional arguments of variable size. Your task is to define the function `sort_types()`. It takes a variable number of positional arguments and checks if each argument is a number or a string. The checked item is inserted afterwards either in the `nums` or `strings` list. Eventually, the function returns a tuple containing these lists.\n",
    "\n",
    "You can use the `isinstance()` function to check if an object is of a certain type (e.g. `isinstance(1, int)` returns `True`) or one of the types (e.g. `isinstance(5.65, (int, str))` returns `False`).\n",
    "\n",
    "Types to use in this task are `int`, `float`, and `str`.\n",
    "\n",
    "### Instructions:\n",
    "* Define the function with an arbitrary number of arguments.\n",
    "* Check if `arg` is a number and add it to `nums` if necessary.\n",
    "* Check if `arg` is a string and add it to `strings` if necessary."
   ]
  },
  {
   "cell_type": "code",
   "execution_count": 1,
   "metadata": {},
   "outputs": [
    {
     "name": "stdout",
     "output_type": "stream",
     "text": [
      "([1.57, 4, 5, 0.89], ['car', 'hat', 'tree'])\n"
     ]
    }
   ],
   "source": [
    "# Define the function with an arbitrary number of arguments\n",
    "def sort_types(*args):\n",
    "    \"\"\"\n",
    "    The function sorts the given positional arguments into\n",
    "    two lists: one with numbers and one with strings.\n",
    "    Eventually, it returns a tuple containing these lists.\n",
    "    \"\"\"\n",
    "    nums, strings = [], []    \n",
    "    for arg in args:\n",
    "        # Check if 'arg' is a number and add it to 'nums'\n",
    "        if isinstance(arg, (int, float)):\n",
    "            nums.append(arg)\n",
    "        # Check if 'arg' is a string and add it to 'strings'\n",
    "        elif isinstance(arg, str):\n",
    "            strings.append(arg)\n",
    "    \n",
    "    return (nums, strings)\n",
    "\n",
    "\n",
    "print(sort_types(1.57, 'car', 'hat', 4, 5, 'tree', 0.89))"
   ]
  },
  {
   "cell_type": "markdown",
   "metadata": {},
   "source": [
    "You can extend this code to sort many more data types.\n",
    "\n",
    "# 1.2 Keyword arguments of variable size\n",
    "Now let's move to keyword arguments of variable size! Your task is to define the function `key_types()`. It takes a variable number of keyword arguments and returns a new dictionary: the keys are unique object types of arguments passed to the `key_types()` function and the associated values represent lists. Each list contains argument names that follow the type defined as a key (e.g. calling the `key_types(val1='a', val2='b', val3=1)` results in `{<class 'int'>: ['val3'], <class 'str'>: ['val1', 'val2']}`).\n",
    "\n",
    "To retrieve the type of an object, you need to use the `type()` function (e.g. `type(1)` is `int`).\n",
    "\n",
    "### Instructions:\n",
    "* Define the function with an arbitrary number of keyword arguments.\n",
    "* Iterate over key-value pairs.\n",
    "* Update a list associated with a key."
   ]
  },
  {
   "cell_type": "code",
   "execution_count": 2,
   "metadata": {},
   "outputs": [
    {
     "name": "stdout",
     "output_type": "stream",
     "text": [
      "{<class 'int'>: ['a', 'b'], <class 'tuple'>: ['c'], <class 'float'>: ['d', 'e']}\n"
     ]
    }
   ],
   "source": [
    "# Define the function with an arbitrary number of arguments\n",
    "def key_types(**kwargs):\n",
    "    dict_type = dict()\n",
    "    # Iterate over key value pairs\n",
    "    for key, value in kwargs.items():\n",
    "        # Update a list associated with a key\n",
    "        if type(value) in dict_type:\n",
    "            dict_type[type(value)].append(key)\n",
    "        else:\n",
    "            dict_type[type(value)] = [key]\n",
    "            \n",
    "    return dict_type\n",
    "\n",
    "\n",
    "res = key_types(a=1, b=2, c=(1, 2), d=3.1, e=4.2)\n",
    "print(res)"
   ]
  },
  {
   "cell_type": "markdown",
   "metadata": {},
   "source": [
    "## 1.3 Combining argument types\n",
    "Now you'll try to combine different argument types. Your task is to define the `sort_all_types()` function. It takes positional and keyword arguments of variable size, finds all the numbers and strings contained within them, and concatenates type-wise the results. Use the `sort_types()` function you defined before (available in the workspace). It takes a positional argument of variable size and returns a tuple containing a list of numbers and a list of strings (type `sort_types?` to get additional help).\n",
    "\n",
    "### Instructions:\n",
    "* Define the arguments passed to the function (use any name you want).\n",
    "* Find all the numbers and strings in the 1st argument.\n",
    "* Find all the numbers and strings in the 2nd argument."
   ]
  },
  {
   "cell_type": "code",
   "execution_count": 3,
   "metadata": {},
   "outputs": [],
   "source": [
    "sort_types?"
   ]
  },
  {
   "cell_type": "code",
   "execution_count": 4,
   "metadata": {},
   "outputs": [
    {
     "name": "stdout",
     "output_type": "stream",
     "text": [
      "([1, 2.0, 5.1, 0.0, 5], ['dog', 'cat'])\n"
     ]
    }
   ],
   "source": [
    "# Define the arguments passed to the function\n",
    "def sort_all_types(*args, **kwargs):\n",
    "\n",
    "    # Find all the numbers and strings in the 1st argument\n",
    "    nums1, strings1 = sort_types(*args)\n",
    "    \n",
    "    # Find all the numbers and strings in the 2nd argument\n",
    "    nums2, strings2 = sort_types(*kwargs.values())\n",
    "    \n",
    "    return (nums1 + nums2, strings1 + strings2)\n",
    "\n",
    "\n",
    "res = sort_all_types(1, 2.0, 'dog', 5.1, num1 = 0.0, num2 = 5, str1 = 'cat')\n",
    "print(res)"
   ]
  },
  {
   "cell_type": "markdown",
   "metadata": {},
   "source": [
    "# 2. What is a lambda expression?\n",
    "## 2.1 Define lambda expressions\n",
    "Let's write some lambda expressions! You will be given three tasks: each will require you to define a lambda expression taking some values as arguments and using them to calculate a specific result.\n",
    "\n",
    "### Instructions:\n",
    "* Take x and return $x^2$ if $x>0$ and $0$, otherwise.\n",
    "* Take a list of integers nums and leave only even numbers.\n",
    "* Take strings `s1`, `s2` and list their common characters."
   ]
  },
  {
   "cell_type": "code",
   "execution_count": 5,
   "metadata": {},
   "outputs": [
    {
     "name": "stdout",
     "output_type": "stream",
     "text": [
      "4.0\n",
      "0\n"
     ]
    }
   ],
   "source": [
    "# Take x and return x squared if x > 0 and 0, otherwise\n",
    "squared_no_negatives = lambda x: x**2 if x > 0 else 0\n",
    "print(squared_no_negatives(2.0))\n",
    "print(squared_no_negatives(-1))"
   ]
  },
  {
   "cell_type": "code",
   "execution_count": 6,
   "metadata": {},
   "outputs": [
    {
     "name": "stdout",
     "output_type": "stream",
     "text": [
      "[2, 4, 6, 8, 10]\n"
     ]
    }
   ],
   "source": [
    "# Take a list of integers nums and leave only even numbers\n",
    "get_even = lambda nums: [n for n in nums if n % 2 == 0]\n",
    "print(get_even([1, 2, 3, 4, 5, 6, 7, 8, 9, 10]))"
   ]
  },
  {
   "cell_type": "code",
   "execution_count": 7,
   "metadata": {},
   "outputs": [
    {
     "name": "stdout",
     "output_type": "stream",
     "text": [
      "{'p', 'a'}\n"
     ]
    }
   ],
   "source": [
    "# Take strings s1, s2 and list their common characters\n",
    "common_chars = lambda s1, s2: set(s1).intersection(set(s2))\n",
    "print(common_chars('pasta', 'pizza'))"
   ]
  },
  {
   "cell_type": "markdown",
   "metadata": {},
   "source": [
    "## 2.2 Converting functions to lambda expressions\n",
    "Convert these three normally defined functions into lambda expressions:"
   ]
  },
  {
   "cell_type": "code",
   "execution_count": 8,
   "metadata": {},
   "outputs": [],
   "source": [
    "# Returns a bigger of the two numbers\n",
    "def func1(x, y):\n",
    "    if x >= y:\n",
    "        return x\n",
    "\n",
    "    return y"
   ]
  },
  {
   "cell_type": "code",
   "execution_count": 9,
   "metadata": {},
   "outputs": [],
   "source": [
    "# Returns a dictionary counting charaters in a string\n",
    "def func2(s):\n",
    "    d = dict()\n",
    "    for c in set(s):\n",
    "        d[c] = s.count(c)\n",
    "\n",
    "    return d"
   ]
  },
  {
   "cell_type": "code",
   "execution_count": 10,
   "metadata": {},
   "outputs": [],
   "source": [
    "import math\n",
    "\n",
    "# Returns a squared root of a sum of squared numbers\n",
    "def func3(*nums):\n",
    "    squared_nums = [n**2 for n in nums]\n",
    "    sum_squared_nums = sum(squared_nums)\n",
    "\n",
    "    return math.sqrt(sum_squared_nums)"
   ]
  },
  {
   "cell_type": "code",
   "execution_count": 11,
   "metadata": {},
   "outputs": [
    {
     "name": "stdout",
     "output_type": "stream",
     "text": [
      "5, 5\n",
      "5, 5\n"
     ]
    }
   ],
   "source": [
    "# Convert func1() to a lambda expression\n",
    "lambda1 = lambda x, y: x if x>=y else y\n",
    "print(str(func1(5, 4)) + ', ' + str(lambda1(5, 4)))\n",
    "print(str(func1(4, 5)) + ', ' + str(lambda1(4, 5)))"
   ]
  },
  {
   "cell_type": "code",
   "execution_count": 12,
   "metadata": {},
   "outputs": [
    {
     "name": "stdout",
     "output_type": "stream",
     "text": [
      "{'D': 1, 't': 1, 'm': 1, 'p': 1, 'a': 3, 'C': 1}\n",
      "{'D': 1, 't': 1, 'm': 1, 'p': 1, 'a': 3, 'C': 1}\n"
     ]
    }
   ],
   "source": [
    "# Convert func2() to a lambda expression\n",
    "lambda2 = lambda s: dict([(c, s.count(c)) for c in set(s)])\n",
    "print(func2('DataCamp'))\n",
    "print(lambda2('DataCamp'))"
   ]
  },
  {
   "cell_type": "code",
   "execution_count": 13,
   "metadata": {},
   "outputs": [
    {
     "name": "stdout",
     "output_type": "stream",
     "text": [
      "5.0, 5.0\n",
      "7.0710678118654755, 7.0710678118654755\n"
     ]
    }
   ],
   "source": [
    "# Convert func3() to a lambda expression\n",
    "lambda3 = lambda *nums: math.sqrt(sum([n**2 for n in nums]))\n",
    "print(str(func3(3, 4)) + ', ' + str(lambda3(3, 4)))\n",
    "print(str(func3(3, 4, 5)) + ', ' + str(lambda3(3, 4, 5)))"
   ]
  },
  {
   "cell_type": "markdown",
   "metadata": {},
   "source": [
    "It is a very practical skill to understand when a normal function definition can be substituted with a lambda expression.\n",
    "\n",
    "## 2.3 Using a lambda expression as an argument\n",
    "Let's pass lambda expressions as arguments to functions. You will deal with the list `.sort()` method. By default, it sorts numbers in increasing order. Characters and strings are sorted alphabetically. The method can be defined as `.sort(key=function)`. Here, `key` defines a mapping of each item in the considered list to a sortable object (e.g. a number or a character). Thus, the items in a list are sorted the way sortable objects are.\n",
    "\n",
    "Your task is to define different ways to sort the list `words` using the `key` argument with a lambda expression."
   ]
  },
  {
   "cell_type": "code",
   "execution_count": 14,
   "metadata": {},
   "outputs": [],
   "source": [
    "words = ['car', 'truck', 'interview', 'tequila', 'time', 'cell', 'chicken', 'leader', 'government', \n",
    "         'transaction', 'country', 'bag', 'call', 'area', 'service', 'phone', 'advantage', 'job', \n",
    "         'shape', 'item', 'atmosphere', 'height', 'creature', 'plane', 'unit']"
   ]
  },
  {
   "cell_type": "markdown",
   "metadata": {},
   "source": [
    "### Instructions: \n",
    "* Sort `words` by string length.\n",
    "* Sort `words` by the last character in a string.\n",
    "* Sort `words` by the total amount of characters `a`, `b`, and `c` (e.g., the word `'cabana'` has 3 `a`'s, 1 `b`, and 1 `c`; in total, 5)"
   ]
  },
  {
   "cell_type": "code",
   "execution_count": 15,
   "metadata": {},
   "outputs": [
    {
     "name": "stdout",
     "output_type": "stream",
     "text": [
      "['car', 'bag', 'job', 'time', 'cell', 'call', 'area', 'item', 'unit', 'truck', 'phone', 'shape', 'plane', 'leader', 'height', 'tequila', 'chicken', 'country', 'service', 'creature', 'interview', 'advantage', 'government', 'atmosphere', 'transaction']\n"
     ]
    }
   ],
   "source": [
    "# Sort words by the string length\n",
    "words.sort(key=lambda s: len(s))\n",
    "print(words)"
   ]
  },
  {
   "cell_type": "code",
   "execution_count": 16,
   "metadata": {},
   "outputs": [
    {
     "name": "stdout",
     "output_type": "stream",
     "text": [
      "['area', 'tequila', 'job', 'time', 'phone', 'shape', 'plane', 'service', 'creature', 'advantage', 'atmosphere', 'bag', 'truck', 'cell', 'call', 'item', 'chicken', 'transaction', 'car', 'leader', 'unit', 'height', 'government', 'interview', 'country']\n"
     ]
    }
   ],
   "source": [
    "# Sort words by the last character in a string\n",
    "words.sort(key=lambda s: s[-1])\n",
    "print(words)"
   ]
  },
  {
   "cell_type": "code",
   "execution_count": 17,
   "metadata": {},
   "outputs": [
    {
     "name": "stdout",
     "output_type": "stream",
     "text": [
      "['time', 'phone', 'item', 'unit', 'height', 'government', 'interview', 'tequila', 'job', 'shape', 'plane', 'service', 'atmosphere', 'truck', 'cell', 'leader', 'country', 'area', 'creature', 'bag', 'call', 'chicken', 'car', 'advantage', 'transaction']\n"
     ]
    }
   ],
   "source": [
    "# Sort words by the total amount of certain characters\n",
    "words.sort(key=lambda s: s.count('a') + s.count('b') + s.count('c'))\n",
    "print(words)"
   ]
  },
  {
   "cell_type": "markdown",
   "metadata": {},
   "source": [
    "# 3. What are the functions map(), filter(), reduce()?\n",
    "## 3.1 The map() function\n",
    "Let's do some mapping!\n",
    "\n",
    "Do you remember how `zip()` works? It merges given Iterables so that items with the same index fall into the same tuple. Moreover, the output is restricted by the shortest Iterable.\n",
    "\n",
    "Your task is to define your own `my_zip()` function with `*args` depicting a variable number of Iterables. Rather than a `zip` object, `my_zip()` should already return a list of tuples.\n",
    "\n",
    "Comment: `args` should be checked whether they contain Iterables first. But we omit it for simplicity.\n",
    "\n",
    "### Instructions:\n",
    "* Retrieve Iterable lengths from `args` using `map()` and find the minimal length.\n",
    "* Append new items to the `tuple_list`; each item is a list with elements from Iterables in `args` with the same index."
   ]
  },
  {
   "cell_type": "code",
   "execution_count": 18,
   "metadata": {},
   "outputs": [
    {
     "name": "stdout",
     "output_type": "stream",
     "text": [
      "[(1, 'a', 'D'), (2, 'b', 'a'), (3, 'c', 't')]\n"
     ]
    }
   ],
   "source": [
    "def my_zip(*args):\n",
    "    \n",
    "    # Retrieve Iterable lengths and find the minimal length\n",
    "    lengths = list(map(len, args))\n",
    "    min_length = min(lengths)\n",
    "\n",
    "    tuple_list = []\n",
    "    for i in range(0, min_length):\n",
    "        # Append new items to the 'tuple_list'\n",
    "        tuple_list.append(tuple(map(lambda x: x[i], args)))\n",
    "\n",
    "    return tuple_list\n",
    "\n",
    "result = my_zip([1, 2, 3], ['a', 'b', 'c', 'd'], 'DataCamp')\n",
    "print(result)"
   ]
  },
  {
   "cell_type": "markdown",
   "metadata": {},
   "source": [
    "Actually you could notice that sometimes `map()` can be substituted with a list comprehension. For example, `list(map(lambda x: len(x), args))` can be re-written as `[len(x) for x in args]`."
   ]
  },
  {
   "cell_type": "markdown",
   "metadata": {},
   "source": [
    "## 3.2 The filter() function\n",
    "Let's do some filtering! You will be given three corresponding tasks you have to complete. Use lambda expressions!\n",
    "\n",
    "The variables `strings` and `spells` are available in your workspace.\n",
    "\n",
    "### Instructions:\n",
    "* Filter out all the numbers in `nums` divisible by 3 or 5.\n",
    "* Return the `string` without its vowels (`'y'` is not a vowel in this case).\n",
    "* Filter all the `spells` in spells with more than two `'a'` characters."
   ]
  },
  {
   "cell_type": "code",
   "execution_count": 19,
   "metadata": {},
   "outputs": [
    {
     "name": "stdout",
     "output_type": "stream",
     "text": [
      "[0, 3, 6, 9, 12, 15, 18, 21, 24, 27, 30, 33, 36, 39, 42, 45, 48, 51, 54, 57, 60, 63, 66, 69, 72, 75, 78, 81, 84, 87, 90, 93, 96, 99]\n"
     ]
    }
   ],
   "source": [
    "nums = [0, 1, 2, 3, 4, 5, 6, 7, 8, 9, 10, 11, 12, 13, 14, 15, 16, 17, 18, 19, 20, 21, 22, 23, 24, 25, \n",
    "        26, 27, 28, 29, 30, 31, 32, 33, 34, 35, 36, 37, 38, 39, 40, 41, 42, 43, 44, 45, 46, 47, 48, 49, 50, \n",
    "        51, 52, 53, 54, 55, 56, 57, 58, 59, 60, 61, 62, 63, 64, 65, 66, 67, 68, 69, 70, 71, 72, 73, 74, 75, \n",
    "        76, 77, 78, 79, 80, 81, 82, 83, 84, 85, 86, 87, 88, 89, 90, 91, 92, 93, 94, 95, 96, 97, 98, 99, 100]\n",
    "\n",
    "# Filter out all the numbers in nums divisible by 3 or 5\n",
    "fnums = filter(lambda x: x%3==0 & x%5==0, nums)\n",
    "print(list(fnums))"
   ]
  },
  {
   "cell_type": "code",
   "execution_count": 20,
   "metadata": {},
   "outputs": [
    {
     "name": "stdout",
     "output_type": "stream",
     "text": [
      "Ordnry Lst Sqrs\n"
     ]
    }
   ],
   "source": [
    "string = 'Ordinary Least Squares'\n",
    "\n",
    "# Return the string without its vowels\n",
    "vowels = 'aeuio'\n",
    "fstring = filter(lambda x: x not in vowels, string)\n",
    "print(''.join(fstring))"
   ]
  },
  {
   "cell_type": "code",
   "execution_count": 21,
   "metadata": {},
   "outputs": [
    {
     "name": "stdout",
     "output_type": "stream",
     "text": [
      "['avada kedavra']\n"
     ]
    }
   ],
   "source": [
    "spells = ['riddikulus', 'obliviate', 'sectumsempra', 'avada kedavra', 'alohomora', 'lumos', 'expelliarmus', 'expecto patronum']\n",
    "\n",
    "# Filter all the spells in spells with more than two 'a's\n",
    "fspells = filter(lambda x: x.count('a') > 2, spells)\n",
    "print(list(fspells))"
   ]
  },
  {
   "cell_type": "markdown",
   "metadata": {},
   "source": [
    "## 3.3 The reduce() function\n",
    "Now, it is time for some reduction! As before you'll be given three tasks to complete. Use lambda expressions!\n",
    "\n",
    "The necessary functions from the `functools` module are already imported for you.\n",
    "\n",
    "### Instructions:\n",
    "* Reverse a string using `reduce()`.\n",
    "* Find common items shared among all the lists in `lists`.\n",
    "* Convert a number sequence into a single number (e.g. `[1, 2, 3]` → `123`)."
   ]
  },
  {
   "cell_type": "code",
   "execution_count": 22,
   "metadata": {},
   "outputs": [],
   "source": [
    "from functools import reduce"
   ]
  },
  {
   "cell_type": "code",
   "execution_count": 23,
   "metadata": {},
   "outputs": [
    {
     "name": "stdout",
     "output_type": "stream",
     "text": [
      "Inverted string = pmaCataD\n"
     ]
    }
   ],
   "source": [
    "# Reverse a string using reduce()\n",
    "string = 'DataCamp'\n",
    "inv_string = reduce(lambda x, y: y+x, string)\n",
    "print('Inverted string = ' + inv_string)"
   ]
  },
  {
   "cell_type": "code",
   "execution_count": 24,
   "metadata": {},
   "outputs": [
    {
     "name": "stdout",
     "output_type": "stream",
     "text": [
      "common items = {9, 4, 1}\n"
     ]
    }
   ],
   "source": [
    "# Find common items shared among all the lists in lists\n",
    "lists = [[1, 4, 8, 9], [2, 4, 6, 9, 10, 1], [9, 0, 1, 2, 4]]\n",
    "common_items = reduce(lambda x, y: set(x).intersection(y), lists)\n",
    "print('common items = ' + str(common_items))"
   ]
  },
  {
   "cell_type": "code",
   "execution_count": 25,
   "metadata": {},
   "outputs": [
    {
     "name": "stdout",
     "output_type": "stream",
     "text": [
      "[5, 6, 0, 1] is converted to 5601\n"
     ]
    }
   ],
   "source": [
    "# Convert a number sequence into a single number\n",
    "nums = [5, 6, 0, 1]\n",
    "num = reduce(lambda x, y: 10*x+y, nums)\n",
    "print(str(nums) + ' is converted to ' + str(num))"
   ]
  },
  {
   "cell_type": "markdown",
   "metadata": {},
   "source": [
    "# 4. What is recursion?\n",
    "## 4.1 Calculate the number of function calls\n",
    "Let's consider a classic example of recursion – the Fibonacci sequence, represented by non-negative integers starting from `0` with each element $F(n)$ equals the sum of the preceding two: `0, 1, 1, 2, 3, 5, 8, 13, 21, ...`. You are given a function that returns a tuple with the $n$-th element of the sequence and the amount of calls to `fib()` used:"
   ]
  },
  {
   "cell_type": "code",
   "execution_count": 26,
   "metadata": {},
   "outputs": [],
   "source": [
    "def fib(n):\n",
    "\n",
    "    if n < 2:\n",
    "        return (n, 1)\n",
    "\n",
    "    fib1 = fib(n-1)\n",
    "    fib2 = fib(n-2)\n",
    "\n",
    "    return (fib1[0] + fib2[0], fib1[1] + fib2[1] + 1)"
   ]
  },
  {
   "cell_type": "markdown",
   "metadata": {},
   "source": [
    "How many calls to `fib()` are needed to calculate the $15th$ and $20th$ elements of the sequence?\n",
    "\n",
    "### Possible Answers:\n",
    "1.  $15^{th}$ element: 3193 calls; $20^{th}$ element: 35421 calls\n",
    "2.  $15^{th}$ element: 1973 calls; $20^{th}$ element: 21891 calls\n",
    "3.  $15^{th}$ element: 3193 calls; $20^{th}$ element: 21891 calls\n",
    "4.  $15^{th}$ element: 35421 calls; $20^{th}$ element: 1973 calls"
   ]
  },
  {
   "cell_type": "code",
   "execution_count": 27,
   "metadata": {},
   "outputs": [
    {
     "data": {
      "text/plain": [
       "(610, 1973)"
      ]
     },
     "execution_count": 27,
     "metadata": {},
     "output_type": "execute_result"
    }
   ],
   "source": [
    "fib(15)"
   ]
  },
  {
   "cell_type": "code",
   "execution_count": 28,
   "metadata": {},
   "outputs": [
    {
     "data": {
      "text/plain": [
       "(6765, 21891)"
      ]
     },
     "execution_count": 28,
     "metadata": {},
     "output_type": "execute_result"
    }
   ],
   "source": [
    "fib(20)"
   ]
  },
  {
   "cell_type": "markdown",
   "metadata": {},
   "source": [
    "__Answer__: Notice how big the difference is in function calls, even though they are only 5 indices away from each other. Therefore, recursion has to be used with caution. Too many calls can lead to memory errors.\n",
    "\n",
    "## 4.2 Calculate an average value\n",
    "We all know how to calculate an average value iteratively:"
   ]
  },
  {
   "cell_type": "code",
   "execution_count": 29,
   "metadata": {},
   "outputs": [],
   "source": [
    "def average(nums):\n",
    "\n",
    "    result = 0\n",
    "\n",
    "    for num in nums:\n",
    "        result += num\n",
    "\n",
    "    return result/len(nums)"
   ]
  },
  {
   "cell_type": "markdown",
   "metadata": {},
   "source": [
    "Could you provide a recursive solution? A formula for updating an average value given a new input might be handy:\n",
    "\n",
    "$$\\bar{x} \\leftarrow \\frac{x_i + (n-1) \\bar{x}}{n}$$\n",
    "\n",
    "Here, $\\bar{x}$ stands for an average value, $x_i$ is a new supplied value which is used to update the average, and $n$ corresponds to the recursive call number (excluding the initial call to the function).\n",
    "\n",
    "### Instructions:\n",
    "* Provide the base case for the algorithm.\n",
    "* Define the recursive call for updating the average value."
   ]
  },
  {
   "cell_type": "code",
   "execution_count": 30,
   "metadata": {},
   "outputs": [
    {
     "name": "stdout",
     "output_type": "stream",
     "text": [
      "3.0\n"
     ]
    }
   ],
   "source": [
    "# Calculate an average value of the sequence of numbers\n",
    "def average(nums):\n",
    "  \n",
    "    # Base case\n",
    "    if len(nums) == 1:  \n",
    "        return nums[0]\n",
    "    \n",
    "    # Recursive call\n",
    "    n = len(nums)\n",
    "    return (nums[0] + (n-1) * average(nums[1:]))/n\n",
    "\n",
    "# Testing the function\n",
    "print(average([1, 2, 3, 4, 5]))"
   ]
  },
  {
   "cell_type": "markdown",
   "metadata": {},
   "source": [
    "## 4.3 Approximate Pi with recursion\n",
    "The number $\\pi$ can be computed by the following formula:\n",
    "\n",
    "$\\pi = 4\\sum\\limits_{k=0}^{\\infty}\\frac{(-1)^k}{2k+1}=4\\left(\\frac{1}{1}-\\frac{1}{3}+\\frac{1}{5}-\\frac{1}{7}+\\frac{1}{9}-...\\right)$\n",
    "\n",
    "Your task is to write a recursive function to approximate π using the formula defined above (the approximation means that instead of infinity $\\infty$, the sequence considers only a certain amount of elements n).\n",
    "\n",
    "### Instructions:\n",
    "* Write a lambda expression calculating the $k$-th element in the series (without taking 4 into account).\n",
    "* Specify the base case.\n",
    "* Define the recursive call (`n` is the number of elements to consider)."
   ]
  },
  {
   "cell_type": "code",
   "execution_count": 31,
   "metadata": {},
   "outputs": [
    {
     "name": "stdout",
     "output_type": "stream",
     "text": [
      "approx = 3.143588659585789, theor = 3.141592653589793\n"
     ]
    }
   ],
   "source": [
    "# Write an expression to get the k-th element of the series \n",
    "get_elmnt = lambda k: ((-1)**k)/(2*k+1)\n",
    "\n",
    "def calc_pi(n):\n",
    "    curr_elmnt = get_elmnt(n)\n",
    "    \n",
    "    # Define the base case\n",
    "    if n==0:\n",
    "        return curr_elmnt*4\n",
    "      \n",
    "    # Make the recursive call\n",
    "    return (curr_elmnt * 4 + calc_pi(n-1))\n",
    "  \n",
    "# Compare the approximated Pi value to the theoretical one\n",
    "print(\"approx = {}, theor = {}\".format(calc_pi(500), math.pi))"
   ]
  },
  {
   "cell_type": "code",
   "execution_count": null,
   "metadata": {},
   "outputs": [],
   "source": []
  }
 ],
 "metadata": {
  "kernelspec": {
   "display_name": "Python 3",
   "language": "python",
   "name": "python3"
  },
  "language_info": {
   "codemirror_mode": {
    "name": "ipython",
    "version": 3
   },
   "file_extension": ".py",
   "mimetype": "text/x-python",
   "name": "python",
   "nbconvert_exporter": "python",
   "pygments_lexer": "ipython3",
   "version": "3.7.4"
  }
 },
 "nbformat": 4,
 "nbformat_minor": 2
}
