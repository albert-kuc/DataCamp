{
 "cells": [
  {
   "cell_type": "markdown",
   "metadata": {},
   "source": [
    "# Python for scientific computing\n",
    "This chapter will cover topics on scientific computing in Python. We'll start by explaining the difference between NumPy arrays and lists. We'll define why the former ones suit better for complex calculations. Next, we'll cover some useful techniques to manipulate with pandas DataFrames. Finally, we'll do some data visualization using scatterplots, histograms, and boxplots.\n",
    "\n",
    "# 1. What is the difference between a NumPy array and a list?\n",
    "## 1.1 Incorrect array initialization\n",
    "If you pass the following list `[1, (2, 3), 4]` to initialize a NumPy array, what would be the data type of the stored values?\n",
    "\n",
    "#### Possible Answers:\n",
    "1. `int64`\n",
    "2. `float64`\n",
    "3. `<U1`\n",
    "4. `object`"
   ]
  },
  {
   "cell_type": "code",
   "execution_count": 1,
   "metadata": {},
   "outputs": [
    {
     "data": {
      "text/plain": [
       "dtype('O')"
      ]
     },
     "execution_count": 1,
     "metadata": {},
     "output_type": "execute_result"
    }
   ],
   "source": [
    "import numpy as np\n",
    "\n",
    "np_list = np.array([1, (2, 3), 4])\n",
    "np_list.dtype"
   ]
  },
  {
   "cell_type": "markdown",
   "metadata": {},
   "source": [
    "__Answer:__ Since we have different data types in our list, all the elements are considered as an object. (4)\n",
    "\n",
    "## 1.2 Accessing subarrays\n",
    "Let's access elements in NumPy arrays! Your task is to convert a square two-dimensional array `square` of `size` size to a list created by following a spiral pattern:\n",
    "\n",
    "<img src=\"_datasets/spiral.png\"></img>\n",
    "\n",
    "Traversing the matrix in spiral way\n",
    "\n",
    "Rather than simply accessing certain slices, you will define a more general solution using a `for` loop (the solution should work for all the square two-dimensional arrays of odd size).\n",
    "\n",
    "You will need the `reversed()` function, which reverses an Iterable.\n",
    "\n",
    "### Instructions:\n",
    "* Convert each part marked by a red arrow to a list.\n",
    "* Convert each part marked by a green arrow to a list.\n",
    "* Convert each part marked by a blue arrow to a list.\n",
    "* Convert each part marked by a magenta arrow to a list."
   ]
  },
  {
   "cell_type": "code",
   "execution_count": 3,
   "metadata": {},
   "outputs": [
    {
     "name": "stdout",
     "output_type": "stream",
     "text": [
      "[[ 1  2  3  4  5]\n",
      " [ 6  7  8  9 10]\n",
      " [11 12 13 14 15]\n",
      " [16 17 18 19 20]\n",
      " [21 22 23 24 25]]\n"
     ]
    }
   ],
   "source": [
    "square = np.array([[1, 2, 3, 4, 5],\n",
    "                   [6, 7, 8, 9, 10],\n",
    "                   [11, 12, 13, 14, 15],\n",
    "                   [16, 17, 18, 19, 20],\n",
    "                   [21, 22, 23, 24, 25]])\n",
    "\n",
    "size = square.shape[0]\n",
    "\n",
    "print(square)"
   ]
  },
  {
   "cell_type": "code",
   "execution_count": 4,
   "metadata": {},
   "outputs": [
    {
     "name": "stdout",
     "output_type": "stream",
     "text": [
      "[1, 2, 3, 4, 5, 10, 15, 20, 25, 24, 23, 22, 21, 16, 11, 6, 7, 8, 9, 14, 19, 18, 17, 12, 13]\n"
     ]
    }
   ],
   "source": [
    "spiral = []\n",
    "\n",
    "for i in range(0, size):\n",
    "    # Convert each part marked by a red arrow to a list\n",
    "    spiral += list(square[i, i:size-i])\n",
    "    # Convert each part marked by a green arrow to a list\n",
    "    spiral += list(square[i+1:size-i, size-i-1])\n",
    "    # Convert each part marked by a blue arrow to a list\n",
    "    spiral += list(reversed(square[size-i-1, i:size-i-1]))\n",
    "    # Convert each part marked by a magenta arrow to a list\n",
    "    spiral += list(reversed(square[i+1:size-i-1, i]))\n",
    "        \n",
    "print(spiral)"
   ]
  },
  {
   "cell_type": "markdown",
   "metadata": {},
   "source": [
    "## 1.3 Operations with NumPy arrays\n",
    "The following blocks of code create new lists given input lists `input_list1`, `input_list2`, `input_list3` (you can check their values in the console). If you had analogous NumPy arrays with the same values `input_array1`, `input_array2`, `input_array3` (you can check their values in the console), how would you create similar output as NumPy arrays using the knowledge on broadcasting, accessing element in NumPy arrays, and performing element-wise operations?\n",
    "\n",
    "#### Instructions:\n",
    "* Substitute the code in the block 1 given the `input_array1`.\n",
    "* Substitute the code in the block 2 given `input_array2`.\n",
    "* Substitute the code in the block 3 given `input_array3`."
   ]
  },
  {
   "cell_type": "code",
   "execution_count": 14,
   "metadata": {},
   "outputs": [
    {
     "data": {
      "text/plain": [
       "[[5, 10, 15], [20, 25, 30], [35, 40, 45]]"
      ]
     },
     "execution_count": 14,
     "metadata": {},
     "output_type": "execute_result"
    }
   ],
   "source": [
    "input_list1 = [[1, 2, 3], [4, 5, 6], [7, 8, 9]]\n",
    "input_array1 = np.array(input_list1)\n",
    "\n",
    "# Block 1\n",
    "list(map(lambda x: [5*i for i in x], input_list1))"
   ]
  },
  {
   "cell_type": "code",
   "execution_count": 15,
   "metadata": {},
   "outputs": [
    {
     "data": {
      "text/plain": [
       "array([[ 5, 10, 15],\n",
       "       [20, 25, 30],\n",
       "       [35, 40, 45]])"
      ]
     },
     "execution_count": 15,
     "metadata": {},
     "output_type": "execute_result"
    }
   ],
   "source": [
    "# Substitute the code in the block 1 given the input_array1\n",
    "output_array1 = input_array1 * 5\n",
    "output_array1"
   ]
  },
  {
   "cell_type": "code",
   "execution_count": 16,
   "metadata": {},
   "outputs": [
    {
     "data": {
      "text/plain": [
       "[0, 2, 4, 6, 8]"
      ]
     },
     "execution_count": 16,
     "metadata": {},
     "output_type": "execute_result"
    }
   ],
   "source": [
    "input_list2 = list(range(0, 10))\n",
    "input_array2 = np.array(input_list2)\n",
    "\n",
    "# Block 2\n",
    "list(filter(lambda x: x % 2 == 0, input_list2))"
   ]
  },
  {
   "cell_type": "code",
   "execution_count": 17,
   "metadata": {},
   "outputs": [
    {
     "data": {
      "text/plain": [
       "[0, 2, 4, 6, 8]"
      ]
     },
     "execution_count": 17,
     "metadata": {},
     "output_type": "execute_result"
    }
   ],
   "source": [
    "output_array2 = [x for x in input_list2 if x%2==0]\n",
    "output_array2"
   ]
  },
  {
   "cell_type": "code",
   "execution_count": 18,
   "metadata": {},
   "outputs": [
    {
     "data": {
      "text/plain": [
       "[[1, 4], [9, 16], [25, 36]]"
      ]
     },
     "execution_count": 18,
     "metadata": {},
     "output_type": "execute_result"
    }
   ],
   "source": [
    "input_list3 = [[1, 2], [3, 4], [5, 6]]\n",
    "input_array3 = np.array(input_list3)\n",
    "\n",
    "# Block 3\n",
    "[[i*i for i in j] for j in input_list3]"
   ]
  },
  {
   "cell_type": "code",
   "execution_count": 19,
   "metadata": {},
   "outputs": [
    {
     "data": {
      "text/plain": [
       "array([[ 1,  4],\n",
       "       [ 9, 16],\n",
       "       [25, 36]])"
      ]
     },
     "execution_count": 19,
     "metadata": {},
     "output_type": "execute_result"
    }
   ],
   "source": [
    "# Substitute the code in the block 3 given the input_array3\n",
    "output_array3 = input_array3 * input_array3\n",
    "output_array3"
   ]
  },
  {
   "cell_type": "markdown",
   "metadata": {},
   "source": [
    "# 2. How to use the .apply() method on a DataFrame?\n",
    "## 2.1 Simple use of .apply()\n",
    "Let's get some handful experience with `.apply()`!\n",
    "\n",
    "You are given the full `scores` dataset containing students' performance as well as their background information.\n",
    "\n",
    "Your task is to define the `prevalence()` function and apply it to the `groups_to_consider` columns of the `scores` DataFrame. This function should retrieve the most prevalent group/category for a given column (e.g. if the most prevalent category in the `lunch` column is `standard`, then `prevalence()` should return `standard`).\n",
    "\n",
    "The `reduce()` function from the `functools` module is already imported.\n",
    "\n",
    "Tip: `pd.Series` is an Iterable object. Therefore, you can use standard operations on it.\n",
    "\n",
    "### Instructions:\n",
    "* Create a tuple list with unique items from passed object `series` and their counts.\n",
    "* Extract a tuple with the highest counts using `reduce()`.\n",
    "* Return the item with the highest counts.\n",
    "* Apply the prevalence function on the `scores` DataFrame using columns specified in `groups_to_consider`."
   ]
  },
  {
   "cell_type": "code",
   "execution_count": 21,
   "metadata": {},
   "outputs": [
    {
     "data": {
      "text/html": [
       "<div>\n",
       "<style scoped>\n",
       "    .dataframe tbody tr th:only-of-type {\n",
       "        vertical-align: middle;\n",
       "    }\n",
       "\n",
       "    .dataframe tbody tr th {\n",
       "        vertical-align: top;\n",
       "    }\n",
       "\n",
       "    .dataframe thead th {\n",
       "        text-align: right;\n",
       "    }\n",
       "</style>\n",
       "<table border=\"1\" class=\"dataframe\">\n",
       "  <thead>\n",
       "    <tr style=\"text-align: right;\">\n",
       "      <th></th>\n",
       "      <th>gender</th>\n",
       "      <th>race/ethnicity</th>\n",
       "      <th>parental level of education</th>\n",
       "      <th>lunch</th>\n",
       "      <th>test preparation course</th>\n",
       "      <th>math score</th>\n",
       "      <th>reading score</th>\n",
       "      <th>writing score</th>\n",
       "    </tr>\n",
       "  </thead>\n",
       "  <tbody>\n",
       "    <tr>\n",
       "      <th>0</th>\n",
       "      <td>female</td>\n",
       "      <td>group E</td>\n",
       "      <td>associate's degree</td>\n",
       "      <td>free/reduced</td>\n",
       "      <td>none</td>\n",
       "      <td>74</td>\n",
       "      <td>86</td>\n",
       "      <td>82</td>\n",
       "    </tr>\n",
       "    <tr>\n",
       "      <th>1</th>\n",
       "      <td>female</td>\n",
       "      <td>group D</td>\n",
       "      <td>some college</td>\n",
       "      <td>free/reduced</td>\n",
       "      <td>none</td>\n",
       "      <td>44</td>\n",
       "      <td>49</td>\n",
       "      <td>53</td>\n",
       "    </tr>\n",
       "    <tr>\n",
       "      <th>2</th>\n",
       "      <td>male</td>\n",
       "      <td>group D</td>\n",
       "      <td>some high school</td>\n",
       "      <td>free/reduced</td>\n",
       "      <td>none</td>\n",
       "      <td>54</td>\n",
       "      <td>46</td>\n",
       "      <td>43</td>\n",
       "    </tr>\n",
       "    <tr>\n",
       "      <th>3</th>\n",
       "      <td>female</td>\n",
       "      <td>group B</td>\n",
       "      <td>bachelor's degree</td>\n",
       "      <td>standard</td>\n",
       "      <td>none</td>\n",
       "      <td>88</td>\n",
       "      <td>95</td>\n",
       "      <td>92</td>\n",
       "    </tr>\n",
       "    <tr>\n",
       "      <th>4</th>\n",
       "      <td>male</td>\n",
       "      <td>group C</td>\n",
       "      <td>master's degree</td>\n",
       "      <td>standard</td>\n",
       "      <td>completed</td>\n",
       "      <td>85</td>\n",
       "      <td>81</td>\n",
       "      <td>81</td>\n",
       "    </tr>\n",
       "  </tbody>\n",
       "</table>\n",
       "</div>"
      ],
      "text/plain": [
       "   gender race/ethnicity parental level of education         lunch  \\\n",
       "0  female        group E          associate's degree  free/reduced   \n",
       "1  female        group D                some college  free/reduced   \n",
       "2    male        group D            some high school  free/reduced   \n",
       "3  female        group B           bachelor's degree      standard   \n",
       "4    male        group C             master's degree      standard   \n",
       "\n",
       "  test preparation course  math score  reading score  writing score  \n",
       "0                    none          74             86             82  \n",
       "1                    none          44             49             53  \n",
       "2                    none          54             46             43  \n",
       "3                    none          88             95             92  \n",
       "4               completed          85             81             81  "
      ]
     },
     "execution_count": 21,
     "metadata": {},
     "output_type": "execute_result"
    }
   ],
   "source": [
    "import pandas as pd\n",
    "from functools import reduce\n",
    "\n",
    "scores = pd.read_csv('_datasets/exams.csv')\n",
    "groups_to_consider = ['gender', 'race/ethnicity', 'parental level of education', 'lunch', 'test preparation course']\n",
    "scores.head()"
   ]
  },
  {
   "cell_type": "code",
   "execution_count": 22,
   "metadata": {},
   "outputs": [
    {
     "data": {
      "text/plain": [
       "gender                               female\n",
       "race/ethnicity                      group C\n",
       "parental level of education    some college\n",
       "lunch                              standard\n",
       "test preparation course                none\n",
       "dtype: object"
      ]
     },
     "execution_count": 22,
     "metadata": {},
     "output_type": "execute_result"
    }
   ],
   "source": [
    "def prevalence(series):\n",
    "    vals = list(series)\n",
    "    # Create a tuple list with unique items and their counts\n",
    "    itms = [(x, vals.count(x)) for x in set(series)]\n",
    "    # Extract a tuple with the highest counts using reduce()\n",
    "    res = reduce(lambda x, y: x if x[1] > y[1] else y, itms)\n",
    "    # Return the item with the highest counts\n",
    "    return res[0]\n",
    "\n",
    "# Apply the prevalence function on the scores DataFrame\n",
    "result = scores[groups_to_consider].apply(prevalence)\n",
    "result"
   ]
  },
  {
   "cell_type": "markdown",
   "metadata": {},
   "source": [
    "Actually, we can use the `mode()` method instead defining the `prevalence()` function and using it instead of the `apply()` method (`scores[groups_to_consider].mode()`). However, it's always good to practice several approaches.\n",
    "\n",
    "## 2.2 Additional arguments\n",
    "Let's use additional arguments in the `.apply()` method!\n",
    "\n",
    "Your task is to create two new columns in `scores`:\n",
    "* `mean` is the row-wise mean value of the math score, reading score and writing score\n",
    "* `rank` defines how high the mean score is:\n",
    "    * `'high'` if the mean value $>90$\n",
    "    * `'medium'` if the mean value $>60$ but $\\ge 90$\n",
    "    * `'low'` if the mean value $\\le 60$\n",
    "To accomplish this task, you'll need to define the function `rank` that, given a series, returns a list with two values: the mean of the series and a string defined by the aforementioned rule.\n",
    "\n",
    "#### Instructions:\n",
    "* Calculate the mean of the input series.\n",
    "* Return the mean and its rank as a list.\n",
    "* Insert the output of `rank()` into new columns of `scores`."
   ]
  },
  {
   "cell_type": "code",
   "execution_count": 23,
   "metadata": {},
   "outputs": [
    {
     "name": "stdout",
     "output_type": "stream",
     "text": [
      "        mean    rank\n",
      "0  80.666667  medium\n",
      "1  48.666667     low\n",
      "2  47.666667     low\n",
      "3  91.666667    high\n",
      "4  82.333333  medium\n"
     ]
    }
   ],
   "source": [
    "def rank(series):\n",
    "    # Calculate the mean of the input series\n",
    "    mean = np.mean(series)\n",
    "    # Return the mean and its rank as a list\n",
    "    if mean > 90:\n",
    "        return [mean, 'high']\n",
    "    if (mean <= 90) & (mean > 60):\n",
    "        return [mean, 'medium']\n",
    "    return [mean, 'low']\n",
    "\n",
    "# Insert the output of rank() into new columns of scores\n",
    "cols = ['math score', 'reading score', 'writing score']\n",
    "scores[['mean', 'rank']] = scores[cols].apply(rank, axis=1, result_type='expand')\n",
    "print(scores[['mean', 'rank']].head())"
   ]
  },
  {
   "cell_type": "markdown",
   "metadata": {},
   "source": [
    "## 2.3 Functions with additional arguments\n",
    "Let's add some arguments to the function definition!\n",
    "\n",
    "Numeric data in `scores` represent students' performance scaled between 0 and 100. Your task is to rescale this data to an arbitrary range between `low` and `high`. Rescaling should be done in a linear fashion, i.e. for any data point x in a column:\n",
    "\n",
    "$x_{new} = x\\frac{high - low}{100}+ low$\n",
    "\n",
    "To do rescaling, you'll have to define the function `rescale()`. Remember, the operation written above can be applied to Series directly. After defining the function, you'll have to apply it to the specified columns of `scores`.\n",
    "\n",
    "#### Instructions:\n",
    "* Define the expression to rescale input series.\n",
    "* Rescale the data in `cols` to lie between 1 and 10."
   ]
  },
  {
   "cell_type": "code",
   "execution_count": 24,
   "metadata": {},
   "outputs": [
    {
     "name": "stdout",
     "output_type": "stream",
     "text": [
      "   math score  reading score  writing score\n",
      "0        7.66           8.74           8.38\n",
      "1        4.96           5.41           5.77\n",
      "2        5.86           5.14           4.87\n",
      "3        8.92           9.55           9.28\n",
      "4        8.65           8.29           8.29\n"
     ]
    }
   ],
   "source": [
    "def rescale(series, low, high):\n",
    "   # Define the expression to rescale input series\n",
    "   return series * (high-low)/100 + low\n",
    "\n",
    "# Rescale the data in cols to lie between 1 and 10\n",
    "cols = ['math score', 'reading score', 'writing score'] \n",
    "scores[cols] = scores[cols].apply(rescale, args=[1, 10])\n",
    "print(scores[cols].head())"
   ]
  },
  {
   "cell_type": "markdown",
   "metadata": {},
   "source": []
  }
 ],
 "metadata": {
  "kernelspec": {
   "display_name": "Python 3",
   "language": "python",
   "name": "python3"
  },
  "language_info": {
   "codemirror_mode": {
    "name": "ipython",
    "version": 3
   },
   "file_extension": ".py",
   "mimetype": "text/x-python",
   "name": "python",
   "nbconvert_exporter": "python",
   "pygments_lexer": "ipython3",
   "version": "3.7.4"
  }
 },
 "nbformat": 4,
 "nbformat_minor": 2
}
