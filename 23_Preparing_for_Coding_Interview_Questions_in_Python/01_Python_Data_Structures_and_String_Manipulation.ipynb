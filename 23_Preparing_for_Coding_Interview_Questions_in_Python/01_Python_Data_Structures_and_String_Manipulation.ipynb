{
 "cells": [
  {
   "cell_type": "markdown",
   "metadata": {
    "collapsed": true
   },
   "source": [
    "# Python Data Structures and String Manipulation\n",
    "In this chapter, we'll refresh our knowledge of the main data structures used in Python. We'll cover how to deal with lists, tuples, sets, and dictionaries. We'll also consider strings and how to write regular expressions to retrieve specific character sequences from a given text.\n",
    "# 1. What are the main data structures in Python?\n",
    "## 1.1 List methods\n",
    "Let's imagine a situation: you went to the market and filled your baskets (basket1 and basket2) with fruits. You wanted to have one of each kind but realized that some fruits were put in both baskets.\n",
    "\n",
    "Task 1. Your first task is to remove everything from basket2 that is already present in basket1.\n",
    "\n",
    "Task 2. After the removal it is reasonable to anticipate that one of the baskets might weight more compared to the another (all fruit kinds weight the same). Therefore, the second task is to transfer some fruits from a heavier basket to the lighter one to get approximately the same weight/amount of fruits."
   ]
  },
  {
   "cell_type": "code",
   "execution_count": 1,
   "metadata": {},
   "outputs": [],
   "source": [
    "basket1 = ['banana', 'kiwifruits', 'grapefruits', 'apples', 'apricots', 'nectarines', 'oranges', 'peaches', 'pears', 'lemons']\n",
    "basket2 = ['apples', 'grapes', 'apricots', 'dragonfruits', 'peaches', 'pears', 'limes', 'papaya']"
   ]
  },
  {
   "cell_type": "markdown",
   "metadata": {},
   "source": [
    "### Instructions:\n",
    "* Remove fruits from basket2 that are already present in basket1.\n",
    "* Transfer fruits from basket1 to basket2 until the amount in basket2 becomes more or equal to the amount in basket1."
   ]
  },
  {
   "cell_type": "code",
   "execution_count": 2,
   "metadata": {},
   "outputs": [
    {
     "name": "stdout",
     "output_type": "stream",
     "text": [
      "Basket 1: ['banana', 'kiwifruits', 'grapefruits', 'apples', 'apricots', 'nectarines', 'oranges', 'peaches', 'pears', 'lemons']\n",
      "Basket 2: ['grapes', 'dragonfruits', 'limes', 'papaya']\n"
     ]
    }
   ],
   "source": [
    "# Remove fruits from basket2 that are present in basket1\n",
    "for item in basket1:\n",
    "    if item in basket2:\n",
    "        basket2.remove(item)\n",
    "\n",
    "print('Basket 1: ' + str(basket1))\n",
    "print('Basket 2: ' + str(basket2))"
   ]
  },
  {
   "cell_type": "code",
   "execution_count": 3,
   "metadata": {},
   "outputs": [
    {
     "name": "stdout",
     "output_type": "stream",
     "text": [
      "Basket 1: ['banana', 'kiwifruits', 'grapefruits', 'apples', 'apricots', 'nectarines', 'oranges']\n",
      "Basket 2: ['grapes', 'dragonfruits', 'limes', 'papaya', 'lemons', 'pears', 'peaches']\n"
     ]
    }
   ],
   "source": [
    "# Transfer fruits from basket1 to basket2\n",
    "while len(basket1)>len(basket2):\n",
    "    item_to_transfer = basket1.pop()\n",
    "    basket2.append(item_to_transfer)\n",
    "\n",
    "print('Basket 1: ' + str(basket1))\n",
    "print('Basket 2: ' + str(basket2))"
   ]
  },
  {
   "cell_type": "markdown",
   "metadata": {},
   "source": [
    "## 1.2 Operations on sets\n",
    "Putting the information on sets in more mathematical terms, we can define the following operations given two sets X and Y:\n",
    "\n",
    "  $X {\\cap} Y$ - the intersection between $X$ and $Y$ (all elements which are in both $X$ and $Y$)\n",
    "\n",
    "  $X {\\cup} Y $ - the union between $X$ and $Y$ (all elements which are either in $X$ or $Y$)\n",
    "\n",
    "  $X−Y$ - the difference between $X$ and $Y$ (all elements which are in $X$ but not in $Y$)\n",
    "\n",
    "You are given 5 sets of integers `A`, `B`, `C`, `D`,`E`. What is the result of the following expression?\n",
    "$(A{\\cup}(B{\\cap}C))−(D{\\cap}E)$\n",
    "### Possible Answers:\n",
    "1. {2}\n",
    "2. {}\n",
    "3. {1, 2}\n",
    "4. {1, 2, 3, 4, 5, 6, 7}"
   ]
  },
  {
   "cell_type": "code",
   "execution_count": 4,
   "metadata": {},
   "outputs": [],
   "source": [
    "A = {1, 2, 3, 4, 5, 6, 7}\n",
    "B = {5, 7, 9, 11, 13, 15}\n",
    "C = {1, 2, 8, 10, 11, 12, 13, 14, 15, 16, 17}\n",
    "D = {1, 3, 5, 7, 9, 11, 12, 13, 14, 15, 16, 17, 18, 19, 20}\n",
    "E = {9, 10, 11, 12, 13, 14, 15}"
   ]
  },
  {
   "cell_type": "code",
   "execution_count": 5,
   "metadata": {},
   "outputs": [
    {
     "data": {
      "text/plain": [
       "{1, 2, 3, 4, 5, 6, 7}"
      ]
     },
     "execution_count": 5,
     "metadata": {},
     "output_type": "execute_result"
    }
   ],
   "source": [
    "(A|(B&C)-(D&E))"
   ]
  },
  {
   "cell_type": "markdown",
   "metadata": {},
   "source": [
    "## 1.3 Storing data in a dictionary\n",
    "The surface you see below is called circular paraboloid:\n",
    "\n",
    "<div align=\"left\">\n",
    "    <img src=\"_datasets/Circular_Paraboloid_Small.png\" alt=\"Circular Parabolid\">\n",
    "</div> \n",
    "\n",
    "It can be described by the following equation:\n",
    "\n",
    "$$\\frac{x^2}{a^2}+\\frac{y^2}{a^2}=z$$\n",
    "\n",
    "Let's set the coefficient $a$ to $1$. Therefore, the radius at each cut will be equal to $\\sqrt{z}$.\n",
    "\n",
    "Your task is to create a dictionary that stores the mapping from the pair of coordinates $(x,y)$ to the z coordinate (the lists storing considered ranges for $x$ and $y$ are given: `range_x` and `range_y`, respectively).\n",
    "\n",
    "### Instructions:\n",
    "* Calculate the value for $z$ coordinate using coordinates $x$ and $y$.\n",
    "* Create a new key for the dictionary `circ_parab` represented as a tuple containing $x$ and $y$.\n",
    "* Create a new key-value pair for `circ_parab`."
   ]
  },
  {
   "cell_type": "code",
   "execution_count": 6,
   "metadata": {},
   "outputs": [],
   "source": [
    "range_x = [0.0, 0.2, 0.4, 0.6, 0.8, 1.0, 1.2, 1.4, 1.6, 1.8, 2.0]\n",
    "range_y = [0.0, 0.2, 0.4, 0.6, 0.8, 1.0, 1.2, 1.4, 1.6, 1.8, 2.0]"
   ]
  },
  {
   "cell_type": "code",
   "execution_count": 7,
   "metadata": {},
   "outputs": [],
   "source": [
    "circ_parab = dict()\n",
    "\n",
    "for x in range_x:\n",
    "    for y in range_y:        \n",
    "        # Calculate the value for z\n",
    "        z = (x**2+y**2)\n",
    "        # Create a new key for the dictionary\n",
    "        key = (x,y)\n",
    "        # Create a new key-value pair      \n",
    "        circ_parab[key] = z"
   ]
  },
  {
   "cell_type": "markdown",
   "metadata": {},
   "source": [
    "### Question:\n",
    "* What is the value of `circ_parab` for the key `(1.8, 1.4)`?"
   ]
  },
  {
   "cell_type": "code",
   "execution_count": 8,
   "metadata": {},
   "outputs": [
    {
     "data": {
      "text/plain": [
       "5.2"
      ]
     },
     "execution_count": 8,
     "metadata": {},
     "output_type": "execute_result"
    }
   ],
   "source": [
    "circ_parab[1.8, 1.4]"
   ]
  },
  {
   "cell_type": "markdown",
   "metadata": {},
   "source": [
    "### Question:\n",
    "Is it possible to use a list instead of a tuple for a key in the circ_parab dictionary?\n",
    "\n",
    "__Answer__:\n",
    "No, because a list is mutable and the operation will result in TypeError."
   ]
  },
  {
   "cell_type": "markdown",
   "metadata": {},
   "source": [
    "# 2. What are common ways to manipulate strings?\n",
    "## 2.1 String indexing and concatenation\n",
    "You are presented with one of the earliest known encryption techniques - Caesar cipher. It is based on a simple shift of each letter in a message by a certain number of positions down the given alphabet. For example, given the English alphabet, a shift of 1 for `'xyz'` would imply `'yza'` and vice versa in case of decryption. Notice that `'z'` becomes `'a'` in this case.\n",
    "\n",
    "Thus, encryption/decryption requires two arguments: text and an integer key denoting the shift (`key = 1` for the example above).\n",
    "\n",
    "Your task is to create an encryption function given the English alphabet stored in the `alphabet` string.\n",
    "\n",
    "### Instructions:\n",
    "* Fill in the blanks in the loop to create an encrypted text.\n",
    "* Check the encryption function with the shift equals to 10 (it should return `'nkdkmkwz'`)."
   ]
  },
  {
   "cell_type": "code",
   "execution_count": 9,
   "metadata": {},
   "outputs": [],
   "source": [
    "alphabet = \"abcdefghijklmnopqrstuvwxyz\""
   ]
  },
  {
   "cell_type": "code",
   "execution_count": 10,
   "metadata": {},
   "outputs": [
    {
     "name": "stdout",
     "output_type": "stream",
     "text": [
      "nkdkmkwz\n"
     ]
    }
   ],
   "source": [
    "def encrypt(text, key):\n",
    "  \n",
    "    result = ''\n",
    "\n",
    "    # Fill in the blanks to create an encrypted text\n",
    "    for char in text.lower():\n",
    "        idx = (alphabet.index(char) + key) % len(alphabet)\n",
    "        result = result + alphabet[idx]\n",
    "\n",
    "    return result\n",
    "\n",
    "# Check the encryption function with the shift equals to 10\n",
    "print(encrypt(\"datacamp\", 10))"
   ]
  },
  {
   "cell_type": "markdown",
   "metadata": {},
   "source": [
    "### Question\n",
    "Interestingly, decryption function is only different by the line you fixed in the for loop. What would be the corresponding change in the `decrypt()` function?\n",
    "\n",
    "__Possible Answers__:\n",
    "1. `idx = alphabet.index(char) - key`\n",
    "2. `idx = (alphabet.index(char) - key) % len(alphabet)`\n",
    "3. `idx = alphabet.indx(char) + key`\n",
    "4. `idx = (alphabet.indx(char) * key) % len(alphabet)`\n",
    "\n",
    "__Answer__:\n",
    "It is enough to only subtract since Python allows negative indexing (1)."
   ]
  },
  {
   "cell_type": "markdown",
   "metadata": {},
   "source": [
    "## 2.2 Operations on strings\n",
    "You are given the variable `text` storing the following string `'StRing ObJeCts haVe mANy inTEResting pROPerTies'`.\n",
    "\n",
    "Your task is to modify this string in such a way that would result in `'string OBJECTS have MANY interesting PROPERTIES'` (every other word in `text` is uppercased and lowercased, otherwise). You will obtain this result in three steps.\n",
    "\n",
    "### Instructions:\n",
    "* Create a word list from the given string.\n",
    "* Make every other word uppercased and lowercased, otherwise.\n",
    "* Join the words and form a new string and check the newly created string."
   ]
  },
  {
   "cell_type": "code",
   "execution_count": 11,
   "metadata": {},
   "outputs": [],
   "source": [
    "text = 'StRing ObJeCts haVe mANy inTEResting pROPerTies'"
   ]
  },
  {
   "cell_type": "code",
   "execution_count": 12,
   "metadata": {},
   "outputs": [
    {
     "name": "stdout",
     "output_type": "stream",
     "text": [
      "string OBJECTS have MANY interesting PROPERTIES\n"
     ]
    }
   ],
   "source": [
    "# Create a word list from the string stored in 'text'\n",
    "word_list = text.split()\n",
    "\n",
    "# Make every other word uppercased; otherwise - lowercased\n",
    "for i in range(len(word_list)):\n",
    "    if (i + 1) % 2 == 0:\n",
    "        word_list[i] = word_list[i].upper()\n",
    "    else:\n",
    "        word_list[i] = word_list[i].lower()\n",
    "        \n",
    "# Join the words back and form a new string\n",
    "new_text = ' '.join(word_list)\n",
    "print(new_text)"
   ]
  },
  {
   "cell_type": "markdown",
   "metadata": {},
   "source": [
    "## 2.3 Fixing string errors in a DataFrame\n",
    "You are given the `heroes` dataset containing the information on different comic book heroes. However, you'll need to make some refinements in order to use this dataset further.\n",
    "\n",
    "Comparing `Eye color`, `Hair color`, and `Skin color` columns, you can see that strings in the `Hair color` columns are capitalized, whereas in other two the strings are lowercased.\n",
    "\n",
    "Moreover, some rows in the `Gender` column contain a spelling error (`Fmale` instead of `Female`).\n",
    "\n",
    "Your task is to make the strings in the `Hair column` lowercased and to fix the spelling error in the `Gender` column.\n",
    "\n",
    "### Instructions:\n",
    "* Make all the values in the `Hair color` column lowercased.\n",
    "* Substitute all the appearances of `Fmale` with `Female` in the `Gender` column."
   ]
  },
  {
   "cell_type": "code",
   "execution_count": 13,
   "metadata": {},
   "outputs": [],
   "source": [
    "import pandas as pd\n",
    "\n",
    "# Uplodating the data\n",
    "heroes = pd.read_csv('_datasets/heroes_information.csv', index_col = 0, na_values = (\"-\", -99))\n",
    "\n",
    "# Introducing a spelling mistake in the 'Female' category\n",
    "heroes.loc[(heroes.index % 4 == 0) & (heroes['Gender'] == 'Female'), 'Gender'] = 'Fmale'"
   ]
  },
  {
   "cell_type": "code",
   "execution_count": 14,
   "metadata": {},
   "outputs": [
    {
     "name": "stdout",
     "output_type": "stream",
     "text": [
      "black               161\n",
      "blond               102\n",
      "brown                87\n",
      "no hair              75\n",
      "red                  51\n",
      "white                23\n",
      "auburn               13\n",
      "green                 8\n",
      "strawberry blond      7\n",
      "purple                5\n",
      "grey                  5\n",
      "brown / white         4\n",
      "silver                4\n",
      "blue                  3\n",
      "yellow                2\n",
      "orange                2\n",
      "red / grey            1\n",
      "magenta               1\n",
      "indigo                1\n",
      "pink                  1\n",
      "red / white           1\n",
      "brown / black         1\n",
      "black / blue          1\n",
      "orange / white        1\n",
      "gold                  1\n",
      "red / orange          1\n",
      "Name: Hair color, dtype: int64\n"
     ]
    }
   ],
   "source": [
    "# Make all the values in the 'Hair color' column lowercased\n",
    "heroes['Hair color'] = heroes['Hair color'].str.lower()\n",
    "  \n",
    "# Check the values in the 'Hair color' column\n",
    "print(heroes['Hair color'].value_counts())"
   ]
  },
  {
   "cell_type": "code",
   "execution_count": 15,
   "metadata": {},
   "outputs": [
    {
     "name": "stdout",
     "output_type": "stream",
     "text": [
      "Male      505\n",
      "Female    200\n",
      "Name: Gender, dtype: int64\n"
     ]
    }
   ],
   "source": [
    "# Substitute 'Fmale' with 'Female' in the 'Gender' column\n",
    "heroes['Gender'] = heroes['Gender'].str.replace('Fmale', 'Female')\n",
    "\n",
    "# Check if there is no occurences of 'Fmale'\n",
    "print(heroes['Gender'].value_counts())"
   ]
  },
  {
   "cell_type": "markdown",
   "metadata": {},
   "source": [
    "Note that Series and DataFrames have their own `.replace()` method that deals with any kind of objects in addition to strings."
   ]
  },
  {
   "cell_type": "markdown",
   "metadata": {},
   "source": [
    "# 3. How to write regular expressions in Python?\n",
    "## 3.1 Write a regular expression\n",
    "Let's write some regular expressions!\n",
    "\n",
    "Your task is to create a regular expression matching a valid temperature represented either in Celsius or Fahrenheit scale (e.g. `'+23.5 C'`, `'-4 F'`, `'0.0 C'`) and to extract all the appearances from the given string `text`. Positive temperatures can be prefixed with `+` or contain no prefix (e.g. `'5 F'`, `'+5 F'`). Negative temperatures must be prefixed with `-`. Zero temperature should not be prefixed with any symbol.\n",
    "\n",
    "The `re` module is already imported.\n",
    "\n",
    "Tip: the `+` symbol within the square brackets `[]` corresponds to the symbol itself (e.g. the regular expression `[1a+]` matches to `'1'`, `'a'`, or `'+'`).\n",
    "\n",
    "Instructions:\n",
    "* Define the pattern to search for valid temperatures\n",
    "* Create an object storing the matches using finditer().\n",
    "* Loop over matches_storage and print out item properties: the matching sequence, its start and end index."
   ]
  },
  {
   "cell_type": "code",
   "execution_count": 16,
   "metadata": {},
   "outputs": [],
   "source": [
    "import re\n",
    "\n",
    "text = \"Let's consider the following temperatures using the Celsius scale: +23 C, 0 C, -20.0 C, -2.2 C, -5.65 C, 0.0001 C.\\\n",
    "        To convert them to the Fahrenheit scale you have multiply the number by 9/5 and add 32 to the result.\\\n",
    "        Therefore, the corresponding temperatures in the Fahrenheit scale will be: \\\n",
    "        +73.4 F, 32 F, -4.0 F, +28.04 F, 21.83 F, +32.00018 F.\""
   ]
  },
  {
   "cell_type": "code",
   "execution_count": 17,
   "metadata": {},
   "outputs": [
    {
     "name": "stdout",
     "output_type": "stream",
     "text": [
      "['+23 C', '0 C', '-20.0 C', '-2.2 C', '-5.65 C', '0.0001 C', '+73.4 F', '32 F', '-4.0 F', '+28.04 F', '21.83 F', '+32.00018 F']\n"
     ]
    }
   ],
   "source": [
    "# Define the pattern to search for valid temperatures\n",
    "pattern = re.compile('[+-]?\\d+\\.?\\d* [CF]')\n",
    "\n",
    "# Print the temperatures out\n",
    "print(re.findall(pattern, text))"
   ]
  },
  {
   "cell_type": "code",
   "execution_count": 18,
   "metadata": {},
   "outputs": [
    {
     "name": "stdout",
     "output_type": "stream",
     "text": [
      "matching sequence = +23 C\n",
      "start index = 67\n",
      "end index = 72\n",
      "\n",
      "matching sequence = 0 C\n",
      "start index = 74\n",
      "end index = 77\n",
      "\n",
      "matching sequence = -20.0 C\n",
      "start index = 79\n",
      "end index = 86\n",
      "\n",
      "matching sequence = -2.2 C\n",
      "start index = 88\n",
      "end index = 94\n",
      "\n",
      "matching sequence = -5.65 C\n",
      "start index = 96\n",
      "end index = 103\n",
      "\n",
      "matching sequence = 0.0001 C\n",
      "start index = 105\n",
      "end index = 113\n",
      "\n",
      "matching sequence = +73.4 F\n",
      "start index = 314\n",
      "end index = 321\n",
      "\n",
      "matching sequence = 32 F\n",
      "start index = 323\n",
      "end index = 327\n",
      "\n",
      "matching sequence = -4.0 F\n",
      "start index = 329\n",
      "end index = 335\n",
      "\n",
      "matching sequence = +28.04 F\n",
      "start index = 337\n",
      "end index = 345\n",
      "\n",
      "matching sequence = 21.83 F\n",
      "start index = 347\n",
      "end index = 354\n",
      "\n",
      "matching sequence = +32.00018 F\n",
      "start index = 356\n",
      "end index = 367\n",
      "\n"
     ]
    }
   ],
   "source": [
    "# Create an object storing the matches using 'finditer()'\n",
    "matches_storage = re.finditer(pattern, text)\n",
    "\n",
    "# Loop over matches_storage and print out item properties\n",
    "for match in matches_storage:\n",
    "    print('matching sequence = ' + match.group())\n",
    "    print('start index = ' + str(match.start()))\n",
    "    print('end index = ' + str(match.end()) + '\\n')"
   ]
  },
  {
   "cell_type": "markdown",
   "metadata": {},
   "source": [
    "## 3.2 Find the incorrect pattern\n",
    "Which of the following regular expressions will precisely match the long date format (for example, `October 26, 1988` or `Oct 26, 1988` with the first letter capitalized)?\n",
    "\n",
    "Consider only the non-negative years.\n",
    "\n",
    "### Possible Answers:\n",
    "1. `\\w+\\s[1-3]?\\d,\\s\\d+`\n",
    "2. `[A-Z][a-z]+\\s\\d{1,2},\\s\\d+`\n",
    "3. `[A-Z][a-z]+\\s[1-3]?\\d,\\s\\d+`\n",
    "4. `[A-Z][a-z]+\\s[1-3]?\\d,\\s\\d*`\n",
    "\n",
    "__Answer__:\n",
    "* `\\w+` can match also digits.\n",
    "* `\\d{1,2}` can match non-existing days like 98.\n",
    "* `\\d*` can correspond to no digit at all."
   ]
  },
  {
   "cell_type": "markdown",
   "metadata": {},
   "source": [
    "## 3.3 Splitting by a pattern\n",
    "You are given a text stored in the `text` variable.\n",
    "\n",
    "Split the text in such a way that the resulting list has only words or numbers with no blank spaces or punctuation.\n",
    "\n",
    "Instructions:\n",
    "* Compile the regular expression.\n",
    "* Split the text so that only words or numbers are included in the resulting list, and print the result.\n",
    "* Define a much easier way to extract words or numbers."
   ]
  },
  {
   "cell_type": "code",
   "execution_count": 19,
   "metadata": {},
   "outputs": [],
   "source": [
    "text = \"Python has 4 main data structures: list, tuple, set, and dictionary.\""
   ]
  },
  {
   "cell_type": "code",
   "execution_count": 20,
   "metadata": {},
   "outputs": [
    {
     "name": "stdout",
     "output_type": "stream",
     "text": [
      "['Python', 'has', '4', 'main', 'data', 'structures:', 'list,', 'tuple,', 'set,', 'and', 'dictionary.']\n"
     ]
    }
   ],
   "source": [
    "# Compile the regular expression\n",
    "pattern = re.compile(r' [,:\\.]?\\s?')\n",
    "\n",
    "# Split the text that only words or numbers are left\n",
    "words = re.split(pattern, text)\n",
    "print(words)"
   ]
  },
  {
   "cell_type": "code",
   "execution_count": 21,
   "metadata": {},
   "outputs": [
    {
     "name": "stdout",
     "output_type": "stream",
     "text": [
      "['Python', 'has', '4', 'main', 'data', 'structures', 'list', 'tuple', 'set', 'and', 'dictionary']\n"
     ]
    }
   ],
   "source": [
    "# Define an easier way to extract words or numbers\n",
    "alt_pattern = re.compile('[\\w]+')\n",
    "print(re.findall(alt_pattern, text))"
   ]
  },
  {
   "cell_type": "markdown",
   "metadata": {},
   "source": [
    "When given a task on regular expressions, there might be many ways to solve it. It is always better to think on the easiest one!"
   ]
  },
  {
   "cell_type": "code",
   "execution_count": null,
   "metadata": {},
   "outputs": [],
   "source": []
  }
 ],
 "metadata": {
  "kernelspec": {
   "display_name": "Python 3",
   "language": "python",
   "name": "python3"
  },
  "language_info": {
   "codemirror_mode": {
    "name": "ipython",
    "version": 3
   },
   "file_extension": ".py",
   "mimetype": "text/x-python",
   "name": "python",
   "nbconvert_exporter": "python",
   "pygments_lexer": "ipython3",
   "version": "3.7.4"
  }
 },
 "nbformat": 4,
 "nbformat_minor": 1
}
