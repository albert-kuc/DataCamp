{
 "cells": [
  {
   "cell_type": "markdown",
   "metadata": {},
   "source": [
    "# Iterable objects and representatives\n",
    "This chapter focuses on iterable objects. We'll refresh the definition of iterable objects and explain, how to identify one. Next, we'll cover list comprehensions, which is a very special feature of Python programming language to define lists. Then, we'll recall how to combine several iterable objects into one. Finally, we'll cover how to create custom iterable objects using generators.\n",
    "\n",
    "# 1. What are iterable objects?\n",
    "## 1.1 enumerate()\n",
    "Your task is, given a string, to define the function `retrieve_character_indices()` that creates a dictionary `character_indices`, where each key represents a unique character from the string and the corresponding value is a list containing the indices/positions of this letter in the string.\n",
    "\n",
    "For example, passing the string `'ukulele'` to the `retrieve_character_indices()` function should result in the following output: `{'e': [4, 6], 'k': [1], 'l': [3, 5], 'u': [0, 2]}`.\n",
    "\n",
    "For this task, you are not allowed to use any string methods!\n",
    "\n",
    "### Instructions:\n",
    "* Define the `for` loop that iterates over the characters in the string and their indices.\n",
    "* Update the dictionary if the key already exists.\n",
    "* Update the dictionary if the key is absent."
   ]
  },
  {
   "cell_type": "code",
   "execution_count": 1,
   "metadata": {},
   "outputs": [
    {
     "name": "stdout",
     "output_type": "stream",
     "text": [
      "{'e': [0, 4, 8, 15, 20], 'n': [1, 11], 'u': [2], 'm': [3], 'r': [5, 16], 'a': [6, 10, 17], 't': [7, 14], ' ': [9, 12], 'I': [13], 'b': [18], 'l': [19]}\n"
     ]
    }
   ],
   "source": [
    "def retrieve_character_indices(string):\n",
    "    character_indices = dict()\n",
    "    # Define the 'for' loop\n",
    "    for index, character in enumerate(string):\n",
    "        # Update the dictionary if the key already exists\n",
    "        if character in character_indices:\n",
    "            character_indices[character].append(index)\n",
    "        # Update the dictionary if the key is absent\n",
    "        else:\n",
    "            character_indices[character] = [index]\n",
    "            \n",
    "    return character_indices\n",
    "  \n",
    "print(retrieve_character_indices('enumerate an Iterable'))"
   ]
  },
  {
   "cell_type": "markdown",
   "metadata": {},
   "source": [
    "__A little trick__: actually, you can pass an integer value to the `enumerate()` initializer. In this case, it will start to count from that value.\n",
    "\n",
    "## 1.2 Iterators\n",
    "Let's check your knowledge on Iterators!\n",
    "\n",
    "As we discussed, all Iterables like `list`, `set`, or `dict` must have the associated Iterator. You are given the dictionary `pets` whose keys are Harry Potter characters and the values are the corresponding creature companions they had. Your task is to answer the set of questions regarding the Iterator created from the `pets` dictionary. Use the console to help you answer them!\n",
    "\n",
    "#### Question:\n",
    "What would be the second element of the Iterator created from the `pets` dictionary?\n",
    "Possible Answers:\n",
    "1. 'Harry'\n",
    "2. 'Hermione'\n",
    "3. 'Hedwig the owl'\n",
    "4. 'Crookshanks the cat'"
   ]
  },
  {
   "cell_type": "code",
   "execution_count": 2,
   "metadata": {},
   "outputs": [],
   "source": [
    "pets = {'Harry': 'Hedwig the owl', 'Hermione': 'Crookshanks the cat', 'Ron': 'Scabbers the rat'}"
   ]
  },
  {
   "cell_type": "code",
   "execution_count": 7,
   "metadata": {},
   "outputs": [
    {
     "name": "stdout",
     "output_type": "stream",
     "text": [
      "1: Harry\n",
      "2: Hermione\n",
      "3: Ron\n"
     ]
    }
   ],
   "source": [
    "for i, pet in enumerate(pets):\n",
    "    print(str(i+1)+': '+pet)"
   ]
  },
  {
   "cell_type": "markdown",
   "metadata": {},
   "source": [
    "#### Question\n",
    "Assuming that you retrieved the Iterator from the `pets` dictionary and called the `next()` function on it twice, what will be the output when you convert the Iterator to a list?\n",
    "Possible Answers:\n",
    "1. `['Ron']`\n",
    "2. `[]`\n",
    "3. `StopIteration` error is raised\n",
    "4. `['Hermione', 'Ron']`\n",
    "5. `['Harry', 'Hermione', 'Ron']`"
   ]
  },
  {
   "cell_type": "code",
   "execution_count": 9,
   "metadata": {},
   "outputs": [
    {
     "data": {
      "text/plain": [
       "['Ron']"
      ]
     },
     "execution_count": 9,
     "metadata": {},
     "output_type": "execute_result"
    }
   ],
   "source": [
    "iterator = iter(pets)\n",
    "next(iterator)\n",
    "next(iterator)\n",
    "list(iterator)"
   ]
  },
  {
   "cell_type": "markdown",
   "metadata": {},
   "source": [
    "#### Question\n",
    "Assuming that you retrieved the Iterator from the `pets` dictionary and converted it to a list, what will be the output if you call the `next()` function on it?\n",
    "Possible Answers:\n",
    "1. `'Ron'`\n",
    "2. `'Hermione'`\n",
    "3. `'Harry'`\n",
    "4. `StopIteration` error is raised"
   ]
  },
  {
   "cell_type": "code",
   "execution_count": 10,
   "metadata": {},
   "outputs": [
    {
     "ename": "TypeError",
     "evalue": "'list' object is not an iterator",
     "output_type": "error",
     "traceback": [
      "\u001b[1;31m---------------------------------------------------------------------------\u001b[0m",
      "\u001b[1;31mTypeError\u001b[0m                                 Traceback (most recent call last)",
      "\u001b[1;32m<ipython-input-10-ebb6228110a6>\u001b[0m in \u001b[0;36m<module>\u001b[1;34m\u001b[0m\n\u001b[0;32m      1\u001b[0m \u001b[0miterator_list\u001b[0m \u001b[1;33m=\u001b[0m \u001b[0mlist\u001b[0m\u001b[1;33m(\u001b[0m\u001b[0miter\u001b[0m\u001b[1;33m(\u001b[0m\u001b[0mpets\u001b[0m\u001b[1;33m)\u001b[0m\u001b[1;33m)\u001b[0m\u001b[1;33m\u001b[0m\u001b[1;33m\u001b[0m\u001b[0m\n\u001b[1;32m----> 2\u001b[1;33m \u001b[0mnext\u001b[0m\u001b[1;33m(\u001b[0m\u001b[0miterator_list\u001b[0m\u001b[1;33m)\u001b[0m\u001b[1;33m\u001b[0m\u001b[1;33m\u001b[0m\u001b[0m\n\u001b[0m",
      "\u001b[1;31mTypeError\u001b[0m: 'list' object is not an iterator"
     ]
    }
   ],
   "source": [
    "iterator_list = list(iter(pets))\n",
    "next(iterator_list)"
   ]
  },
  {
   "cell_type": "markdown",
   "metadata": {},
   "source": [
    "Correct! The Iterator does not contain any more elements to go through after converting it to a list.\n",
    "\n",
    "## 1.3 Traversing a DataFrame\n",
    "Let's iterate through a DataFrame! You are given the `heroes` DataFrame you're already familiar with. This time, it contains only categorical data and no missing values. You have to create the following dictionary from this dataset:\n",
    "\n",
    "* Each key is a column name.\n",
    "* Each value is another dictionary:\n",
    "    * Each key is a unique category from the column.\n",
    "    * Each value is the amount of heroes falling into this category.\n",
    "    \n",
    "Tip: a `Series` object is also an Iterable. It traverses through the values it stores when you put it in a `for` loop or pass it to `list()`, `tuple()`, or `set()` initializers.\n",
    "\n",
    "### Instructions:\n",
    "* Traverse through the columns in the `heroes` DataFrame.\n",
    "* Retrieve the values stored in `series` in a list form.\n",
    "* Traverse through unique categories in `values`.\n",
    "* Count the appearance of `category` in `values`."
   ]
  },
  {
   "cell_type": "code",
   "execution_count": 19,
   "metadata": {},
   "outputs": [
    {
     "data": {
      "text/html": [
       "<div>\n",
       "<style scoped>\n",
       "    .dataframe tbody tr th:only-of-type {\n",
       "        vertical-align: middle;\n",
       "    }\n",
       "\n",
       "    .dataframe tbody tr th {\n",
       "        vertical-align: top;\n",
       "    }\n",
       "\n",
       "    .dataframe thead th {\n",
       "        text-align: right;\n",
       "    }\n",
       "</style>\n",
       "<table border=\"1\" class=\"dataframe\">\n",
       "  <thead>\n",
       "    <tr style=\"text-align: right;\">\n",
       "      <th></th>\n",
       "      <th>Gender</th>\n",
       "      <th>Eye color</th>\n",
       "      <th>Race</th>\n",
       "      <th>Hair color</th>\n",
       "      <th>Publisher</th>\n",
       "      <th>Skin color</th>\n",
       "      <th>Alignment</th>\n",
       "    </tr>\n",
       "    <tr>\n",
       "      <th>name</th>\n",
       "      <th></th>\n",
       "      <th></th>\n",
       "      <th></th>\n",
       "      <th></th>\n",
       "      <th></th>\n",
       "      <th></th>\n",
       "      <th></th>\n",
       "    </tr>\n",
       "  </thead>\n",
       "  <tbody>\n",
       "    <tr>\n",
       "      <th>Abe Sapien</th>\n",
       "      <td>Male</td>\n",
       "      <td>blue</td>\n",
       "      <td>Icthyo Sapien</td>\n",
       "      <td>No Hair</td>\n",
       "      <td>Dark Horse Comics</td>\n",
       "      <td>blue</td>\n",
       "      <td>good</td>\n",
       "    </tr>\n",
       "    <tr>\n",
       "      <th>Abin Sur</th>\n",
       "      <td>Male</td>\n",
       "      <td>blue</td>\n",
       "      <td>Ungaran</td>\n",
       "      <td>No Hair</td>\n",
       "      <td>DC Comics</td>\n",
       "      <td>red</td>\n",
       "      <td>good</td>\n",
       "    </tr>\n",
       "    <tr>\n",
       "      <th>Apocalypse</th>\n",
       "      <td>Male</td>\n",
       "      <td>red</td>\n",
       "      <td>Mutant</td>\n",
       "      <td>Black</td>\n",
       "      <td>Marvel Comics</td>\n",
       "      <td>grey</td>\n",
       "      <td>bad</td>\n",
       "    </tr>\n",
       "    <tr>\n",
       "      <th>Archangel</th>\n",
       "      <td>Male</td>\n",
       "      <td>blue</td>\n",
       "      <td>Mutant</td>\n",
       "      <td>Blond</td>\n",
       "      <td>Marvel Comics</td>\n",
       "      <td>blue</td>\n",
       "      <td>good</td>\n",
       "    </tr>\n",
       "    <tr>\n",
       "      <th>Ardina</th>\n",
       "      <td>Female</td>\n",
       "      <td>white</td>\n",
       "      <td>Alien</td>\n",
       "      <td>Orange</td>\n",
       "      <td>Marvel Comics</td>\n",
       "      <td>gold</td>\n",
       "      <td>good</td>\n",
       "    </tr>\n",
       "  </tbody>\n",
       "</table>\n",
       "</div>"
      ],
      "text/plain": [
       "            Gender Eye color           Race Hair color          Publisher  \\\n",
       "name                                                                        \n",
       "Abe Sapien    Male      blue  Icthyo Sapien    No Hair  Dark Horse Comics   \n",
       "Abin Sur      Male      blue        Ungaran    No Hair          DC Comics   \n",
       "Apocalypse    Male       red         Mutant      Black      Marvel Comics   \n",
       "Archangel     Male      blue         Mutant      Blond      Marvel Comics   \n",
       "Ardina      Female     white          Alien     Orange      Marvel Comics   \n",
       "\n",
       "           Skin color Alignment  \n",
       "name                             \n",
       "Abe Sapien       blue      good  \n",
       "Abin Sur          red      good  \n",
       "Apocalypse       grey       bad  \n",
       "Archangel        blue      good  \n",
       "Ardina           gold      good  "
      ]
     },
     "execution_count": 19,
     "metadata": {},
     "output_type": "execute_result"
    }
   ],
   "source": [
    "import pandas as pd\n",
    "\n",
    "# Uplodating the data\n",
    "heroes = pd.read_csv('_datasets/heroes_information.csv', index_col = 1, na_values = (\"-\", -99))\n",
    "heroes = heroes[['Gender', 'Eye color', 'Race', 'Hair color', 'Publisher', 'Skin color', 'Alignment']]\n",
    "heroes = heroes.dropna()\n",
    "heroes.head()"
   ]
  },
  {
   "cell_type": "code",
   "execution_count": 20,
   "metadata": {},
   "outputs": [
    {
     "name": "stdout",
     "output_type": "stream",
     "text": [
      "{'Gender': {'Female': 13, 'Male': 46}, 'Eye color': {'red': 16, 'brown': 1, 'purple': 1, 'green': 10, 'white': 8, 'yellow (without irises)': 1, 'yellow': 5, 'grey': 1, 'gold': 1, 'black': 4, 'blue': 11}, 'Race': {'Ungaran': 1, 'Mutant': 11, 'Demon': 2, 'God / Eternal': 3, 'Human': 8, 'New God': 2, 'Martian': 1, 'Strontian': 1, 'Human / Radiation': 3, 'Frost Giant': 1, 'Talokite': 1, 'Kakarantharaian': 1, \"Yoda's species\": 1, 'Metahuman': 1, 'Human-Kree': 1, 'Zen-Whoberian': 1, 'Human / Cosmic': 2, 'Icthyo Sapien': 1, 'Eternal': 1, 'Bizarro': 1, 'Alien': 4, 'Bolovaxian': 1, 'Luphomoid': 1, 'Czarnian': 1, 'Tamaranean': 1, 'Human / Altered': 1, 'Inhuman': 1, 'Korugaran': 1, 'Android': 3, 'Neyaphem': 1}, 'Hair color': {'Black': 14, 'Green': 3, 'Silver': 1, 'White': 4, 'Magenta': 1, 'Blue': 2, 'Purple': 1, 'Auburn': 1, 'Red': 2, 'Red / Orange': 1, 'Blond': 2, 'No Hair': 25, 'Orange': 1, 'Brown': 1}, 'Publisher': {'DC Comics': 22, 'IDW Publishing': 2, 'George Lucas': 2, 'Dark Horse Comics': 1, 'Marvel Comics': 32}, 'Skin color': {'red': 8, 'orange': 1, 'purple': 3, 'pink': 2, 'silver': 2, 'green': 17, 'white': 7, 'blue-white': 1, 'gray': 1, 'yellow': 2, 'grey': 4, 'gold': 2, 'blue': 9}, 'Alignment': {'good': 30, 'bad': 21, 'neutral': 8}}\n"
     ]
    }
   ],
   "source": [
    "column_counts = dict()\n",
    "\n",
    "# Traverse through the columns in the heroes DataFrame\n",
    "for column_name, series in heroes.iteritems():\n",
    "    # Retrieve the values stored in series in a list form\n",
    "    values = list(series)\n",
    "    category_counts = dict()  \n",
    "    # Traverse through unique categories in values\n",
    "    for category in set(values):\n",
    "        # Count the appearance of category in values\n",
    "        category_counts[category] = values.count(category)\n",
    "    \n",
    "    column_counts[column_name] = category_counts\n",
    "    \n",
    "print(column_counts)"
   ]
  },
  {
   "cell_type": "markdown",
   "metadata": {},
   "source": [
    "# 2. What is a list comprehension?\n",
    "## 2.1 Basic list comprehensions\n",
    "For this task, you will have to create a bag-of-words representation of the spam email stored in the `spam` variable (you can explore the content using the shell). Recall that bag-of-words is simply a counter of unique words in a given text. This representation can be further used for text classification, e.g. for spam detection (given enough training examples).\n",
    "\n",
    "We created a small auxiliary function `create_word_list()` to help you split a string into words, e.g. applying it to `'To infinity... and beyond!'` will return `['To', 'infinity', 'and', 'beyond']`."
   ]
  },
  {
   "cell_type": "code",
   "execution_count": 29,
   "metadata": {},
   "outputs": [
    {
     "name": "stdout",
     "output_type": "stream",
     "text": [
      "Dear User,\n",
      "\n",
      "Our Administration Team needs to inform you that you are reaching the storage limit of your Mailbox account.\n",
      "You have to verify your account within the next 24 hours.\n",
      "Otherwise, it will not be possible to use the service.\n",
      "Please, click on the link below to verify your account and continue using our service.\n",
      "\n",
      "Your Administration Team.\n"
     ]
    }
   ],
   "source": [
    "import re\n",
    "\n",
    "# A supplementary function that creates a word list from a string\n",
    "def create_word_list(string):\n",
    "  \n",
    "    # Finding all the words\n",
    "    pattern = re.compile(r'\\w+')\n",
    "    words = re.findall(pattern, string)\n",
    "        \n",
    "    return words\n",
    "\n",
    "spam = \"Dear User,\\n\\nOur Administration Team needs to inform you that you are reaching the storage limit of your Mailbox account.\\nYou have to verify your account within the next 24 hours.\\nOtherwise, it will not be possible to use the service.\\nPlease, click on the link below to verify your account and continue using our service.\\n\\nYour Administration Team.\"\n",
    "\n",
    "print(spam)"
   ]
  },
  {
   "cell_type": "markdown",
   "metadata": {},
   "source": [
    "### Instructions:\n",
    "* Convert the text to lower case and create a word list.\n",
    "* Create a set that will store only unique words from the list.\n",
    "* Using list comprehension, create a dictionary that counts a word appearance in the `word` list.\n",
    "* Print words that appear in the `word_counter` more than once."
   ]
  },
  {
   "cell_type": "code",
   "execution_count": 31,
   "metadata": {},
   "outputs": [
    {
     "name": "stdout",
     "output_type": "stream",
     "text": [
      "team: 2\n",
      "administration: 2\n",
      "our: 2\n",
      "service: 2\n",
      "to: 4\n",
      "the: 4\n",
      "verify: 2\n",
      "your: 4\n",
      "account: 3\n",
      "you: 3\n"
     ]
    }
   ],
   "source": [
    "# Convert the text to lower case and create a word list\n",
    "words = create_word_list(spam.lower())\n",
    "\n",
    "# Create a set storing only unique words\n",
    "word_set = set(words)\n",
    "\n",
    "# Create a dictionary that counts each word in the list\n",
    "tuples = [(word, words.count(word)) for word in word_set]\n",
    "word_counter = dict(tuples)\n",
    "\n",
    "# Printing words that appear more than once\n",
    "for (key, value) in word_counter.items():\n",
    "    if value > 1:\n",
    "        print(\"{}: {}\".format(key, value))"
   ]
  },
  {
   "cell_type": "markdown",
   "metadata": {},
   "source": [
    "## 2.2 Prime number sequence\n",
    "A prime number is a positive number that is divisible by 1 or itself (e.g. 3, 7, 11 etc.). However, 1 is not a prime number.\n",
    "\n",
    "Your task is, given a list of candidate numbers `cands`, to filter only prime numbers in a new list `primes`.\n",
    "\n",
    "But first, you need to create a function `is_prime()` that returns `True` if the input number $n$ is prime or `False`, otherwise. A number is prime if it is not divisible by any integer number from 2 to $\\sqrt{n}$ (any number $n$ is not divisible by anything higher than $\\sqrt{n}$.\n",
    "\n",
    "Tip: you might need to use the `%` operator that calculates a remainder from a division (e.g. `8 % 3` is `2`).\n",
    "\n",
    "### Instructions 1/2:\n",
    "Define the initial check: numbers lower than 2 are not prime.\n",
    "Define the loop checking if the number `n` is not prime."
   ]
  },
  {
   "cell_type": "code",
   "execution_count": 34,
   "metadata": {},
   "outputs": [],
   "source": [
    "import math\n",
    "\n",
    "def is_prime(n):\n",
    "    # Define the initial check\n",
    "    if n < 2:\n",
    "        return False\n",
    "    # Define the loop checking if a number is not prime\n",
    "    for i in range(2, int(math.sqrt(n)) + 1):\n",
    "        if n % i == 0:\n",
    "            return False\n",
    "    return True"
   ]
  },
  {
   "cell_type": "code",
   "execution_count": 35,
   "metadata": {},
   "outputs": [
    {
     "name": "stdout",
     "output_type": "stream",
     "text": [
      "primes = [5, 13, 17, 29, 37, 41]\n"
     ]
    }
   ],
   "source": [
    "cands = [1, 5, 9, 13, 17, 21, 25, 29, 33, 37, 41, 45, 49]\n",
    "\n",
    "# Filter prime numbers into the new list\n",
    "primes = [num for num in cands if is_prime(num)]\n",
    "\n",
    "print(\"primes = \" + str(primes))"
   ]
  },
  {
   "cell_type": "markdown",
   "metadata": {},
   "source": [
    "## 2.3 Coprime number sequence\n",
    "Two numbers $a$ and $b$ are coprime if their Greatest Common Divisor (GCD) is 1. GCD is the largest positive number that divides two given numbers $a$ and $b$. For example, the numbers 7 and 9 are coprime because their GCD is 1.\n",
    "\n",
    "Given two lists `list1` and `list2`, your task is to create a new list `coprimes` that contains all the coprime pairs from `list1` and `list2`.\n",
    "\n",
    "But first, you need to write a function for the GCD using the following algorithm:\n",
    "\n",
    "1. check if $b=0$\n",
    "    * if true, return $a$ as the GCD between $a$ and $b$\n",
    "    * if false, go to step 2\n",
    "2. make a substitution $a←b$ and ${b}\\leftarrow{a\\%b}$\n",
    "3. go back to step 1\n",
    "\n",
    "### Instructions 1/2:\n",
    "* Define the while loop as described in the context.\n",
    "* Complete the return statement."
   ]
  },
  {
   "cell_type": "code",
   "execution_count": 36,
   "metadata": {},
   "outputs": [],
   "source": [
    "def gcd(a, b):\n",
    "    # Define the while loop as described\n",
    "    while b!=0:\n",
    "        temp_a = a\n",
    "        a = b\n",
    "        b = temp_a % a \n",
    "    # Complete the return statement\n",
    "    return a"
   ]
  },
  {
   "cell_type": "code",
   "execution_count": 37,
   "metadata": {},
   "outputs": [
    {
     "name": "stdout",
     "output_type": "stream",
     "text": [
      "[(5, 7), (5, 14), (5, 21), (5, 28), (5, 42), (5, 49), (5, 56), (5, 63), (5, 77), (5, 84), (5, 91), (5, 98), (10, 7), (10, 21), (10, 49), (10, 63), (10, 77), (10, 91), (15, 7), (15, 14), (15, 28), (15, 49), (15, 56), (15, 77), (15, 91), (15, 98), (20, 7), (20, 21), (20, 49), (20, 63), (20, 77), (20, 91), (25, 7), (25, 14), (25, 21), (25, 28), (25, 42), (25, 49), (25, 56), (25, 63), (25, 77), (25, 84), (25, 91), (25, 98), (30, 7), (30, 49), (30, 77), (30, 91), (40, 7), (40, 21), (40, 49), (40, 63), (40, 77), (40, 91), (45, 7), (45, 14), (45, 28), (45, 49), (45, 56), (45, 77), (45, 91), (45, 98), (50, 7), (50, 21), (50, 49), (50, 63), (50, 77), (50, 91), (55, 7), (55, 14), (55, 21), (55, 28), (55, 42), (55, 49), (55, 56), (55, 63), (55, 84), (55, 91), (55, 98), (60, 7), (60, 49), (60, 77), (60, 91), (65, 7), (65, 14), (65, 21), (65, 28), (65, 42), (65, 49), (65, 56), (65, 63), (65, 77), (65, 84), (65, 98)]\n"
     ]
    }
   ],
   "source": [
    "list1 = [5, 10, 15, 20, 25, 30, 35, 40, 45, 50, 55, 60, 65, 70]\n",
    "list2 = [7, 14, 21, 28, 35, 42, 49, 56, 63, 70, 77, 84, 91, 98]\n",
    "\n",
    "# Create a list of tuples defining pairs of coprime numbers\n",
    "coprimes = [(i, j) for i in list1 for j in list2 if gcd(i, j)==1]\n",
    "print(coprimes)"
   ]
  },
  {
   "cell_type": "markdown",
   "metadata": {},
   "source": [
    "Writing an algorithm to find the greatest common divisor is also one of the most popular coding interview questions. Now you know how to proceed! By the way, to impress interviewers, you can substitute lines 4-6 with just one line of code `a, b = b, a % b`."
   ]
  },
  {
   "cell_type": "code",
   "execution_count": 38,
   "metadata": {},
   "outputs": [],
   "source": [
    "def gcd(a, b):\n",
    "    # Define the while loop as described\n",
    "    while b!=0:\n",
    "        a, b = b, a % b\n",
    "    # Complete the return statement\n",
    "    return a"
   ]
  },
  {
   "cell_type": "code",
   "execution_count": null,
   "metadata": {},
   "outputs": [],
   "source": []
  }
 ],
 "metadata": {
  "kernelspec": {
   "display_name": "Python 3",
   "language": "python",
   "name": "python3"
  },
  "language_info": {
   "codemirror_mode": {
    "name": "ipython",
    "version": 3
   },
   "file_extension": ".py",
   "mimetype": "text/x-python",
   "name": "python",
   "nbconvert_exporter": "python",
   "pygments_lexer": "ipython3",
   "version": "3.7.4"
  }
 },
 "nbformat": 4,
 "nbformat_minor": 2
}
