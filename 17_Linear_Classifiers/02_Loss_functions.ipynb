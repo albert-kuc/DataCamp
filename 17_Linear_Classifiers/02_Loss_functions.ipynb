{
 "cells": [
  {
   "cell_type": "markdown",
   "metadata": {},
   "source": [
    "# Loss functions\n",
    "In this chapter you will discover the conceptual framework behind logistic regression and SVMs. This will let you delve deeper into the inner workings of these models."
   ]
  },
  {
   "cell_type": "markdown",
   "metadata": {},
   "source": [
    "# 1. Linear classifiers: the coefficients\n",
    "## 1.1 How models make predictions\n",
    "Which classifiers make predictions based on the sign (positive or negative) of the raw model output?\n",
    "\n",
    "###### Possible Answers:\n",
    "1. Logistic regression only\n",
    "2. Linear SVMs only\n",
    "3. Neither\n",
    "4. Both logistic regression and Linear SVMs"
   ]
  },
  {
   "cell_type": "markdown",
   "metadata": {},
   "source": [
    "###### Answer: \n",
    "<div style=\"text-align: right\">Both. (4)</div>\n",
    "<div style=\"text-align: right\">Furthermore, since logistic regression and SVMs are both linear classifiers,</div>\n",
    "<div style=\"text-align: right\">the raw model output is a linear function of x.</div>"
   ]
  },
  {
   "cell_type": "markdown",
   "metadata": {},
   "source": [
    "## 1.2 Changing the model coefficients\n",
    "When you call `fit` with scikit-learn, the logistic regression coefficients are automatically learned from your dataset. In this exercise you will explore how the decision boundary is represented by the coefficients. To do so, you will change the coefficients manually (instead of with `fit`), and visualize the resulting classifiers.\n",
    "\n",
    "A 2D dataset is already loaded into the environment as `X` and `y`, along with a linear classifier object `model`."
   ]
  },
  {
   "cell_type": "code",
   "execution_count": 1,
   "metadata": {},
   "outputs": [],
   "source": [
    "\"\"\"\n",
    "Adapted from http://scikit-learn.org/stable/auto_examples/svm/plot_iris.html\n",
    "\"\"\"\n",
    "\n",
    "import numpy as np\n",
    "import matplotlib.pyplot as plt\n",
    "% matplotlib inline\n",
    "from sklearn import svm, datasets\n",
    "\n",
    "\n",
    "def make_meshgrid(x, y, h=.02):\n",
    "    \"\"\"Create a mesh of points to plot in\n",
    "\n",
    "    Parameters\n",
    "    ----------\n",
    "    x: data to base x-axis meshgrid on\n",
    "    y: data to base y-axis meshgrid on\n",
    "    h: stepsize for meshgrid, optional\n",
    "\n",
    "    Returns\n",
    "    -------\n",
    "    xx, yy : ndarray\n",
    "    \"\"\"\n",
    "    x_min, x_max = x.min() - 1, x.max() + 1\n",
    "    y_min, y_max = y.min() - 1, y.max() + 1\n",
    "    xx, yy = np.meshgrid(np.arange(x_min, x_max, h),\n",
    "                         np.arange(y_min, y_max, h))\n",
    "    return xx, yy\n",
    "\n",
    "\n",
    "def plot_contours(ax, clf, xx, yy, **params):\n",
    "    \"\"\"Plot the decision boundaries for a classifier.\n",
    "\n",
    "    Parameters\n",
    "    ----------\n",
    "    ax: matplotlib axes object\n",
    "    clf: a classifier\n",
    "    xx: meshgrid ndarray\n",
    "    yy: meshgrid ndarray\n",
    "    params: dictionary of params to pass to contourf, optional\n",
    "    \"\"\"\n",
    "    Z = clf.predict(np.c_[xx.ravel(), yy.ravel()])\n",
    "    Z = Z.reshape(xx.shape)\n",
    "    out = ax.contourf(xx, yy, Z, **params)\n",
    "    return out\n",
    "\n",
    "\n",
    "def plot_classifier(X, y, clfs):\n",
    "\n",
    "    X0, X1 = X[:, 0], X[:, 1]\n",
    "    xx, yy = make_meshgrid(X0, X1)\n",
    "\n",
    "    titles = ('LogisticRegression', 'LinearSVC', 'SVC', 'KNeighborsClassifier')\n",
    "    \n",
    "#     for clf, title, ax in zip(clfs, titles, sub.flatten()):\n",
    "    fig, ax = plt.subplots()\n",
    "\n",
    "    plot_contours(ax, clfs, xx, yy, cmap=plt.cm.coolwarm, alpha=0.8)\n",
    "    ax.scatter(X0, X1, c=y, cmap=plt.cm.coolwarm, s=50, edgecolors='k')\n",
    "    ax.set_xlim(xx.min(), xx.max())\n",
    "    ax.set_ylim(yy.min(), yy.max())\n",
    "#         ax.set_xlabel(' ')\n",
    "#         ax.set_ylabel(' ')\n",
    "    ax.set_xticks(())\n",
    "    ax.set_yticks(())\n",
    "#     ax.set_title(title)\n",
    "\n",
    "    plt.show()"
   ]
  },
  {
   "cell_type": "code",
   "execution_count": 2,
   "metadata": {},
   "outputs": [],
   "source": [
    "import warnings\n",
    "warnings.filterwarnings(\"ignore\")"
   ]
  },
  {
   "cell_type": "code",
   "execution_count": 3,
   "metadata": {},
   "outputs": [
    {
     "data": {
      "image/png": "[encoded data removed]",
      "text/plain": [
       "<Figure size 432x288 with 1 Axes>"
      ]
     },
     "metadata": {},
     "output_type": "display_data"
    }
   ],
   "source": [
    "import numpy as np\n",
    "import matplotlib.pyplot as plt\n",
    "% matplotlib inline\n",
    "from sklearn.linear_model import LogisticRegression\n",
    "import sys\n",
    "sys.path.append('/usr/local/share/datasets/')\n",
    "# from plot_classifier import *\n",
    "\n",
    "# generate synthetic data with fixed random seed\n",
    "np.random.seed(3)\n",
    "N = 20\n",
    "X = np.random.randn(N,2)\n",
    "y = np.random.choice((-1,+1),size=N)\n",
    "X[y>0,0] -= 3\n",
    "X[y>0,1] += 3\n",
    "\n",
    "# plt.scatter(X[y<0,0], X[y<0,1], color='b', marker='x', label='class $-1$')\n",
    "# plt.scatter(X[y>0,0], X[y>0,1], color='r', marker='o',  label='class $+1$')\n",
    "# plt.tick_params(axis='both', which='both', bottom='off', left='off', labelbottom='off', labelleft='off') \n",
    "# remove ticks\n",
    "# plt.legend(loc='best')\n",
    "\n",
    "model = LogisticRegression()\n",
    "model.fit(X,y)\n",
    "model.coef_ = np.array([[0,1]])\n",
    "model.intercept_ = np.array([0])\n",
    "\n",
    "# TODO: we want this -- figure out why it is square?!?!\n",
    "plot_classifier(X,y,model)"
   ]
  },
  {
   "cell_type": "markdown",
   "metadata": {},
   "source": [
    "### Instructions:\n",
    "* Set the two coefficients and the intercept to various values and observe the resulting decision boundaries.\n",
    "* Try to build up a sense of how the coefficients relate to the decision boundary.\n",
    "* Set the coefficients and intercept such that the model makes no errors on the given training data."
   ]
  },
  {
   "cell_type": "code",
   "execution_count": 4,
   "metadata": {},
   "outputs": [
    {
     "data": {
      "image/png": "[encoded data removed]",
      "text/plain": [
       "<Figure size 432x288 with 1 Axes>"
      ]
     },
     "metadata": {},
     "output_type": "display_data"
    },
    {
     "name": "stdout",
     "output_type": "stream",
     "text": [
      "Number of errors: 0\n"
     ]
    }
   ],
   "source": [
    "# Set the coefficients\n",
    "model.coef_ = np.array([[-1,2]])\n",
    "model.intercept_ = np.array([-5])\n",
    "\n",
    "# Plot the data and decision boundary\n",
    "plot_classifier(X,y,model)\n",
    "\n",
    "# Print the number of errors\n",
    "num_err = np.sum(y != model.predict(X))\n",
    "print(\"Number of errors:\", num_err)"
   ]
  },
  {
   "cell_type": "markdown",
   "metadata": {},
   "source": [
    "As you've been experiencing, the coefficients determine the slope of the boundary and the intercept shifts it."
   ]
  },
  {
   "cell_type": "markdown",
   "metadata": {},
   "source": [
    "# 2. What is a loss function?\n",
    "## 2.1 The 0-1 loss\n",
    "In the figure below, what is the 0-1 loss (number of classification errors) of the classifier?\n",
    "\n",
    "<img src=\"_datasets/01_loss_single.png\" alt=\"\">"
   ]
  },
  {
   "cell_type": "markdown",
   "metadata": {},
   "source": [
    "Possible Answers:\n",
    "1. 0\n",
    "2. 1\n",
    "3. 2\n",
    "4. 3\n",
    "\n",
    "Answer:\n",
    "<div style=\"text-align: right\">There is 1 misclassified red point and 1 misclassified blue point. </div>"
   ]
  },
  {
   "cell_type": "markdown",
   "metadata": {},
   "source": [
    "## 2.2 Minimizing a loss function\n",
    "In this exercise you'll implement linear regression \"from scratch\" using `scipy.optimize.minimize`.\n",
    "\n",
    "We'll train a model on the Boston housing price data set, which is already loaded into the variables `X` and `y`. For simplicity, we won't include an intercept in our regression model.\n",
    "\n",
    "### Instructions:\n",
    "* Fill in the loss function for least squares linear regression.\n",
    "* Print out the coefficients from fitting sklearn's `LinearRegression`."
   ]
  },
  {
   "cell_type": "code",
   "execution_count": 5,
   "metadata": {},
   "outputs": [],
   "source": [
    "from sklearn.datasets import load_boston\n",
    "from sklearn.linear_model import LinearRegression\n",
    "from scipy.optimize import minimize\n",
    "\n",
    "# to make syntax easier we'll do everything with one dataset\n",
    "boston = load_boston()\n",
    "X = boston.data\n",
    "y = boston.target"
   ]
  },
  {
   "cell_type": "code",
   "execution_count": 6,
   "metadata": {},
   "outputs": [
    {
     "name": "stdout",
     "output_type": "stream",
     "text": [
      "[-9.28968553e-02  4.87153213e-02 -4.05697039e-03  2.85399167e+00\n",
      " -2.86841294e+00  5.92815272e+00 -7.26932653e-03 -9.68513203e-01\n",
      "  1.71156185e-01 -9.39662205e-03 -3.92186780e-01  1.49054768e-02\n",
      " -4.16304143e-01]\n",
      "LinearRegression(copy_X=True, fit_intercept=False, n_jobs=None,\n",
      "         normalize=False)\n"
     ]
    }
   ],
   "source": [
    "# The squared error, summed over training examples\n",
    "def my_loss(w):\n",
    "    s = 0\n",
    "    for i in range(y.size):\n",
    "        # Get the true and predicted target values for example 'i'\n",
    "        y_i_true = y[i]\n",
    "        y_i_pred = w@X[i]\n",
    "        s = s + (y_i_true-y_i_pred)**2\n",
    "    return s\n",
    "\n",
    "# Returns the w that makes my_loss(w) smallest\n",
    "w_fit = minimize(my_loss, X[0]).x\n",
    "print(w_fit)\n",
    "\n",
    "# Compare with scikit-learn's LinearRegression coefficients\n",
    "lr = LinearRegression(fit_intercept=False).fit(X,y)\n",
    "print(lr)"
   ]
  },
  {
   "cell_type": "markdown",
   "metadata": {},
   "source": [
    "# 3. Loss function diagrams\n",
    "## 3.1 Classification loss functions\n",
    "Which of the four loss functions makes sense for classification?\n",
    "\n",
    "<img src=\"_datasets/multiple_choice_loss_diagram.png\" alt=\"\">\n",
    "\n",
    "Possible Answers:\n",
    "1. 1\n",
    "2. 2\n",
    "3. 3\n",
    "4. 4\n",
    "\n",
    "Answer:\n",
    "<div style=\"text-align: right\">This loss is very similar to the hinge loss used in SVMs</div>\n",
    "<div style=\"text-align: right\">(just shifted slightly). (2) </div>"
   ]
  },
  {
   "cell_type": "markdown",
   "metadata": {},
   "source": [
    "## 3.2 Comparing the logistic and hinge losses\n",
    "In this exercise you'll create a plot of the logistic and hinge losses using their mathematical expressions, which are provided to you.\n",
    "\n",
    "The loss function diagram from the video is shown.\n",
    "\n",
    "<img src=\"_datasets/diagram_lr_hinge.png\" alt=\"\">\n",
    "\n",
    "### Instructions:\n",
    "* Evaluate the `log_loss()` and `hinge_loss()` functions __at the grid points__ so that they are plotted."
   ]
  },
  {
   "cell_type": "code",
   "execution_count": 7,
   "metadata": {},
   "outputs": [
    {
     "data": {
      "image/png": "[encoded data removed]",
      "text/plain": [
       "<Figure size 432x288 with 1 Axes>"
      ]
     },
     "metadata": {},
     "output_type": "display_data"
    }
   ],
   "source": [
    "# Mathematical functions for logistic and hinge losses\n",
    "def log_loss(raw_model_output):\n",
    "   return np.log(1+np.exp(-raw_model_output))\n",
    "def hinge_loss(raw_model_output):\n",
    "   return np.maximum(0,1-raw_model_output)\n",
    "\n",
    "# Create a grid of values and plot\n",
    "grid = np.linspace(-2,2,1000)\n",
    "plt.plot(grid, log_loss(grid), label='logistic')\n",
    "plt.plot(grid, hinge_loss(grid), label='hinge')\n",
    "plt.legend()\n",
    "plt.show()"
   ]
  },
  {
   "cell_type": "markdown",
   "metadata": {},
   "source": [
    "## 3. Implementing logistic regression\n",
    "This is very similar to the earlier exercise where you implemented linear regression \"from scratch\" using `scipy.optimize.minimize`. However, this time we'll minimize the logistic loss and compare with scikit-learn's `LogisticRegression` (we've set `C` to a large value to disable regularization; more on this in Chapter 3!).\n",
    "\n",
    "The `log_loss()` function from the previous exercise is already defined in your environment, and the `sklearn` breast cancer prediction dataset (first 10 features, standardized) is loaded into the variables `X` and `y`.\n",
    "\n",
    "Instructions:\n",
    "* Input the number of training examples into `range()`.\n",
    "* Fill in the loss function for logistic regression.\n",
    "* Compare the coefficients to sklearn's `LogisticRegression`."
   ]
  },
  {
   "cell_type": "code",
   "execution_count": 8,
   "metadata": {},
   "outputs": [],
   "source": [
    "from sklearn.datasets import load_breast_cancer\n",
    "from sklearn.linear_model import LogisticRegression\n",
    "from scipy.optimize import minimize\n",
    "import numpy as np\n",
    "\n",
    "def log_loss(raw_model_output):\n",
    "   return np.log(1+np.exp(-raw_model_output))\n",
    "\n",
    "# to make syntax easier we'll do everything with one dataset\n",
    "bc = load_breast_cancer()\n",
    "X = bc.data\n",
    "y = bc.target\n",
    "X = X[:,:10] # need this to work - i think due to collinearity??? - gives different results each time without regularization\n",
    "# below: need standardization to not deal with overflow issues in scipy minimize and also helps sklearn one!!\n",
    "X -= np.mean(X,axis=0)[None]\n",
    "X /= np.std(X,axis=0)[None]\n",
    "y[y==0] = -1 # need this for loss to work as implemented"
   ]
  },
  {
   "cell_type": "code",
   "execution_count": 9,
   "metadata": {},
   "outputs": [
    {
     "name": "stdout",
     "output_type": "stream",
     "text": [
      "[ 1.03614286 -1.65378311  4.08304789 -9.40919638 -1.06786921  0.07893921\n",
      " -0.85110697 -2.44101959 -0.45285598  0.4335331 ]\n",
      "[[ 1.03733338 -1.65337375  4.0814327  -9.40787668 -1.06760572  0.07893298\n",
      "  -0.85073969 -2.44080255 -0.4527378   0.43331414]]\n"
     ]
    }
   ],
   "source": [
    "# The logistic loss, summed over training examples\n",
    "def my_loss(w):\n",
    "    s = 0\n",
    "    for i in range(y.size):\n",
    "        raw_model_output = w@X[i]\n",
    "        s = s + log_loss(raw_model_output * y[i])\n",
    "    return s\n",
    "\n",
    "# Returns the w that makes my_loss(w) smallest\n",
    "w_fit = minimize(my_loss, X[0]).x\n",
    "print(w_fit)\n",
    "\n",
    "# Compare with scikit-learn's LogisticRegression\n",
    "lr = LogisticRegression(fit_intercept=False, C=1000000).fit(X,y)\n",
    "print(lr.coef_)"
   ]
  },
  {
   "cell_type": "markdown",
   "metadata": {},
   "source": [
    "Logistic regression is just minimizing the loss function we've been looking at. Much more on logistic regression in the next chapter!"
   ]
  },
  {
   "cell_type": "code",
   "execution_count": null,
   "metadata": {},
   "outputs": [],
   "source": []
  }
 ],
 "metadata": {
  "kernelspec": {
   "display_name": "Python 3",
   "language": "python",
   "name": "python3"
  },
  "language_info": {
   "codemirror_mode": {
    "name": "ipython",
    "version": 3
   },
   "file_extension": ".py",
   "mimetype": "text/x-python",
   "name": "python",
   "nbconvert_exporter": "python",
   "pygments_lexer": "ipython3",
   "version": "3.7.0"
  }
 },
 "nbformat": 4,
 "nbformat_minor": 2
}
