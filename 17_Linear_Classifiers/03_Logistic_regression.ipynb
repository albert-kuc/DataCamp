{
 "cells": [
  {
   "cell_type": "markdown",
   "metadata": {},
   "source": [
    "# Logistic regression\n",
    "In this chapter you will delve into the details of logistic regression. You'll learn all about regularization and how to interpret model output."
   ]
  },
  {
   "cell_type": "markdown",
   "metadata": {},
   "source": [
    "# 1. Logistic regression and regularization\n",
    "### 1.1 Regularized logistic regression\n",
    "In Chapter 1, you used logistic regression on the handwritten digits data set. Here, we'll explore the effect of L2 regularization.\n",
    "\n",
    "The handwritten digits dataset is already loaded, split, and stored in the variables `X_train`, `y_train`, `X_valid`, and `y_valid`. The variables `train_errs` and `valid_errs` are already initialized as empty lists.\n",
    "\n",
    "### Instructions:\n",
    "* Loop over the different values of `C_value`, creating and fitting a `LogisticRegression` model each time.\n",
    "* Save the error on the training set and the validation set for each model.\n",
    "* Create a plot of the training and testing error as a function of the regularization parameter, `C`.\n",
    "* Looking at the plot, what's the best value of `C`?"
   ]
  },
  {
   "cell_type": "code",
   "execution_count": 1,
   "metadata": {},
   "outputs": [],
   "source": [
    "from sklearn import datasets\n",
    "import matplotlib.pyplot as plt\n",
    "import matplotlib.ticker as mtick\n",
    "\n",
    "from sklearn.linear_model import LogisticRegression\n",
    "from sklearn.model_selection import train_test_split\n",
    "\n",
    "digits = datasets.load_digits()\n",
    "\n",
    "X_train, X_valid, y_train, y_valid = train_test_split(digits.data, digits.target, random_state=1)\n",
    "\n",
    "C_values = [0.001, 0.01, 0.1, 1, 10, 100, 1000]"
   ]
  },
  {
   "cell_type": "code",
   "execution_count": 2,
   "metadata": {},
   "outputs": [
    {
     "data": {
      "image/png": "[encoded data removed]",
      "text/plain": [
       "<Figure size 432x288 with 1 Axes>"
      ]
     },
     "metadata": {},
     "output_type": "display_data"
    }
   ],
   "source": [
    "# Train and validaton errors initialized as empty list\n",
    "train_errs = list()\n",
    "valid_errs = list()\n",
    "\n",
    "# Loop over values of C\n",
    "for C_value in [0.001, 0.01, 0.1, 1, 10, 100, 1000]:\n",
    "    # Create LogisticRegression object and fit\n",
    "    lr = LogisticRegression(C=C_value, solver='liblinear', multi_class='ovr') # specified solver and multi_class to fix warning\n",
    "    lr.fit(X_train, y_train)\n",
    "    \n",
    "    # Evaluate error rates and append to lists\n",
    "    train_errs.append( 1.0 - lr.score(X_train, y_train) )\n",
    "    valid_errs.append( 1.0 - lr.score(X_valid, y_valid) )\n",
    "    \n",
    "# Plot results\n",
    "plt.semilogx(C_values, train_errs, C_values, valid_errs)\n",
    "plt.legend((\"train\", \"validation\"))\n",
    "plt.show()"
   ]
  },
  {
   "cell_type": "markdown",
   "metadata": {},
   "source": [
    "As you can see, too much regularization (small `C`) doesn't work well - due to underfitting - and too little regularization (large `C`) doesn't work well either - due to overfitting."
   ]
  },
  {
   "cell_type": "markdown",
   "metadata": {},
   "source": [
    "### 1.2 Logistic regression and feature selection\n",
    "In this exercise we'll perform feature selection on the movie review sentiment data set using L1 regularization. The features and targets are already loaded for you in `X_train` and `y_train`.\n",
    "\n",
    "We'll search for the best value of `C` using scikit-learn's `GridSearchCV()`, which was covered in the prerequisite course.\n",
    "\n",
    "### Instructions:\n",
    "* Instantiate a logistic regression object that uses L1 regularization.\n",
    "* Find the value of `C` that minimizes cross-validation error.\n",
    "* Print out the number of selected features for this value of `C`."
   ]
  },
  {
   "cell_type": "code",
   "execution_count": 3,
   "metadata": {},
   "outputs": [],
   "source": [
    "from sklearn.datasets import load_svmlight_files\n",
    "DATADIR=\"_datasets/\"\n",
    "X_train, y_train, X_valid, y_valid = load_svmlight_files((DATADIR+\"reviews_train_smaller_pm1.txt\", \n",
    "                                                          DATADIR+\"reviews_test_smaller_pm1.txt\"))\n",
    "\n",
    "from sklearn.model_selection import GridSearchCV\n",
    "import numpy as np\n",
    "from sklearn.linear_model import LogisticRegression\n",
    "\n",
    "# make dataset even smaller for speed\n",
    "n = 5000\n",
    "X_train = X_train[:n]\n",
    "y_train = y_train[:n]\n",
    "X_valid = X_valid[:n]\n",
    "y_valid = y_valid[:n]"
   ]
  },
  {
   "cell_type": "code",
   "execution_count": 4,
   "metadata": {},
   "outputs": [
    {
     "name": "stdout",
     "output_type": "stream",
     "text": [
      "Best CV params {'C': 1}\n"
     ]
    }
   ],
   "source": [
    "# Specify L1 regularization\n",
    "lr = LogisticRegression(penalty='l1', solver='liblinear', multi_class='ovr') # specified solver and multi_class to fix warning\n",
    "\n",
    "# Instantiate the GridSearchCV object and run the search\n",
    "searcher = GridSearchCV(lr, {'C':[0.001, 0.01, 0.1, 1, 10]}, cv=3) # specify cv to fix warning\n",
    "searcher.fit(X_train, y_train)\n",
    "\n",
    "# Report the best parameters\n",
    "print(\"Best CV params\", searcher.best_params_)"
   ]
  },
  {
   "cell_type": "code",
   "execution_count": 5,
   "metadata": {},
   "outputs": [
    {
     "name": "stdout",
     "output_type": "stream",
     "text": [
      "Total number of features: 2500\n",
      "Number of selected features: 1218\n"
     ]
    }
   ],
   "source": [
    "# Find the number of nonzero coefficients (selected features)\n",
    "best_lr = searcher.best_estimator_\n",
    "coefs = best_lr.coef_\n",
    "print(\"Total number of features:\", coefs.size)\n",
    "print(\"Number of selected features:\", np.count_nonzero(coefs))"
   ]
  },
  {
   "cell_type": "markdown",
   "metadata": {},
   "source": [
    "### 1.3 Identifying the most positive and negative words\n",
    "In this exercise we'll try to interpret the coefficients of a logistic regression fit on the movie review sentiment dataset. The model object is already instantiated and fit for you in the variable `lr`.\n",
    "\n",
    "In addition, the words corresponding to the different features are loaded into the variable `vocab`. For example, since `vocab[100]` is \"think\", that means feature 100 corresponds to the number of times the word \"think\" appeared in that movie review.\n",
    "\n",
    "### Instructions:\n",
    "* Find the words corresponding to the 5 largest coefficients.\n",
    "* Find the words corresponding to the 5 smallest coefficients."
   ]
  },
  {
   "cell_type": "code",
   "execution_count": 6,
   "metadata": {},
   "outputs": [
    {
     "data": {
      "text/plain": [
       "LogisticRegression(C=1.0, class_weight=None, dual=False, fit_intercept=True,\n",
       "          intercept_scaling=1, max_iter=100, multi_class='ovr',\n",
       "          n_jobs=None, penalty='l2', random_state=None, solver='liblinear',\n",
       "          tol=0.0001, verbose=0, warm_start=False)"
      ]
     },
     "execution_count": 6,
     "metadata": {},
     "output_type": "execute_result"
    }
   ],
   "source": [
    "from sklearn.datasets import load_svmlight_file\n",
    "DATADIR=\"_datasets/\"\n",
    "X_train, y_train = load_svmlight_file(DATADIR+\"reviews_train_smaller_pm1.txt\")\n",
    "\n",
    "n = 5000\n",
    "X_train = X_train[:n]\n",
    "y_train = y_train[:n]\n",
    "\n",
    "import urllib.request\n",
    "import numpy as np\n",
    "\n",
    "with open('_datasets/reviews_vocab.txt') as f:\n",
    "    vocab = f.read().splitlines()\n",
    "vocab = np.array(vocab)\n",
    "\n",
    "from sklearn.linear_model import LogisticRegression\n",
    "\n",
    "# Fit the model\n",
    "lr = LogisticRegression(solver='liblinear', multi_class='ovr') # specified solver and multi_class to fix warning\n",
    "lr.fit(X_train, y_train)"
   ]
  },
  {
   "cell_type": "code",
   "execution_count": 7,
   "metadata": {},
   "outputs": [
    {
     "name": "stdout",
     "output_type": "stream",
     "text": [
      "Most positive words: favorite, superb, noir, knowing, loved, \n",
      "\n",
      "Most negative words: disappointing, waste, worst, boring, lame, \n",
      "\n"
     ]
    }
   ],
   "source": [
    "# Get the indices of the sorted coefficients\n",
    "inds_ascending = np.argsort(lr.coef_.flatten()) \n",
    "inds_descending = inds_ascending[::-1]\n",
    "\n",
    "# Print the most positive words\n",
    "print(\"Most positive words: \", end=\"\")\n",
    "for i in range(5):\n",
    "    print(vocab[inds_descending[i]], end=\", \")\n",
    "print(\"\\n\")\n",
    "\n",
    "# Print most negative words\n",
    "print(\"Most negative words: \", end=\"\")\n",
    "for i in range(5):\n",
    "    print(vocab[inds_ascending[i]], end=\", \")\n",
    "print(\"\\n\")"
   ]
  },
  {
   "cell_type": "code",
   "execution_count": null,
   "metadata": {},
   "outputs": [],
   "source": []
  }
 ],
 "metadata": {
  "kernelspec": {
   "display_name": "Python 3",
   "language": "python",
   "name": "python3"
  },
  "language_info": {
   "codemirror_mode": {
    "name": "ipython",
    "version": 3
   },
   "file_extension": ".py",
   "mimetype": "text/x-python",
   "name": "python",
   "nbconvert_exporter": "python",
   "pygments_lexer": "ipython3",
   "version": "3.7.0"
  }
 },
 "nbformat": 4,
 "nbformat_minor": 2
}
