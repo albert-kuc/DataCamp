{
 "cells": [
  {
   "cell_type": "markdown",
   "metadata": {},
   "source": [
    "# Discovering interpretable features\n",
    "In this chapter, you'll learn about a dimension reduction technique called \"Non-negative matrix factorization\" (\"NMF\") that expresses samples as combinations of interpretable parts. For example, it expresses documents as combinations of topics, and images in terms of commonly occurring visual patterns. You'll also learn to use NMF to build recommender systems that can find you similar articles to read, or musical artists that match your listening history!"
   ]
  },
  {
   "cell_type": "markdown",
   "metadata": {},
   "source": [
    "# 1.Non-negative matrix factorization (NMF)\n",
    "## 1.1 Non-negative data\n",
    "Which of the following 2-dimensional arrays are examples of non-negative data?\n",
    "\n",
    "1. A tf-idf word-frequency array.\n",
    "2. An array daily stock market price movements (up and down), where each row represents a company.\n",
    "3. An array where rows are customers, columns are products and entries are 0 or 1, indicating whether a customer has purchased a product.\n",
    "\n",
    "###### Possible Answers:\n",
    "1. 1 only\n",
    "2. 2 and 3\n",
    "3. 1 and 3"
   ]
  },
  {
   "cell_type": "markdown",
   "metadata": {},
   "source": [
    "__Answer:__ Stock prices can go down as well as up, so an array of daily stock market price movements is not an example of non-negative data. (3)"
   ]
  },
  {
   "cell_type": "markdown",
   "metadata": {},
   "source": [
    "## 1.2 NMF applied to Wikipedia articles\n",
    "In the video, you saw NMF applied to transform a toy word-frequency array. Now it's your turn to apply NMF, this time using the tf-idf word-frequency array of Wikipedia articles, given as a csr matrix `articles`. Here, fit the model and transform the articles. In the next exercise, you'll explore the result.\n",
    "\n",
    "### Instructions:\n",
    "* Import `NMF` from `sklearn.decomposition`.\n",
    "* Create an `NMF` instance called `model` with `6` components.\n",
    "* Fit the model to the word count data `articles`.\n",
    "* Use the `.transform()` method of `model` to transform `articles`, and assign the result to `nmf_features`.\n",
    "* Print `nmf_features` to get a first idea what it looks like."
   ]
  },
  {
   "cell_type": "code",
   "execution_count": 1,
   "metadata": {},
   "outputs": [],
   "source": [
    "import pandas as pd\n",
    "from scipy.sparse import csr_matrix\n",
    "\n",
    "df = pd.read_csv('_datasets/wikipedia-vectors.csv', index_col=0)\n",
    "articles = csr_matrix(df.transpose())\n",
    "# from sklearn import decomposition\n",
    "# import functools\n",
    "# import inspect\n",
    "\n",
    "# def _init_wrapper(f):\n",
    "#     @functools.wraps(f)\n",
    "#     def wrapper(*args, **kwargs):\n",
    "#         bound_args = inspect.signature(f).bind(*args, **kwargs)\n",
    "#         if not bound_args.arguments.get('n_components', None):\n",
    "#             raise BaseException(\"Be sure to correctly specify n_components.\")\n",
    "#         else: \n",
    "#             return f(*args, **kwargs)\n",
    "#     return wrapper\n",
    "        \n",
    "# if not getattr(decomposition.NMF.__init__, 'decorated', None):\n",
    "#     decomposition.NMF.__init__ = _init_wrapper(decomposition.NMF.__init__)\n",
    "#     decomposition.NMF.__init__.decorated = True"
   ]
  },
  {
   "cell_type": "code",
   "execution_count": 3,
   "metadata": {},
   "outputs": [
    {
     "data": {
      "text/plain": [
       "<60x13125 sparse matrix of type '<class 'numpy.float64'>'\n",
       "\twith 42091 stored elements in Compressed Sparse Row format>"
      ]
     },
     "execution_count": 3,
     "metadata": {},
     "output_type": "execute_result"
    }
   ],
   "source": [
    "articles"
   ]
  },
  {
   "cell_type": "code",
   "execution_count": 4,
   "metadata": {},
   "outputs": [
    {
     "name": "stdout",
     "output_type": "stream",
     "text": [
      "[[0.00000000e+00 0.00000000e+00 0.00000000e+00 0.00000000e+00\n",
      "  0.00000000e+00 4.40408746e-01]\n",
      " [0.00000000e+00 0.00000000e+00 0.00000000e+00 0.00000000e+00\n",
      "  0.00000000e+00 5.66531579e-01]\n",
      " [3.82058178e-03 0.00000000e+00 0.00000000e+00 0.00000000e+00\n",
      "  0.00000000e+00 3.98595338e-01]\n",
      " [0.00000000e+00 0.00000000e+00 0.00000000e+00 0.00000000e+00\n",
      "  0.00000000e+00 3.81690831e-01]\n",
      " [0.00000000e+00 0.00000000e+00 0.00000000e+00 0.00000000e+00\n",
      "  0.00000000e+00 4.85453916e-01]\n",
      " [1.29291751e-02 1.37898408e-02 7.76289619e-03 3.34479265e-02\n",
      "  0.00000000e+00 3.34478785e-01]\n",
      " [0.00000000e+00 0.00000000e+00 2.06732391e-02 0.00000000e+00\n",
      "  6.04345191e-03 3.59015072e-01]\n",
      " [0.00000000e+00 0.00000000e+00 0.00000000e+00 0.00000000e+00\n",
      "  0.00000000e+00 4.90912793e-01]\n",
      " [1.54275247e-02 1.42826360e-02 3.76614820e-03 2.37106468e-02\n",
      "  2.62559694e-02 4.80712637e-01]\n",
      " [1.11739438e-02 3.13697661e-02 3.09471672e-02 6.56985678e-02\n",
      "  1.96632422e-02 3.38245148e-01]\n",
      " [0.00000000e+00 0.00000000e+00 5.30695509e-01 0.00000000e+00\n",
      "  2.83615841e-02 0.00000000e+00]\n",
      " [0.00000000e+00 0.00000000e+00 3.56493285e-01 0.00000000e+00\n",
      "  0.00000000e+00 0.00000000e+00]\n",
      " [1.20128364e-02 6.50077135e-03 3.12231176e-01 6.09758099e-02\n",
      "  1.13835827e-02 1.92577943e-02]\n",
      " [3.93489488e-03 6.24473654e-03 3.42357851e-01 1.10766717e-02\n",
      "  0.00000000e+00 0.00000000e+00]\n",
      " [4.63825284e-03 0.00000000e+00 4.34895426e-01 0.00000000e+00\n",
      "  3.84188494e-02 3.08094183e-03]\n",
      " [0.00000000e+00 0.00000000e+00 4.83267381e-01 0.00000000e+00\n",
      "  0.00000000e+00 0.00000000e+00]\n",
      " [5.65022203e-03 1.83544637e-02 3.76516038e-01 3.25454210e-02\n",
      "  0.00000000e+00 1.13320127e-02]\n",
      " [0.00000000e+00 0.00000000e+00 4.80892143e-01 0.00000000e+00\n",
      "  0.00000000e+00 0.00000000e+00]\n",
      " [0.00000000e+00 9.01909187e-03 5.50983149e-01 0.00000000e+00\n",
      "  0.00000000e+00 0.00000000e+00]\n",
      " [0.00000000e+00 0.00000000e+00 4.65948685e-01 0.00000000e+00\n",
      "  0.00000000e+00 0.00000000e+00]\n",
      " [0.00000000e+00 1.14086585e-02 2.08646212e-02 5.17756677e-01\n",
      "  5.81276630e-02 1.37836697e-02]\n",
      " [0.00000000e+00 0.00000000e+00 0.00000000e+00 5.10464817e-01\n",
      "  0.00000000e+00 0.00000000e+00]\n",
      " [0.00000000e+00 5.60132760e-03 0.00000000e+00 4.22371195e-01\n",
      "  0.00000000e+00 0.00000000e+00]\n",
      " [0.00000000e+00 0.00000000e+00 0.00000000e+00 4.36742303e-01\n",
      "  0.00000000e+00 0.00000000e+00]\n",
      " [0.00000000e+00 0.00000000e+00 0.00000000e+00 4.98081829e-01\n",
      "  0.00000000e+00 0.00000000e+00]\n",
      " [9.88402985e-02 8.60086419e-02 3.91018404e-03 3.81009695e-01\n",
      "  4.39150213e-04 5.22087645e-03]\n",
      " [0.00000000e+00 0.00000000e+00 0.00000000e+00 5.72158144e-01\n",
      "  0.00000000e+00 7.13456447e-03]\n",
      " [1.31469970e-02 1.04858600e-02 0.00000000e+00 4.68896426e-01\n",
      "  0.00000000e+00 1.16295263e-02]\n",
      " [3.84553327e-03 0.00000000e+00 0.00000000e+00 5.75698745e-01\n",
      "  0.00000000e+00 0.00000000e+00]\n",
      " [2.25247234e-03 1.38744255e-03 0.00000000e+00 5.27934920e-01\n",
      "  1.20237507e-02 1.49465290e-02]\n",
      " [0.00000000e+00 4.07567967e-01 1.85706221e-03 0.00000000e+00\n",
      "  2.96543249e-03 4.52282791e-04]\n",
      " [1.53422602e-03 6.08202569e-01 5.22255132e-04 6.24840306e-03\n",
      "  1.18417772e-03 4.40015774e-04]\n",
      " [5.38824313e-03 2.65029928e-01 5.38484925e-04 1.86921948e-02\n",
      "  6.38506972e-03 2.90067819e-03]\n",
      " [0.00000000e+00 6.44947217e-01 0.00000000e+00 0.00000000e+00\n",
      "  0.00000000e+00 0.00000000e+00]\n",
      " [0.00000000e+00 6.08936541e-01 0.00000000e+00 0.00000000e+00\n",
      "  0.00000000e+00 0.00000000e+00]\n",
      " [0.00000000e+00 3.43701939e-01 0.00000000e+00 0.00000000e+00\n",
      "  3.97704660e-03 0.00000000e+00]\n",
      " [6.10514206e-03 3.15328128e-01 1.54873023e-02 0.00000000e+00\n",
      "  5.06129799e-03 4.74274324e-03]\n",
      " [6.47379468e-03 2.13338922e-01 9.49452506e-03 4.56971617e-02\n",
      "  1.71875576e-02 9.51942593e-03]\n",
      " [7.99154470e-03 4.67617874e-01 0.00000000e+00 2.43420360e-02\n",
      "  0.00000000e+00 0.00000000e+00]\n",
      " [0.00000000e+00 6.42851328e-01 0.00000000e+00 2.35850058e-03\n",
      "  0.00000000e+00 0.00000000e+00]\n",
      " [0.00000000e+00 0.00000000e+00 0.00000000e+00 0.00000000e+00\n",
      "  4.76971369e-01 0.00000000e+00]\n",
      " [0.00000000e+00 0.00000000e+00 0.00000000e+00 0.00000000e+00\n",
      "  4.94140360e-01 0.00000000e+00]\n",
      " [0.00000000e+00 2.99064493e-04 2.14471796e-03 0.00000000e+00\n",
      "  3.81689753e-01 5.83704105e-03]\n",
      " [0.00000000e+00 0.00000000e+00 0.00000000e+00 5.64677155e-03\n",
      "  5.42114975e-01 0.00000000e+00]\n",
      " [1.78059733e-03 7.84445452e-04 1.41620976e-02 4.59785440e-04\n",
      "  4.24203469e-01 0.00000000e+00]\n",
      " [0.00000000e+00 0.00000000e+00 0.00000000e+00 0.00000000e+00\n",
      "  5.11272116e-01 0.00000000e+00]\n",
      " [0.00000000e+00 0.00000000e+00 3.28365521e-03 0.00000000e+00\n",
      "  3.72800018e-01 0.00000000e+00]\n",
      " [0.00000000e+00 2.62093969e-04 3.61087530e-02 2.32321780e-04\n",
      "  2.30457013e-01 0.00000000e+00]\n",
      " [1.12518485e-02 2.12337247e-03 1.60964576e-02 1.02482265e-02\n",
      "  3.25385846e-01 3.75832200e-02]\n",
      " [0.00000000e+00 0.00000000e+00 0.00000000e+00 0.00000000e+00\n",
      "  4.18860573e-01 3.57629702e-04]\n",
      " [3.08376221e-01 0.00000000e+00 0.00000000e+00 0.00000000e+00\n",
      "  0.00000000e+00 0.00000000e+00]\n",
      " [3.68184873e-01 0.00000000e+00 0.00000000e+00 0.00000000e+00\n",
      "  0.00000000e+00 0.00000000e+00]\n",
      " [3.97956773e-01 2.81716762e-02 3.66995834e-03 1.70063164e-02\n",
      "  1.95921659e-03 2.11617326e-02]\n",
      " [3.75805856e-01 2.07530715e-03 0.00000000e+00 3.72146624e-02\n",
      "  0.00000000e+00 5.85853055e-03]\n",
      " [4.38041316e-01 0.00000000e+00 0.00000000e+00 0.00000000e+00\n",
      "  0.00000000e+00 0.00000000e+00]\n",
      " [4.57894724e-01 0.00000000e+00 0.00000000e+00 0.00000000e+00\n",
      "  0.00000000e+00 0.00000000e+00]\n",
      " [2.75485475e-01 4.46978354e-03 0.00000000e+00 5.29644457e-02\n",
      "  0.00000000e+00 1.90973357e-02]\n",
      " [4.45207253e-01 0.00000000e+00 0.00000000e+00 0.00000000e+00\n",
      "  5.48571060e-03 0.00000000e+00]\n",
      " [2.92749150e-01 1.33671267e-02 1.14258101e-02 1.05197753e-02\n",
      "  1.87652693e-01 9.23846321e-03]\n",
      " [3.78277818e-01 1.43977285e-02 0.00000000e+00 9.85219107e-02\n",
      "  1.35868849e-02 0.00000000e+00]]\n"
     ]
    }
   ],
   "source": [
    "# Import NMF\n",
    "from sklearn.decomposition import NMF\n",
    "\n",
    "# Create an NMF instance: model\n",
    "model = NMF(n_components=6)\n",
    "\n",
    "# Fit the model to articles\n",
    "model.fit(articles)\n",
    "\n",
    "# Transform the articles: nmf_features\n",
    "nmf_features = model.transform(articles)\n",
    "\n",
    "# Print the NMF features\n",
    "print(nmf_features)"
   ]
  },
  {
   "cell_type": "markdown",
   "metadata": {},
   "source": [
    "These NMF features don't make much sense at this point, but you will explore them in the next exercise!"
   ]
  },
  {
   "cell_type": "markdown",
   "metadata": {},
   "source": [
    "## 1.2 NMF features of the Wikipedia articles\n",
    "Now you will explore the NMF features you created in the previous exercise. A solution to the previous exercise has been pre-loaded, so the array `nmf_features` is available. Also available is a list titles giving the title of each Wikipedia `article`.\n",
    "\n",
    "When investigating the features, notice that for both actors, the NMF feature 3 has by far the highest value. This means that both articles are reconstructed using mainly the 3rd NMF component. In the next video, you'll see why: NMF components represent topics (for instance, acting!).\n",
    "\n",
    "### Instructions:\n",
    "* Import `pandas` as `pd`.\n",
    "* Create a DataFrame `df` from `nmf_features` using `pd.DataFrame()`. Set the index to `titles` using `index=titles`.\n",
    "* Use the `.loc[]` accessor of `df` to select the row with title `'Anne Hathaway'`, and print the result. These are the NMF features for the article about the actress Anne Hathaway.\n",
    "* Repeat the last step for `'Denzel Washington'` (another actor)."
   ]
  },
  {
   "cell_type": "code",
   "execution_count": 6,
   "metadata": {},
   "outputs": [],
   "source": [
    "_df = pd.read_csv('_datasets/wikipedia-vectors.csv', index_col=0)\n",
    "articles = csr_matrix(_df.transpose())\n",
    "titles = list(_df.columns)\n",
    "\n",
    "# fix seed (must get same results now and in later exercise)\n",
    "import numpy as np\n",
    "np.random.seed(1)\n",
    "\n",
    "# model solution to previous exercise\n",
    "from sklearn.decomposition import NMF\n",
    "\n",
    "model = NMF(n_components=6)\n",
    "model.fit(articles)\n",
    "nmf_features = model.transform(articles)"
   ]
  },
  {
   "cell_type": "code",
   "execution_count": 7,
   "metadata": {},
   "outputs": [
    {
     "name": "stdout",
     "output_type": "stream",
     "text": [
      "                      0    1    2         3    4    5\n",
      "Anne Hathaway  0.003845  0.0  0.0  0.575711  0.0  0.0\n",
      "                     0         1    2        3    4    5\n",
      "Denzel Washington  0.0  0.005601  0.0  0.42238  0.0  0.0\n"
     ]
    }
   ],
   "source": [
    "# Import pandas\n",
    "import pandas as pd\n",
    "\n",
    "# Create a pandas DataFrame: df\n",
    "df = pd.DataFrame(nmf_features, index=titles)\n",
    "\n",
    "# Print the row for 'Anne Hathaway'\n",
    "print(df.loc[['Anne Hathaway']])\n",
    "\n",
    "# Print the row for 'Denzel Washington'\n",
    "print(df.loc[['Denzel Washington']])"
   ]
  },
  {
   "cell_type": "markdown",
   "metadata": {},
   "source": [
    "Notice that for both actors, the NMF feature 3 has by far the highest value. This means that both articles are reconstructed using mainly the 3rd NMF component. In the next video, you'll see why: NMF components represent topics (for instance, acting!)."
   ]
  },
  {
   "cell_type": "markdown",
   "metadata": {},
   "source": [
    "## 1.4 NMF reconstructs samples\n",
    "In this exercise, you'll check your understanding of how NMF reconstructs samples from its components using the NMF feature values. On the right are the components of an NMF model. If the NMF feature values of a sample are `[2, 1]`, then which of the following is _most likely_ to represent the original sample? \n",
    "```\n",
    "[[ 1.   0.5  0. ]\n",
    " [ 0.2  0.1  2.1]]\n",
    "```\n",
    "Possible Answers\n",
    "1. `[2.2, 1.0, 2.0].`\n",
    "2. `[0.5, 1.6, 3.1].`\n",
    "3. `[-4.0, 1.0, -2.0].`"
   ]
  },
  {
   "cell_type": "markdown",
   "metadata": {},
   "source": [
    "Solution:\n",
    "```\n",
    " 2 * | [[ 1.   0.5  0. ]\n",
    "+1 * |  [ 0.2  0.1  2.1]]\n",
    "------------------------\n",
    "     | [  2.2  1.1  2.1 ]\n",
    "```\n",
    "Answer: (1)"
   ]
  },
  {
   "cell_type": "code",
   "execution_count": null,
   "metadata": {},
   "outputs": [],
   "source": []
  }
 ],
 "metadata": {
  "kernelspec": {
   "display_name": "Python 3",
   "language": "python",
   "name": "python3"
  },
  "language_info": {
   "codemirror_mode": {
    "name": "ipython",
    "version": 3
   },
   "file_extension": ".py",
   "mimetype": "text/x-python",
   "name": "python",
   "nbconvert_exporter": "python",
   "pygments_lexer": "ipython3",
   "version": "3.7.0"
  }
 },
 "nbformat": 4,
 "nbformat_minor": 2
}
