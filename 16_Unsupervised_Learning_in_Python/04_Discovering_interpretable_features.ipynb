{
 "cells": [
  {
   "cell_type": "markdown",
   "metadata": {},
   "source": [
    "# Discovering interpretable features\n",
    "In this chapter, you'll learn about a dimension reduction technique called \"Non-negative matrix factorization\" (\"NMF\") that expresses samples as combinations of interpretable parts. For example, it expresses documents as combinations of topics, and images in terms of commonly occurring visual patterns. You'll also learn to use NMF to build recommender systems that can find you similar articles to read, or musical artists that match your listening history!"
   ]
  },
  {
   "cell_type": "markdown",
   "metadata": {},
   "source": [
    "# 1.Non-negative matrix factorization (NMF)\n",
    "## 1.1 Non-negative data\n",
    "Which of the following 2-dimensional arrays are examples of non-negative data?\n",
    "\n",
    "1. A tf-idf word-frequency array.\n",
    "2. An array daily stock market price movements (up and down), where each row represents a company.\n",
    "3. An array where rows are customers, columns are products and entries are 0 or 1, indicating whether a customer has purchased a product.\n",
    "\n",
    "###### Possible Answers:\n",
    "1. 1 only\n",
    "2. 2 and 3\n",
    "3. 1 and 3"
   ]
  },
  {
   "cell_type": "markdown",
   "metadata": {},
   "source": [
    "__Answer:__ Stock prices can go down as well as up, so an array of daily stock market price movements is not an example of non-negative data. (3)"
   ]
  },
  {
   "cell_type": "markdown",
   "metadata": {},
   "source": [
    "## 1.2 NMF applied to Wikipedia articles\n",
    "In the video, you saw NMF applied to transform a toy word-frequency array. Now it's your turn to apply NMF, this time using the tf-idf word-frequency array of Wikipedia articles, given as a csr matrix `articles`. Here, fit the model and transform the articles. In the next exercise, you'll explore the result.\n",
    "\n",
    "### Instructions:\n",
    "* Import `NMF` from `sklearn.decomposition`.\n",
    "* Create an `NMF` instance called `model` with `6` components.\n",
    "* Fit the model to the word count data `articles`.\n",
    "* Use the `.transform()` method of `model` to transform `articles`, and assign the result to `nmf_features`.\n",
    "* Print `nmf_features` to get a first idea what it looks like."
   ]
  },
  {
   "cell_type": "code",
   "execution_count": 1,
   "metadata": {},
   "outputs": [],
   "source": [
    "import pandas as pd\n",
    "from scipy.sparse import csr_matrix\n",
    "\n",
    "df = pd.read_csv('_datasets/wikipedia-vectors.csv', index_col=0)\n",
    "articles = csr_matrix(df.transpose())\n",
    "titles = list(df.columns)\n",
    "\n",
    "# fix seed (must get same results now and in later exercise)\n",
    "import numpy as np\n",
    "np.random.seed(1)\n",
    "\n",
    "# from sklearn import decomposition\n",
    "# import functools\n",
    "# import inspect\n",
    "\n",
    "# def _init_wrapper(f):\n",
    "#     @functools.wraps(f)\n",
    "#     def wrapper(*args, **kwargs):\n",
    "#         bound_args = inspect.signature(f).bind(*args, **kwargs)\n",
    "#         if not bound_args.arguments.get('n_components', None):\n",
    "#             raise BaseException(\"Be sure to correctly specify n_components.\")\n",
    "#         else: \n",
    "#             return f(*args, **kwargs)\n",
    "#     return wrapper\n",
    "        \n",
    "# if not getattr(decomposition.NMF.__init__, 'decorated', None):\n",
    "#     decomposition.NMF.__init__ = _init_wrapper(decomposition.NMF.__init__)\n",
    "#     decomposition.NMF.__init__.decorated = True"
   ]
  },
  {
   "cell_type": "code",
   "execution_count": 2,
   "metadata": {},
   "outputs": [
    {
     "data": {
      "text/plain": [
       "array([[0.00000000e+00, 0.00000000e+00, 0.00000000e+00, 0.00000000e+00,\n",
       "        0.00000000e+00, 4.40465322e-01],\n",
       "       [0.00000000e+00, 0.00000000e+00, 0.00000000e+00, 0.00000000e+00,\n",
       "        0.00000000e+00, 5.66604756e-01],\n",
       "       [3.82058457e-03, 0.00000000e+00, 0.00000000e+00, 0.00000000e+00,\n",
       "        0.00000000e+00, 3.98646427e-01],\n",
       "       [0.00000000e+00, 0.00000000e+00, 0.00000000e+00, 0.00000000e+00,\n",
       "        0.00000000e+00, 3.81739753e-01],\n",
       "       [0.00000000e+00, 0.00000000e+00, 0.00000000e+00, 0.00000000e+00,\n",
       "        0.00000000e+00, 4.85517119e-01],\n",
       "       [1.29290459e-02, 1.37889184e-02, 7.76313733e-03, 3.34487322e-02,\n",
       "        0.00000000e+00, 3.34521818e-01],\n",
       "       [0.00000000e+00, 0.00000000e+00, 2.06738655e-02, 0.00000000e+00,\n",
       "        6.04486283e-03, 3.59061038e-01],\n",
       "       [0.00000000e+00, 0.00000000e+00, 0.00000000e+00, 0.00000000e+00,\n",
       "        0.00000000e+00, 4.90976703e-01],\n",
       "       [1.54274156e-02, 1.42817184e-02, 3.76628748e-03, 2.37111817e-02,\n",
       "        2.62619893e-02, 4.80774318e-01],\n",
       "       [1.11738298e-02, 3.13676816e-02, 3.09480486e-02, 6.57000345e-02,\n",
       "        1.96677390e-02, 3.38288648e-01],\n",
       "       [0.00000000e+00, 0.00000000e+00, 5.30710112e-01, 0.00000000e+00,\n",
       "        2.83679347e-02, 0.00000000e+00],\n",
       "       [0.00000000e+00, 0.00000000e+00, 3.56503042e-01, 0.00000000e+00,\n",
       "        0.00000000e+00, 0.00000000e+00],\n",
       "       [1.20127255e-02, 6.50033756e-03, 3.12239769e-01, 6.09770818e-02,\n",
       "        1.13861318e-02, 1.92602102e-02],\n",
       "       [3.93485615e-03, 6.24432234e-03, 3.42367241e-01, 1.10768934e-02,\n",
       "        0.00000000e+00, 0.00000000e+00],\n",
       "       [4.63821398e-03, 0.00000000e+00, 4.34907414e-01, 0.00000000e+00,\n",
       "        3.84274924e-02, 3.08133140e-03],\n",
       "       [0.00000000e+00, 0.00000000e+00, 4.83280609e-01, 0.00000000e+00,\n",
       "        0.00000000e+00, 0.00000000e+00],\n",
       "       [5.65016594e-03, 1.83532464e-02, 3.76526384e-01, 3.25460935e-02,\n",
       "        0.00000000e+00, 1.13334438e-02],\n",
       "       [0.00000000e+00, 0.00000000e+00, 4.80905320e-01, 0.00000000e+00,\n",
       "        0.00000000e+00, 0.00000000e+00],\n",
       "       [0.00000000e+00, 9.01849274e-03, 5.50998244e-01, 0.00000000e+00,\n",
       "        0.00000000e+00, 0.00000000e+00],\n",
       "       [0.00000000e+00, 0.00000000e+00, 4.65961434e-01, 0.00000000e+00,\n",
       "        0.00000000e+00, 0.00000000e+00],\n",
       "       [0.00000000e+00, 1.14078934e-02, 2.08651998e-02, 5.17767327e-01,\n",
       "        5.81408435e-02, 1.37853805e-02],\n",
       "       [0.00000000e+00, 0.00000000e+00, 0.00000000e+00, 5.10475273e-01,\n",
       "        0.00000000e+00, 0.00000000e+00],\n",
       "       [0.00000000e+00, 5.60094760e-03, 0.00000000e+00, 4.22379854e-01,\n",
       "        0.00000000e+00, 0.00000000e+00],\n",
       "       [0.00000000e+00, 0.00000000e+00, 0.00000000e+00, 4.36751253e-01,\n",
       "        0.00000000e+00, 0.00000000e+00],\n",
       "       [0.00000000e+00, 0.00000000e+00, 0.00000000e+00, 4.98092036e-01,\n",
       "        0.00000000e+00, 0.00000000e+00],\n",
       "       [9.88394018e-02, 8.60029454e-02, 3.91028856e-03, 3.81017532e-01,\n",
       "        4.39239942e-04, 5.22151481e-03],\n",
       "       [0.00000000e+00, 0.00000000e+00, 0.00000000e+00, 5.72169888e-01,\n",
       "        0.00000000e+00, 7.13541985e-03],\n",
       "       [1.31468715e-02, 1.04851581e-02, 0.00000000e+00, 4.68906049e-01,\n",
       "        0.00000000e+00, 1.16309971e-02],\n",
       "       [3.84548688e-03, 0.00000000e+00, 0.00000000e+00, 5.75710557e-01,\n",
       "        0.00000000e+00, 0.00000000e+00],\n",
       "       [2.25244164e-03, 1.38734017e-03, 0.00000000e+00, 5.27945778e-01,\n",
       "        1.20264671e-02, 1.49483895e-02],\n",
       "       [0.00000000e+00, 4.07541038e-01, 1.85711419e-03, 0.00000000e+00,\n",
       "        2.96610497e-03, 4.52342305e-04],\n",
       "       [1.53421227e-03, 6.08162380e-01, 5.22269328e-04, 6.24853541e-03,\n",
       "        1.18444733e-03, 4.40074955e-04],\n",
       "       [5.38819366e-03, 2.65012410e-01, 5.38501825e-04, 1.86925929e-02,\n",
       "        6.38651189e-03, 2.90104872e-03],\n",
       "       [0.00000000e+00, 6.44904602e-01, 0.00000000e+00, 0.00000000e+00,\n",
       "        0.00000000e+00, 0.00000000e+00],\n",
       "       [0.00000000e+00, 6.08896305e-01, 0.00000000e+00, 0.00000000e+00,\n",
       "        0.00000000e+00, 0.00000000e+00],\n",
       "       [0.00000000e+00, 3.43679231e-01, 0.00000000e+00, 0.00000000e+00,\n",
       "        3.97794829e-03, 0.00000000e+00],\n",
       "       [6.10508849e-03, 3.15307295e-01, 1.54877295e-02, 0.00000000e+00,\n",
       "        5.06244563e-03, 4.74335450e-03],\n",
       "       [6.47373328e-03, 2.13324818e-01, 9.49479174e-03, 4.56981207e-02,\n",
       "        1.71914481e-02, 9.52063620e-03],\n",
       "       [7.99147234e-03, 4.67586974e-01, 0.00000000e+00, 2.43425413e-02,\n",
       "        0.00000000e+00, 0.00000000e+00],\n",
       "       [0.00000000e+00, 6.42808850e-01, 0.00000000e+00, 2.35855413e-03,\n",
       "        0.00000000e+00, 0.00000000e+00],\n",
       "       [0.00000000e+00, 0.00000000e+00, 0.00000000e+00, 0.00000000e+00,\n",
       "        4.77080113e-01, 0.00000000e+00],\n",
       "       [0.00000000e+00, 0.00000000e+00, 0.00000000e+00, 0.00000000e+00,\n",
       "        4.94253212e-01, 0.00000000e+00],\n",
       "       [0.00000000e+00, 2.99063787e-04, 2.14484813e-03, 0.00000000e+00,\n",
       "        3.81776318e-01, 5.83780479e-03],\n",
       "       [0.00000000e+00, 0.00000000e+00, 0.00000000e+00, 5.64692771e-03,\n",
       "        5.42238170e-01, 0.00000000e+00],\n",
       "       [1.78059654e-03, 7.84399946e-04, 1.41625538e-02, 4.59813501e-04,\n",
       "        4.24299848e-01, 0.00000000e+00],\n",
       "       [0.00000000e+00, 0.00000000e+00, 0.00000000e+00, 0.00000000e+00,\n",
       "        5.11388821e-01, 0.00000000e+00],\n",
       "       [0.00000000e+00, 0.00000000e+00, 3.28381076e-03, 0.00000000e+00,\n",
       "        3.72884543e-01, 0.00000000e+00],\n",
       "       [0.00000000e+00, 2.62079735e-04, 3.61098295e-02, 2.32336069e-04,\n",
       "        2.30509332e-01, 0.00000000e+00],\n",
       "       [1.12517699e-02, 2.12323850e-03, 1.60969841e-02, 1.02484866e-02,\n",
       "        3.25459591e-01, 3.75880596e-02],\n",
       "       [0.00000000e+00, 0.00000000e+00, 0.00000000e+00, 0.00000000e+00,\n",
       "        4.18955707e-01, 3.57698689e-04],\n",
       "       [3.08373460e-01, 0.00000000e+00, 0.00000000e+00, 0.00000000e+00,\n",
       "        0.00000000e+00, 0.00000000e+00],\n",
       "       [3.68181576e-01, 0.00000000e+00, 0.00000000e+00, 0.00000000e+00,\n",
       "        0.00000000e+00, 0.00000000e+00],\n",
       "       [3.97953206e-01, 2.81698167e-02, 3.67005937e-03, 1.70066802e-02,\n",
       "        1.95966668e-03, 2.11644501e-02],\n",
       "       [3.75802488e-01, 2.07517079e-03, 0.00000000e+00, 3.72154373e-02,\n",
       "        0.00000000e+00, 5.85927894e-03],\n",
       "       [4.38037394e-01, 0.00000000e+00, 0.00000000e+00, 0.00000000e+00,\n",
       "        0.00000000e+00, 0.00000000e+00],\n",
       "       [4.57890626e-01, 0.00000000e+00, 0.00000000e+00, 0.00000000e+00,\n",
       "        0.00000000e+00, 0.00000000e+00],\n",
       "       [2.75483006e-01, 4.46948936e-03, 0.00000000e+00, 5.29655484e-02,\n",
       "        0.00000000e+00, 1.90997682e-02],\n",
       "       [4.45203267e-01, 0.00000000e+00, 0.00000000e+00, 0.00000000e+00,\n",
       "        5.48695813e-03, 0.00000000e+00],\n",
       "       [2.92746533e-01, 1.33662475e-02, 1.14261498e-02, 1.05200030e-02,\n",
       "        1.87695369e-01, 9.23965223e-03],\n",
       "       [3.78274425e-01, 1.43967752e-02, 0.00000000e+00, 9.85239494e-02,\n",
       "        1.35899666e-02, 0.00000000e+00]])"
      ]
     },
     "execution_count": 2,
     "metadata": {},
     "output_type": "execute_result"
    }
   ],
   "source": [
    "# Import NMF\n",
    "from sklearn.decomposition import NMF\n",
    "\n",
    "# Create an NMF instance: model\n",
    "model = NMF(n_components=6)\n",
    "\n",
    "# Fit the model to articles\n",
    "model.fit(articles)\n",
    "\n",
    "# Transform the articles: nmf_features\n",
    "nmf_features = model.transform(articles)\n",
    "\n",
    "# Print the NMF features\n",
    "nmf_features"
   ]
  },
  {
   "cell_type": "markdown",
   "metadata": {},
   "source": [
    "These NMF features don't make much sense at this point, but you will explore them in the next exercise!"
   ]
  },
  {
   "cell_type": "markdown",
   "metadata": {},
   "source": [
    "## 1.2 NMF features of the Wikipedia articles\n",
    "Now you will explore the NMF features you created in the previous exercise. A solution to the previous exercise has been pre-loaded, so the array `nmf_features` is available. Also available is a list titles giving the title of each Wikipedia `article`.\n",
    "\n",
    "When investigating the features, notice that for both actors, the NMF feature 3 has by far the highest value. This means that both articles are reconstructed using mainly the 3rd NMF component. In the next video, you'll see why: NMF components represent topics (for instance, acting!).\n",
    "\n",
    "### Instructions:\n",
    "* Import `pandas` as `pd`.\n",
    "* Create a DataFrame `df` from `nmf_features` using `pd.DataFrame()`. Set the index to `titles` using `index=titles`.\n",
    "* Use the `.loc[]` accessor of `df` to select the row with title `'Anne Hathaway'`, and print the result. These are the NMF features for the article about the actress Anne Hathaway.\n",
    "* Repeat the last step for `'Denzel Washington'` (another actor)."
   ]
  },
  {
   "cell_type": "code",
   "execution_count": 3,
   "metadata": {},
   "outputs": [
    {
     "data": {
      "text/html": [
       "<div>\n",
       "<style scoped>\n",
       "    .dataframe tbody tr th:only-of-type {\n",
       "        vertical-align: middle;\n",
       "    }\n",
       "\n",
       "    .dataframe tbody tr th {\n",
       "        vertical-align: top;\n",
       "    }\n",
       "\n",
       "    .dataframe thead th {\n",
       "        text-align: right;\n",
       "    }\n",
       "</style>\n",
       "<table border=\"1\" class=\"dataframe\">\n",
       "  <thead>\n",
       "    <tr style=\"text-align: right;\">\n",
       "      <th></th>\n",
       "      <th>0</th>\n",
       "      <th>1</th>\n",
       "      <th>2</th>\n",
       "      <th>3</th>\n",
       "      <th>4</th>\n",
       "      <th>5</th>\n",
       "    </tr>\n",
       "  </thead>\n",
       "  <tbody>\n",
       "    <tr>\n",
       "      <th>Anne Hathaway</th>\n",
       "      <td>0.003845</td>\n",
       "      <td>0.0</td>\n",
       "      <td>0.0</td>\n",
       "      <td>0.575711</td>\n",
       "      <td>0.0</td>\n",
       "      <td>0.0</td>\n",
       "    </tr>\n",
       "  </tbody>\n",
       "</table>\n",
       "</div>"
      ],
      "text/plain": [
       "                      0    1    2         3    4    5\n",
       "Anne Hathaway  0.003845  0.0  0.0  0.575711  0.0  0.0"
      ]
     },
     "execution_count": 3,
     "metadata": {},
     "output_type": "execute_result"
    }
   ],
   "source": [
    "# Import pandas\n",
    "import pandas as pd\n",
    "\n",
    "# Create a pandas DataFrame: df\n",
    "df = pd.DataFrame(nmf_features, index=titles)\n",
    "\n",
    "# Print the row for 'Anne Hathaway'\n",
    "df.loc[['Anne Hathaway']]"
   ]
  },
  {
   "cell_type": "code",
   "execution_count": 4,
   "metadata": {},
   "outputs": [
    {
     "data": {
      "text/html": [
       "<div>\n",
       "<style scoped>\n",
       "    .dataframe tbody tr th:only-of-type {\n",
       "        vertical-align: middle;\n",
       "    }\n",
       "\n",
       "    .dataframe tbody tr th {\n",
       "        vertical-align: top;\n",
       "    }\n",
       "\n",
       "    .dataframe thead th {\n",
       "        text-align: right;\n",
       "    }\n",
       "</style>\n",
       "<table border=\"1\" class=\"dataframe\">\n",
       "  <thead>\n",
       "    <tr style=\"text-align: right;\">\n",
       "      <th></th>\n",
       "      <th>0</th>\n",
       "      <th>1</th>\n",
       "      <th>2</th>\n",
       "      <th>3</th>\n",
       "      <th>4</th>\n",
       "      <th>5</th>\n",
       "    </tr>\n",
       "  </thead>\n",
       "  <tbody>\n",
       "    <tr>\n",
       "      <th>Denzel Washington</th>\n",
       "      <td>0.0</td>\n",
       "      <td>0.005601</td>\n",
       "      <td>0.0</td>\n",
       "      <td>0.42238</td>\n",
       "      <td>0.0</td>\n",
       "      <td>0.0</td>\n",
       "    </tr>\n",
       "  </tbody>\n",
       "</table>\n",
       "</div>"
      ],
      "text/plain": [
       "                     0         1    2        3    4    5\n",
       "Denzel Washington  0.0  0.005601  0.0  0.42238  0.0  0.0"
      ]
     },
     "execution_count": 4,
     "metadata": {},
     "output_type": "execute_result"
    }
   ],
   "source": [
    "# Print the row for 'Denzel Washington'\n",
    "df.loc[['Denzel Washington']]"
   ]
  },
  {
   "cell_type": "markdown",
   "metadata": {},
   "source": [
    "Notice that for both actors, the NMF feature 3 has by far the highest value. This means that both articles are reconstructed using mainly the 3rd NMF component. In the next video, you'll see why: NMF components represent topics (for instance, acting!)."
   ]
  },
  {
   "cell_type": "markdown",
   "metadata": {},
   "source": [
    "## 1.4 NMF reconstructs samples\n",
    "In this exercise, you'll check your understanding of how NMF reconstructs samples from its components using the NMF feature values. On the right are the components of an NMF model. If the NMF feature values of a sample are `[2, 1]`, then which of the following is _most likely_ to represent the original sample? \n",
    "```\n",
    "[[ 1.   0.5  0. ]\n",
    " [ 0.2  0.1  2.1]]\n",
    "```\n",
    "Possible Answers\n",
    "1. `[2.2, 1.0, 2.0].`\n",
    "2. `[0.5, 1.6, 3.1].`\n",
    "3. `[-4.0, 1.0, -2.0].`"
   ]
  },
  {
   "cell_type": "markdown",
   "metadata": {},
   "source": [
    "Solution:\n",
    "```\n",
    " 2 * | [[ 1.   0.5  0. ]\n",
    "+1 * |  [ 0.2  0.1  2.1]]\n",
    "------------------------\n",
    "     | [  2.2  1.1  2.1 ]\n",
    "```\n",
    "Answer: (1)"
   ]
  },
  {
   "cell_type": "markdown",
   "metadata": {},
   "source": [
    "# 2. NMF learns interpretable parts\n",
    "## 2.1 NMF learns topics of documents\n",
    "In the video, you learned when NMF is applied to documents, the components correspond to topics of documents, and the NMF features reconstruct the documents from the topics. Verify this for yourself for the NMF model that you built earlier using the Wikipedia articles. Previously, you saw that the 3rd NMF feature value was high for the articles about actors Anne Hathaway and Denzel Washington. In this exercise, identify the topic of the corresponding NMF component.\n",
    "\n",
    "The NMF model you built earlier is available as `model`, while words is a list of the `words` that label the columns of the word-frequency array.\n",
    "\n",
    "After you are done, take a moment to recognise the topic that the articles about Anne Hathaway and Denzel Washington have in common!\n",
    "\n",
    "### Instructions:\n",
    "* Import `pandas` as `pd`.\n",
    "* Create a DataFrame `components_df` from `model.components_`, setting `columns=words` so that columns are labeled by the words.\n",
    "* Print `components_df.shape` to check the dimensions of the DataFrame.\n",
    "* Use the `.iloc[]` accessor on the DataFrame `components_df` to select row `3`. Assign the result to `component`.\n",
    "* Call the `.nlargest()` method of `component`, and print the result. This gives the five words with the highest values for that component."
   ]
  },
  {
   "cell_type": "code",
   "execution_count": 5,
   "metadata": {},
   "outputs": [],
   "source": [
    "with open('_datasets/wikipedia-vocabulary-utf8.txt', 'r') as file:\n",
    "    words = [line.strip() for line in file]"
   ]
  },
  {
   "cell_type": "code",
   "execution_count": 6,
   "metadata": {},
   "outputs": [
    {
     "data": {
      "text/plain": [
       "(6, 13125)"
      ]
     },
     "execution_count": 6,
     "metadata": {},
     "output_type": "execute_result"
    }
   ],
   "source": [
    "# Import pandas\n",
    "import pandas as pd\n",
    "\n",
    "# Create a DataFrame: components_df\n",
    "components_df = pd.DataFrame(model.components_, columns=words)\n",
    "\n",
    "# Print the shape of the DataFrame\n",
    "components_df.shape"
   ]
  },
  {
   "cell_type": "code",
   "execution_count": 7,
   "metadata": {},
   "outputs": [
    {
     "data": {
      "text/plain": [
       "film       0.627877\n",
       "award      0.253131\n",
       "starred    0.245284\n",
       "role       0.211451\n",
       "actress    0.186398\n",
       "Name: 3, dtype: float64"
      ]
     },
     "execution_count": 7,
     "metadata": {},
     "output_type": "execute_result"
    }
   ],
   "source": [
    "# Select row 3: component\n",
    "component = components_df.iloc[3]\n",
    "\n",
    "# Print result of nlargest\n",
    "component.nlargest()"
   ]
  },
  {
   "cell_type": "markdown",
   "metadata": {},
   "source": [
    "Take a moment to recognise the topics that the articles about Anne Hathaway and Denzel Washington have in common!"
   ]
  },
  {
   "cell_type": "markdown",
   "metadata": {},
   "source": [
    "## 2.2 Explore the LED digits dataset\n",
    "In the following exercises, you'll use NMF to decompose grayscale images into their commonly occurring patterns. Firstly, explore the image dataset and see how it is encoded as an array. You are given 100 images as a 2D array `samples`, where each row represents a single 13x8 image. The images in your dataset are pictures of a LED digital display.\n",
    "\n",
    "### Instructions:\n",
    "* Import `matplotlib.pyplot` as `plt`.\n",
    "* Select row `0` of `samples` and assign the result to `digit`. For example, to select column `2` of an array `a`, you could use `a[:,2]`. Remember that since `samples` is a NumPy array, you can't use the `.loc[]` or `iloc[]` accessors to select specific rows or columns.\n",
    "* Print `digit`. Notice that it is a 1D array of 0s and 1s.\n",
    "* Use the `.reshape()` method of `digit` to get a 2D array with shape `(13, 8)`. Assign the result to `bitmap`.\n",
    "* Print `bitmap`, and notice that the 1s show the digit 7!\n",
    "* Use the `plt.imshow()` function to display `bitmap` as an image."
   ]
  },
  {
   "cell_type": "code",
   "execution_count": 8,
   "metadata": {},
   "outputs": [],
   "source": [
    "df = pd.read_csv('_datasets/lcd-digits.csv', header=None)\n",
    "samples = df.values"
   ]
  },
  {
   "cell_type": "code",
   "execution_count": 9,
   "metadata": {},
   "outputs": [
    {
     "data": {
      "text/plain": [
       "array([0., 0., 0., 0., 0., 0., 0., 0., 0., 0., 1., 1., 1., 1., 0., 0., 0.,\n",
       "       0., 0., 0., 0., 0., 1., 0., 0., 0., 0., 0., 0., 0., 1., 0., 0., 0.,\n",
       "       0., 0., 0., 0., 1., 0., 0., 0., 0., 0., 0., 0., 1., 0., 0., 0., 0.,\n",
       "       0., 0., 0., 0., 0., 0., 0., 0., 0., 0., 0., 1., 0., 0., 0., 0., 0.,\n",
       "       0., 0., 1., 0., 0., 0., 0., 0., 0., 0., 1., 0., 0., 0., 0., 0., 0.,\n",
       "       0., 1., 0., 0., 0., 0., 0., 0., 0., 0., 0., 0., 0., 0., 0., 0., 0.,\n",
       "       0., 0.])"
      ]
     },
     "execution_count": 9,
     "metadata": {},
     "output_type": "execute_result"
    }
   ],
   "source": [
    "# Import pyplot\n",
    "from matplotlib import pyplot as plt\n",
    "\n",
    "# Select the 0th row: digit\n",
    "digit = samples[0, :]\n",
    "\n",
    "# Print digit\n",
    "digit"
   ]
  },
  {
   "cell_type": "code",
   "execution_count": 10,
   "metadata": {},
   "outputs": [
    {
     "data": {
      "text/plain": [
       "array([[0., 0., 0., 0., 0., 0., 0., 0.],\n",
       "       [0., 0., 1., 1., 1., 1., 0., 0.],\n",
       "       [0., 0., 0., 0., 0., 0., 1., 0.],\n",
       "       [0., 0., 0., 0., 0., 0., 1., 0.],\n",
       "       [0., 0., 0., 0., 0., 0., 1., 0.],\n",
       "       [0., 0., 0., 0., 0., 0., 1., 0.],\n",
       "       [0., 0., 0., 0., 0., 0., 0., 0.],\n",
       "       [0., 0., 0., 0., 0., 0., 1., 0.],\n",
       "       [0., 0., 0., 0., 0., 0., 1., 0.],\n",
       "       [0., 0., 0., 0., 0., 0., 1., 0.],\n",
       "       [0., 0., 0., 0., 0., 0., 1., 0.],\n",
       "       [0., 0., 0., 0., 0., 0., 0., 0.],\n",
       "       [0., 0., 0., 0., 0., 0., 0., 0.]])"
      ]
     },
     "execution_count": 10,
     "metadata": {},
     "output_type": "execute_result"
    }
   ],
   "source": [
    "# Reshape digit to a 13x8 array: bitmap\n",
    "bitmap = digit.reshape((13, 8))\n",
    "\n",
    "# Print bitmap\n",
    "bitmap"
   ]
  },
  {
   "cell_type": "code",
   "execution_count": 11,
   "metadata": {},
   "outputs": [
    {
     "data": {
      "image/png": "[encoded data removed]",
      "text/plain": [
       "<Figure size 432x288 with 2 Axes>"
      ]
     },
     "metadata": {},
     "output_type": "display_data"
    }
   ],
   "source": [
    "# Use plt.imshow to display bitmap\n",
    "plt.imshow(bitmap, cmap='gray', interpolation='nearest')\n",
    "plt.colorbar()\n",
    "plt.show()"
   ]
  },
  {
   "cell_type": "markdown",
   "metadata": {},
   "source": [
    "You'll explore this dataset further in the next exercise and see for yourself how NMF can learn the parts of images."
   ]
  },
  {
   "cell_type": "markdown",
   "metadata": {},
   "source": [
    "## 2.3 NMF learns the parts of images\n",
    "Now use what you've learned about NMF to decompose the digits dataset. You are again given the digit images as a 2D array `samples`. This time, you are also provided with a function `show_as_image()` that displays the image encoded by any 1D array:"
   ]
  },
  {
   "cell_type": "code",
   "execution_count": 12,
   "metadata": {},
   "outputs": [],
   "source": [
    "def show_as_image(sample):\n",
    "    bitmap = sample.reshape((13, 8))\n",
    "    plt.figure()\n",
    "    plt.imshow(bitmap, cmap='gray', interpolation='nearest')\n",
    "    plt.colorbar()\n",
    "    plt.show()"
   ]
  },
  {
   "cell_type": "markdown",
   "metadata": {},
   "source": [
    "After you are done, take a moment to look through the plots and notice how NMF has expressed the digit as a sum of the components!\n",
    "\n",
    "### Instructions:\n",
    "* Import `NMF` from `sklearn.decomposition`.\n",
    "* Create an `NMF` instance called `model` with `7` components. (7 is the number of cells in an LED display).\n",
    "* Apply the `.fit_transform()` method of `model` to `samples`. Assign the result to `features`.\n",
    "* To each component of the model (accessed via `model.components_`), apply the `show_as_image()` function to that component inside the loop.\n",
    "* Assign the row `0` of `features` to `digit_features`.\n",
    "* Print `digit_features`."
   ]
  },
  {
   "cell_type": "code",
   "execution_count": 13,
   "metadata": {},
   "outputs": [
    {
     "data": {
      "image/png": "[encoded data removed]",
      "text/plain": [
       "<Figure size 432x288 with 2 Axes>"
      ]
     },
     "metadata": {},
     "output_type": "display_data"
    },
    {
     "data": {
      "image/png": "[encoded data removed]",
      "text/plain": [
       "<Figure size 432x288 with 2 Axes>"
      ]
     },
     "metadata": {},
     "output_type": "display_data"
    },
    {
     "data": {
      "image/png": "[encoded data removed]",
      "text/plain": [
       "<Figure size 432x288 with 2 Axes>"
      ]
     },
     "metadata": {},
     "output_type": "display_data"
    },
    {
     "data": {
      "image/png": "[encoded data removed]",
      "text/plain": [
       "<Figure size 432x288 with 2 Axes>"
      ]
     },
     "metadata": {},
     "output_type": "display_data"
    },
    {
     "data": {
      "image/png": "[encoded data removed]",
      "text/plain": [
       "<Figure size 432x288 with 2 Axes>"
      ]
     },
     "metadata": {},
     "output_type": "display_data"
    },
    {
     "data": {
      "image/png": "[encoded data removed]",
      "text/plain": [
       "<Figure size 432x288 with 2 Axes>"
      ]
     },
     "metadata": {},
     "output_type": "display_data"
    },
    {
     "data": {
      "image/png": "[encoded data removed]",
      "text/plain": [
       "<Figure size 432x288 with 2 Axes>"
      ]
     },
     "metadata": {},
     "output_type": "display_data"
    }
   ],
   "source": [
    "# Import NMF\n",
    "from sklearn.decomposition import NMF\n",
    "\n",
    "# Create an NMF model: model\n",
    "model = NMF(n_components=7)\n",
    "\n",
    "# Apply fit_transform to samples: features\n",
    "features = model.fit_transform(samples)\n",
    "\n",
    "# Call show_as_image on each component\n",
    "for component in model.components_:\n",
    "    show_as_image(component)"
   ]
  },
  {
   "cell_type": "code",
   "execution_count": 14,
   "metadata": {},
   "outputs": [
    {
     "data": {
      "text/plain": [
       "array([4.76823559e-01, 0.00000000e+00, 0.00000000e+00, 5.90605054e-01,\n",
       "       4.81559442e-01, 0.00000000e+00, 7.37529569e-16])"
      ]
     },
     "execution_count": 14,
     "metadata": {},
     "output_type": "execute_result"
    }
   ],
   "source": [
    "# Assign the 0th row of features: digit_features\n",
    "digit_features = features[0,:]\n",
    "\n",
    "# Print digit_features\n",
    "digit_features"
   ]
  },
  {
   "cell_type": "markdown",
   "metadata": {},
   "source": [
    "Take a moment to look through the plots and notice how NMF has expressed the digit as a sum of the components!"
   ]
  },
  {
   "cell_type": "markdown",
   "metadata": {},
   "source": [
    "## 2.4 PCA doesn't learn parts\n",
    "Unlike NMF, PCA _doesn't_ learn the parts of things. Its components do not correspond to topics (in the case of documents) or to parts of images, when trained on images. Verify this for yourself by inspecting the components of a PCA model fit to the dataset of LED digit images from the previous exercise. The images are available as a 2D array `samples`. Also available is a modified version of the `show_as_image()` function which colors a pixel red if the value is negative.\n",
    "\n",
    "After submitting the answer, notice that the components of PCA do not represent meaningful parts of images of LED digits!\n",
    "\n",
    "### Instructions:\n",
    "* Import `PCA` from `sklearn.decomposition`.\n",
    "* Create a `PCA` instance called `model` with `7` components.\n",
    "* Apply the `.fit_transform()` method of `model` to `samples`. Assign the result to `features`.\n",
    "* To each component of the model (accessed via `model.components_`), apply the `show_as_image()` function to that component inside the loop."
   ]
  },
  {
   "cell_type": "code",
   "execution_count": 15,
   "metadata": {},
   "outputs": [],
   "source": [
    "def show_as_image(vector):\n",
    "    \"\"\"\n",
    "    Given a 1d vector representing an image, display that image in \n",
    "    black and white.  If there are negative values, then use red for \n",
    "    that pixel.\n",
    "    \"\"\"\n",
    "    bitmap = vector.reshape((13, 8))  # make a square array\n",
    "    bitmap /= np.abs(vector).max()  # normalise\n",
    "    bitmap = bitmap[:,:,np.newaxis]\n",
    "    rgb_layers = [np.abs(bitmap)] + [bitmap.clip(0)] * 2\n",
    "    rgb_bitmap = np.concatenate(rgb_layers, axis=-1)\n",
    "    plt.imshow(rgb_bitmap, interpolation='nearest')\n",
    "    plt.xticks([])\n",
    "    plt.yticks([])\n",
    "    plt.show()"
   ]
  },
  {
   "cell_type": "code",
   "execution_count": 16,
   "metadata": {},
   "outputs": [
    {
     "data": {
      "image/png": "[encoded data removed]",
      "text/plain": [
       "<Figure size 432x288 with 1 Axes>"
      ]
     },
     "metadata": {},
     "output_type": "display_data"
    },
    {
     "data": {
      "image/png": "[encoded data removed]",
      "text/plain": [
       "<Figure size 432x288 with 1 Axes>"
      ]
     },
     "metadata": {},
     "output_type": "display_data"
    },
    {
     "data": {
      "image/png": "[encoded data removed]",
      "text/plain": [
       "<Figure size 432x288 with 1 Axes>"
      ]
     },
     "metadata": {},
     "output_type": "display_data"
    },
    {
     "data": {
      "image/png": "[encoded data removed]",
      "text/plain": [
       "<Figure size 432x288 with 1 Axes>"
      ]
     },
     "metadata": {},
     "output_type": "display_data"
    },
    {
     "data": {
      "image/png": "[encoded data removed]",
      "text/plain": [
       "<Figure size 432x288 with 1 Axes>"
      ]
     },
     "metadata": {},
     "output_type": "display_data"
    },
    {
     "data": {
      "image/png": "[encoded data removed]",
      "text/plain": [
       "<Figure size 432x288 with 1 Axes>"
      ]
     },
     "metadata": {},
     "output_type": "display_data"
    },
    {
     "data": {
      "image/png": "[encoded data removed]",
      "text/plain": [
       "<Figure size 432x288 with 1 Axes>"
      ]
     },
     "metadata": {},
     "output_type": "display_data"
    }
   ],
   "source": [
    "# Import PCA\n",
    "from sklearn.decomposition import PCA\n",
    "\n",
    "# Create a PCA instance: model\n",
    "model = PCA(n_components=7)\n",
    "\n",
    "# Apply fit_transform to samples: features\n",
    "features = model.fit_transform(samples)\n",
    "\n",
    "# Call show_as_image on each component\n",
    "for component in model.components_:\n",
    "    show_as_image(component)"
   ]
  },
  {
   "cell_type": "markdown",
   "metadata": {},
   "source": [
    "Notice that the components of PCA do not represent meaningful parts of images of LED digits!"
   ]
  },
  {
   "cell_type": "code",
   "execution_count": null,
   "metadata": {},
   "outputs": [],
   "source": []
  }
 ],
 "metadata": {
  "kernelspec": {
   "display_name": "Python 3",
   "language": "python",
   "name": "python3"
  },
  "language_info": {
   "codemirror_mode": {
    "name": "ipython",
    "version": 3
   },
   "file_extension": ".py",
   "mimetype": "text/x-python",
   "name": "python",
   "nbconvert_exporter": "python",
   "pygments_lexer": "ipython3",
   "version": "3.7.0"
  }
 },
 "nbformat": 4,
 "nbformat_minor": 2
}
