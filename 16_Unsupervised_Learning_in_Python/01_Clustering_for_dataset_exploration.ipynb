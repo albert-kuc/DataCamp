{
 "cells": [
  {
   "cell_type": "markdown",
   "metadata": {
    "collapsed": true
   },
   "source": [
    "# 1. Unsupervised learning\n",
    "Learn how to discover the underlying groups (or \"clusters\") in a dataset. By the end of this chapter, you'll be clustering companies using their stock market prices, and distinguishing different species by clustering their measurements.\n",
    "## 1.1 How many clusters?\n",
    "You are given an array `points` of size 300x2, where each row gives the (x, y) co-ordinates of a point on a map. Make a scatter plot of these points, and use the scatter plot to guess how many clusters there are.\n",
    "\n",
    "`matplotlib.pyplot` has already been imported as `plt`. In the IPython Shell:\n",
    "* Create an array called `xs` that contains the values of `points[:,0]` - that is, column `0` of `points`.\n",
    "* Create an array called `ys` that contains the values of `points[:,1]` - that is, column `1` of `points`.\n",
    "* Make a scatter plot by passing `xs` and `ys` to the `plt.scatter()` function.\n",
    "* Call the `plt.show()` function to show your plot.\n",
    "How many clusters do you see?\n",
    "\n",
    "###### Possible Answers:\n",
    "1. 2\n",
    "2. 3\n",
    "3. 300"
   ]
  },
  {
   "cell_type": "code",
   "execution_count": 1,
   "metadata": {},
   "outputs": [],
   "source": [
    "import pandas as pd\n",
    "import matplotlib.pyplot as plt\n",
    "% matplotlib inline\n",
    "# import seaborn as sns\n",
    "# sns.set()\n",
    "\n",
    "df = pd.read_csv('_datasets/3-point-clouds-in-2d.csv', header=None)\n",
    "data = df.values\n",
    "N = 300\n",
    "points = data[:N,:]"
   ]
  },
  {
   "cell_type": "code",
   "execution_count": 2,
   "metadata": {},
   "outputs": [
    {
     "data": {
      "image/png": "[encoded data removed]",
      "text/plain": [
       "<Figure size 432x288 with 1 Axes>"
      ]
     },
     "metadata": {},
     "output_type": "display_data"
    }
   ],
   "source": [
    "xs = points[:,0]\n",
    "ys = points[:,1]\n",
    "plt.scatter(xs, ys)\n",
    "plt.show()"
   ]
  },
  {
   "cell_type": "markdown",
   "metadata": {},
   "source": [
    "###### Answer: \n",
    "The scatter plot suggests that there are 3 distinct clusters."
   ]
  },
  {
   "cell_type": "markdown",
   "metadata": {},
   "source": [
    "## 1.2 Clustering 2D points\n",
    "From the scatter plot of the previous exercise, you saw that the points seem to separate into 3 clusters. You'll now create a KMeans model to find 3 clusters, and fit it to the data points from the previous exercise. After the model has been fit, you'll obtain the cluster labels for some new points using the `.predict()` method.\n",
    "\n",
    "You are given the array `points` from the previous exercise, and also an array `new_points`.\n",
    "\n",
    "###### Instructions:\n",
    "* Import `KMeans` from `sklearn.cluster`.\n",
    "* Using `KMeans()`, create a `KMeans` instance called `model` to find `3` clusters. To specify the number of clusters, use the `n_clusters` keyword argument.\n",
    "* Use the `.fit()` method of model to fit the `model` to the array of points `points`.\n",
    "* Use the `.predict()` method of `model` to predict the cluster labels of `new_points`, assigning the result to `labels`.\n",
    "* Hit 'Submit Answer' to see the cluster labels of `new_points`."
   ]
  },
  {
   "cell_type": "code",
   "execution_count": 3,
   "metadata": {},
   "outputs": [],
   "source": [
    "new_points = data[N:,:]"
   ]
  },
  {
   "cell_type": "code",
   "execution_count": 4,
   "metadata": {},
   "outputs": [
    {
     "data": {
      "text/plain": [
       "array([1, 0, 2, 1, 0, 1, 0, 0, 0, 2, 1, 0, 0, 2, 2, 0, 2, 2, 0, 0, 2, 0,\n",
       "       1, 0, 1, 2, 0, 2, 2, 1, 1, 0, 0, 0, 2, 1, 0, 0, 1, 0, 2, 1, 1, 2,\n",
       "       1, 0, 2, 2, 0, 0, 0, 0, 2, 2, 1, 1, 2, 2, 2, 1, 1, 0, 0, 0, 1, 0,\n",
       "       2, 0, 1, 2, 1, 1, 1, 0, 1, 2, 2, 1, 0, 2, 1, 2, 1, 0, 2, 0, 2, 1,\n",
       "       0, 0, 0, 1, 0, 0, 1, 2, 2, 2, 2, 1, 0, 1, 2, 2, 1, 1, 0, 1, 2, 2,\n",
       "       1, 2, 2, 2, 0, 0, 0, 0, 2, 2, 0, 1, 0, 2, 0, 1, 2, 0, 2, 2, 0, 2,\n",
       "       0, 2, 1, 0, 1, 1, 0, 2, 1, 0, 1, 1, 2, 0, 0, 1, 2, 1, 2, 0, 1, 2,\n",
       "       2, 1, 2, 0, 0, 2, 0, 2, 2, 0, 0, 1, 0, 0, 2, 1, 2, 1, 1, 0, 1, 0,\n",
       "       0, 1, 1, 2, 1, 1, 1, 2, 0, 0, 1, 2, 1, 2, 2, 0, 0, 0, 1, 0, 0, 0,\n",
       "       2, 2, 1, 0, 1, 1, 1, 2, 0, 0, 0, 0, 0, 0, 2, 2, 0, 2, 2, 2, 2, 0,\n",
       "       2, 2, 0, 0, 1, 2, 1, 1, 2, 1, 2, 1, 2, 0, 0, 2, 0, 0, 0, 2, 1, 1,\n",
       "       2, 0, 0, 2, 0, 2, 2, 0, 2, 2, 1, 2, 1, 1, 1, 0, 2, 2, 2, 1, 0, 1,\n",
       "       2, 1, 2, 2, 0, 1, 1, 1, 2, 0, 0, 0, 1, 0, 2, 2, 0, 1, 1, 2, 1, 1,\n",
       "       2, 1, 0, 1, 2, 2, 2, 2, 0, 2, 2, 0, 0, 1])"
      ]
     },
     "execution_count": 4,
     "metadata": {},
     "output_type": "execute_result"
    }
   ],
   "source": [
    "# Import KMeans\n",
    "from sklearn.cluster import KMeans\n",
    "\n",
    "# Create a KMeans instance with 3 clusters: model\n",
    "model = KMeans(n_clusters=3)\n",
    "\n",
    "# Fit model to points\n",
    "model.fit(points)\n",
    "\n",
    "# Determine the cluster labels of new_points: labels\n",
    "labels = model.predict(new_points)\n",
    "\n",
    "# Print cluster labels of new_points\n",
    "labels"
   ]
  },
  {
   "cell_type": "markdown",
   "metadata": {},
   "source": [
    "You've successfully performed k-Means clustering and predicted the labels of new points. But it is not easy to inspect the clustering by just looking at the printed labels. A visualization would be far more useful. In the next exercise, you'll inspect your clustering with a scatter plot!"
   ]
  },
  {
   "cell_type": "markdown",
   "metadata": {},
   "source": [
    "## 1.3 Inspect your clustering\n",
    "Let's now inspect the clustering you performed in the previous exercise!\n",
    "\n",
    "A solution to the previous exercise has already run, so `new_points` is an array of points and `labels` is the array of their cluster labels.\n",
    "\n",
    "###### Instructions:\n",
    "* Import `matplotlib.pyplot` as `plt`.\n",
    "* Assign column `0` of `new_points` to `xs`, and column `1` of `new_points` to `ys`.\n",
    "* Make a scatter plot of `xs` and `ys`, specifying the `c=labels` keyword arguments to color the points by their cluster label. Also specify `alpha=0.5`.\n",
    "* Compute the coordinates of the centroids using the `.cluster_centers_` attribute of `model`.\n",
    "* Assign column `0` of `centroids` to `centroids_x`, and column `1` of `centroids` to `centroids_y`.\n",
    "* Make a scatter plot of `centroids_x` and `centroids_y`, using `'D'` (a diamond) as a `marker` by specifying the marker parameter. Set the size of the markers to be `50` using `s=50`."
   ]
  },
  {
   "cell_type": "code",
   "execution_count": 5,
   "metadata": {},
   "outputs": [
    {
     "data": {
      "image/png": "[encoded data removed]",
      "text/plain": [
       "<Figure size 432x288 with 1 Axes>"
      ]
     },
     "metadata": {},
     "output_type": "display_data"
    }
   ],
   "source": [
    "# Import pyplot\n",
    "import matplotlib.pyplot as plt\n",
    "\n",
    "# Assign the columns of new_points: xs and ys\n",
    "xs = new_points[:,0]\n",
    "ys = new_points[:,1]\n",
    "\n",
    "# Make a scatter plot of xs and ys, using labels to define the colors\n",
    "plt.scatter(xs, ys, c=labels, alpha=0.5)\n",
    "\n",
    "# Assign the cluster centers: centroids\n",
    "centroids = model.cluster_centers_\n",
    "\n",
    "# Assign the columns of centroids: centroids_x, centroids_y\n",
    "centroids_x = centroids[:,0]\n",
    "centroids_y = centroids[:,1]\n",
    "\n",
    "# Make a scatter plot of centroids_x and centroids_y\n",
    "plt.scatter(centroids_x, centroids_y, marker='D', s=50)\n",
    "plt.show()"
   ]
  },
  {
   "cell_type": "markdown",
   "metadata": {},
   "source": [
    "The clustering looks great! But how can you be sure that 3 clusters is the correct choice? In other words, how can you evaluate the quality of a clustering? Tune into the next video in which Ben will explain how to evaluate a clustering!"
   ]
  },
  {
   "cell_type": "markdown",
   "metadata": {},
   "source": [
    "# 2. Evaluating a clustering\n",
    "## 2.1 How many clusters of grain?\n",
    "In the video, you learned how to choose a good number of clusters for a dataset using the k-means inertia graph. You are given an array `samples` containing the measurements (such as area, perimeter, length, and several others) of samples of grain. What's a good number of clusters in this case?\n",
    "\n",
    "`KMeans` and PyPlot (`plt`) have already been imported for you.\n",
    "\n",
    "This dataset was sourced from the [UCI Machine Learning Repository](https://archive.ics.uci.edu/ml/datasets/seeds).\n",
    "\n",
    "###### Instructions:\n",
    "* For each of the given values of `k`, perform the following steps:\n",
    "* Create a `KMeans` instance called `model` with `k` clusters.\n",
    "* Fit the model to the grain data `samples`.\n",
    "* Append the value of the `inertia_` attribute of `model` to the list `inertias`.\n",
    "* The code to plot `ks` vs `inertias` has been written for you, so hit 'Submit Answer' to see the plot!"
   ]
  },
  {
   "cell_type": "code",
   "execution_count": 6,
   "metadata": {},
   "outputs": [],
   "source": [
    "df = pd.read_csv('_datasets/seeds.csv', header=None)\n",
    "samples = df[list(range(7))].values"
   ]
  },
  {
   "cell_type": "code",
   "execution_count": 7,
   "metadata": {},
   "outputs": [
    {
     "data": {
      "image/png": "[encoded data removed]",
      "text/plain": [
       "<Figure size 432x288 with 1 Axes>"
      ]
     },
     "metadata": {},
     "output_type": "display_data"
    }
   ],
   "source": [
    "ks = range(1, 6)\n",
    "inertias = []\n",
    "\n",
    "for k in ks:\n",
    "    # Create a KMeans instance with k clusters: model\n",
    "    model = KMeans(n_clusters=k)\n",
    "    \n",
    "    # Fit model to samples\n",
    "    model.fit(samples)\n",
    "    \n",
    "    # Append the inertia to the list of inertias\n",
    "    inertias.append(model.inertia_)\n",
    "    \n",
    "# Plot ks vs inertias\n",
    "plt.plot(ks, inertias, '-o')\n",
    "plt.xlabel('number of clusters, k')\n",
    "plt.ylabel('inertia')\n",
    "plt.xticks(ks)\n",
    "plt.show()"
   ]
  },
  {
   "cell_type": "markdown",
   "metadata": {},
   "source": [
    "The inertia decreases very slowly from 3 clusters to 4, so it looks like 3 clusters would be a good choice for this data."
   ]
  },
  {
   "cell_type": "markdown",
   "metadata": {},
   "source": [
    "## 2.2 Evaluating the grain clustering\n",
    "In the previous exercise, you observed from the inertia plot that 3 is a good number of clusters for the grain data. In fact, the grain samples come from a mix of 3 different grain varieties: \"Kama\", \"Rosa\" and \"Canadian\". In this exercise, cluster the grain samples into three clusters, and compare the clusters to the grain varieties using a cross-tabulation.\n",
    "\n",
    "You have the array `samples` of grain samples, and a list `varieties` giving the grain variety for each sample. Pandas (`pd`) and `KMeans` have already been imported for you.\n",
    "\n",
    "###### Instructions:\n",
    "* Create a `KMeans` model called `model` with `3` clusters.\n",
    "* Use the `.fit_predict()` method of `model` to fit it to `samples` and derive the cluster labels. Using `.fit_predict()` is the same as using `.fit()` followed by `.predict()`.\n",
    "* Create a DataFrame `df` with two columns named `'labels'` and `'varieties'`, using `labels` and `varieties`, respectively, for the column values. This has been done for you.\n",
    "* Use the `pd.crosstab()` function on `df['labels']` and `df['varieties']` to count the number of times each grain variety coincides with each cluster label. Assign the result to `ct`.\n",
    "* Hit 'Submit Answer' to see the cross-tabulation!"
   ]
  },
  {
   "cell_type": "code",
   "execution_count": 8,
   "metadata": {},
   "outputs": [],
   "source": [
    "varieties = list(df[7].map({1: 'Kama wheat', 2: 'Rosa wheat', 3: 'Canadian wheat'}))"
   ]
  },
  {
   "cell_type": "code",
   "execution_count": 9,
   "metadata": {},
   "outputs": [
    {
     "name": "stdout",
     "output_type": "stream",
     "text": [
      "varieties  Canadian wheat  Kama wheat  Rosa wheat\n",
      "labels                                           \n",
      "0                       0           1          60\n",
      "1                      68           9           0\n",
      "2                       2          60          10\n"
     ]
    }
   ],
   "source": [
    "# Create a KMeans model with 3 clusters: model\n",
    "model = KMeans(n_clusters=3)\n",
    "\n",
    "# Use fit_predict to fit model and obtain cluster labels: labels\n",
    "labels = model.fit_predict(samples)\n",
    "\n",
    "# Create a DataFrame with labels and varieties as columns: df\n",
    "df = pd.DataFrame({'labels': labels, 'varieties': varieties})\n",
    "\n",
    "# Create crosstab: ct\n",
    "ct = pd.crosstab(df['labels'], df['varieties'])\n",
    "\n",
    "# Display ct\n",
    "print(ct)"
   ]
  },
  {
   "cell_type": "markdown",
   "metadata": {},
   "source": [
    "The cross-tabulation shows that the 3 varieties of grain separate really well into 3 clusters. But depending on the type of data you are working with, the clustering may not always be this good. Is there anything you can do in such situations to improve your clustering? You'll find out in the next video!"
   ]
  },
  {
   "cell_type": "markdown",
   "metadata": {},
   "source": [
    "# 3. Transforming features for better clusterings\n",
    "## 3.1 Scaling fish data for clustering\n",
    "You are given an array `samples` giving measurements of fish. Each row represents an individual fish. The measurements, such as weight in grams, length in centimeters, and the percentage ratio of height to length, have very different scales. In order to cluster this data effectively, you'll need to standardize these features first. In this exercise, you'll build a pipeline to standardize and cluster the data.\n",
    "\n",
    "These fish measurement data were sourced from the [Journal of Statistics Education](http://jse.amstat.org/jse_data_archive.htm).\n",
    "\n",
    "###### Instructions:\n",
    "* Import:\n",
    "    * `make_pipeline` from `sklearn.pipeline`.\n",
    "    * `StandardScaler` from `sklearn.preprocessing`.\n",
    "    * `KMeans` from `sklearn.cluster`.\n",
    "* Create an instance of `StandardScaler` called `scaler`.\n",
    "* Create an instance of `KMeans` with `4` clusters called `kmeans`.\n",
    "* Create a pipeline called `pipeline` that chains `scaler` and `kmeans`. To do this, you just need to pass them in as arguments to `make_pipeline()`."
   ]
  },
  {
   "cell_type": "code",
   "execution_count": 10,
   "metadata": {},
   "outputs": [],
   "source": [
    "# Perform the necessary imports\n",
    "from sklearn.pipeline import make_pipeline\n",
    "from sklearn.preprocessing import StandardScaler\n",
    "from sklearn.cluster import KMeans\n",
    "\n",
    "# Create scaler: scaler\n",
    "scaler = StandardScaler()\n",
    "\n",
    "# Create KMeans instance: kmeans\n",
    "kmeans = KMeans(n_clusters=4)\n",
    "\n",
    "# Create pipeline: pipeline\n",
    "pipeline = make_pipeline(scaler, kmeans)"
   ]
  },
  {
   "cell_type": "markdown",
   "metadata": {},
   "source": [
    "Now that you've built the pipeline, you'll use it in the next exercise to cluster the fish by their measurements."
   ]
  },
  {
   "cell_type": "markdown",
   "metadata": {},
   "source": [
    "## 3.2 Clustering the fish data\n",
    "You'll now use your standardization and clustering pipeline from the previous exercise to cluster the fish by their measurements, and then create a cross-tabulation to compare the cluster labels with the fish species.\n",
    "\n",
    "As before, `samples` is the 2D array of fish measurements. Your pipeline is available as `pipeline`, and the species of every fish sample is given by the list `species`.\n",
    "\n",
    "###### Instructions:\n",
    "* Import `pandas` as `pd`.\n",
    "* Fit the pipeline to the fish measurements `samples`.\n",
    "* Obtain the cluster labels for `samples` by using the `.predict()` method of `pipeline`.\n",
    "* Using `pd.DataFrame()`, create a DataFrame `df` with two columns named `'labels'` and `'species'`, using `labels` and `species`, respectively, for the column values.\n",
    "* Using `pd.crosstab()`, create a cross-tabulation ct of `df['labels']` and `df['species']`."
   ]
  },
  {
   "cell_type": "code",
   "execution_count": 11,
   "metadata": {},
   "outputs": [],
   "source": [
    "# Import pandas\n",
    "import pandas as pd\n",
    "\n",
    "df = pd.read_csv('_datasets/fish.csv', header=None)\n",
    "species = list(df[0])\n",
    "samples = df[list(range(1, len(df.columns)))].values"
   ]
  },
  {
   "cell_type": "code",
   "execution_count": 12,
   "metadata": {},
   "outputs": [
    {
     "data": {
      "text/html": [
       "<div>\n",
       "<style scoped>\n",
       "    .dataframe tbody tr th:only-of-type {\n",
       "        vertical-align: middle;\n",
       "    }\n",
       "\n",
       "    .dataframe tbody tr th {\n",
       "        vertical-align: top;\n",
       "    }\n",
       "\n",
       "    .dataframe thead th {\n",
       "        text-align: right;\n",
       "    }\n",
       "</style>\n",
       "<table border=\"1\" class=\"dataframe\">\n",
       "  <thead>\n",
       "    <tr style=\"text-align: right;\">\n",
       "      <th>species</th>\n",
       "      <th>Bream</th>\n",
       "      <th>Pike</th>\n",
       "      <th>Roach</th>\n",
       "      <th>Smelt</th>\n",
       "    </tr>\n",
       "    <tr>\n",
       "      <th>labels</th>\n",
       "      <th></th>\n",
       "      <th></th>\n",
       "      <th></th>\n",
       "      <th></th>\n",
       "    </tr>\n",
       "  </thead>\n",
       "  <tbody>\n",
       "    <tr>\n",
       "      <th>0</th>\n",
       "      <td>1</td>\n",
       "      <td>0</td>\n",
       "      <td>19</td>\n",
       "      <td>1</td>\n",
       "    </tr>\n",
       "    <tr>\n",
       "      <th>1</th>\n",
       "      <td>33</td>\n",
       "      <td>0</td>\n",
       "      <td>1</td>\n",
       "      <td>0</td>\n",
       "    </tr>\n",
       "    <tr>\n",
       "      <th>2</th>\n",
       "      <td>0</td>\n",
       "      <td>17</td>\n",
       "      <td>0</td>\n",
       "      <td>0</td>\n",
       "    </tr>\n",
       "    <tr>\n",
       "      <th>3</th>\n",
       "      <td>0</td>\n",
       "      <td>0</td>\n",
       "      <td>0</td>\n",
       "      <td>13</td>\n",
       "    </tr>\n",
       "  </tbody>\n",
       "</table>\n",
       "</div>"
      ],
      "text/plain": [
       "species  Bream  Pike  Roach  Smelt\n",
       "labels                            \n",
       "0            1     0     19      1\n",
       "1           33     0      1      0\n",
       "2            0    17      0      0\n",
       "3            0     0      0     13"
      ]
     },
     "execution_count": 12,
     "metadata": {},
     "output_type": "execute_result"
    }
   ],
   "source": [
    "# Fit the pipeline to samples\n",
    "pipeline.fit(samples)\n",
    "\n",
    "# Calculate the cluster labels: labels\n",
    "labels = pipeline.predict(samples)\n",
    "\n",
    "# Create a DataFrame with labels and species as columns: df\n",
    "df = pd.DataFrame({'labels':labels, 'species':species})\n",
    "\n",
    "# Create crosstab: ct\n",
    "ct = pd.crosstab(df['labels'], df['species'])\n",
    "\n",
    "# Display ct\n",
    "ct"
   ]
  },
  {
   "cell_type": "markdown",
   "metadata": {},
   "source": [
    "It looks like the fish data separates really well into 4 clusters!"
   ]
  },
  {
   "cell_type": "markdown",
   "metadata": {},
   "source": [
    "# 3.3 Clustering stocks using KMeans\n",
    "In this exercise, you'll cluster companies using their daily stock price movements (i.e. the dollar difference between the closing and opening prices for each trading day). You are given a NumPy array `movements` of daily price movements from 2010 to 2015 (obtained from Yahoo! Finance), where each row corresponds to a company, and each column corresponds to a trading day.\n",
    "\n",
    "Some stocks are more expensive than others. To account for this, include a `Normalizer` at the beginning of your pipeline. The Normalizer will separately transform each company's stock price to a relative scale before the clustering begins.\n",
    "\n",
    "Note that `Normalizer()` is different to `StandardScaler()`, which you used in the previous exercise. While `StandardScaler()` standardizes features (such as the features of the fish data from the previous exercise) by removing the mean and scaling to unit variance, `Normalizer()` rescales each sample - here, each company's stock price - independently of the other.\n",
    "\n",
    "`KMeans` and `make_pipeline` have already been imported for you.\n",
    "\n",
    "###### Instructions:\n",
    "* Import `Normalizer` from `sklearn.preprocessing`.\n",
    "* Create an instance of `Normalizer` called `normalizer`.\n",
    "* Create an instance of `KMeans` called `kmeans` with `10` clusters.\n",
    "* Using `make_pipeline()`, create a pipeline called `pipeline` that chains `normalizer` and `kmeans`.\n",
    "* Fit the pipeline to the `movements` array."
   ]
  },
  {
   "cell_type": "code",
   "execution_count": 13,
   "metadata": {},
   "outputs": [],
   "source": [
    "df = pd.read_csv('_datasets/company-stock-movements-2010-2015-incl.csv', index_col=0)\n",
    "companies = list(df.index)\n",
    "movements = df.values"
   ]
  },
  {
   "cell_type": "code",
   "execution_count": 14,
   "metadata": {},
   "outputs": [
    {
     "data": {
      "text/plain": [
       "Pipeline(memory=None,\n",
       "     steps=[('normalizer', Normalizer(copy=True, norm='l2')), ('kmeans', KMeans(algorithm='auto', copy_x=True, init='k-means++', max_iter=300,\n",
       "    n_clusters=10, n_init=10, n_jobs=None, precompute_distances='auto',\n",
       "    random_state=None, tol=0.0001, verbose=0))])"
      ]
     },
     "execution_count": 14,
     "metadata": {},
     "output_type": "execute_result"
    }
   ],
   "source": [
    "# Import Normalizer\n",
    "from sklearn.preprocessing import Normalizer\n",
    "\n",
    "# Create a normalizer: normalizer\n",
    "normalizer = Normalizer()\n",
    "\n",
    "# Create a KMeans model with 10 clusters: kmeans\n",
    "kmeans = KMeans(n_clusters=10)\n",
    "\n",
    "# Make a pipeline chaining normalizer and kmeans: pipeline\n",
    "pipeline = make_pipeline(normalizer, kmeans)\n",
    "\n",
    "# Fit pipeline to the daily price movements\n",
    "pipeline.fit(movements)"
   ]
  },
  {
   "cell_type": "markdown",
   "metadata": {},
   "source": [
    "## 3.4 Which stocks move together?\n",
    "In the previous exercise, you clustered companies by their daily stock price movements. So which company have stock prices that tend to change in the same way? You'll now inspect the cluster labels from your clustering to find out.\n",
    "\n",
    "Your solution to the previous exercise has already been run. Recall that you constructed a Pipeline `pipeline` containing a `KMeans` model and fit it to the NumPy array `movements` of daily stock movements. In addition, a list `companies` of the company names is available.\n",
    "\n",
    "###### Instructions:\n",
    "* Import `pandas` as `pd`.\n",
    "* Use the `.predict()` method of the pipeline to predict the labels for `movements`.\n",
    "* Align the cluster labels with the list of company names `companies` by creating a DataFrame `df` with `labels` and `companies` as columns. This has been done for you.\n",
    "* Use the `.sort_values()` method of `df` to sort the DataFrame by the `'labels'` column, and print the result.\n",
    "* Hit 'Submit Answer' and take a moment to see which companies are together in each cluster!"
   ]
  },
  {
   "cell_type": "code",
   "execution_count": 15,
   "metadata": {},
   "outputs": [
    {
     "name": "stdout",
     "output_type": "stream",
     "text": [
      "    labels                           companies\n",
      "1        0                                 AIG\n",
      "29       1                     Lookheed Martin\n",
      "47       1                            Symantec\n",
      "36       1                    Northrop Grumman\n",
      "32       1                                  3M\n",
      "31       1                           McDonalds\n",
      "30       1                          MasterCard\n",
      "23       1                                 IBM\n",
      "20       1                          Home Depot\n",
      "13       1                   DuPont de Nemours\n",
      "59       1                               Yahoo\n",
      "4        1                              Boeing\n",
      "3        2                    American express\n",
      "55       2                         Wells Fargo\n",
      "16       2                   General Electrics\n",
      "5        2                     Bank of America\n",
      "18       2                       Goldman Sachs\n",
      "26       2                      JPMorgan Chase\n",
      "35       3                            Navistar\n",
      "44       3                        Schlumberger\n",
      "8        3                         Caterpillar\n",
      "53       3                       Valero Energy\n",
      "39       4                              Pfizer\n",
      "25       4                   Johnson & Johnson\n",
      "54       4                            Walgreen\n",
      "56       4                            Wal-Mart\n",
      "40       5                      Procter Gamble\n",
      "38       5                               Pepsi\n",
      "27       5                      Kimberly-Clark\n",
      "28       5                           Coca Cola\n",
      "41       5                       Philip Morris\n",
      "9        5                   Colgate-Palmolive\n",
      "34       6                          Mitsubishi\n",
      "48       6                              Toyota\n",
      "7        6                               Canon\n",
      "17       6                     Google/Alphabet\n",
      "2        6                              Amazon\n",
      "58       6                               Xerox\n",
      "21       6                               Honda\n",
      "45       6                                Sony\n",
      "15       6                                Ford\n",
      "11       7                               Cisco\n",
      "0        7                               Apple\n",
      "33       7                           Microsoft\n",
      "14       7                                Dell\n",
      "22       7                                  HP\n",
      "57       8                               Exxon\n",
      "12       8                             Chevron\n",
      "19       8                     GlaxoSmithKline\n",
      "52       8                            Unilever\n",
      "42       8                   Royal Dutch Shell\n",
      "49       8                               Total\n",
      "6        8            British American Tobacco\n",
      "46       8                      Sanofi-Aventis\n",
      "10       8                      ConocoPhillips\n",
      "43       8                                 SAP\n",
      "37       8                            Novartis\n",
      "51       9                   Texas instruments\n",
      "24       9                               Intel\n",
      "50       9  Taiwan Semiconductor Manufacturing\n"
     ]
    }
   ],
   "source": [
    "# Import pandas\n",
    "import pandas as pd\n",
    "\n",
    "# Predict the cluster labels: labels\n",
    "labels = pipeline.predict(movements)\n",
    "\n",
    "# Create a DataFrame aligning labels and companies: df\n",
    "df = pd.DataFrame({'labels': labels, 'companies': companies})\n",
    "\n",
    "# Display df sorted by cluster label\n",
    "print(df.sort_values('labels'))"
   ]
  },
  {
   "cell_type": "markdown",
   "metadata": {},
   "source": [
    "Take a look at the clusters. Are you surprised by any of the results? In the next chapter, you'll learn about how to communicate results such as this through visualizations."
   ]
  },
  {
   "cell_type": "code",
   "execution_count": null,
   "metadata": {},
   "outputs": [],
   "source": []
  }
 ],
 "metadata": {
  "kernelspec": {
   "display_name": "Python 3",
   "language": "python",
   "name": "python3"
  },
  "language_info": {
   "codemirror_mode": {
    "name": "ipython",
    "version": 3
   },
   "file_extension": ".py",
   "mimetype": "text/x-python",
   "name": "python",
   "nbconvert_exporter": "python",
   "pygments_lexer": "ipython3",
   "version": "3.7.0"
  }
 },
 "nbformat": 4,
 "nbformat_minor": 1
}
