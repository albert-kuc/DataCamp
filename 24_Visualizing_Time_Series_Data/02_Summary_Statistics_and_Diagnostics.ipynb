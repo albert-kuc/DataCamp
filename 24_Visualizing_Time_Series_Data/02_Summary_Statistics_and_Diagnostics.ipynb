{
 "cells": [
  {
   "cell_type": "markdown",
   "metadata": {},
   "source": [
    "# Summary Statistics and Diagnostics\n",
    "In this chapter, you will gain a deeper understanding of your time series data by computing summary statistics and plotting aggregated views of your data.\n",
    "\n",
    "# 1. Clean your time series data\n",
    "## 1.1 Find missing values\n",
    "In the field of Data Science, it is common to encounter datasets with missing values. This is especially true in the case of time series data, where missing values can occur if a measurement fails to record the value at a specific timestamp. To count the number of missing values in a DataFrame called <code>df</code> that contains time series data, you can use the command:\n",
    "\n",
    "<code>    missing_values = df.isnull().sum()\n",
    "</code>\n",
    "\n",
    "In this exercise, you will learn how to find whether your data contains any missing values.\n",
    "\n",
    "### Instructions:\n",
    "* The <code>co2_levels</code> time series DataFrame contains time series data on global CO2 levels. Start by printing the first seven rows of <code>co2_levels</code>\n",
    "* Set the <code>'datestamp'</code> column as the index of the <code>co2_levels</code> DataFrame.\n",
    "* Print the total number of missing values in <code>co2_levels</code>."
   ]
  },
  {
   "cell_type": "code",
   "execution_count": 1,
   "metadata": {},
   "outputs": [],
   "source": [
    "import pandas as pd\n",
    "co2_levels = pd.read_csv('_datasets/ch2_co2_levels.csv')"
   ]
  },
  {
   "cell_type": "code",
   "execution_count": 2,
   "metadata": {},
   "outputs": [
    {
     "name": "stdout",
     "output_type": "stream",
     "text": [
      "    datestamp    co2\n",
      "0  1958-03-29  316.1\n",
      "1  1958-04-05  317.3\n",
      "2  1958-04-12  317.6\n",
      "3  1958-04-19  317.5\n",
      "4  1958-04-26  316.4\n",
      "5  1958-05-03  316.9\n",
      "6  1958-05-10    NaN\n"
     ]
    }
   ],
   "source": [
    "# Display first seven rows of co2_levels\n",
    "print(co2_levels.head(7))"
   ]
  },
  {
   "cell_type": "code",
   "execution_count": 3,
   "metadata": {},
   "outputs": [
    {
     "name": "stdout",
     "output_type": "stream",
     "text": [
      "co2    59\n",
      "dtype: int64\n"
     ]
    }
   ],
   "source": [
    "# Set datestamp column as index\n",
    "co2_levels = co2_levels.set_index('datestamp')\n",
    "\n",
    "# Print out the number of missing values\n",
    "print(co2_levels.isnull().sum())"
   ]
  },
  {
   "cell_type": "markdown",
   "metadata": {},
   "source": [
    "## 1.2 Handle missing values\n",
    "In order to replace missing values in your time series data, you can use the command:\n",
    "\n",
    "<code>\tdf = df.fillna(method=\"ffill\")</code>\n",
    "\n",
    "where the argument specifies the type of method you want to use. For example, specifying <code>bfill</code> (i.e backfilling) will ensure that missing values are replaced using the next valid observation, while <code>ffill</code> (i.e. forward-filling) ensures that missing values are replaced using the last valid observation.\n",
    "Recall from the previous exercise that <code>co2_levels</code> has 59 missing values.\n",
    "\n",
    "### Instructions:\n",
    "* Impute these missing values in <code>co2_levels</code> by using backfilling. \n",
    "* Print the total number of missing values."
   ]
  },
  {
   "cell_type": "code",
   "execution_count": 4,
   "metadata": {},
   "outputs": [
    {
     "name": "stdout",
     "output_type": "stream",
     "text": [
      "co2    0\n",
      "dtype: int64\n"
     ]
    }
   ],
   "source": [
    "# Impute missing values with the next valid observation\n",
    "co2_levels = co2_levels.fillna(method='bfill')\n",
    "\n",
    "# Print out the number of missing values\n",
    "print(co2_levels.isnull().sum())"
   ]
  },
  {
   "cell_type": "markdown",
   "metadata": {},
   "source": [
    "# 2. Plot aggregates of your data\n",
    "## 2.1 Display rolling averages\n",
    "It is also possible to visualize rolling averages of the values in your time series. This is equivalent to \"smoothing\" your data, and can be particularly useful when your time series contains a lot of noise or outliers. For a given DataFrame <code>df</code>, you can obtain the rolling average of the time series by using the command:\n",
    "\n",
    "<code>\tdf_mean = df.rolling(window=12).mean()</code>\n",
    "\n",
    "The <code>window</code> parameter should be set according to the granularity of your time series. For example, if your time series contains daily data and you are looking for rolling values over a whole year, you should specify the parameter to <code>window=365</code>. In addition, it is easy to get rolling values for other other metrics, such as the standard deviation (<code>.std()</code>) or variance (<code>.var()</code>)."
   ]
  },
  {
   "cell_type": "code",
   "execution_count": 5,
   "metadata": {},
   "outputs": [
    {
     "data": {
      "text/plain": [
       "<Figure size 640x480 with 1 Axes>"
      ]
     },
     "metadata": {},
     "output_type": "display_data"
    }
   ],
   "source": [
    "import matplotlib.pyplot as plt\n",
    "plt.style.use('fivethirtyeight')\n",
    "\n",
    "# Compute the 52 weeks rolling mean of the co2_levels DataFrame\n",
    "ma = co2_levels.rolling(window=52).mean()\n",
    "\n",
    "# Compute the 52 weeks rolling standard deviation of the co2_levels DataFrame\n",
    "mstd = co2_levels.rolling(window=52).std()\n",
    "\n",
    "# Add the upper bound column to the ma DataFrame\n",
    "ma['upper'] = ma['co2'] + (mstd['co2'] * 2)\n",
    "\n",
    "# Add the lower bound column to the ma DataFrame\n",
    "ma['lower'] = ma['co2'] - (mstd['co2'] * 2)\n",
    "\n",
    "# Plot the content of the ma DataFrame\n",
    "ax = ma.plot(linewidth=0.8, fontsize=6)\n",
    "\n",
    "# Specify labels, legend, and show the plot\n",
    "ax.set_xlabel('Date', fontsize=10)\n",
    "ax.set_ylabel('CO2 levels in Mauai Hawaii', fontsize=10)\n",
    "ax.set_title('Rolling mean and variance of CO2 levels\\nin Mauai Hawaii from 1958 to 2001', fontsize=10)\n",
    "plt.show()"
   ]
  },
  {
   "cell_type": "markdown",
   "metadata": {},
   "source": [
    "## 2.2 Display aggregated values\n",
    "You may sometimes be required to display your data in a more aggregated form. For example, the <code>co2_levels</code> data contains weekly data, but you may need to display its values aggregated by month of year. In datasets such as the <code>co2_levels</code> DataFrame where the index is a <code>datetime</code> type, you can extract the year of each dates in the index:\n",
    "\n",
    "<code>    # extract of the year in each dates of the df DataFrame\n",
    "    index_year = df.index.year\n",
    "</code>\n",
    "\n",
    "To extract the month or day of the dates in the indices of the <code>df</code> DataFrame, you would use <code>df.index.month</code> and <code>df.index.day</code>, respectively.\n",
    "You can then use the extracted year of each indices in the <code>co2_levels</code> DataFrame and the <code>groupby</code> function to compute the mean CO2 levels by year:\n",
    "\n",
    "<code>df_by_year = df.groupby(index_year).mean()</code>\n",
    "\n",
    "### Instructions:\n",
    "* Extract the month for each of the dates in the index of the <code>co2_levels</code> DataFrame and assign the values to a variable called <code>index_month</code>.\n",
    "* Using the <code>groupby</code> and <code>mean</code> functions from the <code>pandas</code> library, compute the monthly mean CO2 levels in the <code>co2_levels</code> DataFrame and assign that to a new DataFrame called <code>mean_co2_levels_by_month</code>.\n",
    "* Plot the values of the <code>mean_co2_levels_by_month</code> DataFrame using a fontsize of 6 for the axis ticks."
   ]
  },
  {
   "cell_type": "code",
   "execution_count": 6,
   "metadata": {},
   "outputs": [],
   "source": [
    "co2_levels = pd.read_csv('_datasets/ch2_co2_levels.csv')\n",
    "\n",
    "# Set datestamp column as index\n",
    "co2_levels = co2_levels.set_index(pd.to_datetime(co2_levels['datestamp']))\n",
    "\n",
    "# Impute missing values with the next valid observation\n",
    "co2_levels = co2_levels.fillna(method='bfill')"
   ]
  },
  {
   "cell_type": "code",
   "execution_count": 7,
   "metadata": {},
   "outputs": [
    {
     "data": {
      "image/png": "[encoded data removed]",
      "text/plain": [
       "<Figure size 432x288 with 1 Axes>"
      ]
     },
     "metadata": {
      "needs_background": "light"
     },
     "output_type": "display_data"
    }
   ],
   "source": [
    "# Get month for each dates in the index of co2_levels\n",
    "index_month = co2_levels.index.month\n",
    "\n",
    "# Compute the mean CO2 levels for each month of the year\n",
    "mean_co2_levels_by_month = co2_levels.groupby(index_month).mean()\n",
    "\n",
    "# Plot the mean CO2 levels for each month of the year\n",
    "mean_co2_levels_by_month.plot(fontsize=6)\n",
    "\n",
    "# Specify the fontsize on the legend\n",
    "plt.legend(fontsize=10)\n",
    "\n",
    "# Show plot\n",
    "plt.show()"
   ]
  },
  {
   "cell_type": "markdown",
   "metadata": {},
   "source": [
    "# 3. Summarize the values in your time series data\n",
    "## 3.1 Compute numerical summaries\n",
    "You have learnt how to display and annotate time series data in multiple ways, but it is also informative to collect summary statistics of your data. Being able to achieve this task will allow you to share and discuss statistical properties of your data that can further support the plots you generate. In <code>pandas</code>, it is possible to quickly obtain summaries of columns in your DataFrame by using the command:\n",
    "\n",
    "<code>print(df.describe())\n",
    "</code>\n",
    "\n",
    "This will print statistics including the mean, the standard deviation, the minima and maxima and the number of observations for all numeric columns in your <code>pandas</code> DataFrame.\n",
    "\n",
    "### Instructions:\n",
    "* Print the statistical summaries of the <code>co2_levels</code> DataFrame. \n",
    "* Print the reported minimum value in the <code>co2_levels</code> DataFrame.\n",
    "* Print the reported maximum value in the <code>co2_levels</code> DataFrame."
   ]
  },
  {
   "cell_type": "code",
   "execution_count": 8,
   "metadata": {},
   "outputs": [
    {
     "name": "stdout",
     "output_type": "stream",
     "text": [
      "               co2\n",
      "count  2284.000000\n",
      "mean    339.657750\n",
      "std      17.100899\n",
      "min     313.000000\n",
      "25%     323.975000\n",
      "50%     337.700000\n",
      "75%     354.500000\n",
      "max     373.900000\n"
     ]
    }
   ],
   "source": [
    "# Print out summary statistics of the co2_levels DataFrame\n",
    "print(co2_levels.describe())"
   ]
  },
  {
   "cell_type": "code",
   "execution_count": 9,
   "metadata": {},
   "outputs": [
    {
     "name": "stdout",
     "output_type": "stream",
     "text": [
      "313.0\n",
      "373.9\n"
     ]
    }
   ],
   "source": [
    "# Print out the minima of the co2 column in the co2_levels DataFrame\n",
    "print(co2_levels.co2.min())\n",
    "\n",
    "# Print out the maxima of the co2 column in the co2_levels DataFrame\n",
    "print(co2_levels.co2.max())"
   ]
  },
  {
   "cell_type": "markdown",
   "metadata": {},
   "source": [
    "# 3.2 Boxplots and Histograms\n",
    "Boxplots represent a graphical rendition of the minimum, median, quartiles, and maximum of your data. You can generate a boxplot by calling the <code>.boxplot()</code> method on a DataFrame.\n",
    "\n",
    "Another method to produce visual summaries is by leveraging histograms, which allow you to inspect the data and uncover its underlying distribution, as well as the presence of outliers and overall spread. An example of how to generate a histogram is shown below:\n",
    "\n",
    "<pre>\n",
    "<code>ax = co2_levels.plot(kind='hist', bins=100)\n",
    "</code></pre>\n",
    "\n",
    "Here, we used the standard <code>.plot()</code> method but specified the <code>kind</code> argument to be <code>'hist'</code>. In addition, we also added the <code>bins=100</code> parameter, which specifies how many intervals (i.e <code>bins</code>) we should cut our data into.\n",
    "\n",
    "### Instructions:\n",
    "* Using the <code>co2_levels</code> DataFrame, produce a boxplot of the CO2 level data.\n",
    "* Using the <code>co2_levels</code> DataFrame, produce a histogram plot of the CO2 level data with 50 bins."
   ]
  },
  {
   "cell_type": "code",
   "execution_count": 10,
   "metadata": {},
   "outputs": [
    {
     "data": {
      "image/png": "[encoded data removed]",
      "text/plain": [
       "<Figure size 432x288 with 1 Axes>"
      ]
     },
     "metadata": {
      "needs_background": "light"
     },
     "output_type": "display_data"
    }
   ],
   "source": [
    "# Generate a boxplot\n",
    "ax = co2_levels.boxplot()\n",
    "\n",
    "# Set the labels and display the plot\n",
    "ax.set_xlabel('CO2', fontsize=10)\n",
    "ax.set_ylabel('Boxplot CO2 levels in Maui Hawaii', fontsize=10)\n",
    "# plt.legend(fontsize=10)\n",
    "plt.show()"
   ]
  },
  {
   "cell_type": "code",
   "execution_count": 11,
   "metadata": {},
   "outputs": [
    {
     "data": {
      "image/png": "[encoded data removed]",
      "text/plain": [
       "<Figure size 432x288 with 1 Axes>"
      ]
     },
     "metadata": {
      "needs_background": "light"
     },
     "output_type": "display_data"
    }
   ],
   "source": [
    "# Generate a histogram\n",
    "ax = co2_levels['co2'].plot(kind='hist', bins=50, fontsize=6)\n",
    "\n",
    "# Set the labels and display the plot\n",
    "ax.set_xlabel('CO2', fontsize=10)\n",
    "ax.set_ylabel('Histogram of CO2 levels in Maui Hawaii', fontsize=10)\n",
    "plt.legend(fontsize=10)\n",
    "plt.show()"
   ]
  },
  {
   "cell_type": "markdown",
   "metadata": {},
   "source": [
    "## 3.3 Density plots\n",
    "In practice, histograms can be a substandard method for assessing the distribution of your data because they can be strongly affected by the number of bins that have been specified. Instead, kernel density plots represent a more effective way to view the distribution of your data. An example of how to generate a density plot of is shown below:\n",
    "\n",
    "<code>ax = df.plot(kind='density', linewidth=2)\n",
    "</code>\n",
    "\n",
    "The standard <code>.plot()</code> method is specified with the <code>kind</code> argument set to <code>&#39;density&#39;</code>. We also specified an additional parameter <code>linewidth</code>, which controls the width of the line to be plotted.\n",
    "\n",
    "### Instructions:\n",
    "* Using the <code>co2_levels</code> DataFrame, produce a density plot of the CO2 level data with line width parameter of 4.\n",
    "* Annotate the x-axis labels of your boxplot with the string <code>'CO2'</code>.\n",
    "* Annotate the y-axis labels of your boxplot with the string <code>'Density plot of CO2 levels in Maui Hawaii'</code>"
   ]
  },
  {
   "cell_type": "code",
   "execution_count": 12,
   "metadata": {},
   "outputs": [
    {
     "data": {
      "image/png": "[encoded data removed]",
      "text/plain": [
       "<Figure size 432x288 with 1 Axes>"
      ]
     },
     "metadata": {
      "needs_background": "light"
     },
     "output_type": "display_data"
    }
   ],
   "source": [
    "# Display density plot of CO2 levels values\n",
    "ax = co2_levels.plot(kind='density', linewidth=4, fontsize=6)\n",
    "\n",
    "# Annotate x-axis labels\n",
    "ax.set_xlabel('CO2', fontsize=10)\n",
    "\n",
    "# Annotate y-axis labels\n",
    "ax.set_ylabel('Density plot of CO2 levels in Maui Hawaii', fontsize=10)\n",
    "plt.show()"
   ]
  },
  {
   "cell_type": "code",
   "execution_count": null,
   "metadata": {},
   "outputs": [],
   "source": []
  }
 ],
 "metadata": {
  "kernelspec": {
   "display_name": "Python 3",
   "language": "python",
   "name": "python3"
  },
  "language_info": {
   "codemirror_mode": {
    "name": "ipython",
    "version": 3
   },
   "file_extension": ".py",
   "mimetype": "text/x-python",
   "name": "python",
   "nbconvert_exporter": "python",
   "pygments_lexer": "ipython3",
   "version": "3.7.4"
  }
 },
 "nbformat": 4,
 "nbformat_minor": 2
}
