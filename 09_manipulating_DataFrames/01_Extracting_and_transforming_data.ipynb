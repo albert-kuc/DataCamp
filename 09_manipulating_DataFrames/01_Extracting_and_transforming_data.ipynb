{
 "cells": [
  {
   "cell_type": "markdown",
   "metadata": {},
   "source": [
    "# Extracting and transforming data\n",
    "In this chapter, you will learn all about how to index, slice, filter, and transform DataFrames, using a variety of datasets, ranging from 2012 US election data for the state of Pennsylvania to Pittsburgh weather data."
   ]
  },
  {
   "cell_type": "markdown",
   "metadata": {},
   "source": [
    "# 1. Indexing DataFrames\n",
    "## 1.1 Positional and labeled indexing\n",
    "Given a pair of label-based indices, sometimes it's necessary to find the corresponding positions. In this exercise, you will use the Pennsylvania election results again. The DataFrame is provided for you as `election`.\n",
    "\n",
    "Find `x` and `y` such that `election.iloc[x, y] == election.loc['Bedford', 'winner']`. That is, what is the row position of `'Bedford'`, and the column position of `'winner'`? Remember that the first position in Python is 0, not 1!\n",
    "\n",
    "To answer this question, first explore the DataFrame using `election.head()` in the IPython Shell and inspect it with your eyes.\n",
    "\n",
    "### Instructions:\n",
    "* Explore the DataFrame in the IPython Shell using `election.head()`.\n",
    "* Assign the row position of `election.loc['Bedford']` to `x`.\n",
    "* Assign the column position of `election['winner']` to `y`.\n",
    "* Hit 'Submit Answer' to print the boolean equivalence of the `.loc` and `.iloc` selections."
   ]
  },
  {
   "cell_type": "code",
   "execution_count": 1,
   "metadata": {},
   "outputs": [],
   "source": [
    "import pandas as pd\n",
    "election = pd.read_csv('_datasets/pennsylvania2012_turnout.csv', index_col='county')"
   ]
  },
  {
   "cell_type": "code",
   "execution_count": 2,
   "metadata": {},
   "outputs": [
    {
     "name": "stdout",
     "output_type": "stream",
     "text": [
      "True\n"
     ]
    }
   ],
   "source": [
    "# Assign the row position of election.loc['Bedford']: x\n",
    "x = 4\n",
    "\n",
    "# Assign the column position of election['winner']: y\n",
    "y = 4\n",
    "\n",
    "# Print the boolean equivalence\n",
    "print(election.iloc[x, y] == election.loc['Bedford', 'winner'])"
   ]
  },
  {
   "cell_type": "markdown",
   "metadata": {},
   "source": [
    "Depending on the situation, you may wish to use `.iloc[]` over `.loc[]`, and vice versa. The important thing to realize is you can achieve the exact same results using either approach."
   ]
  },
  {
   "cell_type": "markdown",
   "metadata": {},
   "source": [
    "## 1.2 Indexing and column rearrangement\n",
    "There are circumstances in which it's useful to modify the order of your DataFrame columns. We do that now by extracting just two columns from the Pennsylvania election results DataFrame.\n",
    "\n",
    "Your job is to read the CSV file and set the index to `'county'`. You'll then assign a new DataFrame by selecting the list of columns `['winner', 'total', 'voters']`. The CSV file is provided to you in the variable `filename`.\n",
    "\n",
    "### Instructions:\n",
    "* Import pandas as pd.\n",
    "* Read in `filename` using `pd.read_csv()` and set the index to `'county'` by specifying the `index_col` parameter.\n",
    "* Create a separate DataFrame `results` with the columns `['winner', 'total', 'voters']`.\n",
    "* Print the output using `results.head()`. This has been done for you, so hit 'Submit Answer' to see the new DataFrame!"
   ]
  },
  {
   "cell_type": "code",
   "execution_count": 3,
   "metadata": {},
   "outputs": [
    {
     "name": "stdout",
     "output_type": "stream",
     "text": [
      "           winner   total  voters\n",
      "county                           \n",
      "Adams      Romney   41973   61156\n",
      "Allegheny   Obama  614671  924351\n",
      "Armstrong  Romney   28322   42147\n",
      "Beaver     Romney   80015  115157\n",
      "Bedford    Romney   21444   32189\n"
     ]
    }
   ],
   "source": [
    "# Import pandas\n",
    "import pandas as pd\n",
    "\n",
    "# Read in filename and set the index: election\n",
    "election = pd.read_csv('_datasets/pennsylvania2012_turnout.csv', index_col='county', usecols=[0, 1, 2, 3, 4, 5, 6])\n",
    "\n",
    "# Create a separate dataframe with the columns ['winner', 'total', 'voters']: results\n",
    "results = election[['winner', 'total', 'voters']]\n",
    "\n",
    "# Print the output of results.head()\n",
    "print(results.head())"
   ]
  },
  {
   "cell_type": "markdown",
   "metadata": {},
   "source": [
    "The original `election` DataFrame had 6 columns, but as you can see, your `results` DataFrame now has just the 3 columns: `'winner'`, `'total'`, and `'voters'`."
   ]
  },
  {
   "cell_type": "markdown",
   "metadata": {},
   "source": [
    "# 2. Slicing DataFrames\n",
    "## 2.1 Slicing rows\n",
    "The Pennsylvania US `election` results data set that you have been using so far is ordered by county name. This means that county names can be sliced alphabetically. In this exercise, you're going to perform slicing on the county names of the election DataFrame from the previous exercises, which has been pre-loaded for you.\n",
    "\n",
    "### Instructions:\n",
    "* Slice the row labels `'Perry'` to `'Potter'` and assign the output to `p_counties`.\n",
    "* Print the `p_counties` DataFrame. This has been done for you.\n",
    "* Slice the row labels `'Potter'` to `'Perry'` in reverse order. To do this for hypothetical row labels `'a'` and `'b'`, you could use a stepsize of `-1` like so: `df.loc['b':'a':-1]`.\n",
    "* Print the `p_counties_rev` DataFrame. This has also been done for you, so hit 'Submit Answer' to see the result of your slicing!"
   ]
  },
  {
   "cell_type": "code",
   "execution_count": 4,
   "metadata": {},
   "outputs": [
    {
     "name": "stdout",
     "output_type": "stream",
     "text": [
      "             state   total      Obama     Romney  winner   voters\n",
      "county                                                           \n",
      "Perry           PA   18240  29.769737  68.591009  Romney    27245\n",
      "Philadelphia    PA  653598  85.224251  14.051451   Obama  1099197\n",
      "Pike            PA   23164  43.904334  54.882576  Romney    41840\n",
      "Potter          PA    7205  26.259542  72.158223  Romney    10913\n"
     ]
    }
   ],
   "source": [
    "# Slice the row labels 'Perry' to 'Potter': p_counties\n",
    "p_counties = election.loc['Perry':'Potter', :]\n",
    "\n",
    "# Print the p_counties DataFrame\n",
    "print(p_counties)"
   ]
  },
  {
   "cell_type": "code",
   "execution_count": 5,
   "metadata": {},
   "outputs": [
    {
     "name": "stdout",
     "output_type": "stream",
     "text": [
      "             state   total      Obama     Romney  winner   voters\n",
      "county                                                           \n",
      "Potter          PA    7205  26.259542  72.158223  Romney    10913\n",
      "Pike            PA   23164  43.904334  54.882576  Romney    41840\n",
      "Philadelphia    PA  653598  85.224251  14.051451   Obama  1099197\n",
      "Perry           PA   18240  29.769737  68.591009  Romney    27245\n"
     ]
    }
   ],
   "source": [
    "# Slice the row labels 'Potter' to 'Perry' in reverse order: p_counties_rev\n",
    "p_counties_rev = election.loc['Potter':'Perry':-1, :]\n",
    "\n",
    "# Print the p_counties_rev DataFrame\n",
    "print(p_counties_rev)"
   ]
  },
  {
   "cell_type": "markdown",
   "metadata": {},
   "source": [
    "## 2.2 Slicing columns\n",
    "Similar to row slicing, columns can be sliced by value. In this exercise, your job is to slice column names from the Pennsylvania election results DataFrame using `.loc[]`.\n",
    "\n",
    "It has been pre-loaded for you as `election`, with the index set to `'county'`.\n",
    "\n",
    "### Instructions:\n",
    "* Slice the columns from the starting column to `'Obama'` and assign the result to `left_columns`\n",
    "* Slice the columns from `'Obama'` to `'winner'` and assign the result to `middle_columns`\n",
    "* Slice the columns from `'Romney'` to the end and assign the result to `right_columns`\n",
    "* The code to print the first 5 rows of `left_columns`, `middle_columns`, and `right_columns` has been written, so hit 'Submit Answer' to see the results!"
   ]
  },
  {
   "cell_type": "code",
   "execution_count": 6,
   "metadata": {},
   "outputs": [
    {
     "name": "stdout",
     "output_type": "stream",
     "text": [
      "          state   total      Obama\n",
      "county                            \n",
      "Adams        PA   41973  35.482334\n",
      "Allegheny    PA  614671  56.640219\n",
      "Armstrong    PA   28322  30.696985\n",
      "Beaver       PA   80015  46.032619\n",
      "Bedford      PA   21444  22.057452\n"
     ]
    }
   ],
   "source": [
    "# Slice the columns from the starting column to 'Obama': left_columns\n",
    "left_columns = election.loc[:, :'Obama']\n",
    "\n",
    "# Print the output of left_columns.head()\n",
    "print(left_columns.head())"
   ]
  },
  {
   "cell_type": "code",
   "execution_count": 7,
   "metadata": {},
   "outputs": [
    {
     "name": "stdout",
     "output_type": "stream",
     "text": [
      "               Obama     Romney  winner\n",
      "county                                 \n",
      "Adams      35.482334  63.112001  Romney\n",
      "Allegheny  56.640219  42.185820   Obama\n",
      "Armstrong  30.696985  67.901278  Romney\n",
      "Beaver     46.032619  52.637630  Romney\n",
      "Bedford    22.057452  76.986570  Romney\n"
     ]
    }
   ],
   "source": [
    "# Slice the columns from 'Obama' to 'winner': middle_columns\n",
    "middle_columns = election.loc[:, 'Obama':'winner']\n",
    "\n",
    "# Print the output of middle_columns.head()\n",
    "print(middle_columns.head())"
   ]
  },
  {
   "cell_type": "code",
   "execution_count": 8,
   "metadata": {},
   "outputs": [
    {
     "name": "stdout",
     "output_type": "stream",
     "text": [
      "              Romney  winner  voters\n",
      "county                              \n",
      "Adams      63.112001  Romney   61156\n",
      "Allegheny  42.185820   Obama  924351\n",
      "Armstrong  67.901278  Romney   42147\n",
      "Beaver     52.637630  Romney  115157\n",
      "Bedford    76.986570  Romney   32189\n"
     ]
    }
   ],
   "source": [
    "# Slice the columns from 'Romney' to the end: 'right_columns'\n",
    "right_columns = election.loc[:, 'Romney':]\n",
    "\n",
    "# Print the output of right_columns.head()\n",
    "print(right_columns.head())"
   ]
  },
  {
   "cell_type": "markdown",
   "metadata": {},
   "source": [
    "## 2.3 Subselecting DataFrames with lists\n",
    "You can use lists to select specific row and column labels with the `.loc[]` accessor. In this exercise, your job is to select the counties `['Philadelphia', 'Centre', 'Fulton']` and the columns `['winner','Obama','Romney']` from the `election` DataFrame, which has been pre-loaded for you with the index set to `'county'`.\n",
    "\n",
    "### Instructions:\n",
    "* Create the list of row labels `['Philadelphia', 'Centre', 'Fulton']` and assign it to `rows`.\n",
    "* Create the list of column labels `['winner', 'Obama', 'Romney']` and assign it to `cols`.\n",
    "* Create a new DataFrame by selecting with `rows` and `cols` in `.loc[]` and assign it to `three_counties`.\n",
    "* Print the `three_counties` DataFrame. This has been done for you, so hit 'Submit Answer` to see your new DataFrame."
   ]
  },
  {
   "cell_type": "code",
   "execution_count": 9,
   "metadata": {},
   "outputs": [
    {
     "name": "stdout",
     "output_type": "stream",
     "text": [
      "              winner      Obama     Romney\n",
      "county                                    \n",
      "Philadelphia   Obama  85.224251  14.051451\n",
      "Centre        Romney  48.948416  48.977486\n",
      "Fulton        Romney  21.096291  77.748861\n"
     ]
    }
   ],
   "source": [
    "# Create the list of row labels: rows\n",
    "rows = ['Philadelphia', 'Centre', 'Fulton']\n",
    "# Create the list of column labels: cols\n",
    "cols = ['winner', 'Obama', 'Romney']\n",
    "\n",
    "# Create the new DataFrame: three_counties\n",
    "three_counties = election.loc[rows, cols]\n",
    "# Print the three_counties DataFrame\n",
    "print(three_counties)"
   ]
  },
  {
   "cell_type": "markdown",
   "metadata": {},
   "source": [
    "If you know exactly which rows and columns are of interest to you, this is a useful approach for subselecting DataFrames."
   ]
  },
  {
   "cell_type": "code",
   "execution_count": null,
   "metadata": {},
   "outputs": [],
   "source": []
  }
 ],
 "metadata": {
  "kernelspec": {
   "display_name": "Python 3",
   "language": "python",
   "name": "python3"
  },
  "language_info": {
   "codemirror_mode": {
    "name": "ipython",
    "version": 3
   },
   "file_extension": ".py",
   "mimetype": "text/x-python",
   "name": "python",
   "nbconvert_exporter": "python",
   "pygments_lexer": "ipython3",
   "version": "3.7.0"
  }
 },
 "nbformat": 4,
 "nbformat_minor": 2
}
